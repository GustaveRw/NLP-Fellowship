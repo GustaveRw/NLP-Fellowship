{
  "nbformat": 4,
  "nbformat_minor": 0,
  "metadata": {
    "colab": {
      "provenance": [],
      "collapsed_sections": [],
      "authorship_tag": "ABX9TyMwBP3erwnmdOaBKcyuW9LN",
      "include_colab_link": true
    },
    "kernelspec": {
      "name": "python3",
      "display_name": "Python 3"
    },
    "language_info": {
      "name": "python"
    }
  },
  "cells": [
    {
      "cell_type": "markdown",
      "metadata": {
        "id": "view-in-github",
        "colab_type": "text"
      },
      "source": [
        "<a href=\"https://colab.research.google.com/github/GustaveRw/NLP-Fellowship/blob/master/Copy_of_Hackathon_1.ipynb\" target=\"_parent\"><img src=\"https://colab.research.google.com/assets/colab-badge.svg\" alt=\"Open In Colab\"/></a>"
      ]
    },
    {
      "cell_type": "markdown",
      "source": [
        "WebScrapping ( Job In Rwanda )"
      ],
      "metadata": {
        "id": "h6Rwx1_Sdr_L"
      }
    },
    {
      "cell_type": "code",
      "execution_count": 2,
      "metadata": {
        "id": "pIWVJ2QA_ZCo"
      },
      "outputs": [],
      "source": [
        "import requests\n",
        "from bs4 import BeautifulSoup\n",
        "import pandas as pd"
      ]
    },
    {
      "cell_type": "code",
      "source": [
        "content_jobs = requests.get('https://www.jobinrwanda.com/jobs/all').content\n",
        "content_cons = requests.get('https://www.jobinrwanda.com/jobs/consultancy').content\n",
        "content_tend = requests.get('https://www.jobinrwanda.com/jobs/tenders').content"
      ],
      "metadata": {
        "id": "twKetENHge8P"
      },
      "execution_count": 3,
      "outputs": []
    },
    {
      "cell_type": "code",
      "source": [
        "content_jobs"
      ],
      "metadata": {
        "id": "XEohs_TSg09-"
      },
      "execution_count": null,
      "outputs": []
    },
    {
      "cell_type": "code",
      "source": [
        "page = BeautifulSoup(content_jobs, 'html.parser')"
      ],
      "metadata": {
        "id": "ajtrYxRUPO6u"
      },
      "execution_count": 5,
      "outputs": []
    },
    {
      "cell_type": "code",
      "source": [
        "adverts = page.find_all('div', class_='card-body p-2')"
      ],
      "metadata": {
        "id": "9dAu9B71PTTw"
      },
      "execution_count": 6,
      "outputs": []
    },
    {
      "cell_type": "code",
      "source": [
        "adverts[1]"
      ],
      "metadata": {
        "id": "Lu7mSky2PYfW"
      },
      "execution_count": null,
      "outputs": []
    },
    {
      "cell_type": "code",
      "source": [
        "adverts[1].find('span').getText() #Title of Each Job advert\n",
        "adverts[1].find('a')['href']  #Link to the content of each job title\n",
        "adverts[1].find('p').find('a') #Link to the Institution that has posted the advert\n",
        "adverts[1].find('p').find('a').getText() #This is the name of the company"
      ],
      "metadata": {
        "id": "2XllA8G4Pg3d",
        "outputId": "f58fdc8a-a1b7-411e-fa3d-fb788a511476",
        "colab": {
          "base_uri": "https://localhost:8080/",
          "height": 35
        }
      },
      "execution_count": 8,
      "outputs": [
        {
          "output_type": "execute_result",
          "data": {
            "text/plain": [
              "'GardaWorld '"
            ],
            "application/vnd.google.colaboratory.intrinsic+json": {
              "type": "string"
            }
          },
          "metadata": {},
          "execution_count": 8
        }
      ]
    },
    {
      "cell_type": "code",
      "source": [
        "df = pd.DataFrame()\n",
        "df['link'] = None\n",
        "df['title'] = None\n",
        "df['company_link'] = None\n",
        "df['company'] = None\n",
        "df['type'] = None"
      ],
      "metadata": {
        "id": "nVT42-1YowJZ"
      },
      "execution_count": 9,
      "outputs": []
    },
    {
      "cell_type": "code",
      "source": [
        "def parse_content(content, advert_type):\n",
        "  link = []\n",
        "  title = []\n",
        "  company = []\n",
        "  company_link = []\n",
        "  job_type = []\n",
        "  for index, advert in enumerate(content):\n",
        "    link.append(advert.find('a')['href'])\n",
        "    title.append(advert.find('span').getText()) #GEt the title from\n",
        "    company.append(str(advert.find('p').find('a').getText()))\n",
        "    company_link.append(advert.find('p').find('a'))\n",
        "    job_type.append(advert_type) #Whether its a job/consultacy/tender\n",
        "  return link, title, company, company_link, job_type"
      ],
      "metadata": {
        "id": "Km0FtmidpPbj"
      },
      "execution_count": 10,
      "outputs": []
    },
    {
      "cell_type": "code",
      "source": [
        "#Jobs Advert\n",
        "content_jobs_bs = BeautifulSoup(content_jobs, 'html.parser')\n",
        "content_jobs_titles = content_jobs_bs.find_all('div', class_='card-body p-2')\n",
        "df['link'], df['title'], df['company'], df['company_link'], df['type']= parse_content(content_jobs_titles, advert_type='Job')"
      ],
      "metadata": {
        "id": "UCMI0rroerUv"
      },
      "execution_count": 11,
      "outputs": []
    },
    {
      "cell_type": "code",
      "source": [
        "df['title']"
      ],
      "metadata": {
        "id": "F_8HfqZcexzq"
      },
      "execution_count": null,
      "outputs": []
    },
    {
      "cell_type": "code",
      "source": [
        "list_description = []\n",
        "for i in range(len(df)):\n",
        "  link = 'https://www.jobinrwanda.com' + df['link'][i]\n",
        "  print(link, i)"
      ],
      "metadata": {
        "colab": {
          "base_uri": "https://localhost:8080/"
        },
        "id": "j6ANBFbRfGvB",
        "outputId": "f3e99307-1eee-4c99-afcc-44d0682394f4"
      },
      "execution_count": 14,
      "outputs": [
        {
          "output_type": "stream",
          "name": "stdout",
          "text": [
            "https://www.jobinrwanda.com/job/customer-service-officer-1 0\n",
            "https://www.jobinrwanda.com/job/operations-manager-6 1\n",
            "https://www.jobinrwanda.com/job/finance-specialist-fs 2\n",
            "https://www.jobinrwanda.com/job/account-manager-credit 3\n",
            "https://www.jobinrwanda.com/job/district-coordinatorjunior-district-manager 4\n",
            "https://www.jobinrwanda.com/job/radio-sales-executives 5\n",
            "https://www.jobinrwanda.com/job/radio-presenter-0 6\n",
            "https://www.jobinrwanda.com/job/driver-16 7\n",
            "https://www.jobinrwanda.com/job/procurement-and-logistics-officer 8\n",
            "https://www.jobinrwanda.com/job/product-manager-1 9\n",
            "https://www.jobinrwanda.com/job/aftercare-vehicle-maintenance-manager 10\n",
            "https://www.jobinrwanda.com/job/finance-officer-9 11\n",
            "https://www.jobinrwanda.com/job/communications-officer-8 12\n",
            "https://www.jobinrwanda.com/job/lecturer-communication-and-writing 13\n",
            "https://www.jobinrwanda.com/job/research-associate-ra-0 14\n",
            "https://www.jobinrwanda.com/job/office-assistant-0 15\n",
            "https://www.jobinrwanda.com/job/head-field-officehuye 16\n",
            "https://www.jobinrwanda.com/job/human-resources-assistant-0 17\n",
            "https://www.jobinrwanda.com/job/rwanda-impact-specialist 18\n",
            "https://www.jobinrwanda.com/job/operations-support-manager-africa 19\n",
            "https://www.jobinrwanda.com/job/accounting-supervisor 20\n",
            "https://www.jobinrwanda.com/job/accounting-manager-1 21\n",
            "https://www.jobinrwanda.com/job/business-development-officer 22\n",
            "https://www.jobinrwanda.com/job/regional-grants-officer-central-africa 23\n",
            "https://www.jobinrwanda.com/job/medtronic-labs-senior-operations-associate-rwanda-0 24\n",
            "https://www.jobinrwanda.com/job/global-head-corporate-communications 25\n",
            "https://www.jobinrwanda.com/index.php/job/public-relations-officer 26\n",
            "https://www.jobinrwanda.com/job/grants-manager-2 27\n",
            "https://www.jobinrwanda.com/job/hvac-lead-technician 28\n",
            "https://www.jobinrwanda.com/job/maintenance-mechanic-appliance-repair-0 29\n",
            "https://www.jobinrwanda.com/job/camp-administrator 30\n",
            "https://www.jobinrwanda.com/job/rwanda-program-officer 31\n",
            "https://www.jobinrwanda.com/job/sales-representative-0 32\n",
            "https://www.jobinrwanda.com/job/sales-manager-5 33\n",
            "https://www.jobinrwanda.com/job/aquaculture-technician 34\n",
            "https://www.jobinrwanda.com/job/health-systems-strengthening-hss-manager 35\n",
            "https://www.jobinrwanda.com/index.php/job/development-manager 36\n",
            "https://www.jobinrwanda.com/job/retail-partnerships-lead 37\n",
            "https://www.jobinrwanda.com/job/project-officer-7 38\n",
            "https://www.jobinrwanda.com/job/une-assistante-de-direction-0 39\n",
            "https://www.jobinrwanda.com/job/administration-finance-intern 40\n",
            "https://www.jobinrwanda.com/job/loan-officers-3 41\n",
            "https://www.jobinrwanda.com/job/project-manager-14 42\n",
            "https://www.jobinrwanda.com/job/training-manager-0 43\n",
            "https://www.jobinrwanda.com/job/business-advisor-lobby-and-advocacy-expert 44\n",
            "https://www.jobinrwanda.com/job/it-and-mis-director 45\n",
            "https://www.jobinrwanda.com/job/learning-design-specialist-rwanda 46\n",
            "https://www.jobinrwanda.com/job/technical-advisor-2 47\n",
            "https://www.jobinrwanda.com/job/front-desk-officer-0 48\n",
            "https://www.jobinrwanda.com/job/global-remote-sensing-manager 49\n",
            "https://www.jobinrwanda.com/job/laborer 50\n",
            "https://www.jobinrwanda.com/job/migration-health-physician 51\n",
            "https://www.jobinrwanda.com/index.php/job/migration-health-nurse 52\n",
            "https://www.jobinrwanda.com/job/global-hr-support-specialist 53\n",
            "https://www.jobinrwanda.com/job/rwanda-procurement-specialist-0 54\n",
            "https://www.jobinrwanda.com/job/security-officer 55\n",
            "https://www.jobinrwanda.com/job/security-supervisor 56\n",
            "https://www.jobinrwanda.com/job/instructional-technology-assistant 57\n",
            "https://www.jobinrwanda.com/job/associate-professor-and-head-human-anatomy 58\n",
            "https://www.jobinrwanda.com/job/rwanda-potato-seed-store-manager 59\n",
            "https://www.jobinrwanda.com/job/agronomist-technician-g-2c 60\n",
            "https://www.jobinrwanda.com/job/dental-doctors-dental-surgeon 61\n",
            "https://www.jobinrwanda.com/job/head-rehabilitation-department 62\n",
            "https://www.jobinrwanda.com/job/distillery-assistant 63\n",
            "https://www.jobinrwanda.com/job/assistant-press-department-administration-and-consular-section 64\n",
            "https://www.jobinrwanda.com/job/rwanda-warehouse-manager 65\n",
            "https://www.jobinrwanda.com/job/csat-officer-rwanda 66\n",
            "https://www.jobinrwanda.com/job/spm-officer 67\n",
            "https://www.jobinrwanda.com/index.php/job/rwanda-communications-associate 68\n",
            "https://www.jobinrwanda.com/job/strategic-advisor-targeted-skills-development 69\n",
            "https://www.jobinrwanda.com/job/strategic-advisor-e-commerce 70\n",
            "https://www.jobinrwanda.com/job/50-sales-representatives-needed-all-city-rwanda-ltd-1 71\n",
            "https://www.jobinrwanda.com/job/store-keeper-1 72\n",
            "https://www.jobinrwanda.com/index.php/job/rwanda-market-access-and-srf-mel-associate 73\n",
            "https://www.jobinrwanda.com/job/rwanda-field-integration-coordinator 74\n",
            "https://www.jobinrwanda.com/job/rwanda-electrical-hub-operator 75\n",
            "https://www.jobinrwanda.com/job/rwanda-tree-lead 76\n",
            "https://www.jobinrwanda.com/index.php/job/rwanda-potato-seed-venture-lead 77\n",
            "https://www.jobinrwanda.com/job/it-operations-senior-manager 78\n",
            "https://www.jobinrwanda.com/job/rwanda-seed-innovation-centre-lead 79\n",
            "https://www.jobinrwanda.com/job/senior-business-analyst 80\n"
          ]
        }
      ]
    },
    {
      "cell_type": "code",
      "source": [
        "job_description_raw_content = requests.get('https://www.jobinrwanda.com/job/global-remote-sensing-manager').content\n"
      ],
      "metadata": {
        "id": "rQIigkqcfVqD"
      },
      "execution_count": 17,
      "outputs": []
    },
    {
      "cell_type": "code",
      "source": [
        "job_description_raw_content"
      ],
      "metadata": {
        "id": "8jWJzoCZfllw"
      },
      "execution_count": null,
      "outputs": []
    },
    {
      "cell_type": "code",
      "source": [
        "job_description_bs = BeautifulSoup(job_description_raw_content, 'html.parser')"
      ],
      "metadata": {
        "id": "j-trrNtefv76"
      },
      "execution_count": 19,
      "outputs": []
    },
    {
      "cell_type": "code",
      "source": [
        "job_description_bs.find_all('div', class_='employer-description') #Employer Description"
      ],
      "metadata": {
        "colab": {
          "base_uri": "https://localhost:8080/"
        },
        "id": "zZkOS_k6f81-",
        "outputId": "410bfe9d-aa13-4ea4-ccfa-51bbb0c49d95"
      },
      "execution_count": 21,
      "outputs": [
        {
          "output_type": "execute_result",
          "data": {
            "text/plain": [
              "[<div class=\"employer-description\" style=\"overflow: hidden\">\n",
              " <p class=\"rtejustify\">Founded in 2006, One Acre Fund supplies 1 million smallholder farmers with the agricultural services they need to make their farms vastly more productive. Our 8,000+ team is drawn from diverse backgrounds and professions. With operations across six core countries in Africa, we make farmers more prosperous by providing quality farm supplies on credit, delivered within walking distance of farmers’ homes, and agricultural training to improve harvests. On average, the farmers we serve harvest 50 percent more food after working with One Acre Fund. </p>\n",
              " <p class=\"rtejustify\">To learn more about our work, take a look at our <a href=\"https://oneacrefund.org/work-with-us/why-work-here/why-work-here/\" target=\"_blank\">Why Work Here</a> blog for more information.</p>\n",
              " </div>]"
            ]
          },
          "metadata": {},
          "execution_count": 21
        }
      ]
    },
    {
      "cell_type": "code",
      "source": [
        "describe = job_description_bs.find_all('div', class_=\"clearfix text-formatted field field--name-field-job-full-description field--type-text-long field--label-hidden field__item\") #Employer Description"
      ],
      "metadata": {
        "id": "spa6k3inf0gJ"
      },
      "execution_count": 22,
      "outputs": []
    },
    {
      "cell_type": "code",
      "source": [
        "df['description'] = None"
      ],
      "metadata": {
        "id": "CFPc8du5f3tM"
      },
      "execution_count": 23,
      "outputs": []
    },
    {
      "cell_type": "code",
      "source": [
        "def get_description(job_link):\n",
        "  job_description_raw_content = requests.get(f'https://www.jobinrwanda.com/{job_link}').content #request raw content\n",
        "  job_description_bs = BeautifulSoup(job_description_raw_content, 'html.parser')  #pass the html raw content to beautifull soup\n",
        "  job_description_bs.find_all('div', class_='employer-description') #Employer Description\n",
        "  #Get the entire job description\n",
        "  describe = job_description_bs.find_all('div', class_=\"clearfix text-formatted field field--name-field-job-full-description field--type-text-long field--label-hidden field__item\") #Employer Description\n",
        "  description = '' #Construct an empty string to hold the paragraph\n",
        "  for paragraph in describe:\n",
        "    description += paragraph.getText() #Adding each paragraph we find in the job description.\n",
        "  return description"
      ],
      "metadata": {
        "id": "zYHxO2fygR8R"
      },
      "execution_count": 24,
      "outputs": []
    },
    {
      "cell_type": "code",
      "source": [
        "for position, link in enumerate(df['link']):\n",
        "  df.loc[position]['description'] = get_description(job_link=link)"
      ],
      "metadata": {
        "id": "19HEB421gXPn"
      },
      "execution_count": 28,
      "outputs": []
    },
    {
      "cell_type": "code",
      "source": [
        "df"
      ],
      "metadata": {
        "colab": {
          "base_uri": "https://localhost:8080/",
          "height": 589
        },
        "id": "evxiAlm-hPta",
        "outputId": "e7be3a97-ff6a-49d2-c18f-d56b2d59a31f"
      },
      "execution_count": 29,
      "outputs": [
        {
          "output_type": "execute_result",
          "data": {
            "text/plain": [
              "                                                link  \\\n",
              "0                    /job/customer-service-officer-1   \n",
              "1                          /job/operations-manager-6   \n",
              "2                         /job/finance-specialist-fs   \n",
              "3                        /job/account-manager-credit   \n",
              "4   /job/district-coordinatorjunior-district-manager   \n",
              "..                                               ...   \n",
              "76                             /job/rwanda-tree-lead   \n",
              "77    /index.php/job/rwanda-potato-seed-venture-lead   \n",
              "78                 /job/it-operations-senior-manager   \n",
              "79           /job/rwanda-seed-innovation-centre-lead   \n",
              "80                      /job/senior-business-analyst   \n",
              "\n",
              "                                           title               company_link  \\\n",
              "0                       Customer Service Officer              [TIC-TAC-TOE]   \n",
              "1                             Operations Manager              [GardaWorld ]   \n",
              "2                        Finance Specialist (FS)  [U.S. PEACE CORPS RWANDA]   \n",
              "3                        Account Manager- Credit                   [Yellow]   \n",
              "4   District Coordinator/Junior District Manager       [EarthEnable Rwanda]   \n",
              "..                                           ...                        ...   \n",
              "76                              Rwanda Tree Lead            [One Acre Fund]   \n",
              "77             Rwanda Potato Seed Venture ﻿﻿Lead            [One Acre Fund]   \n",
              "78                  IT Operations Senior Manager            [One Acre Fund]   \n",
              "79            Rwanda Seed Innovation Centre Lead            [One Acre Fund]   \n",
              "80                       Senior Business Analyst            [One Acre Fund]   \n",
              "\n",
              "                    company type  \\\n",
              "0               TIC-TAC-TOE  Job   \n",
              "1               GardaWorld   Job   \n",
              "2   U.S. PEACE CORPS RWANDA  Job   \n",
              "3                    Yellow  Job   \n",
              "4        EarthEnable Rwanda  Job   \n",
              "..                      ...  ...   \n",
              "76            One Acre Fund  Job   \n",
              "77            One Acre Fund  Job   \n",
              "78            One Acre Fund  Job   \n",
              "79            One Acre Fund  Job   \n",
              "80            One Acre Fund  Job   \n",
              "\n",
              "                                          description  \n",
              "0   Job Description & Responsibilities:\\nAssist in...  \n",
              "1   Job Description – Operations Manager\\n\\nPositi...  \n",
              "2   Vacancy Announcement:\\nFinance Specialist (FS)...  \n",
              "3   Position: Account Manager- Credit\\nLocations: ...  \n",
              "4   JOB DESCRIPTION: DISTRICT COORDINATOR/JUNIOR D...  \n",
              "..                                                ...  \n",
              "76  About One Acre Fund\\nFounded in 2006, One Acre...  \n",
              "77  About One Acre Fund\\nFounded in 2006, One Acre...  \n",
              "78  About One Acre Fund\\nFounded in 2006, One Acre...  \n",
              "79  About One Acre Fund\\nFounded in 2006, One Acre...  \n",
              "80  ABOUT ONE ACRE FUND\\nFounded in 2006, One Acre...  \n",
              "\n",
              "[81 rows x 6 columns]"
            ],
            "text/html": [
              "\n",
              "  <div id=\"df-9bcfd5bd-efe5-4de8-b3bd-8d9a0a06a77d\">\n",
              "    <div class=\"colab-df-container\">\n",
              "      <div>\n",
              "<style scoped>\n",
              "    .dataframe tbody tr th:only-of-type {\n",
              "        vertical-align: middle;\n",
              "    }\n",
              "\n",
              "    .dataframe tbody tr th {\n",
              "        vertical-align: top;\n",
              "    }\n",
              "\n",
              "    .dataframe thead th {\n",
              "        text-align: right;\n",
              "    }\n",
              "</style>\n",
              "<table border=\"1\" class=\"dataframe\">\n",
              "  <thead>\n",
              "    <tr style=\"text-align: right;\">\n",
              "      <th></th>\n",
              "      <th>link</th>\n",
              "      <th>title</th>\n",
              "      <th>company_link</th>\n",
              "      <th>company</th>\n",
              "      <th>type</th>\n",
              "      <th>description</th>\n",
              "    </tr>\n",
              "  </thead>\n",
              "  <tbody>\n",
              "    <tr>\n",
              "      <th>0</th>\n",
              "      <td>/job/customer-service-officer-1</td>\n",
              "      <td>Customer Service Officer</td>\n",
              "      <td>[TIC-TAC-TOE]</td>\n",
              "      <td>TIC-TAC-TOE</td>\n",
              "      <td>Job</td>\n",
              "      <td>Job Description &amp; Responsibilities:\\nAssist in...</td>\n",
              "    </tr>\n",
              "    <tr>\n",
              "      <th>1</th>\n",
              "      <td>/job/operations-manager-6</td>\n",
              "      <td>Operations Manager</td>\n",
              "      <td>[GardaWorld ]</td>\n",
              "      <td>GardaWorld</td>\n",
              "      <td>Job</td>\n",
              "      <td>Job Description – Operations Manager\\n\\nPositi...</td>\n",
              "    </tr>\n",
              "    <tr>\n",
              "      <th>2</th>\n",
              "      <td>/job/finance-specialist-fs</td>\n",
              "      <td>Finance Specialist (FS)</td>\n",
              "      <td>[U.S. PEACE CORPS RWANDA]</td>\n",
              "      <td>U.S. PEACE CORPS RWANDA</td>\n",
              "      <td>Job</td>\n",
              "      <td>Vacancy Announcement:\\nFinance Specialist (FS)...</td>\n",
              "    </tr>\n",
              "    <tr>\n",
              "      <th>3</th>\n",
              "      <td>/job/account-manager-credit</td>\n",
              "      <td>Account Manager- Credit</td>\n",
              "      <td>[Yellow]</td>\n",
              "      <td>Yellow</td>\n",
              "      <td>Job</td>\n",
              "      <td>Position: Account Manager- Credit\\nLocations: ...</td>\n",
              "    </tr>\n",
              "    <tr>\n",
              "      <th>4</th>\n",
              "      <td>/job/district-coordinatorjunior-district-manager</td>\n",
              "      <td>District Coordinator/Junior District Manager</td>\n",
              "      <td>[EarthEnable Rwanda]</td>\n",
              "      <td>EarthEnable Rwanda</td>\n",
              "      <td>Job</td>\n",
              "      <td>JOB DESCRIPTION: DISTRICT COORDINATOR/JUNIOR D...</td>\n",
              "    </tr>\n",
              "    <tr>\n",
              "      <th>...</th>\n",
              "      <td>...</td>\n",
              "      <td>...</td>\n",
              "      <td>...</td>\n",
              "      <td>...</td>\n",
              "      <td>...</td>\n",
              "      <td>...</td>\n",
              "    </tr>\n",
              "    <tr>\n",
              "      <th>76</th>\n",
              "      <td>/job/rwanda-tree-lead</td>\n",
              "      <td>Rwanda Tree Lead</td>\n",
              "      <td>[One Acre Fund]</td>\n",
              "      <td>One Acre Fund</td>\n",
              "      <td>Job</td>\n",
              "      <td>About One Acre Fund\\nFounded in 2006, One Acre...</td>\n",
              "    </tr>\n",
              "    <tr>\n",
              "      <th>77</th>\n",
              "      <td>/index.php/job/rwanda-potato-seed-venture-lead</td>\n",
              "      <td>Rwanda Potato Seed Venture ﻿﻿Lead</td>\n",
              "      <td>[One Acre Fund]</td>\n",
              "      <td>One Acre Fund</td>\n",
              "      <td>Job</td>\n",
              "      <td>About One Acre Fund\\nFounded in 2006, One Acre...</td>\n",
              "    </tr>\n",
              "    <tr>\n",
              "      <th>78</th>\n",
              "      <td>/job/it-operations-senior-manager</td>\n",
              "      <td>IT Operations Senior Manager</td>\n",
              "      <td>[One Acre Fund]</td>\n",
              "      <td>One Acre Fund</td>\n",
              "      <td>Job</td>\n",
              "      <td>About One Acre Fund\\nFounded in 2006, One Acre...</td>\n",
              "    </tr>\n",
              "    <tr>\n",
              "      <th>79</th>\n",
              "      <td>/job/rwanda-seed-innovation-centre-lead</td>\n",
              "      <td>Rwanda Seed Innovation Centre Lead</td>\n",
              "      <td>[One Acre Fund]</td>\n",
              "      <td>One Acre Fund</td>\n",
              "      <td>Job</td>\n",
              "      <td>About One Acre Fund\\nFounded in 2006, One Acre...</td>\n",
              "    </tr>\n",
              "    <tr>\n",
              "      <th>80</th>\n",
              "      <td>/job/senior-business-analyst</td>\n",
              "      <td>Senior Business Analyst</td>\n",
              "      <td>[One Acre Fund]</td>\n",
              "      <td>One Acre Fund</td>\n",
              "      <td>Job</td>\n",
              "      <td>ABOUT ONE ACRE FUND\\nFounded in 2006, One Acre...</td>\n",
              "    </tr>\n",
              "  </tbody>\n",
              "</table>\n",
              "<p>81 rows × 6 columns</p>\n",
              "</div>\n",
              "      <button class=\"colab-df-convert\" onclick=\"convertToInteractive('df-9bcfd5bd-efe5-4de8-b3bd-8d9a0a06a77d')\"\n",
              "              title=\"Convert this dataframe to an interactive table.\"\n",
              "              style=\"display:none;\">\n",
              "        \n",
              "  <svg xmlns=\"http://www.w3.org/2000/svg\" height=\"24px\"viewBox=\"0 0 24 24\"\n",
              "       width=\"24px\">\n",
              "    <path d=\"M0 0h24v24H0V0z\" fill=\"none\"/>\n",
              "    <path d=\"M18.56 5.44l.94 2.06.94-2.06 2.06-.94-2.06-.94-.94-2.06-.94 2.06-2.06.94zm-11 1L8.5 8.5l.94-2.06 2.06-.94-2.06-.94L8.5 2.5l-.94 2.06-2.06.94zm10 10l.94 2.06.94-2.06 2.06-.94-2.06-.94-.94-2.06-.94 2.06-2.06.94z\"/><path d=\"M17.41 7.96l-1.37-1.37c-.4-.4-.92-.59-1.43-.59-.52 0-1.04.2-1.43.59L10.3 9.45l-7.72 7.72c-.78.78-.78 2.05 0 2.83L4 21.41c.39.39.9.59 1.41.59.51 0 1.02-.2 1.41-.59l7.78-7.78 2.81-2.81c.8-.78.8-2.07 0-2.86zM5.41 20L4 18.59l7.72-7.72 1.47 1.35L5.41 20z\"/>\n",
              "  </svg>\n",
              "      </button>\n",
              "      \n",
              "  <style>\n",
              "    .colab-df-container {\n",
              "      display:flex;\n",
              "      flex-wrap:wrap;\n",
              "      gap: 12px;\n",
              "    }\n",
              "\n",
              "    .colab-df-convert {\n",
              "      background-color: #E8F0FE;\n",
              "      border: none;\n",
              "      border-radius: 50%;\n",
              "      cursor: pointer;\n",
              "      display: none;\n",
              "      fill: #1967D2;\n",
              "      height: 32px;\n",
              "      padding: 0 0 0 0;\n",
              "      width: 32px;\n",
              "    }\n",
              "\n",
              "    .colab-df-convert:hover {\n",
              "      background-color: #E2EBFA;\n",
              "      box-shadow: 0px 1px 2px rgba(60, 64, 67, 0.3), 0px 1px 3px 1px rgba(60, 64, 67, 0.15);\n",
              "      fill: #174EA6;\n",
              "    }\n",
              "\n",
              "    [theme=dark] .colab-df-convert {\n",
              "      background-color: #3B4455;\n",
              "      fill: #D2E3FC;\n",
              "    }\n",
              "\n",
              "    [theme=dark] .colab-df-convert:hover {\n",
              "      background-color: #434B5C;\n",
              "      box-shadow: 0px 1px 3px 1px rgba(0, 0, 0, 0.15);\n",
              "      filter: drop-shadow(0px 1px 2px rgba(0, 0, 0, 0.3));\n",
              "      fill: #FFFFFF;\n",
              "    }\n",
              "  </style>\n",
              "\n",
              "      <script>\n",
              "        const buttonEl =\n",
              "          document.querySelector('#df-9bcfd5bd-efe5-4de8-b3bd-8d9a0a06a77d button.colab-df-convert');\n",
              "        buttonEl.style.display =\n",
              "          google.colab.kernel.accessAllowed ? 'block' : 'none';\n",
              "\n",
              "        async function convertToInteractive(key) {\n",
              "          const element = document.querySelector('#df-9bcfd5bd-efe5-4de8-b3bd-8d9a0a06a77d');\n",
              "          const dataTable =\n",
              "            await google.colab.kernel.invokeFunction('convertToInteractive',\n",
              "                                                     [key], {});\n",
              "          if (!dataTable) return;\n",
              "\n",
              "          const docLinkHtml = 'Like what you see? Visit the ' +\n",
              "            '<a target=\"_blank\" href=https://colab.research.google.com/notebooks/data_table.ipynb>data table notebook</a>'\n",
              "            + ' to learn more about interactive tables.';\n",
              "          element.innerHTML = '';\n",
              "          dataTable['output_type'] = 'display_data';\n",
              "          await google.colab.output.renderOutput(dataTable, element);\n",
              "          const docLink = document.createElement('div');\n",
              "          docLink.innerHTML = docLinkHtml;\n",
              "          element.appendChild(docLink);\n",
              "        }\n",
              "      </script>\n",
              "    </div>\n",
              "  </div>\n",
              "  "
            ]
          },
          "metadata": {},
          "execution_count": 29
        }
      ]
    }
  ]
}