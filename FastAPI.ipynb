{
  "cells": [
    {
      "cell_type": "markdown",
      "metadata": {
        "id": "view-in-github",
        "colab_type": "text"
      },
      "source": [
        "<a href=\"https://colab.research.google.com/github/GustaveRw/NLP-Fellowship/blob/master/FastAPI.ipynb\" target=\"_parent\"><img src=\"https://colab.research.google.com/assets/colab-badge.svg\" alt=\"Open In Colab\"/></a>"
      ]
    },
    {
      "cell_type": "code",
      "execution_count": null,
      "metadata": {
        "id": "Ce0JfBr56KhT"
      },
      "outputs": [],
      "source": [
        "!pip install -U easynmt"
      ]
    },
    {
      "cell_type": "code",
      "execution_count": null,
      "metadata": {
        "id": "FZxlBRxH9KUq"
      },
      "outputs": [],
      "source": [
        "#FastAPI\n",
        "!pip install fastapi pyngrok uvicorn nest-asyncio\n",
        "\n",
        "#Flask\n",
        "#!pip install flask pyngrok  gunicorn nest-asyncio "
      ]
    },
    {
      "cell_type": "code",
      "execution_count": null,
      "metadata": {
        "id": "SzddWLXBo7Un"
      },
      "outputs": [],
      "source": [
        "!ngrok authtoken 1VG7hGOGCl7R9CJANekYvuY3ZZA_5QGcuAoAPW4FUF9jW1LHY"
      ]
    },
    {
      "cell_type": "code",
      "execution_count": null,
      "metadata": {
        "id": "FZRE1Wyd6JFZ"
      },
      "outputs": [],
      "source": [
        "import pandas as pd \n",
        "\n",
        "df = pd.read_csv('/content/sample_data/california_housing_test.csv')"
      ]
    },
    {
      "cell_type": "code",
      "source": [
        "df.to_dict('r')"
      ],
      "metadata": {
        "id": "p7A9zvBZnjk6"
      },
      "execution_count": null,
      "outputs": []
    },
    {
      "cell_type": "code",
      "source": [
        "df[['category', 'link', 'deadline']]\n",
        "df.iloc[:,1:5]"
      ],
      "metadata": {
        "id": "1zuGxWaspWQh"
      },
      "execution_count": null,
      "outputs": []
    },
    {
      "cell_type": "code",
      "execution_count": null,
      "metadata": {
        "id": "QBBHpNQ8pw00"
      },
      "outputs": [],
      "source": [
        "from fastapi import FastAPI, Request\n",
        "from fastapi.responses import HTMLResponse\n",
        "from datetime import datetime\n",
        "from easynmt import EasyNMT\n",
        "\n",
        "model = EasyNMT('opus-mt') #starting the model Instance\n",
        "\n",
        "storage = FastAPI(title='MY FASTAPI') #Starting the FastAPI instance\n",
        "\n",
        "\n",
        "@storage.get('/')#ROUTE\n",
        "def index():\n",
        "    return \"My name is Arnaud, This is my API!\"\n",
        "\n",
        "@storage.get('/today')#Route with GET METHOD\n",
        "def today():\n",
        "    return str(datetime.now())\n",
        "\n",
        "@storage.get('/data')\n",
        "def show_data(category: str = None):\n",
        "  if category:\n",
        "    return df[df['category'] >= category].to_dict('r') #filter\n",
        "  else:\n",
        "    return df.to_dict('r')\n",
        "\n",
        "@storage.get('/mynames')\n",
        "def names(first_name: bool = False, last_name: bool = False, full_name: bool = False):\n",
        "    full_names = \"\"\n",
        "    if first_name:\n",
        "        full_names += 'Arnaud'\n",
        "    if last_name:\n",
        "        full_names += ' Kayonga'\n",
        "    if full_name:\n",
        "        full_names = \"Hello my name Arnaud Kayonga\"\n",
        "        \n",
        "    return full_names\n",
        "\n",
        "@storage.get('/translation')\n",
        "def translate(text : str = ''):\n",
        "  response = model.translate([text], target_lang='fr')\n",
        "  return response[0]\n",
        "\n",
        "@storage.get('/translation-form', response_class=HTMLResponse)\n",
        "def form():\n",
        "  content =  f\"\"\"<html>\n",
        "  <form action='/translation' method='GET'>\n",
        "   <input type='text' name='text' placeholder='Please Input your Sentence'>\n",
        "   <input type='submit' value='submit'>\n",
        "  </form>\n",
        "  </html>\n",
        "  \"\"\"\n",
        "  return content"
      ]
    },
    {
      "cell_type": "code",
      "execution_count": null,
      "metadata": {
        "colab": {
          "base_uri": "https://localhost:8080/"
        },
        "id": "COm0DKP9sI30",
        "outputId": "79304511-2b28-47e9-a732-d3358f8c717f"
      },
      "outputs": [
        {
          "output_type": "stream",
          "name": "stdout",
          "text": [
            "REST API started\n",
            "Your public API URL: http://64a2-34-83-222-213.ngrok.io\n",
            "You can for example open the following URL in your browser: http://64a2-34-83-222-213.ngrok.io?target_lang=en&text=Hallo%20Welt\n"
          ]
        },
        {
          "output_type": "stream",
          "name": "stderr",
          "text": [
            "INFO:     Started server process [76]\n",
            "INFO:     Waiting for application startup.\n",
            "INFO:     Application startup complete.\n",
            "INFO:     Uvicorn running on http://127.0.0.1:8000 (Press CTRL+C to quit)\n"
          ]
        },
        {
          "output_type": "stream",
          "name": "stdout",
          "text": [
            "INFO:     2c0f:eb68:203:3c00:19e:fa96:698c:a6ac:0 - \"GET / HTTP/1.1\" 200 OK\n",
            "INFO:     2c0f:eb68:203:3c00:19e:fa96:698c:a6ac:0 - \"GET /favicon.ico HTTP/1.1\" 404 Not Found\n",
            "INFO:     2c0f:eb68:203:3c00:19e:fa96:698c:a6ac:0 - \"GET /data HTTP/1.1\" 200 OK\n"
          ]
        },
        {
          "output_type": "stream",
          "name": "stderr",
          "text": [
            "/usr/local/lib/python3.7/dist-packages/ipykernel_launcher.py:24: FutureWarning: Using short name for 'orient' is deprecated. Only the options: ('dict', list, 'series', 'split', 'records', 'index') will be used in a future version. Use one of the above to silence this warning.\n"
          ]
        },
        {
          "output_type": "stream",
          "name": "stdout",
          "text": [
            "INFO:     2c0f:eb68:203:3c00:19e:fa96:698c:a6ac:0 - \"GET /data?population=100 HTTP/1.1\" 200 OK\n"
          ]
        },
        {
          "output_type": "stream",
          "name": "stderr",
          "text": [
            "/usr/local/lib/python3.7/dist-packages/ipykernel_launcher.py:22: FutureWarning: Using short name for 'orient' is deprecated. Only the options: ('dict', list, 'series', 'split', 'records', 'index') will be used in a future version. Use one of the above to silence this warning.\n"
          ]
        },
        {
          "output_type": "stream",
          "name": "stdout",
          "text": [
            "INFO:     2c0f:eb68:203:3c00:19e:fa96:698c:a6ac:0 - \"GET /data?population=2000 HTTP/1.1\" 200 OK\n",
            "INFO:     2c0f:eb68:203:3c00:19e:fa96:698c:a6ac:0 - \"GET /data?population=10000 HTTP/1.1\" 200 OK\n"
          ]
        }
      ],
      "source": [
        "import nest_asyncio\n",
        "from pyngrok import ngrok\n",
        "import uvicorn\n",
        "\n",
        "ngrok_tunnel = ngrok.connect(8000)\n",
        "print(\"REST API started\")\n",
        "print(\"Your public API URL:\", ngrok_tunnel.public_url)\n",
        "print(\"You can for example open the following URL in your browser: {}?target_lang=en&text=Hallo%20Welt\".format(ngrok_tunnel.public_url))\n",
        "\n",
        "nest_asyncio.apply()\n",
        "uvicorn.run(storage, port=8000)"
      ]
    },
    {
      "cell_type": "code",
      "execution_count": null,
      "metadata": {
        "id": "KUNK_VBCv5kK"
      },
      "outputs": [],
      "source": [
        "!pkill ngrok"
      ]
    }
  ],
  "metadata": {
    "colab": {
      "provenance": [],
      "collapsed_sections": [],
      "include_colab_link": true
    },
    "kernelspec": {
      "display_name": "Python 3",
      "name": "python3"
    },
    "language_info": {
      "name": "python"
    }
  },
  "nbformat": 4,
  "nbformat_minor": 0
}