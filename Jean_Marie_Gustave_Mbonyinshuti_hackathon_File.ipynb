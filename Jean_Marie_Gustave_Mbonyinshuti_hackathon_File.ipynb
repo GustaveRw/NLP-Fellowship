{
  "nbformat": 4,
  "nbformat_minor": 0,
  "metadata": {
    "colab": {
      "provenance": [],
      "collapsed_sections": [],
      "include_colab_link": true
    },
    "kernelspec": {
      "name": "python3",
      "display_name": "Python 3"
    },
    "language_info": {
      "name": "python"
    }
  },
  "cells": [
    {
      "cell_type": "markdown",
      "metadata": {
        "id": "view-in-github",
        "colab_type": "text"
      },
      "source": [
        "<a href=\"https://colab.research.google.com/github/GustaveRw/NLP-Fellowship/blob/master/Jean_Marie_Gustave_Mbonyinshuti_hackathon_File.ipynb\" target=\"_parent\"><img src=\"https://colab.research.google.com/assets/colab-badge.svg\" alt=\"Open In Colab\"/></a>"
      ]
    },
    {
      "cell_type": "markdown",
      "source": [
        "# Job In Rwanda - Scraper\n",
        "\n",
        "### Job Scraper for [Job In Rwanda](https://www.jobinrwanda.com)"
      ],
      "metadata": {
        "id": "v-iQy6nHWl5S"
      }
    },
    {
      "cell_type": "markdown",
      "source": [
        "Importing needed Libraries"
      ],
      "metadata": {
        "id": "6KBuDysnaVeK"
      }
    },
    {
      "cell_type": "code",
      "execution_count": 216,
      "metadata": {
        "id": "7HRl17Ax8hQO"
      },
      "outputs": [],
      "source": [
        "import csv\n",
        "from datetime import datetime\n",
        "import requests\n",
        "from bs4 import BeautifulSoup\n",
        "import pandas as pd"
      ]
    },
    {
      "cell_type": "markdown",
      "source": [
        "Extracting raw HTML"
      ],
      "metadata": {
        "id": "f2oOMVvncXxH"
      }
    },
    {
      "cell_type": "code",
      "source": [
        "url_1 = 'https://www.jobinrwanda.com/jobs/all'\n",
        "url_2 = 'https://www.jobinrwanda.com/jobs/consultancy'\n",
        "url_3 = 'https://www.jobinrwanda.com/jobs/tender'\n"
      ],
      "metadata": {
        "id": "armeHOXpchXq"
      },
      "execution_count": null,
      "outputs": []
    },
    {
      "cell_type": "code",
      "source": [
        "response_1 = requests.get(url_1)\n",
        "response_2 = requests.get(url_2)\n",
        "response_3 = requests.get(url_3)"
      ],
      "metadata": {
        "id": "XQ8eeC1MdLBB"
      },
      "execution_count": null,
      "outputs": []
    },
    {
      "cell_type": "code",
      "source": [
        "response_3\n"
      ],
      "metadata": {
        "colab": {
          "base_uri": "https://localhost:8080/"
        },
        "id": "30Dm4-CJfPvm",
        "outputId": "f9d86cd8-4d69-41f7-ae3a-3af23a884908"
      },
      "execution_count": null,
      "outputs": [
        {
          "output_type": "execute_result",
          "data": {
            "text/plain": [
              "<Response [200]>"
            ]
          },
          "metadata": {},
          "execution_count": 140
        }
      ]
    },
    {
      "cell_type": "code",
      "source": [
        "response_3.reason"
      ],
      "metadata": {
        "colab": {
          "base_uri": "https://localhost:8080/",
          "height": 35
        },
        "id": "1bYgiXNVfj16",
        "outputId": "3d0633a8-3da0-4d5c-a415-75767d615f18"
      },
      "execution_count": null,
      "outputs": [
        {
          "output_type": "execute_result",
          "data": {
            "text/plain": [
              "'OK'"
            ],
            "application/vnd.google.colaboratory.intrinsic+json": {
              "type": "string"
            }
          },
          "metadata": {},
          "execution_count": 141
        }
      ]
    },
    {
      "cell_type": "code",
      "source": [
        "content_jobs = requests.get('https://www.jobinrwanda.com/jobs/all').content\n",
        "content_cons = requests.get('https://www.jobinrwanda.com/jobs/consultancy').content\n",
        "content_tend = requests.get('https://www.jobinrwanda.com/jobs/tenders').content"
      ],
      "metadata": {
        "id": "S2eRPInNb5fm"
      },
      "execution_count": null,
      "outputs": []
    },
    {
      "cell_type": "code",
      "source": [
        "content_jobs"
      ],
      "metadata": {
        "colab": {
          "base_uri": "https://localhost:8080/"
        },
        "id": "seT9FWhshdY3",
        "outputId": "5df8c85c-349a-4044-e99f-43674a2adc8d"
      },
      "execution_count": null,
      "outputs": [
        {
          "output_type": "execute_result",
          "data": {
            "text/plain": [
              "b'<!DOCTYPE html>\\n<html lang=\"en\" dir=\"ltr\" prefix=\"content: http://purl.org/rss/1.0/modules/content/  dc: http://purl.org/dc/terms/  foaf: http://xmlns.com/foaf/0.1/  og: http://ogp.me/ns#  rdfs: http://www.w3.org/2000/01/rdf-schema#  schema: http://schema.org/  sioc: http://rdfs.org/sioc/ns#  sioct: http://rdfs.org/sioc/types#  skos: http://www.w3.org/2004/02/skos/core#  xsd: http://www.w3.org/2001/XMLSchema# \">\\n  <head>\\n    <meta charset=\"utf-8\"/>\\n<script async src=\"https://www.googletagmanager.com/gtag/js?id=UA-42852300-1\"></script>\\n<script>window.dataLayer=window.dataLayer||[];function gtag(){dataLayer.push(arguments)};gtag(\"js\",new Date());gtag(\"set\",\"developer_id.dMDhkMT\",true);gtag(\"config\",\"UA-42852300-1\",{\"groups\":\"default\",\"anonymize_ip\":true,\"page_placeholder\":\"PLACEHOLDER_page_path\"});</script>\\n<link rel=\"canonical\" href=\"https://www.jobinrwanda.com/jobs/all\"/>\\n<meta name=\"description\" content=\"Our jobs\"/>\\n<meta name=\"Generator\" content=\"Drupal 9 (https://www.drupal.org)\"/>\\n<meta name=\"MobileOptimized\" content=\"width\"/>\\n<meta name=\"HandheldFriendly\" content=\"true\"/>\\n<meta name=\"viewport\" content=\"width=device-width, initial-scale=1, shrink-to-fit=no\"/>\\n<meta http-equiv=\"x-ua-compatible\" content=\"ie=edge\"/>\\n<link rel=\"icon\" href=\"/sites/default/files/favicon.ico\" type=\"image/vnd.microsoft.icon\"/>\\n<script>window.a2a_config=window.a2a_config||{};a2a_config.callbacks=[];a2a_config.overlays=[];a2a_config.templates={};</script>\\n\\n    <title>Our jobs | Job in Rwanda</title>\\n    <link rel=\"stylesheet\" media=\"all\" href=\"/sites/default/files/css/A.css_sRRSQbbUKKJTNLeGbkiCgGyFG3tbmLRi8qbjl45nDcM.css+css_1r2a4XJyBzQT_Rc5CQ86AX83CCCJZjl8ELjx5LTXMt0.css,Mcc.RzrDbkyQ87.css.pagespeed.cf.1XJ_iB4ncS.css\"/>\\n\\n<link rel=\"stylesheet\" media=\"all\" href=\"//fonts.googleapis.com/css?family=Roboto|Roboto+Condensed:700\"/>\\n<link rel=\"stylesheet\" media=\"all\" href=\"//use.fontawesome.com/releases/v5.13.0/css/all.css\"/>\\n<link rel=\"stylesheet\" media=\"all\" href=\"/sites/default/files/css/css_UCxt6LyNnI6EsFBNCi2fKasQhL4lYJ3z0HtsQr6qLRI.css.pagespeed.ce.P0ZrdbMXLe.css\"/>\\n\\n    <script src=\"/core/assets,_vendor,_modernizr,_modernizr.min.js,qv==3.11.7+misc,_modernizr-additional-tests.js,qv==3.11.7.pagespeed.jc.DWMB4J8dAJ.js\"></script><script>eval(mod_pagespeed_1sBopKeNDl);</script>\\n<script>eval(mod_pagespeed_pOOsc0XCYT);</script>\\n<script src=\"/libraries/fontawesome/js/all.min.js,qv=6.1.0.pagespeed.jm.CDDGU6wjQy.js\" defer></script>\\n<script src=\"/libraries/fontawesome/js/v4-shims.min.js,qv=6.1.0.pagespeed.jm.Pv1hXXq0jZ.js\" defer></script>\\n\\n  </head>\\n  <body class=\"layout-no-sidebars page-view-jobs-display path-jobs\">\\n    <a href=\"#main-content\" class=\"visually-hidden focusable skip-link\">\\n      Skip to main content\\n    </a>\\n    \\n      <div class=\"dialog-off-canvas-main-canvas\" data-off-canvas-main-canvas>\\n    <div id=\"page-wrapper\" class=\"h-100\">\\n  <div id=\"page\" class=\"h-100 d-flex flex-column\">\\n    <header id=\"header\" class=\"header\" role=\"banner\" aria-label=\"Site header\">\\n                        <nav class=\"navbar navbar-light bg-white shadow-sm py-1\" id=\"navbar-top\" data-toggle=\"affix\">\\n                        <div class=\"container flex-nowrap\">\\n                            \\n                  <a href=\"/\" title=\"Home\" rel=\"home\" class=\"navbar-brand mr-1\">\\n          <img src=\"/sites/default/files/xjir_logo.png.pagespeed.ic._YhJ5etO9H.png\" alt=\"Home\" class=\"jix-logo img-fluid d-inline-block align-top\"/>\\n        <span class=\"ml-2 d-none d-md-inline\"></span>\\n  </a>\\n\\n\\n                              <div class=\"form-inline navbar-form ml-auto\">\\n                    <section class=\"region region-top-header-form\">\\n    <div id=\"block-topbanner\" class=\"block block-block-content block-block-content2761ac74-6fd8-4411-b1ac-a9d3f88ba730\">\\n  \\n    \\n      <div class=\"content\">\\n      \\n\\n  <div class=\"field field--name-field-banner-image-location field--type-link field--label-hidden field__item\">\\n    <a href=\"https://www.fortebet.rw/?pref_device=desktop&amp;utm_source=jobinrwanda_com&amp;utm_medium=mainheaderHP&amp;utm_campaign=August2022_week45#/app/offer/top\" target=\"_blank\">\\n      <img alt=\"\" class=\"jix-banner-image img-fluid mb-0 w-100 pull-right\" src=\"https://jirbucket.s3.eu-central-1.amazonaws.com/banners/ForteBet/6+JobinRwanda+-+web+banner_45_728x90+(English).jpg\"/>\\n    </a>\\n  </div>\\n\\n    </div>\\n  </div>\\n\\n  </section>\\n\\n                </div>\\n                                        </div>\\n                      </nav>\\n                <nav class=\"navbar navbar-dark bg-primary navbar-expand-sm\" id=\"navbar-main\">\\n                    <div class=\"container\">\\n                        \\n                          <button class=\"navbar-toggler collapsed\" type=\"button\" data-bs-toggle=\"collapse\" data-bs-target=\"#collapsingNavbar\" aria-controls=\"collapsingNavbar\" aria-expanded=\"false\" aria-label=\"Toggle navigation\"><span class=\"navbar-toggler-icon\"></span></button>\\n              <div class=\"collapse navbar-collapse\" id=\"collapsingNavbar\">\\n                  <nav role=\"navigation\" aria-labelledby=\"block-jix-core-theme-main-menu-menu\" id=\"block-jix-core-theme-main-menu\" class=\"block block-menu navigation menu--main\">\\n            \\n  <h2 class=\"visually-hidden\" id=\"block-jix-core-theme-main-menu-menu\">Main navigation</h2>\\n  \\n\\n        \\n              <ul class=\"clearfix nav navbar-nav\">\\n                    <li class=\"nav-item\">\\n                          <a href=\"/\" class=\"nav-link nav-link--\" data-drupal-link-system-path=\"&lt;front&gt;\">Home</a>\\n              </li>\\n                <li class=\"nav-item\">\\n                          <a href=\"/post-advert\" class=\"nav-link nav-link--post-advert\" data-drupal-link-system-path=\"post-advert\">Post advert</a>\\n              </li>\\n                <li class=\"nav-item\">\\n                          <a href=\"/hr-services\" class=\"nav-link nav-link--hr-services\" data-drupal-link-system-path=\"node/7123\">HR Services</a>\\n              </li>\\n                <li class=\"nav-item\">\\n                          <a href=\"/all-employers\" class=\"nav-link nav-link--all-employers\" data-drupal-link-system-path=\"all-employers\">Employers</a>\\n              </li>\\n                <li class=\"nav-item\">\\n                          <a href=\"/news\" class=\"nav-link nav-link--news\" data-drupal-link-system-path=\"news\">News</a>\\n              </li>\\n                <li class=\"nav-item\">\\n                          <a href=\"/testimonials\" class=\"nav-link nav-link--testimonials\" data-drupal-link-system-path=\"testimonials\">Testimonials</a>\\n              </li>\\n                <li class=\"nav-item\">\\n                          <a href=\"/faq\" class=\"nav-link nav-link--faq\" data-drupal-link-system-path=\"faq\">Help</a>\\n              </li>\\n                <li class=\"nav-item\">\\n                          <a href=\"/page/about-us\" class=\"nav-link nav-link--page-about-us\" data-drupal-link-system-path=\"node/4069\">About us</a>\\n              </li>\\n                <li class=\"nav-item\">\\n                          <a href=\"/contact\" class=\"nav-link nav-link--contact\" data-drupal-link-system-path=\"contact\">Contact us</a>\\n              </li>\\n        </ul>\\n  \\n\\n\\n  </nav>\\n\\n\\n                              </div>\\n                                              </div>\\n                  </nav>\\n          </header>\\n          <div id=\"search-bar\" class=\"container-fluid bg-light pt-3\">\\n        <div class=\"container\">\\n          <div class=\"row\">\\n            <div class=\"col-md-8\">  <section class=\"region region-jix-search-bar\">\\n    <div class=\"views-exposed-form webform-client-form block block-views block-views-exposed-filter-blockjobs-display-page-search-result\" data-drupal-selector=\"views-exposed-form-jobs-display-page-search-result\" id=\"block-exposedformjobs-displaypage-search-result\">\\n  \\n    \\n      <div class=\"content\">\\n      \\n<form action=\"/jobs/search-result\" method=\"get\" id=\"views-exposed-form-jobs-display-page-search-result\" accept-charset=\"UTF-8\">\\n  <div class=\"row g-1\">\\n  <div class=\"col-md-6\">\\n    \\n\\n\\n\\n\\n\\n  <div class=\"input-group-sm js-form-item js-form-type-textfield form-type-textfield js-form-item-filter-titles-field form-item-filter-titles-field form-no-label mb-3\">\\n                    <input placeholder=\"Job title or company name. E.g tigo, ...\" data-drupal-selector=\"edit-filter-titles-field\" class=\"form-autocomplete form-control\" data-autocomplete-path=\"/views-autocomplete-filters/jobs_display/page_search_result/combine/0\" data-msg-maxlength=\"This field field has a maximum length of 128.\" type=\"text\" id=\"edit-filter-titles-field\" name=\"filter_titles_field\" value=\"\" size=\"30\" maxlength=\"128\"/>\\n\\n                      </div>\\n\\n  </div>\\n  <div class=\"col-md-4\">\\n    \\n\\n\\n\\n\\n\\n  <div class=\"input-group-sm js-form-item js-form-type-select form-type-select js-form-item-field-job-category-target-id form-item-field-job-category-target-id form-no-label mb-3\">\\n                    \\n<select data-drupal-selector=\"edit-field-job-category-target-id\" id=\"edit-field-job-category-target-id\" name=\"field_job_category_target_id\" class=\"form-select custom-select\"><option value=\"All\" selected=\"selected\">- Any -</option><option value=\"1\">Academic</option><option value=\"9\">Accounting</option><option value=\"2\">Administration</option><option value=\"3\">Agriculture</option><option value=\"53\">Agronomy</option><option value=\"54\">Animal sciences</option><option value=\"4\">Procurement</option><option value=\"55\">Auditing</option><option value=\"5\">Other</option><option value=\"6\">Banking</option><option value=\"7\">Business</option><option value=\"31\">Catering</option><option value=\"32\">Civil engineering</option><option value=\"8\">Communications</option><option value=\"33\">Computer and IT</option><option value=\"10\">Consultancy</option><option value=\"11\">Demography and data analysis</option><option value=\"12\">Law</option><option value=\"13\">Economics</option><option value=\"14\">Education</option><option value=\"34\">Electrical engineering</option><option value=\"20\">Engineering</option><option value=\"15\">Environmental</option><option value=\"16\">Finance and investment</option><option value=\"35\">Food sciences</option><option value=\"36\">Geology</option><option value=\"17\">Management</option><option value=\"25\">Health</option><option value=\"18\">Hospitality</option><option value=\"19\">Hotel</option><option value=\"24\">Human resource</option><option value=\"29\">International relations</option><option value=\"37\">Journalism</option><option value=\"38\">Land management</option><option value=\"21\">Leisure</option><option value=\"39\">Linguistics and literature</option><option value=\"40\">Logistics</option><option value=\"22\">Marketing and sales</option><option value=\"41\">Mechanical engineering</option><option value=\"42\">Medicine</option><option value=\"43\">Mining</option><option value=\"44\">Office management</option><option value=\"45\">Pharmacy</option><option value=\"46\">Political science</option><option value=\"47\">Project management</option><option value=\"48\">Property management</option><option value=\"49\">Psychology</option><option value=\"26\">Public health</option><option value=\"23\">Research</option><option value=\"50\">Secretatiat</option><option value=\"27\">Social sciences</option><option value=\"28\">Statistics</option><option value=\"30\">Telecommunication</option><option value=\"51\">Vehicle mechanical</option><option value=\"52\">Water engineering</option></select>\\n                      </div>\\n\\n  </div>\\n  <div class=\"col-md-2\">\\n    <div data-drupal-selector=\"edit-actions\" class=\"form-actions js-form-wrapper form-wrapper mb-3\" id=\"edit-actions--3\"><button data-drupal-selector=\"edit-submit-jobs-display\" type=\"submit\" id=\"edit-submit-jobs-display\" value=\"Search\" class=\"button js-form-submit form-submit btn btn-primary btn-sm col-12\">Search</button>\\n</div>\\n\\n        \\n  </div>\\n</div>\\n\\n</form>\\n\\n    </div>\\n  </div>\\n\\n  </section>\\n</div>\\n            <div class=\"col-md-4\">  <section class=\"row region region-jix-upload-cv\">\\n    <div id=\"block-uploadcvblock\" class=\"col-12 block block-jix-interface block-upload-cv-block\">\\n  \\n    \\n      <div class=\"content d-grid\">\\n      <a href=\"/form/default-job-application-form\" class=\"btn btn-danger btn-block btn-sm\">\\n  <i class=\"fas fa-file-upload\"></i> Upload CV\\n</a>\\n\\n    </div>\\n  </div>\\n\\n  </section>\\n</div>\\n          </div>\\n        </div>\\n      </div>\\n              <div class=\"highlighted mt-3\">\\n        <aside class=\"container section clearfix\" role=\"complementary\">\\n            <div data-drupal-messages-fallback class=\"hidden\"></div>\\n\\n\\n        </aside>\\n      </div>\\n            <div id=\"main-wrapper\" class=\"layout-main-wrapper clearfix\">\\n              <div id=\"main\" class=\"container\">\\n          \\n          <div class=\"row row-offcanvas row-offcanvas-left clearfix\">\\n            <main class=\"main-content col-md-8\" id=\"content\" role=\"main\">\\n              <section class=\"section\">\\n                <a id=\"main-content\" tabindex=\"-1\"></a>\\n                  <nav role=\"navigation\" aria-labelledby=\"block-jobstabsmenu-menu\" id=\"block-jobstabsmenu\" class=\"mb-2 block block-menu navigation menu--jobs-tabs-menu\">\\n            \\n  <h2 class=\"visually-hidden\" id=\"block-jobstabsmenu-menu\">Jobs Tabs Menu</h2>\\n  \\n\\n        \\n              <ul id=\"block-jobstabsmenu\" class=\"clearfix nav nav-tabs nav-fill border-primary border-2\">\\n                                    <li class=\"nav-item\">\\n                                                  <a class=\"nav-link px-1 text-primary nav-link--jobs-featured\" href=\"/jobs/featured\">Featured\\n            <span class=\"badge rounded-pill bg-dark\">170</span></a>\\n                  </li>\\n                                      <li class=\"nav-item menu-item--active-trail\">\\n                                                  <a class=\"nav-link px-1 active bg-primary border-primary text-white nav-link--jobs-all\" href=\"/jobs/all\">Jobs\\n            <span class=\"badge rounded-pill bg-light text-dark\">76</span></a>\\n                  </li>\\n                                      <li class=\"nav-item\">\\n                                                  <a class=\"nav-link px-1 text-primary nav-link--jobs-tender\" href=\"/jobs/tender\">Tenders\\n            <span class=\"badge rounded-pill bg-dark\">63</span></a>\\n                  </li>\\n                                      <li class=\"nav-item\">\\n                                                  <a class=\"nav-link px-1 text-primary nav-link--jobs-consultancy\" href=\"/jobs/consultancy\">Consultancy\\n            <span class=\"badge rounded-pill bg-dark\">26</span></a>\\n                  </li>\\n                                      <li class=\"nav-item\">\\n                                                  <a class=\"nav-link px-1 text-primary nav-link--jobs-internships\" href=\"/jobs/internships\">Internships\\n            <span class=\"badge rounded-pill bg-dark\">2</span></a>\\n                  </li>\\n                                      <li class=\"nav-item\">\\n                                                  <a class=\"nav-link px-1 text-primary nav-link--jobs-public-adverts\" href=\"/jobs/public-adverts\">Public\\n            <span class=\"badge rounded-pill bg-dark\">2</span></a>\\n                  </li>\\n                                      <li class=\"nav-item\">\\n                                                  <a class=\"nav-link px-1 text-primary nav-link--jobs-others\" href=\"/jobs/others\">Others\\n            <span class=\"badge rounded-pill bg-dark\">3</span></a>\\n                  </li>\\n              </ul>\\n    </ul>\\n  \\n\\n\\n  </nav>\\n<div id=\"block-jix-core-theme-content\" class=\"block block-system block-system-main-block\">\\n  \\n    \\n      <div class=\"content\">\\n      <div class=\"views-element-container\"><div class=\"view view-jobs-display view-id-jobs_display view-display-id-page_all_jobs js-view-dom-id-f2ab09e1fd661a19855c01cf50ed8cb4f1e7f0b75260bac91efbbc011fcdca44\">\\n  \\n    \\n      \\n      <div class=\"view-content row\">\\n          <div class=\"views-row\">\\n    \\n\\n<article data-history-node-id=\"11365\" role=\"article\" lang=\"zxx\" about=\"/job/operations-manager-6\" class=\"node node--type-job node--view-mode-teaser clearfix m-0 border-0 pb-2\">\\n      <div class=\"clearfix\">\\n    <div class=\"card shadow-sm border-success\">\\n      <div class=\"row g-0\">\\n        <div class=\"col-2 d-flex justify-content-center p-2\">\\n                                <a href=\"/job/operations-manager-6\" class=\"d-flex justify-content-center\">\\n              <img src=\"/sites/default/files/styles/jobs_list_logo/public/employer_logos/xlogo_1876529098.png,qitok=W0vLue6U.pagespeed.ic.OY5hiBPzNE.jpg\" class=\"img-fluid rounded align-self-center\" alt=\"...\">\\n            </a>\\n                  </div>\\n        <div class=\"col-10\">\\n          <div class=\"card-body p-2\">\\n            <a href=\"/job/operations-manager-6\"><h5 class=\"card-title\"><span class=\"field field--name-title field--type-string field--label-hidden\">Operations Manager</span>\\n</h5></a>\\n            <p class=\"card-text\">\\n              <a href=\"/employer/gardaworld\">GardaWorld </a>  |\\n              Published on 03-11-2022 |\\n              Deadline <time datetime=\"2022-11-14T21:59:00Z\" class=\"datetime\">14-11-2022</time>\\n<br/>\\n                              Senior (5+ years of experience)<br/>\\n                            <span class=\"badge badge-primary\">Job</span>\\n            </p>\\n          </div>\\n        </div>\\n      </div>\\n    </div>\\n  </div>\\n</article>\\n\\n  </div>\\n    <div class=\"views-row\">\\n    \\n\\n<article data-history-node-id=\"11281\" role=\"article\" lang=\"zxx\" about=\"/job/account-manager-credit\" class=\"node node--type-job node--view-mode-teaser clearfix m-0 border-0 pb-2\">\\n      <div class=\"clearfix\">\\n    <div class=\"card shadow-sm border-success\">\\n      <div class=\"row g-0\">\\n        <div class=\"col-2 d-flex justify-content-center p-2\">\\n                                <a href=\"/job/account-manager-credit\" class=\"d-flex justify-content-center\">\\n              <img src=\"/sites/default/files/styles/jobs_list_logo/public/employer_logos/xlogo_157212511.png,qitok=dPBSUMYz.pagespeed.ic.c9DepvBaze.png\" class=\"img-fluid rounded align-self-center\" alt=\"...\">\\n            </a>\\n                  </div>\\n        <div class=\"col-10\">\\n          <div class=\"card-body p-2\">\\n            <a href=\"/job/account-manager-credit\"><h5 class=\"card-title\"><span class=\"field field--name-title field--type-string field--label-hidden\">Account Manager- Credit</span>\\n</h5></a>\\n            <p class=\"card-text\">\\n              <a href=\"/employer/yellow\">Yellow</a>  | <i class=\"fas fa-map-marker-alt\"></i> Malawi, Uganda, Zambia, Rwanda  |\\n              Published on 27-10-2022 |\\n              Deadline <time datetime=\"2022-11-27T23:59:00Z\" class=\"datetime\">27-11-2022</time>\\n<br/>\\n                              Not specified<br/>\\n                            <span class=\"badge badge-primary\">Job</span>\\n            </p>\\n          </div>\\n        </div>\\n      </div>\\n    </div>\\n  </div>\\n</article>\\n\\n  </div>\\n    <div class=\"views-row\">\\n    \\n\\n<article data-history-node-id=\"11488\" role=\"article\" lang=\"zxx\" about=\"/job/legal-manager\" class=\"node node--type-job node--view-mode-teaser clearfix m-0 border-0 pb-2\">\\n      <div class=\"clearfix\">\\n    <div class=\"card shadow-sm border-light\">\\n      <div class=\"row g-0\">\\n        <div class=\"col-2 d-flex justify-content-center p-2\">\\n                                <a href=\"/job/legal-manager\" class=\"d-flex justify-content-center\">\\n              <img src=\"/sites/default/files/styles/jobs_list_logo/public/employer_logos/xlogo_796093103.png,qitok=MAnZvNU9.pagespeed.ic.fQbBwiHlLh.png\" class=\"img-fluid rounded align-self-center\" alt=\"...\">\\n            </a>\\n                  </div>\\n        <div class=\"col-10\">\\n          <div class=\"card-body p-2\">\\n            <a href=\"/job/legal-manager\"><h5 class=\"card-title\"><span class=\"field field--name-title field--type-string field--label-hidden\">Legal Manager</span>\\n</h5></a>\\n            <p class=\"card-text\">\\n              <a href=\"/employer/copedu-plc\">COPEDU PLC </a>  |\\n              Published on 12-11-2022 |\\n              Deadline <time datetime=\"2022-11-18T21:59:00Z\" class=\"datetime\">18-11-2022</time>\\n<br/>\\n                              Mid career (3 to 5 years of experience)<br/>\\n                            <span class=\"badge badge-primary\">Job</span>\\n            </p>\\n          </div>\\n        </div>\\n      </div>\\n    </div>\\n  </div>\\n</article>\\n\\n  </div>\\n    <div class=\"views-row\">\\n    \\n\\n<article data-history-node-id=\"11481\" role=\"article\" lang=\"zxx\" about=\"/job/district-coordinatorjunior-district-manager\" class=\"node node--type-job node--view-mode-teaser clearfix m-0 border-0 pb-2\">\\n      <div class=\"clearfix\">\\n    <div class=\"card shadow-sm border-light\">\\n      <div class=\"row g-0\">\\n        <div class=\"col-2 d-flex justify-content-center p-2\">\\n                                <a href=\"/job/district-coordinatorjunior-district-manager\" class=\"d-flex justify-content-center\">\\n              <img src=\"/sites/default/files/styles/jobs_list_logo/public/employer_logos/xlogo_1664060151.png,qitok=Lv6fLWW9.pagespeed.ic.jrSbyX8zfz.jpg\" class=\"img-fluid rounded align-self-center\" alt=\"...\">\\n            </a>\\n                  </div>\\n        <div class=\"col-10\">\\n          <div class=\"card-body p-2\">\\n            <a href=\"/job/district-coordinatorjunior-district-manager\"><h5 class=\"card-title\"><span class=\"field field--name-title field--type-string field--label-hidden\">District Coordinator/Junior District Manager</span>\\n</h5></a>\\n            <p class=\"card-text\">\\n              <a href=\"/employer/earthenable-rwanda\">EarthEnable Rwanda</a>  |\\n              Published on 11-11-2022 |\\n              Deadline <time datetime=\"2022-11-30T21:59:00Z\" class=\"datetime\">30-11-2022</time>\\n<br/>\\n                              Not specified<br/>\\n                            <span class=\"badge badge-primary\">Job</span>\\n            </p>\\n          </div>\\n        </div>\\n      </div>\\n    </div>\\n  </div>\\n</article>\\n\\n  </div>\\n    <div class=\"views-row\">\\n    \\n\\n<article data-history-node-id=\"11471\" role=\"article\" lang=\"zxx\" about=\"/job/radio-sales-executives\" class=\"node node--type-job node--view-mode-teaser clearfix m-0 border-0 pb-2\">\\n      <div class=\"clearfix\">\\n    <div class=\"card shadow-sm border-light\">\\n      <div class=\"row g-0\">\\n        <div class=\"col-2 d-flex justify-content-center p-2\">\\n                                <a href=\"/job/radio-sales-executives\" class=\"d-flex justify-content-center\">\\n              <img src=\"/sites/default/files/styles/jobs_list_logo/public/employer_logos/xlogo_612084625.png,qitok=qG5f8Z5Y.pagespeed.ic.qsJDSYUEyJ.png\" class=\"img-fluid rounded align-self-center\" alt=\"...\">\\n            </a>\\n                  </div>\\n        <div class=\"col-10\">\\n          <div class=\"card-body p-2\">\\n            <a href=\"/job/radio-sales-executives\"><h5 class=\"card-title\"><span class=\"field field--name-title field--type-string field--label-hidden\">Radio Sales Executives</span>\\n</h5></a>\\n            <p class=\"card-text\">\\n              <a href=\"/employer/royal-radio-ltd\">ROYAL RADIO LTD</a>  |\\n              Published on 10-11-2022 |\\n              Deadline <time datetime=\"2022-11-15T21:59:00Z\" class=\"datetime\">15-11-2022</time>\\n<br/>\\n                              Not specified<br/>\\n                            <span class=\"badge badge-primary\">Job</span>\\n            </p>\\n          </div>\\n        </div>\\n      </div>\\n    </div>\\n  </div>\\n</article>\\n\\n  </div>\\n    <div class=\"views-row\">\\n    \\n\\n<article data-history-node-id=\"11472\" role=\"article\" lang=\"zxx\" about=\"/job/radio-presenter-0\" class=\"node node--type-job node--view-mode-teaser clearfix m-0 border-0 pb-2\">\\n      <div class=\"clearfix\">\\n    <div class=\"card shadow-sm border-light\">\\n      <div class=\"row g-0\">\\n        <div class=\"col-2 d-flex justify-content-center p-2\">\\n                                <a href=\"/job/radio-presenter-0\" class=\"d-flex justify-content-center\">\\n              <img src=\"/sites/default/files/styles/jobs_list_logo/public/employer_logos/xlogo_612084625.png,qitok=qG5f8Z5Y.pagespeed.ic.qsJDSYUEyJ.png\" class=\"img-fluid rounded align-self-center\" alt=\"...\">\\n            </a>\\n                  </div>\\n        <div class=\"col-10\">\\n          <div class=\"card-body p-2\">\\n            <a href=\"/job/radio-presenter-0\"><h5 class=\"card-title\"><span class=\"field field--name-title field--type-string field--label-hidden\">Radio Presenter</span>\\n</h5></a>\\n            <p class=\"card-text\">\\n              <a href=\"/employer/royal-radio-ltd\">ROYAL RADIO LTD</a>  |\\n              Published on 10-11-2022 |\\n              Deadline <time datetime=\"2022-11-15T21:59:00Z\" class=\"datetime\">15-11-2022</time>\\n<br/>\\n                              <br/>\\n                            <span class=\"badge badge-primary\">Job</span>\\n            </p>\\n          </div>\\n        </div>\\n      </div>\\n    </div>\\n  </div>\\n</article>\\n\\n  </div>\\n    <div class=\"views-row\">\\n    \\n\\n<article data-history-node-id=\"11468\" role=\"article\" lang=\"zxx\" about=\"/job/driver-16\" class=\"node node--type-job node--view-mode-teaser clearfix m-0 border-0 pb-2\">\\n      <div class=\"clearfix\">\\n    <div class=\"card shadow-sm border-light\">\\n      <div class=\"row g-0\">\\n        <div class=\"col-2 d-flex justify-content-center p-2\">\\n                                <a href=\"/job/driver-16\" class=\"d-flex justify-content-center\">\\n              <img src=\"/sites/default/files/styles/jobs_list_logo/public/employer_logos/xlogo_1283550311.png,qitok=jY9zKs6n.pagespeed.ic.hbYc7jr7hl.png\" class=\"img-fluid rounded align-self-center\" alt=\"...\">\\n            </a>\\n                  </div>\\n        <div class=\"col-10\">\\n          <div class=\"card-body p-2\">\\n            <a href=\"/job/driver-16\"><h5 class=\"card-title\"><span class=\"field field--name-title field--type-string field--label-hidden\">Driver</span>\\n</h5></a>\\n            <p class=\"card-text\">\\n              <a href=\"/employer/water-people\">Water For People-</a>  |\\n              Published on 10-11-2022 |\\n              Deadline <time datetime=\"2022-11-20T21:59:00Z\" class=\"datetime\">20-11-2022</time>\\n<br/>\\n                              Senior (5+ years of experience)<br/>\\n                            <span class=\"badge badge-primary\">Job</span>\\n            </p>\\n          </div>\\n        </div>\\n      </div>\\n    </div>\\n  </div>\\n</article>\\n\\n  </div>\\n    <div class=\"views-row\">\\n    \\n\\n<article data-history-node-id=\"11469\" role=\"article\" lang=\"zxx\" about=\"/job/procurement-and-logistics-officer\" class=\"node node--type-job node--view-mode-teaser clearfix m-0 border-0 pb-2\">\\n      <div class=\"clearfix\">\\n    <div class=\"card shadow-sm border-light\">\\n      <div class=\"row g-0\">\\n        <div class=\"col-2 d-flex justify-content-center p-2\">\\n                                <a href=\"/job/procurement-and-logistics-officer\" class=\"d-flex justify-content-center\">\\n              <img src=\"/sites/default/files/styles/jobs_list_logo/public/employer_logos/xlogo_1283550311.png,qitok=jY9zKs6n.pagespeed.ic.hbYc7jr7hl.png\" class=\"img-fluid rounded align-self-center\" alt=\"...\">\\n            </a>\\n                  </div>\\n        <div class=\"col-10\">\\n          <div class=\"card-body p-2\">\\n            <a href=\"/job/procurement-and-logistics-officer\"><h5 class=\"card-title\"><span class=\"field field--name-title field--type-string field--label-hidden\">Procurement and Logistics Officer</span>\\n</h5></a>\\n            <p class=\"card-text\">\\n              <a href=\"/employer/water-people\">Water For People-</a>  |\\n              Published on 10-11-2022 |\\n              Deadline <time datetime=\"2022-11-20T21:59:00Z\" class=\"datetime\">20-11-2022</time>\\n<br/>\\n                              Senior (5+ years of experience)<br/>\\n                            <span class=\"badge badge-primary\">Job</span>\\n            </p>\\n          </div>\\n        </div>\\n      </div>\\n    </div>\\n  </div>\\n</article>\\n\\n  </div>\\n    <div class=\"views-row\">\\n    \\n\\n<article data-history-node-id=\"11457\" role=\"article\" lang=\"zxx\" about=\"/job/product-manager-1\" class=\"node node--type-job node--view-mode-teaser clearfix m-0 border-0 pb-2\">\\n      <div class=\"clearfix\">\\n    <div class=\"card shadow-sm border-light\">\\n      <div class=\"row g-0\">\\n        <div class=\"col-2 d-flex justify-content-center p-2\">\\n                                <a href=\"/job/product-manager-1\" class=\"d-flex justify-content-center\">\\n              <img src=\"/sites/default/files/styles/jobs_list_logo/public/employer_logos/xlogo_1490092362.png,qitok=WjcS3aAB.pagespeed.ic.HOD1Y6Lpgn.png\" class=\"img-fluid rounded align-self-center\" alt=\"...\">\\n            </a>\\n                  </div>\\n        <div class=\"col-10\">\\n          <div class=\"card-body p-2\">\\n            <a href=\"/job/product-manager-1\"><h5 class=\"card-title\"><span class=\"field field--name-title field--type-string field--label-hidden\">Product Manager</span>\\n</h5></a>\\n            <p class=\"card-text\">\\n              <a href=\"/employer/ampersand-rwanda-ltd\">Ampersand Rwanda Ltd</a>  | <i class=\"fas fa-map-marker-alt\"></i> Kigali  |\\n              Published on 10-11-2022 |\\n              Deadline <time datetime=\"2023-01-10T21:59:00Z\" class=\"datetime\">10-01-2023</time>\\n<br/>\\n                              Senior (5+ years of experience)<br/>\\n                            <span class=\"badge badge-primary\">Job</span>\\n            </p>\\n          </div>\\n        </div>\\n      </div>\\n    </div>\\n  </div>\\n</article>\\n\\n  </div>\\n    <div class=\"views-row\">\\n    \\n\\n<article data-history-node-id=\"11462\" role=\"article\" lang=\"zxx\" about=\"/job/aftercare-vehicle-maintenance-manager\" class=\"node node--type-job node--view-mode-teaser clearfix m-0 border-0 pb-2\">\\n      <div class=\"clearfix\">\\n    <div class=\"card shadow-sm border-light\">\\n      <div class=\"row g-0\">\\n        <div class=\"col-2 d-flex justify-content-center p-2\">\\n                                <a href=\"/job/aftercare-vehicle-maintenance-manager\" class=\"d-flex justify-content-center\">\\n              <img src=\"/sites/default/files/styles/jobs_list_logo/public/employer_logos/xlogo_1490092362.png,qitok=WjcS3aAB.pagespeed.ic.HOD1Y6Lpgn.png\" class=\"img-fluid rounded align-self-center\" alt=\"...\">\\n            </a>\\n                  </div>\\n        <div class=\"col-10\">\\n          <div class=\"card-body p-2\">\\n            <a href=\"/job/aftercare-vehicle-maintenance-manager\"><h5 class=\"card-title\"><span class=\"field field--name-title field--type-string field--label-hidden\">Aftercare/ Vehicle Maintenance Manager</span>\\n</h5></a>\\n            <p class=\"card-text\">\\n              <a href=\"/employer/ampersand-rwanda-ltd\">Ampersand Rwanda Ltd</a>  | <i class=\"fas fa-map-marker-alt\"></i> Kigali  |\\n              Published on 10-11-2022 |\\n              Deadline <time datetime=\"2022-12-10T21:59:34Z\" class=\"datetime\">10-12-2022</time>\\n<br/>\\n                              Senior (5+ years of experience)<br/>\\n                            <span class=\"badge badge-primary\">Job</span>\\n            </p>\\n          </div>\\n        </div>\\n      </div>\\n    </div>\\n  </div>\\n</article>\\n\\n  </div>\\n    <div class=\"views-row\">\\n    \\n\\n<article data-history-node-id=\"11461\" role=\"article\" lang=\"zxx\" about=\"/job/finance-officer-9\" class=\"node node--type-job node--view-mode-teaser clearfix m-0 border-0 pb-2\">\\n      <div class=\"clearfix\">\\n    <div class=\"card shadow-sm border-light\">\\n      <div class=\"row g-0\">\\n        <div class=\"col-2 d-flex justify-content-center p-2\">\\n                                <a href=\"/job/finance-officer-9\" class=\"d-flex justify-content-center\">\\n              <img src=\"/sites/default/files/styles/jobs_list_logo/public/employer_logos/xlogo_249435965.png,qitok=QT2PksO7.pagespeed.ic.7rh4EZKEnN.png\" class=\"img-fluid rounded align-self-center\" alt=\"...\">\\n            </a>\\n                  </div>\\n        <div class=\"col-10\">\\n          <div class=\"card-body p-2\">\\n            <a href=\"/job/finance-officer-9\"><h5 class=\"card-title\"><span class=\"field field--name-title field--type-string field--label-hidden\">Finance Officer</span>\\n</h5></a>\\n            <p class=\"card-text\">\\n              <a href=\"/employer/intrahealth\">IntraHealth</a>  |\\n              Published on 10-11-2022 |\\n              Deadline <time datetime=\"2022-11-18T21:59:00Z\" class=\"datetime\">18-11-2022</time>\\n<br/>\\n                              Mid career (3 to 5 years of experience)<br/>\\n                            <span class=\"badge badge-primary\">Job</span>\\n            </p>\\n          </div>\\n        </div>\\n      </div>\\n    </div>\\n  </div>\\n</article>\\n\\n  </div>\\n    <div class=\"views-row\">\\n    \\n\\n<article data-history-node-id=\"11460\" role=\"article\" lang=\"zxx\" about=\"/job/communications-officer-8\" class=\"node node--type-job node--view-mode-teaser clearfix m-0 border-0 pb-2\">\\n      <div class=\"clearfix\">\\n    <div class=\"card shadow-sm border-light\">\\n      <div class=\"row g-0\">\\n        <div class=\"col-2 d-flex justify-content-center p-2\">\\n                                <a href=\"/job/communications-officer-8\" class=\"d-flex justify-content-center\">\\n              <img src=\"/sites/default/files/styles/jobs_list_logo/public/employer_logos/xlogo_490553305.png,qitok=ASYAAaWa.pagespeed.ic.68PVW85eGs.png\" class=\"img-fluid rounded align-self-center\" alt=\"...\">\\n            </a>\\n                  </div>\\n        <div class=\"col-10\">\\n          <div class=\"card-body p-2\">\\n            <a href=\"/job/communications-officer-8\"><h5 class=\"card-title\"><span class=\"field field--name-title field--type-string field--label-hidden\">Communications Officer</span>\\n</h5></a>\\n            <p class=\"card-text\">\\n              <a href=\"/employer/rwanda-womens-network-rwn\">Rwanda Women\\xe2\\x80\\x99s Network (RWN)</a>  |\\n              Published on 10-11-2022 |\\n              Deadline <time datetime=\"2022-11-18T15:00:00Z\" class=\"datetime\">18-11-2022</time>\\n<br/>\\n                              Mid career (3 to 5 years of experience)<br/>\\n                            <span class=\"badge badge-primary\">Job</span>\\n            </p>\\n          </div>\\n        </div>\\n      </div>\\n    </div>\\n  </div>\\n</article>\\n\\n  </div>\\n    <div class=\"views-row\">\\n    \\n\\n<article data-history-node-id=\"11454\" role=\"article\" lang=\"zxx\" about=\"/job/lecturer-communication-and-writing\" class=\"node node--type-job node--view-mode-teaser clearfix m-0 border-0 pb-2\">\\n      <div class=\"clearfix\">\\n    <div class=\"card shadow-sm border-light\">\\n      <div class=\"row g-0\">\\n        <div class=\"col-2 d-flex justify-content-center p-2\">\\n                                <a href=\"/job/lecturer-communication-and-writing\" class=\"d-flex justify-content-center\">\\n              <img src=\"/sites/default/files/styles/jobs_list_logo/public/employer_logos/xlogo_787729658.png,qitok=R-1zMfKv.pagespeed.ic.HcYtG1VBWl.png\" class=\"img-fluid rounded align-self-center\" alt=\"...\">\\n            </a>\\n                  </div>\\n        <div class=\"col-10\">\\n          <div class=\"card-body p-2\">\\n            <a href=\"/job/lecturer-communication-and-writing\"><h5 class=\"card-title\"><span class=\"field field--name-title field--type-string field--label-hidden\">Lecturer, Communication and Writing</span>\\n</h5></a>\\n            <p class=\"card-text\">\\n              <a href=\"/employer/university-global-health-equity-ughe\">University of Global Health Equity (UGHE)</a>  |\\n              Published on 09-11-2022 |\\n              Deadline <time datetime=\"2022-12-09T21:59:00Z\" class=\"datetime\">09-12-2022</time>\\n<br/>\\n                              Mid career (3 to 5 years of experience)<br/>\\n                            <span class=\"badge badge-primary\">Job</span>\\n            </p>\\n          </div>\\n        </div>\\n      </div>\\n    </div>\\n  </div>\\n</article>\\n\\n  </div>\\n    <div class=\"views-row\">\\n    \\n\\n<article data-history-node-id=\"11453\" role=\"article\" lang=\"zxx\" about=\"/job/research-associate-ra-0\" class=\"node node--type-job node--view-mode-teaser clearfix m-0 border-0 pb-2\">\\n      <div class=\"clearfix\">\\n    <div class=\"card shadow-sm border-light\">\\n      <div class=\"row g-0\">\\n        <div class=\"col-2 d-flex justify-content-center p-2\">\\n                                <a href=\"/job/research-associate-ra-0\" class=\"d-flex justify-content-center\">\\n              <img src=\"/sites/default/files/styles/jobs_list_logo/public/employer_logos/xlogo_328969669.jpg,qitok=MbhOMruN.pagespeed.ic.LP--_9jN2W.jpg\" class=\"img-fluid rounded align-self-center\" alt=\"...\">\\n            </a>\\n                  </div>\\n        <div class=\"col-10\">\\n          <div class=\"card-body p-2\">\\n            <a href=\"/job/research-associate-ra-0\"><h5 class=\"card-title\"><span class=\"field field--name-title field--type-string field--label-hidden\">Research Associate (RA)</span>\\n</h5></a>\\n            <p class=\"card-text\">\\n              <a href=\"/employer/ipa-rwanda\">IPA Rwanda</a>  | <i class=\"fas fa-map-marker-alt\"></i> Kigali   |\\n              Published on 09-11-2022 |\\n              Deadline <time datetime=\"2022-12-11T15:00:00Z\" class=\"datetime\">11-12-2022</time>\\n<br/>\\n                              Mid career (3 to 5 years of experience)<br/>\\n                            <span class=\"badge badge-primary\">Job</span>\\n            </p>\\n          </div>\\n        </div>\\n      </div>\\n    </div>\\n  </div>\\n</article>\\n\\n  </div>\\n    <div class=\"views-row\">\\n    \\n\\n<article data-history-node-id=\"11452\" role=\"article\" lang=\"zxx\" about=\"/job/office-assistant-0\" class=\"node node--type-job node--view-mode-teaser clearfix m-0 border-0 pb-2\">\\n      <div class=\"clearfix\">\\n    <div class=\"card shadow-sm border-light\">\\n      <div class=\"row g-0\">\\n        <div class=\"col-2 d-flex justify-content-center p-2\">\\n                                <a href=\"/job/office-assistant-0\" class=\"d-flex justify-content-center\">\\n              <img src=\"/sites/default/files/styles/jobs_list_logo/public/employer_logos/xlogo_1116070849.png,qitok=EcM31cKe.pagespeed.ic.05TCSjT_pd.png\" class=\"img-fluid rounded align-self-center\" alt=\"...\">\\n            </a>\\n                  </div>\\n        <div class=\"col-10\">\\n          <div class=\"card-body p-2\">\\n            <a href=\"/job/office-assistant-0\"><h5 class=\"card-title\"><span class=\"field field--name-title field--type-string field--label-hidden\">Office Assistant</span>\\n</h5></a>\\n            <p class=\"card-text\">\\n              <a href=\"/employer/inkomoko-entrepreneur-development\">Inkomoko Entrepreneur Development</a>  | <i class=\"fas fa-map-marker-alt\"></i> Kigali  |\\n              Published on 09-11-2022 |\\n              Deadline <time datetime=\"2022-11-17T21:59:00Z\" class=\"datetime\">17-11-2022</time>\\n<br/>\\n                              Entry level (1 to 3 years of experience)<br/>\\n                            <span class=\"badge badge-primary\">Job</span>\\n            </p>\\n          </div>\\n        </div>\\n      </div>\\n    </div>\\n  </div>\\n</article>\\n\\n  </div>\\n    <div class=\"views-row\">\\n    \\n\\n<article data-history-node-id=\"11444\" role=\"article\" lang=\"zxx\" about=\"/job/head-field-officehuye\" class=\"node node--type-job node--view-mode-teaser clearfix m-0 border-0 pb-2\">\\n      <div class=\"clearfix\">\\n    <div class=\"card shadow-sm border-light\">\\n      <div class=\"row g-0\">\\n        <div class=\"col-2 d-flex justify-content-center p-2\">\\n                                <a href=\"/job/head-field-officehuye\" class=\"d-flex justify-content-center\">\\n              <img src=\"/sites/default/files/styles/jobs_list_logo/public/employer_logos/xlogo_904046062.png,qitok=IjjnCxHP.pagespeed.ic.KT3Lz0oSuK.png\" class=\"img-fluid rounded align-self-center\" alt=\"...\">\\n            </a>\\n                  </div>\\n        <div class=\"col-10\">\\n          <div class=\"card-body p-2\">\\n            <a href=\"/job/head-field-officehuye\"><h5 class=\"card-title\"><span class=\"field field--name-title field--type-string field--label-hidden\">Head of Field Office(Huye)</span>\\n</h5></a>\\n            <p class=\"card-text\">\\n              <a href=\"/employer/world-food-programme-wfp\">World Food Programme (WFP)</a>  |\\n              Published on 08-11-2022 |\\n              Deadline <time datetime=\"2022-11-23T21:59:00Z\" class=\"datetime\">23-11-2022</time>\\n<br/>\\n                              Senior (5+ years of experience)<br/>\\n                            <span class=\"badge badge-primary\">Job</span>\\n            </p>\\n          </div>\\n        </div>\\n      </div>\\n    </div>\\n  </div>\\n</article>\\n\\n  </div>\\n    <div class=\"views-row\">\\n    \\n\\n<article data-history-node-id=\"11437\" role=\"article\" lang=\"zxx\" about=\"/job/human-resources-assistant-0\" class=\"node node--type-job node--view-mode-teaser clearfix m-0 border-0 pb-2\">\\n      <div class=\"clearfix\">\\n    <div class=\"card shadow-sm border-light\">\\n      <div class=\"row g-0\">\\n        <div class=\"col-2 d-flex justify-content-center p-2\">\\n                                <a href=\"/job/human-resources-assistant-0\" class=\"d-flex justify-content-center\">\\n              <img src=\"/sites/default/files/styles/jobs_list_logo/public/employer_logos/xlogo_1019606435.jpeg,qitok=kbnunTYZ.pagespeed.ic.ZAfoSSQvk3.jpg\" class=\"img-fluid rounded align-self-center\" alt=\"...\">\\n            </a>\\n                  </div>\\n        <div class=\"col-10\">\\n          <div class=\"card-body p-2\">\\n            <a href=\"/job/human-resources-assistant-0\"><h5 class=\"card-title\"><span class=\"field field--name-title field--type-string field--label-hidden\">Human Resources Assistant</span>\\n</h5></a>\\n            <p class=\"card-text\">\\n              <a href=\"/employer/loveway-rwanda-co-ltd\">Loveway Rwanda Co. Ltd</a>  |\\n              Published on 08-11-2022 |\\n              Deadline <time datetime=\"2022-11-22T21:59:00Z\" class=\"datetime\">22-11-2022</time>\\n<br/>\\n                              Mid career (3 to 5 years of experience)<br/>\\n                            <span class=\"badge badge-primary\">Job</span>\\n            </p>\\n          </div>\\n        </div>\\n      </div>\\n    </div>\\n  </div>\\n</article>\\n\\n  </div>\\n    <div class=\"views-row\">\\n    \\n\\n<article data-history-node-id=\"11438\" role=\"article\" lang=\"zxx\" about=\"/job/rwanda-impact-specialist\" class=\"node node--type-job node--view-mode-teaser clearfix m-0 border-0 pb-2\">\\n      <div class=\"clearfix\">\\n    <div class=\"card shadow-sm border-light\">\\n      <div class=\"row g-0\">\\n        <div class=\"col-2 d-flex justify-content-center p-2\">\\n                                <a href=\"/job/rwanda-impact-specialist\" class=\"d-flex justify-content-center\">\\n              <img src=\"/sites/default/files/styles/jobs_list_logo/public/employer_logos/xlogo_315569006.jpg,qitok=80Da4_ZK.pagespeed.ic.XgUQtsUY9r.jpg\" class=\"img-fluid rounded align-self-center\" alt=\"...\">\\n            </a>\\n                  </div>\\n        <div class=\"col-10\">\\n          <div class=\"card-body p-2\">\\n            <a href=\"/job/rwanda-impact-specialist\"><h5 class=\"card-title\"><span class=\"field field--name-title field--type-string field--label-hidden\">Rwanda Impact Specialist</span>\\n</h5></a>\\n            <p class=\"card-text\">\\n              <a href=\"/employer/one-acre-fund\">One Acre Fund</a>  | <i class=\"fas fa-map-marker-alt\"></i> Rubengera  |\\n              Published on 08-11-2022 |\\n              Deadline <time datetime=\"2023-01-15T21:59:59Z\" class=\"datetime\">15-01-2023</time>\\n<br/>\\n                              <br/>\\n                            <span class=\"badge badge-primary\">Job</span>\\n            </p>\\n          </div>\\n        </div>\\n      </div>\\n    </div>\\n  </div>\\n</article>\\n\\n  </div>\\n    <div class=\"views-row\">\\n    \\n\\n<article data-history-node-id=\"11439\" role=\"article\" lang=\"zxx\" about=\"/job/operations-support-manager-africa\" class=\"node node--type-job node--view-mode-teaser clearfix m-0 border-0 pb-2\">\\n      <div class=\"clearfix\">\\n    <div class=\"card shadow-sm border-light\">\\n      <div class=\"row g-0\">\\n        <div class=\"col-2 d-flex justify-content-center p-2\">\\n                                <a href=\"/job/operations-support-manager-africa\" class=\"d-flex justify-content-center\">\\n              <img src=\"/sites/default/files/styles/jobs_list_logo/public/employer_logos/xlogo_1095201937.png,qitok=uIlk4kzX.pagespeed.ic.xShJQyFx4Q.png\" class=\"img-fluid rounded align-self-center\" alt=\"...\">\\n            </a>\\n                  </div>\\n        <div class=\"col-10\">\\n          <div class=\"card-body p-2\">\\n            <a href=\"/job/operations-support-manager-africa\"><h5 class=\"card-title\"><span class=\"field field--name-title field--type-string field--label-hidden\">Operations Support Manager (Africa)</span>\\n</h5></a>\\n            <p class=\"card-text\">\\n              <a href=\"/employer/practical-action\">Practical Action </a>  |\\n              Published on 08-11-2022 |\\n              Deadline <time datetime=\"2022-11-30T21:59:00Z\" class=\"datetime\">30-11-2022</time>\\n<br/>\\n                              Entry level (1 to 3 years of experience)<br/>\\n                            <span class=\"badge badge-primary\">Job</span>\\n            </p>\\n          </div>\\n        </div>\\n      </div>\\n    </div>\\n  </div>\\n</article>\\n\\n  </div>\\n    <div class=\"views-row\">\\n    \\n\\n<article data-history-node-id=\"11442\" role=\"article\" lang=\"zxx\" about=\"/job/accounting-supervisor\" class=\"node node--type-job node--view-mode-teaser clearfix m-0 border-0 pb-2\">\\n      <div class=\"clearfix\">\\n    <div class=\"card shadow-sm border-light\">\\n      <div class=\"row g-0\">\\n        <div class=\"col-2 d-flex justify-content-center p-2\">\\n                                <a href=\"/job/accounting-supervisor\" class=\"d-flex justify-content-center\">\\n              <img src=\"/sites/default/files/styles/jobs_list_logo/public/employer_logos/xlogo_2013000868.png,qitok=JCAHcB3m.pagespeed.ic.zMSUs8RooB.jpg\" class=\"img-fluid rounded align-self-center\" alt=\"...\">\\n            </a>\\n                  </div>\\n        <div class=\"col-10\">\\n          <div class=\"card-body p-2\">\\n            <a href=\"/job/accounting-supervisor\"><h5 class=\"card-title\"><span class=\"field field--name-title field--type-string field--label-hidden\">Accounting Supervisor</span>\\n</h5></a>\\n            <p class=\"card-text\">\\n              <a href=\"/employer/excraft-ltd\">ExCraft Ltd</a>  |\\n              Published on 08-11-2022 |\\n              Deadline <time datetime=\"2022-12-08T21:59:00Z\" class=\"datetime\">08-12-2022</time>\\n<br/>\\n                              Senior (5+ years of experience)<br/>\\n                            <span class=\"badge badge-primary\">Job</span>\\n            </p>\\n          </div>\\n        </div>\\n      </div>\\n    </div>\\n  </div>\\n</article>\\n\\n  </div>\\n    <div class=\"views-row\">\\n    \\n\\n<article data-history-node-id=\"11441\" role=\"article\" lang=\"zxx\" about=\"/job/accounting-manager-1\" class=\"node node--type-job node--view-mode-teaser clearfix m-0 border-0 pb-2\">\\n      <div class=\"clearfix\">\\n    <div class=\"card shadow-sm border-light\">\\n      <div class=\"row g-0\">\\n        <div class=\"col-2 d-flex justify-content-center p-2\">\\n                                <a href=\"/job/accounting-manager-1\" class=\"d-flex justify-content-center\">\\n              <img src=\"/sites/default/files/styles/jobs_list_logo/public/employer_logos/xlogo_2013000868.png,qitok=JCAHcB3m.pagespeed.ic.zMSUs8RooB.jpg\" class=\"img-fluid rounded align-self-center\" alt=\"...\">\\n            </a>\\n                  </div>\\n        <div class=\"col-10\">\\n          <div class=\"card-body p-2\">\\n            <a href=\"/job/accounting-manager-1\"><h5 class=\"card-title\"><span class=\"field field--name-title field--type-string field--label-hidden\">Accounting Manager</span>\\n</h5></a>\\n            <p class=\"card-text\">\\n              <a href=\"/employer/excraft-ltd\">ExCraft Ltd</a>  |\\n              Published on 08-11-2022 |\\n              Deadline <time datetime=\"2022-12-08T21:59:00Z\" class=\"datetime\">08-12-2022</time>\\n<br/>\\n                              Senior (5+ years of experience)<br/>\\n                            <span class=\"badge badge-primary\">Job</span>\\n            </p>\\n          </div>\\n        </div>\\n      </div>\\n    </div>\\n  </div>\\n</article>\\n\\n  </div>\\n    <div class=\"views-row\">\\n    \\n\\n<article data-history-node-id=\"11435\" role=\"article\" lang=\"zxx\" about=\"/job/business-development-officer\" class=\"node node--type-job node--view-mode-teaser clearfix m-0 border-0 pb-2\">\\n      <div class=\"clearfix\">\\n    <div class=\"card shadow-sm border-light\">\\n      <div class=\"row g-0\">\\n        <div class=\"col-2 d-flex justify-content-center p-2\">\\n                                <a href=\"/job/business-development-officer\" class=\"d-flex justify-content-center\">\\n              <img src=\"/sites/default/files/styles/jobs_list_logo/public/employer_logos/xlogo_1390062023.png,qitok=3shTv0_y.pagespeed.ic.3bUlQbHtLS.png\" class=\"img-fluid rounded align-self-center\" alt=\"...\">\\n            </a>\\n                  </div>\\n        <div class=\"col-10\">\\n          <div class=\"card-body p-2\">\\n            <a href=\"/job/business-development-officer\"><h5 class=\"card-title\"><span class=\"field field--name-title field--type-string field--label-hidden\">Business Development Officer</span>\\n</h5></a>\\n            <p class=\"card-text\">\\n              <a href=\"/employer/career-options-africa-ltd\">Career Options Africa Ltd</a>  |\\n              Published on 08-11-2022 |\\n              Deadline <time datetime=\"2022-11-21T23:59:00Z\" class=\"datetime\">21-11-2022</time>\\n<br/>\\n                              Mid career (3 to 5 years of experience)<br/>\\n                            <span class=\"badge badge-primary\">Job</span>\\n            </p>\\n          </div>\\n        </div>\\n      </div>\\n    </div>\\n  </div>\\n</article>\\n\\n  </div>\\n    <div class=\"views-row\">\\n    \\n\\n<article data-history-node-id=\"11434\" role=\"article\" lang=\"zxx\" about=\"/job/regional-grants-officer-central-africa\" class=\"node node--type-job node--view-mode-teaser clearfix m-0 border-0 pb-2\">\\n      <div class=\"clearfix\">\\n    <div class=\"card shadow-sm border-light\">\\n      <div class=\"row g-0\">\\n        <div class=\"col-2 d-flex justify-content-center p-2\">\\n                                <a href=\"/job/regional-grants-officer-central-africa\" class=\"d-flex justify-content-center\">\\n              <img src=\"/sites/default/files/styles/jobs_list_logo/public/employer_logos/xlogo_1541448840.png,qitok=K99cLVWG.pagespeed.ic.wVGAupZ_tz.png\" class=\"img-fluid rounded align-self-center\" alt=\"...\">\\n            </a>\\n                  </div>\\n        <div class=\"col-10\">\\n          <div class=\"card-body p-2\">\\n            <a href=\"/job/regional-grants-officer-central-africa\"><h5 class=\"card-title\"><span class=\"field field--name-title field--type-string field--label-hidden\">Regional Grants Officer</span>\\n</h5></a>\\n            <p class=\"card-text\">\\n              <a href=\"/employer/wildlife-conservation-society-wcs-rwanda\">Wildlife Conservation Society (WCS Rwanda)</a>  |\\n              Published on 08-11-2022 |\\n              Deadline <time datetime=\"2022-11-30T21:59:00Z\" class=\"datetime\">30-11-2022</time>\\n<br/>\\n                              Mid career (3 to 5 years of experience)<br/>\\n                            <span class=\"badge badge-primary\">Job</span>\\n            </p>\\n          </div>\\n        </div>\\n      </div>\\n    </div>\\n  </div>\\n</article>\\n\\n  </div>\\n    <div class=\"views-row\">\\n    \\n\\n<article data-history-node-id=\"11413\" role=\"article\" lang=\"zxx\" about=\"/job/global-head-corporate-communications\" class=\"node node--type-job node--view-mode-teaser clearfix m-0 border-0 pb-2\">\\n      <div class=\"clearfix\">\\n    <div class=\"card shadow-sm border-light\">\\n      <div class=\"row g-0\">\\n        <div class=\"col-2 d-flex justify-content-center p-2\">\\n                                <a href=\"/job/global-head-corporate-communications\" class=\"d-flex justify-content-center\">\\n              <img src=\"/sites/default/files/styles/jobs_list_logo/public/employer_logos/xlogo_315569006.jpg,qitok=80Da4_ZK.pagespeed.ic.XgUQtsUY9r.jpg\" class=\"img-fluid rounded align-self-center\" alt=\"...\">\\n            </a>\\n                  </div>\\n        <div class=\"col-10\">\\n          <div class=\"card-body p-2\">\\n            <a href=\"/job/global-head-corporate-communications\"><h5 class=\"card-title\"><span class=\"field field--name-title field--type-string field--label-hidden\">Global Head of Corporate Communications</span>\\n</h5></a>\\n            <p class=\"card-text\">\\n              <a href=\"/employer/one-acre-fund\">One Acre Fund</a>  | <i class=\"fas fa-map-marker-alt\"></i> Kigali  |\\n              Published on 07-11-2022 |\\n              Deadline <time datetime=\"2023-01-30T21:59:59Z\" class=\"datetime\">30-01-2023</time>\\n<br/>\\n                              Senior (5+ years of experience)<br/>\\n                            <span class=\"badge badge-primary\">Job</span>\\n            </p>\\n          </div>\\n        </div>\\n      </div>\\n    </div>\\n  </div>\\n</article>\\n\\n  </div>\\n    <div class=\"views-row\">\\n    \\n\\n<article data-history-node-id=\"11383\" role=\"article\" lang=\"zxx\" about=\"/index.php/job/public-relations-officer\" class=\"node node--type-job node--view-mode-teaser clearfix m-0 border-0 pb-2\">\\n      <div class=\"clearfix\">\\n    <div class=\"card shadow-sm border-light\">\\n      <div class=\"row g-0\">\\n        <div class=\"col-2 d-flex justify-content-center p-2\">\\n                                <a href=\"/index.php/job/public-relations-officer\" class=\"d-flex justify-content-center\">\\n              <img src=\"/sites/default/files/styles/jobs_list_logo/public/employer_logos/xlogo_1674558895.png,qitok=8ipaSiVP.pagespeed.ic.wJeVj1w_US.png\" class=\"img-fluid rounded align-self-center\" alt=\"...\">\\n            </a>\\n                  </div>\\n        <div class=\"col-10\">\\n          <div class=\"card-body p-2\">\\n            <a href=\"/index.php/job/public-relations-officer\"><h5 class=\"card-title\"><span class=\"field field--name-title field--type-string field--label-hidden\">Public Relations Officer</span>\\n</h5></a>\\n            <p class=\"card-text\">\\n              <a href=\"/index.php/employer/business-professionals-network-bpn-rwanda\">Business Professionals Network (BPN) -  Rwanda</a>  | <i class=\"fas fa-map-marker-alt\"></i> Kigali  |\\n              Published on 04-11-2022 |\\n              Deadline <time datetime=\"2022-11-20T23:59:00Z\" class=\"datetime\">20-11-2022</time>\\n<br/>\\n                              Mid career (3 to 5 years of experience)<br/>\\n                            <span class=\"badge badge-primary\">Job</span>\\n            </p>\\n          </div>\\n        </div>\\n      </div>\\n    </div>\\n  </div>\\n</article>\\n\\n  </div>\\n    <div class=\"views-row\">\\n    \\n\\n<article data-history-node-id=\"11407\" role=\"article\" lang=\"zxx\" about=\"/job/grants-manager-2\" class=\"node node--type-job node--view-mode-teaser clearfix m-0 border-0 pb-2\">\\n      <div class=\"clearfix\">\\n    <div class=\"card shadow-sm border-light\">\\n      <div class=\"row g-0\">\\n        <div class=\"col-2 d-flex justify-content-center p-2\">\\n                                <a href=\"/job/grants-manager-2\" class=\"d-flex justify-content-center\">\\n              <img src=\"/sites/default/files/styles/jobs_list_logo/public/employer_logos/logo_2045369849.png,qitok=qTy-Xbgu.pagespeed.ce.qCtaN4WRVH.png\" class=\"img-fluid rounded align-self-center\" alt=\"...\">\\n            </a>\\n                  </div>\\n        <div class=\"col-10\">\\n          <div class=\"card-body p-2\">\\n            <a href=\"/job/grants-manager-2\"><h5 class=\"card-title\"><span class=\"field field--name-title field--type-string field--label-hidden\">Grants Manager</span>\\n</h5></a>\\n            <p class=\"card-text\">\\n              <a href=\"/employer/world-vision-international-rwanda-0\">World Vision International Rwanda </a>  |\\n              Published on 04-11-2022 |\\n              Deadline <time datetime=\"2022-11-20T23:59:00Z\" class=\"datetime\">20-11-2022</time>\\n<br/>\\n                              Senior (5+ years of experience)<br/>\\n                            <span class=\"badge badge-primary\">Job</span>\\n            </p>\\n          </div>\\n        </div>\\n      </div>\\n    </div>\\n  </div>\\n</article>\\n\\n  </div>\\n    <div class=\"views-row\">\\n    \\n\\n<article data-history-node-id=\"11386\" role=\"article\" lang=\"zxx\" about=\"/job/hvac-lead-technician\" class=\"node node--type-job node--view-mode-teaser clearfix m-0 border-0 pb-2\">\\n      <div class=\"clearfix\">\\n    <div class=\"card shadow-sm border-light\">\\n      <div class=\"row g-0\">\\n        <div class=\"col-2 d-flex justify-content-center p-2\">\\n                                <a href=\"/job/hvac-lead-technician\" class=\"d-flex justify-content-center\">\\n              <img src=\"/sites/default/files/styles/jobs_list_logo/public/employer_logos/xlogo_2026547998.png,qitok=srLOPY_o.pagespeed.ic.kYLQiFY7uI.jpg\" class=\"img-fluid rounded align-self-center\" alt=\"...\">\\n            </a>\\n                  </div>\\n        <div class=\"col-10\">\\n          <div class=\"card-body p-2\">\\n            <a href=\"/job/hvac-lead-technician\"><h5 class=\"card-title\"><span class=\"field field--name-title field--type-string field--label-hidden\">HVAC Lead Technician</span>\\n</h5></a>\\n            <p class=\"card-text\">\\n              <a href=\"/employer/american-embassy-kigali-mission-rwanda\">American Embassy Kigali  Mission Rwanda</a>  |\\n              Published on 03-11-2022 |\\n              Deadline <time datetime=\"2022-11-17T23:59:00Z\" class=\"datetime\">17-11-2022</time>\\n<br/>\\n                              Not specified<br/>\\n                            <span class=\"badge badge-primary\">Job</span>\\n            </p>\\n          </div>\\n        </div>\\n      </div>\\n    </div>\\n  </div>\\n</article>\\n\\n  </div>\\n    <div class=\"views-row\">\\n    \\n\\n<article data-history-node-id=\"11402\" role=\"article\" lang=\"zxx\" about=\"/job/maintenance-mechanic-appliance-repair-0\" class=\"node node--type-job node--view-mode-teaser clearfix m-0 border-0 pb-2\">\\n      <div class=\"clearfix\">\\n    <div class=\"card shadow-sm border-light\">\\n      <div class=\"row g-0\">\\n        <div class=\"col-2 d-flex justify-content-center p-2\">\\n                                <a href=\"/job/maintenance-mechanic-appliance-repair-0\" class=\"d-flex justify-content-center\">\\n              <img src=\"/sites/default/files/styles/jobs_list_logo/public/employer_logos/xlogo_2026547998.png,qitok=srLOPY_o.pagespeed.ic.kYLQiFY7uI.jpg\" class=\"img-fluid rounded align-self-center\" alt=\"...\">\\n            </a>\\n                  </div>\\n        <div class=\"col-10\">\\n          <div class=\"card-body p-2\">\\n            <a href=\"/job/maintenance-mechanic-appliance-repair-0\"><h5 class=\"card-title\"><span class=\"field field--name-title field--type-string field--label-hidden\">Maintenance Mechanic (Appliance Repair)</span>\\n</h5></a>\\n            <p class=\"card-text\">\\n              <a href=\"/employer/american-embassy-kigali-mission-rwanda\">American Embassy Kigali  Mission Rwanda</a>  |\\n              Published on 04-11-2022 |\\n              Deadline <time datetime=\"2022-11-17T21:59:00Z\" class=\"datetime\">17-11-2022</time>\\n<br/>\\n                              Not specified<br/>\\n                            <span class=\"badge badge-primary\">Job</span>\\n            </p>\\n          </div>\\n        </div>\\n      </div>\\n    </div>\\n  </div>\\n</article>\\n\\n  </div>\\n    <div class=\"views-row\">\\n    \\n\\n<article data-history-node-id=\"11382\" role=\"article\" lang=\"zxx\" about=\"/job/camp-administrator\" class=\"node node--type-job node--view-mode-teaser clearfix m-0 border-0 pb-2\">\\n      <div class=\"clearfix\">\\n    <div class=\"card shadow-sm border-light\">\\n      <div class=\"row g-0\">\\n        <div class=\"col-2 d-flex justify-content-center p-2\">\\n                                <a href=\"/job/camp-administrator\" class=\"d-flex justify-content-center\">\\n              <img src=\"/sites/default/files/styles/jobs_list_logo/public/employer_logos/xlogo_247015297.png,qitok=1PoyhL5a.pagespeed.ic.iGUzAheiNw.png\" class=\"img-fluid rounded align-self-center\" alt=\"...\">\\n            </a>\\n                  </div>\\n        <div class=\"col-10\">\\n          <div class=\"card-body p-2\">\\n            <a href=\"/job/camp-administrator\"><h5 class=\"card-title\"><span class=\"field field--name-title field--type-string field--label-hidden\">Camp Administrator</span>\\n</h5></a>\\n            <p class=\"card-text\">\\n              <a href=\"/employer/rwandamotor-ltd\">Rwandamotor Ltd</a>  |\\n              Published on 03-11-2022 |\\n              Deadline <time datetime=\"2022-12-03T23:59:00Z\" class=\"datetime\">03-12-2022</time>\\n<br/>\\n                              Not specified<br/>\\n                            <span class=\"badge badge-primary\">Job</span>\\n            </p>\\n          </div>\\n        </div>\\n      </div>\\n    </div>\\n  </div>\\n</article>\\n\\n  </div>\\n    <div class=\"views-row\">\\n    \\n\\n<article data-history-node-id=\"11381\" role=\"article\" lang=\"zxx\" about=\"/job/rwanda-program-officer\" class=\"node node--type-job node--view-mode-teaser clearfix m-0 border-0 pb-2\">\\n      <div class=\"clearfix\">\\n    <div class=\"card shadow-sm border-light\">\\n      <div class=\"row g-0\">\\n        <div class=\"col-2 d-flex justify-content-center p-2\">\\n                                <a href=\"/job/rwanda-program-officer\" class=\"d-flex justify-content-center\">\\n              <img src=\"/sites/default/files/styles/jobs_list_logo/public/employer_logos/xlogo_762687549.png,qitok=8QC_4DSC.pagespeed.ic.c_clLJxXgQ.png\" class=\"img-fluid rounded align-self-center\" alt=\"...\">\\n            </a>\\n                  </div>\\n        <div class=\"col-10\">\\n          <div class=\"card-body p-2\">\\n            <a href=\"/job/rwanda-program-officer\"><h5 class=\"card-title\"><span class=\"field field--name-title field--type-string field--label-hidden\">Rwanda Program Officer </span>\\n</h5></a>\\n            <p class=\"card-text\">\\n              <a href=\"/employer/global-health-corps-ghc\">Global Health Corps (GHC)</a>  |\\n              Published on 03-11-2022 |\\n              Deadline <time datetime=\"2022-12-03T23:59:00Z\" class=\"datetime\">03-12-2022</time>\\n<br/>\\n                              Mid career (3 to 5 years of experience)<br/>\\n                            <span class=\"badge badge-primary\">Job</span>\\n            </p>\\n          </div>\\n        </div>\\n      </div>\\n    </div>\\n  </div>\\n</article>\\n\\n  </div>\\n    <div class=\"views-row\">\\n    \\n\\n<article data-history-node-id=\"11370\" role=\"article\" lang=\"zxx\" about=\"/job/sales-representative-0\" class=\"node node--type-job node--view-mode-teaser clearfix m-0 border-0 pb-2\">\\n      <div class=\"clearfix\">\\n    <div class=\"card shadow-sm border-light\">\\n      <div class=\"row g-0\">\\n        <div class=\"col-2 d-flex justify-content-center p-2\">\\n                                <a href=\"/job/sales-representative-0\" class=\"d-flex justify-content-center\">\\n              <img src=\"/sites/default/files/styles/jobs_list_logo/public/employer_logos/xlogo_1802534330.PNG,qitok=v6Qdq-jS.pagespeed.ic.H6vkYdAa7L.png\" class=\"img-fluid rounded align-self-center\" alt=\"...\">\\n            </a>\\n                  </div>\\n        <div class=\"col-10\">\\n          <div class=\"card-body p-2\">\\n            <a href=\"/job/sales-representative-0\"><h5 class=\"card-title\"><span class=\"field field--name-title field--type-string field--label-hidden\">Sales Representative</span>\\n</h5></a>\\n            <p class=\"card-text\">\\n              <a href=\"/employer/global-electric-vehicle-ltd\">Global Electric Vehicle Ltd</a>  |\\n              Published on 03-11-2022 |\\n              Deadline <time datetime=\"2022-11-23T15:00:00Z\" class=\"datetime\">23-11-2022</time>\\n<br/>\\n                              Entry level (1 to 3 years of experience)<br/>\\n                            <span class=\"badge badge-primary\">Job</span>\\n            </p>\\n          </div>\\n        </div>\\n      </div>\\n    </div>\\n  </div>\\n</article>\\n\\n  </div>\\n    <div class=\"views-row\">\\n    \\n\\n<article data-history-node-id=\"11371\" role=\"article\" lang=\"zxx\" about=\"/job/sales-manager-5\" class=\"node node--type-job node--view-mode-teaser clearfix m-0 border-0 pb-2\">\\n      <div class=\"clearfix\">\\n    <div class=\"card shadow-sm border-light\">\\n      <div class=\"row g-0\">\\n        <div class=\"col-2 d-flex justify-content-center p-2\">\\n                                <a href=\"/job/sales-manager-5\" class=\"d-flex justify-content-center\">\\n              <img src=\"/sites/default/files/styles/jobs_list_logo/public/employer_logos/xlogo_1802534330.PNG,qitok=v6Qdq-jS.pagespeed.ic.H6vkYdAa7L.png\" class=\"img-fluid rounded align-self-center\" alt=\"...\">\\n            </a>\\n                  </div>\\n        <div class=\"col-10\">\\n          <div class=\"card-body p-2\">\\n            <a href=\"/job/sales-manager-5\"><h5 class=\"card-title\"><span class=\"field field--name-title field--type-string field--label-hidden\">Sales Manager</span>\\n</h5></a>\\n            <p class=\"card-text\">\\n              <a href=\"/employer/global-electric-vehicle-ltd\">Global Electric Vehicle Ltd</a>  |\\n              Published on 03-11-2022 |\\n              Deadline <time datetime=\"2022-11-23T15:00:00Z\" class=\"datetime\">23-11-2022</time>\\n<br/>\\n                              Mid career (3 to 5 years of experience)<br/>\\n                            <span class=\"badge badge-primary\">Job</span>\\n            </p>\\n          </div>\\n        </div>\\n      </div>\\n    </div>\\n  </div>\\n</article>\\n\\n  </div>\\n    <div class=\"views-row\">\\n    \\n\\n<article data-history-node-id=\"11368\" role=\"article\" lang=\"zxx\" about=\"/job/aquaculture-technician\" class=\"node node--type-job node--view-mode-teaser clearfix m-0 border-0 pb-2\">\\n      <div class=\"clearfix\">\\n    <div class=\"card shadow-sm border-light\">\\n      <div class=\"row g-0\">\\n        <div class=\"col-2 d-flex justify-content-center p-2\">\\n                                <a href=\"/job/aquaculture-technician\" class=\"d-flex justify-content-center\">\\n              <img src=\"/sites/default/files/styles/jobs_list_logo/public/employer_logos/logo_994664951.png,qitok=gU1RdlSd.pagespeed.ce.t_0ifi0YUB.png\" class=\"img-fluid rounded align-self-center\" alt=\"...\">\\n            </a>\\n                  </div>\\n        <div class=\"col-10\">\\n          <div class=\"card-body p-2\">\\n            <a href=\"/job/aquaculture-technician\"><h5 class=\"card-title\"><span class=\"field field--name-title field--type-string field--label-hidden\">Aquaculture Technician</span>\\n</h5></a>\\n            <p class=\"card-text\">\\n              <a href=\"/employer/kivu-choice\">Kivu Choice</a>  |\\n              Published on 03-11-2022 |\\n              Deadline <time datetime=\"2022-12-03T11:30:00Z\" class=\"datetime\">03-12-2022</time>\\n<br/>\\n                              Entry level (1 to 3 years of experience)<br/>\\n                            <span class=\"badge badge-primary\">Job</span>\\n            </p>\\n          </div>\\n        </div>\\n      </div>\\n    </div>\\n  </div>\\n</article>\\n\\n  </div>\\n    <div class=\"views-row\">\\n    \\n\\n<article data-history-node-id=\"11367\" role=\"article\" lang=\"zxx\" about=\"/job/health-systems-strengthening-hss-manager\" class=\"node node--type-job node--view-mode-teaser clearfix m-0 border-0 pb-2\">\\n      <div class=\"clearfix\">\\n    <div class=\"card shadow-sm border-light\">\\n      <div class=\"row g-0\">\\n        <div class=\"col-2 d-flex justify-content-center p-2\">\\n                                <a href=\"/job/health-systems-strengthening-hss-manager\" class=\"d-flex justify-content-center\">\\n              <img src=\"/sites/default/files/styles/jobs_list_logo/public/employer_logos/xlogo_1146951245.png,qitok=jtfhzgin.pagespeed.ic.xczj_aIqRs.png\" class=\"img-fluid rounded align-self-center\" alt=\"...\">\\n            </a>\\n                  </div>\\n        <div class=\"col-10\">\\n          <div class=\"card-body p-2\">\\n            <a href=\"/job/health-systems-strengthening-hss-manager\"><h5 class=\"card-title\"><span class=\"field field--name-title field--type-string field--label-hidden\">Health Systems Strengthening (HSS) Manager</span>\\n</h5></a>\\n            <p class=\"card-text\">\\n              <a href=\"/employer/fred-hollows-foundation\">The Fred Hollows Foundation </a>  |\\n              Published on 03-11-2022 |\\n              Deadline <time datetime=\"2022-11-18T23:59:00Z\" class=\"datetime\">18-11-2022</time>\\n<br/>\\n                              Senior (5+ years of experience)<br/>\\n                            <span class=\"badge badge-primary\">Job</span>\\n            </p>\\n          </div>\\n        </div>\\n      </div>\\n    </div>\\n  </div>\\n</article>\\n\\n  </div>\\n    <div class=\"views-row\">\\n    \\n\\n<article data-history-node-id=\"11366\" role=\"article\" lang=\"zxx\" about=\"/index.php/job/development-manager\" class=\"node node--type-job node--view-mode-teaser clearfix m-0 border-0 pb-2\">\\n      <div class=\"clearfix\">\\n    <div class=\"card shadow-sm border-light\">\\n      <div class=\"row g-0\">\\n        <div class=\"col-2 d-flex justify-content-center p-2\">\\n                                <a href=\"/index.php/job/development-manager\" class=\"d-flex justify-content-center\">\\n              <img src=\"/sites/default/files/styles/jobs_list_logo/public/employer_logos/xlogo_1674558895.png,qitok=8ipaSiVP.pagespeed.ic.wJeVj1w_US.png\" class=\"img-fluid rounded align-self-center\" alt=\"...\">\\n            </a>\\n                  </div>\\n        <div class=\"col-10\">\\n          <div class=\"card-body p-2\">\\n            <a href=\"/index.php/job/development-manager\"><h5 class=\"card-title\"><span class=\"field field--name-title field--type-string field--label-hidden\">Development Manager</span>\\n</h5></a>\\n            <p class=\"card-text\">\\n              <a href=\"/index.php/employer/business-professionals-network-bpn-rwanda\">Business Professionals Network (BPN) -  Rwanda</a>  | <i class=\"fas fa-map-marker-alt\"></i> Kigali  |\\n              Published on 03-11-2022 |\\n              Deadline <time datetime=\"2022-11-19T22:20:00Z\" class=\"datetime\">19-11-2022</time>\\n<br/>\\n                              Mid career (3 to 5 years of experience)<br/>\\n                            <span class=\"badge badge-primary\">Job</span>\\n            </p>\\n          </div>\\n        </div>\\n      </div>\\n    </div>\\n  </div>\\n</article>\\n\\n  </div>\\n    <div class=\"views-row\">\\n    \\n\\n<article data-history-node-id=\"11361\" role=\"article\" lang=\"zxx\" about=\"/job/retail-partnerships-lead\" class=\"node node--type-job node--view-mode-teaser clearfix m-0 border-0 pb-2\">\\n      <div class=\"clearfix\">\\n    <div class=\"card shadow-sm border-light\">\\n      <div class=\"row g-0\">\\n        <div class=\"col-2 d-flex justify-content-center p-2\">\\n                                <a href=\"/job/retail-partnerships-lead\" class=\"d-flex justify-content-center\">\\n              <img src=\"/sites/default/files/styles/jobs_list_logo/public/employer_logos/xlogo_315569006.jpg,qitok=80Da4_ZK.pagespeed.ic.XgUQtsUY9r.jpg\" class=\"img-fluid rounded align-self-center\" alt=\"...\">\\n            </a>\\n                  </div>\\n        <div class=\"col-10\">\\n          <div class=\"card-body p-2\">\\n            <a href=\"/job/retail-partnerships-lead\"><h5 class=\"card-title\"><span class=\"field field--name-title field--type-string field--label-hidden\">Retail Partnerships Lead</span>\\n</h5></a>\\n            <p class=\"card-text\">\\n              <a href=\"/employer/one-acre-fund\">One Acre Fund</a>  | <i class=\"fas fa-map-marker-alt\"></i> Kakamega  |\\n              Published on 03-11-2022 |\\n              Deadline <time datetime=\"2023-01-30T23:59:59Z\" class=\"datetime\">30-01-2023</time>\\n<br/>\\n                              Entry level (1 to 3 years of experience)<br/>\\n                            <span class=\"badge badge-primary\">Job</span>\\n            </p>\\n          </div>\\n        </div>\\n      </div>\\n    </div>\\n  </div>\\n</article>\\n\\n  </div>\\n    <div class=\"views-row\">\\n    \\n\\n<article data-history-node-id=\"11358\" role=\"article\" lang=\"zxx\" about=\"/job/project-officer-7\" class=\"node node--type-job node--view-mode-teaser clearfix m-0 border-0 pb-2\">\\n      <div class=\"clearfix\">\\n    <div class=\"card shadow-sm border-light\">\\n      <div class=\"row g-0\">\\n        <div class=\"col-2 d-flex justify-content-center p-2\">\\n                                <a href=\"/job/project-officer-7\" class=\"d-flex justify-content-center\">\\n              <img src=\"/sites/default/files/styles/jobs_list_logo/public/employer_logos/xlogo_726120455.jpg,qitok=oz5vBrLn.pagespeed.ic.ddXZMuBYVN.jpg\" class=\"img-fluid rounded align-self-center\" alt=\"...\">\\n            </a>\\n                  </div>\\n        <div class=\"col-10\">\\n          <div class=\"card-body p-2\">\\n            <a href=\"/job/project-officer-7\"><h5 class=\"card-title\"><span class=\"field field--name-title field--type-string field--label-hidden\">Project Officer</span>\\n</h5></a>\\n            <p class=\"card-text\">\\n              <a href=\"/employer/pro-femmestwese-hamwe-pfth\">PRO-FEMMES/TWESE HAMWE (PFTH) </a>  | <i class=\"fas fa-map-marker-alt\"></i> Huye  |\\n              Published on 02-11-2022 |\\n              Deadline <time datetime=\"2022-11-14T16:00:00Z\" class=\"datetime\">14-11-2022</time>\\n<br/>\\n                              Mid career (3 to 5 years of experience)<br/>\\n                            <span class=\"badge badge-primary\">Job</span>\\n            </p>\\n          </div>\\n        </div>\\n      </div>\\n    </div>\\n  </div>\\n</article>\\n\\n  </div>\\n    <div class=\"views-row\">\\n    \\n\\n<article data-history-node-id=\"11353\" role=\"article\" lang=\"zxx\" about=\"/job/administration-finance-intern\" class=\"node node--type-job node--view-mode-teaser clearfix m-0 border-0 pb-2\">\\n      <div class=\"clearfix\">\\n    <div class=\"card shadow-sm border-light\">\\n      <div class=\"row g-0\">\\n        <div class=\"col-2 d-flex justify-content-center p-2\">\\n                                <a href=\"/job/administration-finance-intern\" class=\"d-flex justify-content-center\">\\n              <img src=\"/sites/default/files/styles/jobs_list_logo/public/employer_logos/xlogo_1293062401.png,qitok=3_T1aWeS.pagespeed.ic.A1ZmGvIfs4.png\" class=\"img-fluid rounded align-self-center\" alt=\"...\">\\n            </a>\\n                  </div>\\n        <div class=\"col-10\">\\n          <div class=\"card-body p-2\">\\n            <a href=\"/job/administration-finance-intern\"><h5 class=\"card-title\"><span class=\"field field--name-title field--type-string field--label-hidden\">Administration &amp; Finance Intern</span>\\n</h5></a>\\n            <p class=\"card-text\">\\n              <a href=\"/employer/hope-international-0\">HOPE International</a>  |\\n              Published on 02-11-2022 |\\n              Deadline <time datetime=\"2022-11-18T23:59:00Z\" class=\"datetime\">18-11-2022</time>\\n<br/>\\n                              Not specified<br/>\\n                            <span class=\"badge badge-primary\">Job</span>\\n            </p>\\n          </div>\\n        </div>\\n      </div>\\n    </div>\\n  </div>\\n</article>\\n\\n  </div>\\n    <div class=\"views-row\">\\n    \\n\\n<article data-history-node-id=\"11346\" role=\"article\" lang=\"zxx\" about=\"/job/loan-officers-3\" class=\"node node--type-job node--view-mode-teaser clearfix m-0 border-0 pb-2\">\\n      <div class=\"clearfix\">\\n    <div class=\"card shadow-sm border-light\">\\n      <div class=\"row g-0\">\\n        <div class=\"col-2 d-flex justify-content-center p-2\">\\n                                <a href=\"/job/loan-officers-3\" class=\"d-flex justify-content-center\">\\n              <img src=\"/sites/default/files/styles/jobs_list_logo/public/employer_logos/xlogo_913631940.png,qitok=CSBRxAJH.pagespeed.ic.r8EtMacuBY.jpg\" class=\"img-fluid rounded align-self-center\" alt=\"...\">\\n            </a>\\n                  </div>\\n        <div class=\"col-10\">\\n          <div class=\"card-body p-2\">\\n            <a href=\"/job/loan-officers-3\"><h5 class=\"card-title\"><span class=\"field field--name-title field--type-string field--label-hidden\">Loan Officers\\xc2\\xa0</span>\\n</h5></a>\\n            <p class=\"card-text\">\\n              <a href=\"/employer/asa-microfinance-rwanda-plc\">ASA International (Rwanda) Plc</a>  |\\n              Published on 01-11-2022 |\\n              Deadline <time datetime=\"2022-11-18T17:00:00Z\" class=\"datetime\">18-11-2022</time>\\n<br/>\\n                              Not specified<br/>\\n                            <span class=\"badge badge-primary\">Job</span>\\n            </p>\\n          </div>\\n        </div>\\n      </div>\\n    </div>\\n  </div>\\n</article>\\n\\n  </div>\\n    <div class=\"views-row\">\\n    \\n\\n<article data-history-node-id=\"11340\" role=\"article\" lang=\"zxx\" about=\"/job/project-manager-14\" class=\"node node--type-job node--view-mode-teaser clearfix m-0 border-0 pb-2\">\\n      <div class=\"clearfix\">\\n    <div class=\"card shadow-sm border-light\">\\n      <div class=\"row g-0\">\\n        <div class=\"col-2 d-flex justify-content-center p-2\">\\n                                <a href=\"/job/project-manager-14\" class=\"d-flex justify-content-center\">\\n              <img src=\"/sites/default/files/styles/jobs_list_logo/public/employer_logos/xlogo_2073708123.png,qitok=XwN7CGbo.pagespeed.ic.KLaEFiWZvi.png\" class=\"img-fluid rounded align-self-center\" alt=\"...\">\\n            </a>\\n                  </div>\\n        <div class=\"col-10\">\\n          <div class=\"card-body p-2\">\\n            <a href=\"/job/project-manager-14\"><h5 class=\"card-title\"><span class=\"field field--name-title field--type-string field--label-hidden\">Project Manager</span>\\n</h5></a>\\n            <p class=\"card-text\">\\n              <a href=\"/employer/plan-international-rwanda\">Plan International Rwanda</a>  | <i class=\"fas fa-map-marker-alt\"></i> Kigali  |\\n              Published on 01-11-2022 |\\n              Deadline <time datetime=\"2022-11-21T23:59:00Z\" class=\"datetime\">21-11-2022</time>\\n<br/>\\n                              Mid career (3 to 5 years of experience)<br/>\\n                            <span class=\"badge badge-primary\">Job</span>\\n            </p>\\n          </div>\\n        </div>\\n      </div>\\n    </div>\\n  </div>\\n</article>\\n\\n  </div>\\n    <div class=\"views-row\">\\n    \\n\\n<article data-history-node-id=\"11339\" role=\"article\" lang=\"zxx\" about=\"/job/training-manager-0\" class=\"node node--type-job node--view-mode-teaser clearfix m-0 border-0 pb-2\">\\n      <div class=\"clearfix\">\\n    <div class=\"card shadow-sm border-light\">\\n      <div class=\"row g-0\">\\n        <div class=\"col-2 d-flex justify-content-center p-2\">\\n                                <a href=\"/job/training-manager-0\" class=\"d-flex justify-content-center\">\\n              <img src=\"/sites/default/files/styles/jobs_list_logo/public/employer_logos/xlogo_1200895905.png,qitok=ciEe_mj_.pagespeed.ic.2YMv3qXPzv.png\" class=\"img-fluid rounded align-self-center\" alt=\"...\">\\n            </a>\\n                  </div>\\n        <div class=\"col-10\">\\n          <div class=\"card-body p-2\">\\n            <a href=\"/job/training-manager-0\"><h5 class=\"card-title\"><span class=\"field field--name-title field--type-string field--label-hidden\">Training Manager </span>\\n</h5></a>\\n            <p class=\"card-text\">\\n              <a href=\"/employer/premier-bet\">Premier Bet</a>  |\\n              Published on 01-11-2022 |\\n              Deadline <time datetime=\"2022-12-01T21:59:00Z\" class=\"datetime\">01-12-2022</time>\\n<br/>\\n                              Entry level (1 to 3 years of experience)<br/>\\n                            <span class=\"badge badge-primary\">Job</span>\\n            </p>\\n          </div>\\n        </div>\\n      </div>\\n    </div>\\n  </div>\\n</article>\\n\\n  </div>\\n    <div class=\"views-row\">\\n    \\n\\n<article data-history-node-id=\"11336\" role=\"article\" lang=\"zxx\" about=\"/job/it-and-mis-director\" class=\"node node--type-job node--view-mode-teaser clearfix m-0 border-0 pb-2\">\\n      <div class=\"clearfix\">\\n    <div class=\"card shadow-sm border-light\">\\n      <div class=\"row g-0\">\\n        <div class=\"col-2 d-flex justify-content-center p-2\">\\n                                <a href=\"/job/it-and-mis-director\" class=\"d-flex justify-content-center\">\\n              <img src=\"/sites/default/files/styles/jobs_list_logo/public/employer_logos/xlogo_58475557.png,qitok=DT_LHxi7.pagespeed.ic.Mum4Fhmbae.png\" class=\"img-fluid rounded align-self-center\" alt=\"...\">\\n            </a>\\n                  </div>\\n        <div class=\"col-10\">\\n          <div class=\"card-body p-2\">\\n            <a href=\"/job/it-and-mis-director\"><h5 class=\"card-title\"><span class=\"field field--name-title field--type-string field--label-hidden\">IT and MIS Director</span>\\n</h5></a>\\n            <p class=\"card-text\">\\n              <a href=\"/employer/chancen-international\">CHANCEN International Rwanda</a>  | <i class=\"fas fa-map-marker-alt\"></i> Kigali  |\\n              Published on 31-10-2022 |\\n              Deadline <time datetime=\"2022-11-18T23:59:00Z\" class=\"datetime\">18-11-2022</time>\\n<br/>\\n                              Senior (5+ years of experience)<br/>\\n                            <span class=\"badge badge-primary\">Job</span>\\n            </p>\\n          </div>\\n        </div>\\n      </div>\\n    </div>\\n  </div>\\n</article>\\n\\n  </div>\\n    <div class=\"views-row\">\\n    \\n\\n<article data-history-node-id=\"11333\" role=\"article\" lang=\"zxx\" about=\"/job/learning-design-specialist-rwanda\" class=\"node node--type-job node--view-mode-teaser clearfix m-0 border-0 pb-2\">\\n      <div class=\"clearfix\">\\n    <div class=\"card shadow-sm border-light\">\\n      <div class=\"row g-0\">\\n        <div class=\"col-2 d-flex justify-content-center p-2\">\\n                                <a href=\"/job/learning-design-specialist-rwanda\" class=\"d-flex justify-content-center\">\\n              <img src=\"/sites/default/files/styles/jobs_list_logo/public/employer_logos/xlogo_94627237.png,qitok=BGYFOmRG.pagespeed.ic.FLs6Kv35Z7.png\" class=\"img-fluid rounded align-self-center\" alt=\"...\">\\n            </a>\\n                  </div>\\n        <div class=\"col-10\">\\n          <div class=\"card-body p-2\">\\n            <a href=\"/job/learning-design-specialist-rwanda\"><h5 class=\"card-title\"><span class=\"field field--name-title field--type-string field--label-hidden\">Learning Design Specialist, Rwanda</span>\\n</h5></a>\\n            <p class=\"card-text\">\\n              <a href=\"/employer/educate\">Educate</a>  |\\n              Published on 31-10-2022 |\\n              Deadline <time datetime=\"2022-11-28T23:59:00Z\" class=\"datetime\">28-11-2022</time>\\n<br/>\\n                              Mid career (3 to 5 years of experience)<br/>\\n                            <span class=\"badge badge-primary\">Job</span>\\n            </p>\\n          </div>\\n        </div>\\n      </div>\\n    </div>\\n  </div>\\n</article>\\n\\n  </div>\\n    <div class=\"views-row\">\\n    \\n\\n<article data-history-node-id=\"11332\" role=\"article\" lang=\"zxx\" about=\"/job/technical-advisor-2\" class=\"node node--type-job node--view-mode-teaser clearfix m-0 border-0 pb-2\">\\n      <div class=\"clearfix\">\\n    <div class=\"card shadow-sm border-light\">\\n      <div class=\"row g-0\">\\n        <div class=\"col-2 d-flex justify-content-center p-2\">\\n                                <a href=\"/job/technical-advisor-2\" class=\"d-flex justify-content-center\">\\n              <img src=\"/sites/default/files/styles/jobs_list_logo/public/employer_logos/xlogo_1588573454.png,qitok=4hEm2y4J.pagespeed.ic.cRT13I2oCh.png\" class=\"img-fluid rounded align-self-center\" alt=\"...\">\\n            </a>\\n                  </div>\\n        <div class=\"col-10\">\\n          <div class=\"card-body p-2\">\\n            <a href=\"/job/technical-advisor-2\"><h5 class=\"card-title\"><span class=\"field field--name-title field--type-string field--label-hidden\">Technical Advisor </span>\\n</h5></a>\\n            <p class=\"card-text\">\\n              <a href=\"/employer/spark-microgrants\">Spark MicroGrants</a>  | <i class=\"fas fa-map-marker-alt\"></i> Kigali, Rwanda  |\\n              Published on 31-10-2022 |\\n              Deadline <time datetime=\"2022-11-30T21:59:00Z\" class=\"datetime\">30-11-2022</time>\\n<br/>\\n                              Not specified<br/>\\n                            <span class=\"badge badge-primary\">Job</span>\\n            </p>\\n          </div>\\n        </div>\\n      </div>\\n    </div>\\n  </div>\\n</article>\\n\\n  </div>\\n    <div class=\"views-row\">\\n    \\n\\n<article data-history-node-id=\"11331\" role=\"article\" lang=\"zxx\" about=\"/job/front-desk-officer-0\" class=\"node node--type-job node--view-mode-teaser clearfix m-0 border-0 pb-2\">\\n      <div class=\"clearfix\">\\n    <div class=\"card shadow-sm border-light\">\\n      <div class=\"row g-0\">\\n        <div class=\"col-2 d-flex justify-content-center p-2\">\\n                                <a href=\"/job/front-desk-officer-0\" class=\"d-flex justify-content-center\">\\n              <img src=\"/sites/default/files/styles/jobs_list_logo/public/employer_logos/xlogo_1244059820.png,qitok=qV0Nqgpc.pagespeed.ic.jEJRVBweVX.png\" class=\"img-fluid rounded align-self-center\" alt=\"...\">\\n            </a>\\n                  </div>\\n        <div class=\"col-10\">\\n          <div class=\"card-body p-2\">\\n            <a href=\"/job/front-desk-officer-0\"><h5 class=\"card-title\"><span class=\"field field--name-title field--type-string field--label-hidden\">Front Desk Officer</span>\\n</h5></a>\\n            <p class=\"card-text\">\\n              <a href=\"/employer/kigali-international-arbitration-centre-kiac\">Kigali International Arbitration Centre (KIAC) </a>  |\\n              Published on 31-10-2022 |\\n              Deadline <time datetime=\"2022-11-15T17:00:00Z\" class=\"datetime\">15-11-2022</time>\\n<br/>\\n                              Entry level (1 to 3 years of experience)<br/>\\n                            <span class=\"badge badge-primary\">Job</span>\\n            </p>\\n          </div>\\n        </div>\\n      </div>\\n    </div>\\n  </div>\\n</article>\\n\\n  </div>\\n    <div class=\"views-row\">\\n    \\n\\n<article data-history-node-id=\"11329\" role=\"article\" lang=\"zxx\" about=\"/job/global-remote-sensing-manager\" class=\"node node--type-job node--view-mode-teaser clearfix m-0 border-0 pb-2\">\\n      <div class=\"clearfix\">\\n    <div class=\"card shadow-sm border-light\">\\n      <div class=\"row g-0\">\\n        <div class=\"col-2 d-flex justify-content-center p-2\">\\n                                <a href=\"/job/global-remote-sensing-manager\" class=\"d-flex justify-content-center\">\\n              <img src=\"/sites/default/files/styles/jobs_list_logo/public/employer_logos/xlogo_315569006.jpg,qitok=80Da4_ZK.pagespeed.ic.XgUQtsUY9r.jpg\" class=\"img-fluid rounded align-self-center\" alt=\"...\">\\n            </a>\\n                  </div>\\n        <div class=\"col-10\">\\n          <div class=\"card-body p-2\">\\n            <a href=\"/job/global-remote-sensing-manager\"><h5 class=\"card-title\"><span class=\"field field--name-title field--type-string field--label-hidden\">Global Remote Sensing Manager</span>\\n</h5></a>\\n            <p class=\"card-text\">\\n              <a href=\"/employer/one-acre-fund\">One Acre Fund</a>  | <i class=\"fas fa-map-marker-alt\"></i> Kigali  |\\n              Published on 31-10-2022 |\\n              Deadline <time datetime=\"2023-01-25T23:59:59Z\" class=\"datetime\">25-01-2023</time>\\n<br/>\\n                              Mid career (3 to 5 years of experience)<br/>\\n                            <span class=\"badge badge-primary\">Job</span>\\n            </p>\\n          </div>\\n        </div>\\n      </div>\\n    </div>\\n  </div>\\n</article>\\n\\n  </div>\\n    <div class=\"views-row\">\\n    \\n\\n<article data-history-node-id=\"11326\" role=\"article\" lang=\"zxx\" about=\"/job/laborer\" class=\"node node--type-job node--view-mode-teaser clearfix m-0 border-0 pb-2\">\\n      <div class=\"clearfix\">\\n    <div class=\"card shadow-sm border-light\">\\n      <div class=\"row g-0\">\\n        <div class=\"col-2 d-flex justify-content-center p-2\">\\n                                <a href=\"/job/laborer\" class=\"d-flex justify-content-center\">\\n              <img src=\"/sites/default/files/styles/jobs_list_logo/public/employer_logos/xlogo_2026547998.png,qitok=srLOPY_o.pagespeed.ic.kYLQiFY7uI.jpg\" class=\"img-fluid rounded align-self-center\" alt=\"...\">\\n            </a>\\n                  </div>\\n        <div class=\"col-10\">\\n          <div class=\"card-body p-2\">\\n            <a href=\"/job/laborer\"><h5 class=\"card-title\"><span class=\"field field--name-title field--type-string field--label-hidden\">Laborer</span>\\n</h5></a>\\n            <p class=\"card-text\">\\n              <a href=\"/employer/american-embassy-kigali-mission-rwanda\">American Embassy Kigali  Mission Rwanda</a>  |\\n              Published on 31-10-2022 |\\n              Deadline <time datetime=\"2022-11-14T21:59:00Z\" class=\"datetime\">14-11-2022</time>\\n<br/>\\n                              Not specified<br/>\\n                            <span class=\"badge badge-primary\">Job</span>\\n            </p>\\n          </div>\\n        </div>\\n      </div>\\n    </div>\\n  </div>\\n</article>\\n\\n  </div>\\n    <div class=\"views-row\">\\n    \\n\\n<article data-history-node-id=\"11322\" role=\"article\" lang=\"zxx\" about=\"/job/migration-health-physician\" class=\"node node--type-job node--view-mode-teaser clearfix m-0 border-0 pb-2\">\\n      <div class=\"clearfix\">\\n    <div class=\"card shadow-sm border-light\">\\n      <div class=\"row g-0\">\\n        <div class=\"col-2 d-flex justify-content-center p-2\">\\n                                <a href=\"/job/migration-health-physician\" class=\"d-flex justify-content-center\">\\n              <img src=\"/sites/default/files/styles/jobs_list_logo/public/employer_logos/xlogo_1697240133.png,qitok=-iOzI0bl.pagespeed.ic.C99-maqENo.png\" class=\"img-fluid rounded align-self-center\" alt=\"...\">\\n            </a>\\n                  </div>\\n        <div class=\"col-10\">\\n          <div class=\"card-body p-2\">\\n            <a href=\"/job/migration-health-physician\"><h5 class=\"card-title\"><span class=\"field field--name-title field--type-string field--label-hidden\">Migration Health Physician</span>\\n</h5></a>\\n            <p class=\"card-text\">\\n              <a href=\"/employer/international-organization-migration-iom-0\">International Organization for Migration (IOM)</a>  | <i class=\"fas fa-map-marker-alt\"></i> Kigali  |\\n              Published on 31-10-2022 |\\n              Deadline <time datetime=\"2022-11-13T23:59:00Z\" class=\"datetime\">13-11-2022</time>\\n<br/>\\n                              Mid career (3 to 5 years of experience)<br/>\\n                            <span class=\"badge badge-primary\">Job</span>\\n            </p>\\n          </div>\\n        </div>\\n      </div>\\n    </div>\\n  </div>\\n</article>\\n\\n  </div>\\n    <div class=\"views-row\">\\n    \\n\\n<article data-history-node-id=\"11323\" role=\"article\" lang=\"zxx\" about=\"/index.php/job/migration-health-nurse\" class=\"node node--type-job node--view-mode-teaser clearfix m-0 border-0 pb-2\">\\n      <div class=\"clearfix\">\\n    <div class=\"card shadow-sm border-light\">\\n      <div class=\"row g-0\">\\n        <div class=\"col-2 d-flex justify-content-center p-2\">\\n                                <a href=\"/index.php/job/migration-health-nurse\" class=\"d-flex justify-content-center\">\\n              <img src=\"/sites/default/files/styles/jobs_list_logo/public/employer_logos/xlogo_1697240133.png,qitok=-iOzI0bl.pagespeed.ic.C99-maqENo.png\" class=\"img-fluid rounded align-self-center\" alt=\"...\">\\n            </a>\\n                  </div>\\n        <div class=\"col-10\">\\n          <div class=\"card-body p-2\">\\n            <a href=\"/index.php/job/migration-health-nurse\"><h5 class=\"card-title\"><span class=\"field field--name-title field--type-string field--label-hidden\">Migration Health Nurse</span>\\n</h5></a>\\n            <p class=\"card-text\">\\n              <a href=\"/index.php/employer/international-organization-migration-iom-0\">International Organization for Migration (IOM)</a>  | <i class=\"fas fa-map-marker-alt\"></i> Kigali  |\\n              Published on 31-10-2022 |\\n              Deadline <time datetime=\"2022-11-13T23:59:00Z\" class=\"datetime\">13-11-2022</time>\\n<br/>\\n                              Mid career (3 to 5 years of experience)<br/>\\n                            <span class=\"badge badge-primary\">Job</span>\\n            </p>\\n          </div>\\n        </div>\\n      </div>\\n    </div>\\n  </div>\\n</article>\\n\\n  </div>\\n    <div class=\"views-row\">\\n    \\n\\n<article data-history-node-id=\"11304\" role=\"article\" lang=\"zxx\" about=\"/job/global-hr-support-specialist\" class=\"node node--type-job node--view-mode-teaser clearfix m-0 border-0 pb-2\">\\n      <div class=\"clearfix\">\\n    <div class=\"card shadow-sm border-light\">\\n      <div class=\"row g-0\">\\n        <div class=\"col-2 d-flex justify-content-center p-2\">\\n                                <a href=\"/job/global-hr-support-specialist\" class=\"d-flex justify-content-center\">\\n              <img src=\"/sites/default/files/styles/jobs_list_logo/public/employer_logos/xlogo_315569006.jpg,qitok=80Da4_ZK.pagespeed.ic.XgUQtsUY9r.jpg\" class=\"img-fluid rounded align-self-center\" alt=\"...\">\\n            </a>\\n                  </div>\\n        <div class=\"col-10\">\\n          <div class=\"card-body p-2\">\\n            <a href=\"/job/global-hr-support-specialist\"><h5 class=\"card-title\"><span class=\"field field--name-title field--type-string field--label-hidden\">Global HR Support Specialist</span>\\n</h5></a>\\n            <p class=\"card-text\">\\n              <a href=\"/employer/one-acre-fund\">One Acre Fund</a>  | <i class=\"fas fa-map-marker-alt\"></i> Kigali  |\\n              Published on 28-10-2022 |\\n              Deadline <time datetime=\"2022-12-28T21:59:59Z\" class=\"datetime\">28-12-2022</time>\\n<br/>\\n                              Entry level (1 to 3 years of experience)<br/>\\n                            <span class=\"badge badge-primary\">Job</span>\\n            </p>\\n          </div>\\n        </div>\\n      </div>\\n    </div>\\n  </div>\\n</article>\\n\\n  </div>\\n    <div class=\"views-row\">\\n    \\n\\n<article data-history-node-id=\"11302\" role=\"article\" lang=\"zxx\" about=\"/job/rwanda-procurement-specialist-0\" class=\"node node--type-job node--view-mode-teaser clearfix m-0 border-0 pb-2\">\\n      <div class=\"clearfix\">\\n    <div class=\"card shadow-sm border-light\">\\n      <div class=\"row g-0\">\\n        <div class=\"col-2 d-flex justify-content-center p-2\">\\n                                <a href=\"/job/rwanda-procurement-specialist-0\" class=\"d-flex justify-content-center\">\\n              <img src=\"/sites/default/files/styles/jobs_list_logo/public/employer_logos/xlogo_315569006.jpg,qitok=80Da4_ZK.pagespeed.ic.XgUQtsUY9r.jpg\" class=\"img-fluid rounded align-self-center\" alt=\"...\">\\n            </a>\\n                  </div>\\n        <div class=\"col-10\">\\n          <div class=\"card-body p-2\">\\n            <a href=\"/job/rwanda-procurement-specialist-0\"><h5 class=\"card-title\"><span class=\"field field--name-title field--type-string field--label-hidden\">Rwanda Procurement Specialist</span>\\n</h5></a>\\n            <p class=\"card-text\">\\n              <a href=\"/employer/one-acre-fund\">One Acre Fund</a>  | <i class=\"fas fa-map-marker-alt\"></i> Kigali  |\\n              Published on 28-10-2022 |\\n              Deadline <time datetime=\"2022-11-30T21:59:59Z\" class=\"datetime\">30-11-2022</time>\\n<br/>\\n                              Mid career (3 to 5 years of experience)<br/>\\n                            <span class=\"badge badge-primary\">Job</span>\\n            </p>\\n          </div>\\n        </div>\\n      </div>\\n    </div>\\n  </div>\\n</article>\\n\\n  </div>\\n    <div class=\"views-row\">\\n    \\n\\n<article data-history-node-id=\"11299\" role=\"article\" lang=\"zxx\" about=\"/job/security-officer\" class=\"node node--type-job node--view-mode-teaser clearfix m-0 border-0 pb-2\">\\n      <div class=\"clearfix\">\\n    <div class=\"card shadow-sm border-light\">\\n      <div class=\"row g-0\">\\n        <div class=\"col-2 d-flex justify-content-center p-2\">\\n                                <a href=\"/job/security-officer\" class=\"d-flex justify-content-center\">\\n              <img src=\"/sites/default/files/styles/jobs_list_logo/public/employer_logos/logo_1013889524.png,qitok=BpEAwhaX.pagespeed.ce.BGKAFBVwd6.png\" class=\"img-fluid rounded align-self-center\" alt=\"...\">\\n            </a>\\n                  </div>\\n        <div class=\"col-10\">\\n          <div class=\"card-body p-2\">\\n            <a href=\"/job/security-officer\"><h5 class=\"card-title\"><span class=\"field field--name-title field--type-string field--label-hidden\">Security Officer</span>\\n</h5></a>\\n            <p class=\"card-text\">\\n              <a href=\"/employer/kivu-choice-ltd\">Kivu Choice Ltd</a>  |\\n              Published on 28-10-2022 |\\n              Deadline <time datetime=\"2022-11-28T12:54:31Z\" class=\"datetime\">28-11-2022</time>\\n<br/>\\n                              Entry level (1 to 3 years of experience)<br/>\\n                            <span class=\"badge badge-primary\">Job</span>\\n            </p>\\n          </div>\\n        </div>\\n      </div>\\n    </div>\\n  </div>\\n</article>\\n\\n  </div>\\n    <div class=\"views-row\">\\n    \\n\\n<article data-history-node-id=\"11298\" role=\"article\" lang=\"zxx\" about=\"/job/security-supervisor\" class=\"node node--type-job node--view-mode-teaser clearfix m-0 border-0 pb-2\">\\n      <div class=\"clearfix\">\\n    <div class=\"card shadow-sm border-light\">\\n      <div class=\"row g-0\">\\n        <div class=\"col-2 d-flex justify-content-center p-2\">\\n                                <a href=\"/job/security-supervisor\" class=\"d-flex justify-content-center\">\\n              <img src=\"/sites/default/files/styles/jobs_list_logo/public/employer_logos/logo_1013889524.png,qitok=BpEAwhaX.pagespeed.ce.BGKAFBVwd6.png\" class=\"img-fluid rounded align-self-center\" alt=\"...\">\\n            </a>\\n                  </div>\\n        <div class=\"col-10\">\\n          <div class=\"card-body p-2\">\\n            <a href=\"/job/security-supervisor\"><h5 class=\"card-title\"><span class=\"field field--name-title field--type-string field--label-hidden\">Security Supervisor</span>\\n</h5></a>\\n            <p class=\"card-text\">\\n              <a href=\"/employer/kivu-choice-ltd\">Kivu Choice Ltd</a>  |\\n              Published on 28-10-2022 |\\n              Deadline <time datetime=\"2022-11-28T00:52:08Z\" class=\"datetime\">28-11-2022</time>\\n<br/>\\n                              Mid career (3 to 5 years of experience)<br/>\\n                            <span class=\"badge badge-primary\">Job</span>\\n            </p>\\n          </div>\\n        </div>\\n      </div>\\n    </div>\\n  </div>\\n</article>\\n\\n  </div>\\n    <div class=\"views-row\">\\n    \\n\\n<article data-history-node-id=\"11294\" role=\"article\" lang=\"zxx\" about=\"/job/instructional-technology-assistant\" class=\"node node--type-job node--view-mode-teaser clearfix m-0 border-0 pb-2\">\\n      <div class=\"clearfix\">\\n    <div class=\"card shadow-sm border-light\">\\n      <div class=\"row g-0\">\\n        <div class=\"col-2 d-flex justify-content-center p-2\">\\n                                <a href=\"/job/instructional-technology-assistant\" class=\"d-flex justify-content-center\">\\n              <img src=\"/sites/default/files/styles/jobs_list_logo/public/employer_logos/xlogo_787729658.png,qitok=R-1zMfKv.pagespeed.ic.HcYtG1VBWl.png\" class=\"img-fluid rounded align-self-center\" alt=\"...\">\\n            </a>\\n                  </div>\\n        <div class=\"col-10\">\\n          <div class=\"card-body p-2\">\\n            <a href=\"/job/instructional-technology-assistant\"><h5 class=\"card-title\"><span class=\"field field--name-title field--type-string field--label-hidden\">Instructional Technology Assistant\\xc2\\xa0</span>\\n</h5></a>\\n            <p class=\"card-text\">\\n              <a href=\"/employer/university-global-health-equity-ughe\">University of Global Health Equity (UGHE)</a>  |\\n              Published on 28-10-2022 |\\n              Deadline <time datetime=\"2022-11-28T23:59:00Z\" class=\"datetime\">28-11-2022</time>\\n<br/>\\n                              Not specified<br/>\\n                            <span class=\"badge badge-primary\">Job</span>\\n            </p>\\n          </div>\\n        </div>\\n      </div>\\n    </div>\\n  </div>\\n</article>\\n\\n  </div>\\n    <div class=\"views-row\">\\n    \\n\\n<article data-history-node-id=\"11293\" role=\"article\" lang=\"zxx\" about=\"/job/associate-professor-and-head-human-anatomy\" class=\"node node--type-job node--view-mode-teaser clearfix m-0 border-0 pb-2\">\\n      <div class=\"clearfix\">\\n    <div class=\"card shadow-sm border-light\">\\n      <div class=\"row g-0\">\\n        <div class=\"col-2 d-flex justify-content-center p-2\">\\n                                <a href=\"/job/associate-professor-and-head-human-anatomy\" class=\"d-flex justify-content-center\">\\n              <img src=\"/sites/default/files/styles/jobs_list_logo/public/employer_logos/xlogo_787729658.png,qitok=R-1zMfKv.pagespeed.ic.HcYtG1VBWl.png\" class=\"img-fluid rounded align-self-center\" alt=\"...\">\\n            </a>\\n                  </div>\\n        <div class=\"col-10\">\\n          <div class=\"card-body p-2\">\\n            <a href=\"/job/associate-professor-and-head-human-anatomy\"><h5 class=\"card-title\"><span class=\"field field--name-title field--type-string field--label-hidden\">Associate Professor\\xc2\\xa0and\\xc2\\xa0Head of Human Anatomy\\xc2\\xa0</span>\\n</h5></a>\\n            <p class=\"card-text\">\\n              <a href=\"/employer/university-global-health-equity-ughe\">University of Global Health Equity (UGHE)</a>  |\\n              Published on 28-10-2022 |\\n              Deadline <time datetime=\"2022-11-28T21:59:00Z\" class=\"datetime\">28-11-2022</time>\\n<br/>\\n                              Senior (5+ years of experience)<br/>\\n                            <span class=\"badge badge-primary\">Job</span>\\n            </p>\\n          </div>\\n        </div>\\n      </div>\\n    </div>\\n  </div>\\n</article>\\n\\n  </div>\\n    <div class=\"views-row\">\\n    \\n\\n<article data-history-node-id=\"11292\" role=\"article\" lang=\"zxx\" about=\"/job/rwanda-potato-seed-store-manager\" class=\"node node--type-job node--view-mode-teaser clearfix m-0 border-0 pb-2\">\\n      <div class=\"clearfix\">\\n    <div class=\"card shadow-sm border-light\">\\n      <div class=\"row g-0\">\\n        <div class=\"col-2 d-flex justify-content-center p-2\">\\n                                <a href=\"/job/rwanda-potato-seed-store-manager\" class=\"d-flex justify-content-center\">\\n              <img src=\"/sites/default/files/styles/jobs_list_logo/public/employer_logos/xlogo_315569006.jpg,qitok=80Da4_ZK.pagespeed.ic.XgUQtsUY9r.jpg\" class=\"img-fluid rounded align-self-center\" alt=\"...\">\\n            </a>\\n                  </div>\\n        <div class=\"col-10\">\\n          <div class=\"card-body p-2\">\\n            <a href=\"/job/rwanda-potato-seed-store-manager\"><h5 class=\"card-title\"><span class=\"field field--name-title field--type-string field--label-hidden\">Rwanda Potato Seed Store Manager</span>\\n</h5></a>\\n            <p class=\"card-text\">\\n              <a href=\"/employer/one-acre-fund\">One Acre Fund</a>  | <i class=\"fas fa-map-marker-alt\"></i> Kirehe  |\\n              Published on 28-10-2022 |\\n              Deadline <time datetime=\"2022-11-26T23:59:59Z\" class=\"datetime\">26-11-2022</time>\\n<br/>\\n                              Entry level (1 to 3 years of experience)<br/>\\n                            <span class=\"badge badge-primary\">Job</span>\\n            </p>\\n          </div>\\n        </div>\\n      </div>\\n    </div>\\n  </div>\\n</article>\\n\\n  </div>\\n    <div class=\"views-row\">\\n    \\n\\n<article data-history-node-id=\"11287\" role=\"article\" lang=\"zxx\" about=\"/job/agronomist-technician-g-2c\" class=\"node node--type-job node--view-mode-teaser clearfix m-0 border-0 pb-2\">\\n      <div class=\"clearfix\">\\n    <div class=\"card shadow-sm border-light\">\\n      <div class=\"row g-0\">\\n        <div class=\"col-2 d-flex justify-content-center p-2\">\\n                                <a href=\"/job/agronomist-technician-g-2c\" class=\"d-flex justify-content-center\">\\n              <img src=\"/sites/default/files/styles/jobs_list_logo/public/employer_logos/xlogo_1169377749.png,qitok=4IzbT2c3.pagespeed.ic.uMa7xL8Z51.jpg\" class=\"img-fluid rounded align-self-center\" alt=\"...\">\\n            </a>\\n                  </div>\\n        <div class=\"col-10\">\\n          <div class=\"card-body p-2\">\\n            <a href=\"/job/agronomist-technician-g-2c\"><h5 class=\"card-title\"><span class=\"field field--name-title field--type-string field--label-hidden\">Agronomist Technician, G-2(C)</span>\\n</h5></a>\\n            <p class=\"card-text\">\\n              <a href=\"/employer/university-rwanda-holdings-group-limited-ur-hg-ltd\">University of Rwanda Holdings Group Limited (UR - HG Ltd)</a>  |\\n              Published on 27-10-2022 |\\n              Deadline <time datetime=\"2022-11-18T17:00:00Z\" class=\"datetime\">18-11-2022</time>\\n<br/>\\n                              Senior (5+ years of experience)<br/>\\n                            <span class=\"badge badge-primary\">Job</span>\\n            </p>\\n          </div>\\n        </div>\\n      </div>\\n    </div>\\n  </div>\\n</article>\\n\\n  </div>\\n    <div class=\"views-row\">\\n    \\n\\n<article data-history-node-id=\"11286\" role=\"article\" lang=\"zxx\" about=\"/job/dental-doctors-dental-surgeon\" class=\"node node--type-job node--view-mode-teaser clearfix m-0 border-0 pb-2\">\\n      <div class=\"clearfix\">\\n    <div class=\"card shadow-sm border-light\">\\n      <div class=\"row g-0\">\\n        <div class=\"col-2 d-flex justify-content-center p-2\">\\n                                <a href=\"/job/dental-doctors-dental-surgeon\" class=\"d-flex justify-content-center\">\\n              <img src=\"/sites/default/files/styles/jobs_list_logo/public/employer_logos/xlogo_1169377749.png,qitok=4IzbT2c3.pagespeed.ic.uMa7xL8Z51.jpg\" class=\"img-fluid rounded align-self-center\" alt=\"...\">\\n            </a>\\n                  </div>\\n        <div class=\"col-10\">\\n          <div class=\"card-body p-2\">\\n            <a href=\"/job/dental-doctors-dental-surgeon\"><h5 class=\"card-title\"><span class=\"field field--name-title field--type-string field--label-hidden\">Dental Doctors /Dental Surgeon</span>\\n</h5></a>\\n            <p class=\"card-text\">\\n              <a href=\"/employer/university-rwanda-holdings-group-limited-ur-hg-ltd\">University of Rwanda Holdings Group Limited (UR - HG Ltd)</a>  |\\n              Published on 27-10-2022 |\\n              Deadline <time datetime=\"2022-11-18T15:00:00Z\" class=\"datetime\">18-11-2022</time>\\n<br/>\\n                              Entry level (1 to 3 years of experience)<br/>\\n                            <span class=\"badge badge-primary\">Job</span>\\n            </p>\\n          </div>\\n        </div>\\n      </div>\\n    </div>\\n  </div>\\n</article>\\n\\n  </div>\\n    <div class=\"views-row\">\\n    \\n\\n<article data-history-node-id=\"11282\" role=\"article\" lang=\"zxx\" about=\"/job/head-rehabilitation-department\" class=\"node node--type-job node--view-mode-teaser clearfix m-0 border-0 pb-2\">\\n      <div class=\"clearfix\">\\n    <div class=\"card shadow-sm border-light\">\\n      <div class=\"row g-0\">\\n        <div class=\"col-2 d-flex justify-content-center p-2\">\\n                                <a href=\"/job/head-rehabilitation-department\" class=\"d-flex justify-content-center\">\\n              <img src=\"/sites/default/files/styles/jobs_list_logo/public/employer_logos/xlogo_416190952.png,qitok=Etb-Rmvl.pagespeed.ic.HZjrBZw8OQ.png\" class=\"img-fluid rounded align-self-center\" alt=\"...\">\\n            </a>\\n                  </div>\\n        <div class=\"col-10\">\\n          <div class=\"card-body p-2\">\\n            <a href=\"/job/head-rehabilitation-department\"><h5 class=\"card-title\"><span class=\"field field--name-title field--type-string field--label-hidden\">Head of Rehabilitation Department</span>\\n</h5></a>\\n            <p class=\"card-text\">\\n              <a href=\"/employer/gahini-district-hospital\">Gahini District Hospital</a>  |\\n              Published on 27-10-2022 |\\n              Deadline <time datetime=\"2022-11-14T21:59:00Z\" class=\"datetime\">14-11-2022</time>\\n<br/>\\n                              Mid career (3 to 5 years of experience)<br/>\\n                            <span class=\"badge badge-primary\">Job</span>\\n            </p>\\n          </div>\\n        </div>\\n      </div>\\n    </div>\\n  </div>\\n</article>\\n\\n  </div>\\n    <div class=\"views-row\">\\n    \\n\\n<article data-history-node-id=\"11236\" role=\"article\" lang=\"zxx\" about=\"/job/assistant-press-department-administration-and-consular-section\" class=\"node node--type-job node--view-mode-teaser clearfix m-0 border-0 pb-2\">\\n      <div class=\"clearfix\">\\n    <div class=\"card shadow-sm border-light\">\\n      <div class=\"row g-0\">\\n        <div class=\"col-2 d-flex justify-content-center p-2\">\\n                                <a href=\"/job/assistant-press-department-administration-and-consular-section\" class=\"d-flex justify-content-center\">\\n              <img src=\"/sites/default/files/styles/jobs_list_logo/public/employer_logos/xlogo_389464111.jpg,qitok=dwEC3so1.pagespeed.ic.ToEFEvZBk7.jpg\" class=\"img-fluid rounded align-self-center\" alt=\"...\">\\n            </a>\\n                  </div>\\n        <div class=\"col-10\">\\n          <div class=\"card-body p-2\">\\n            <a href=\"/job/assistant-press-department-administration-and-consular-section\"><h5 class=\"card-title\"><span class=\"field field--name-title field--type-string field--label-hidden\">Assistant in the Press Department, Administration and Consular Section</span>\\n</h5></a>\\n            <p class=\"card-text\">\\n              <a href=\"/employer/embassy-federal-republic-germany\">Embassy of the Federal Republic of Germany</a>  | <i class=\"fas fa-map-marker-alt\"></i> Kigali  |\\n              Published on 25-10-2022 |\\n              Deadline <time datetime=\"2022-11-18T23:59:00Z\" class=\"datetime\">18-11-2022</time>\\n<br/>\\n                              No experience<br/>\\n                            <span class=\"badge badge-primary\">Job</span>\\n            </p>\\n          </div>\\n        </div>\\n      </div>\\n    </div>\\n  </div>\\n</article>\\n\\n  </div>\\n    <div class=\"views-row\">\\n    \\n\\n<article data-history-node-id=\"11191\" role=\"article\" lang=\"zxx\" about=\"/job/rwanda-warehouse-manager\" class=\"node node--type-job node--view-mode-teaser clearfix m-0 border-0 pb-2\">\\n      <div class=\"clearfix\">\\n    <div class=\"card shadow-sm border-light\">\\n      <div class=\"row g-0\">\\n        <div class=\"col-2 d-flex justify-content-center p-2\">\\n                                <a href=\"/job/rwanda-warehouse-manager\" class=\"d-flex justify-content-center\">\\n              <img src=\"/sites/default/files/styles/jobs_list_logo/public/employer_logos/xlogo_315569006.jpg,qitok=80Da4_ZK.pagespeed.ic.XgUQtsUY9r.jpg\" class=\"img-fluid rounded align-self-center\" alt=\"...\">\\n            </a>\\n                  </div>\\n        <div class=\"col-10\">\\n          <div class=\"card-body p-2\">\\n            <a href=\"/job/rwanda-warehouse-manager\"><h5 class=\"card-title\"><span class=\"field field--name-title field--type-string field--label-hidden\">Rwanda Warehouse Manager</span>\\n</h5></a>\\n            <p class=\"card-text\">\\n              <a href=\"/employer/one-acre-fund\">One Acre Fund</a>  | <i class=\"fas fa-map-marker-alt\"></i> Buhinga  |\\n              Published on 21-10-2022 |\\n              Deadline <time datetime=\"2022-11-19T21:59:59Z\" class=\"datetime\">19-11-2022</time>\\n<br/>\\n                              <br/>\\n                            <span class=\"badge badge-primary\">Job</span>\\n            </p>\\n          </div>\\n        </div>\\n      </div>\\n    </div>\\n  </div>\\n</article>\\n\\n  </div>\\n    <div class=\"views-row\">\\n    \\n\\n<article data-history-node-id=\"11190\" role=\"article\" lang=\"zxx\" about=\"/job/csat-officer-rwanda\" class=\"node node--type-job node--view-mode-teaser clearfix m-0 border-0 pb-2\">\\n      <div class=\"clearfix\">\\n    <div class=\"card shadow-sm border-light\">\\n      <div class=\"row g-0\">\\n        <div class=\"col-2 d-flex justify-content-center p-2\">\\n                                <a href=\"/job/csat-officer-rwanda\" class=\"d-flex justify-content-center\">\\n              <img src=\"/sites/default/files/styles/jobs_list_logo/public/employer_logos/xlogo_1960718765.png,qitok=ZbrKUgXf.pagespeed.ic.QPDM9fCW-c.png\" class=\"img-fluid rounded align-self-center\" alt=\"...\">\\n            </a>\\n                  </div>\\n        <div class=\"col-10\">\\n          <div class=\"card-body p-2\">\\n            <a href=\"/job/csat-officer-rwanda\"><h5 class=\"card-title\"><span class=\"field field--name-title field--type-string field--label-hidden\">CSAT Officer \\xe2\\x80\\x93 Rwanda</span>\\n</h5></a>\\n            <p class=\"card-text\">\\n              <a href=\"/employer/c-quest-capital\">C Quest Capital</a>  | <i class=\"fas fa-map-marker-alt\"></i> Kigali  |\\n              Published on 21-10-2022 |\\n              Deadline <time datetime=\"2022-11-21T23:59:00Z\" class=\"datetime\">21-11-2022</time>\\n<br/>\\n                              Mid career (3 to 5 years of experience)<br/>\\n                            <span class=\"badge badge-primary\">Job</span>\\n            </p>\\n          </div>\\n        </div>\\n      </div>\\n    </div>\\n  </div>\\n</article>\\n\\n  </div>\\n    <div class=\"views-row\">\\n    \\n\\n<article data-history-node-id=\"11183\" role=\"article\" lang=\"zxx\" about=\"/job/spm-officer\" class=\"node node--type-job node--view-mode-teaser clearfix m-0 border-0 pb-2\">\\n      <div class=\"clearfix\">\\n    <div class=\"card shadow-sm border-light\">\\n      <div class=\"row g-0\">\\n        <div class=\"col-2 d-flex justify-content-center p-2\">\\n                                <a href=\"/job/spm-officer\" class=\"d-flex justify-content-center\">\\n              <img src=\"/sites/default/files/styles/jobs_list_logo/public/employer_logos/xlogo_1157473716.png,qitok=FY6le4ib.pagespeed.ic.w-7U221SlG.png\" class=\"img-fluid rounded align-self-center\" alt=\"...\">\\n            </a>\\n                  </div>\\n        <div class=\"col-10\">\\n          <div class=\"card-body p-2\">\\n            <a href=\"/job/spm-officer\"><h5 class=\"card-title\"><span class=\"field field--name-title field--type-string field--label-hidden\">SPM Officer</span>\\n</h5></a>\\n            <p class=\"card-text\">\\n              <a href=\"/employer/brac\">BRAC</a>  |\\n              Published on 21-10-2022 |\\n              Deadline <time datetime=\"2022-11-15T23:59:00Z\" class=\"datetime\">15-11-2022</time>\\n<br/>\\n                              Entry level (1 to 3 years of experience)<br/>\\n                            <span class=\"badge badge-primary\">Job</span>\\n            </p>\\n          </div>\\n        </div>\\n      </div>\\n    </div>\\n  </div>\\n</article>\\n\\n  </div>\\n    <div class=\"views-row\">\\n    \\n\\n<article data-history-node-id=\"11179\" role=\"article\" lang=\"zxx\" about=\"/index.php/job/rwanda-communications-associate\" class=\"node node--type-job node--view-mode-teaser clearfix m-0 border-0 pb-2\">\\n      <div class=\"clearfix\">\\n    <div class=\"card shadow-sm border-light\">\\n      <div class=\"row g-0\">\\n        <div class=\"col-2 d-flex justify-content-center p-2\">\\n                                <a href=\"/index.php/job/rwanda-communications-associate\" class=\"d-flex justify-content-center\">\\n              <img src=\"/sites/default/files/styles/jobs_list_logo/public/employer_logos/xlogo_315569006.jpg,qitok=80Da4_ZK.pagespeed.ic.XgUQtsUY9r.jpg\" class=\"img-fluid rounded align-self-center\" alt=\"...\">\\n            </a>\\n                  </div>\\n        <div class=\"col-10\">\\n          <div class=\"card-body p-2\">\\n            <a href=\"/index.php/job/rwanda-communications-associate\"><h5 class=\"card-title\"><span class=\"field field--name-title field--type-string field--label-hidden\">Rwanda Communications Associate</span>\\n</h5></a>\\n            <p class=\"card-text\">\\n              <a href=\"/index.php/employer/one-acre-fund\">One Acre Fund</a>  | <i class=\"fas fa-map-marker-alt\"></i> Kigali  |\\n              Published on 21-10-2022 |\\n              Deadline <time datetime=\"2023-01-03T21:59:59Z\" class=\"datetime\">03-01-2023</time>\\n<br/>\\n                              Mid career (3 to 5 years of experience)<br/>\\n                            <span class=\"badge badge-primary\">Job</span>\\n            </p>\\n          </div>\\n        </div>\\n      </div>\\n    </div>\\n  </div>\\n</article>\\n\\n  </div>\\n    <div class=\"views-row\">\\n    \\n\\n<article data-history-node-id=\"11167\" role=\"article\" lang=\"zxx\" about=\"/job/strategic-advisor-targeted-skills-development\" class=\"node node--type-job node--view-mode-teaser clearfix m-0 border-0 pb-2\">\\n      <div class=\"clearfix\">\\n    <div class=\"card shadow-sm border-light\">\\n      <div class=\"row g-0\">\\n        <div class=\"col-2 d-flex justify-content-center p-2\">\\n                                <a href=\"/job/strategic-advisor-targeted-skills-development\" class=\"d-flex justify-content-center\">\\n              <img src=\"/sites/default/files/styles/jobs_list_logo/public/employer_logos/xlogo_1250494602.jpg,qitok=6V4mnaaQ.pagespeed.ic.xgxC-57Ur3.jpg\" class=\"img-fluid rounded align-self-center\" alt=\"...\">\\n            </a>\\n                  </div>\\n        <div class=\"col-10\">\\n          <div class=\"card-body p-2\">\\n            <a href=\"/job/strategic-advisor-targeted-skills-development\"><h5 class=\"card-title\"><span class=\"field field--name-title field--type-string field--label-hidden\">Strategic Advisor \\xe2\\x80\\x93 Targeted Skills Development</span>\\n</h5></a>\\n            <p class=\"card-text\">\\n              <a href=\"/employer/tony-blair-institute-global-change-0\">Tony Blair Institute for Global Change</a>  | <i class=\"fas fa-map-marker-alt\"></i> Kigali  |\\n              Published on 20-10-2022 |\\n              Deadline <time datetime=\"2022-11-18T23:59:00Z\" class=\"datetime\">18-11-2022</time>\\n<br/>\\n                              Not specified<br/>\\n                            <span class=\"badge badge-primary\">Job</span>\\n            </p>\\n          </div>\\n        </div>\\n      </div>\\n    </div>\\n  </div>\\n</article>\\n\\n  </div>\\n    <div class=\"views-row\">\\n    \\n\\n<article data-history-node-id=\"11166\" role=\"article\" lang=\"zxx\" about=\"/job/strategic-advisor-e-commerce\" class=\"node node--type-job node--view-mode-teaser clearfix m-0 border-0 pb-2\">\\n      <div class=\"clearfix\">\\n    <div class=\"card shadow-sm border-light\">\\n      <div class=\"row g-0\">\\n        <div class=\"col-2 d-flex justify-content-center p-2\">\\n                                <a href=\"/job/strategic-advisor-e-commerce\" class=\"d-flex justify-content-center\">\\n              <img src=\"/sites/default/files/styles/jobs_list_logo/public/employer_logos/xlogo_1250494602.jpg,qitok=6V4mnaaQ.pagespeed.ic.xgxC-57Ur3.jpg\" class=\"img-fluid rounded align-self-center\" alt=\"...\">\\n            </a>\\n                  </div>\\n        <div class=\"col-10\">\\n          <div class=\"card-body p-2\">\\n            <a href=\"/job/strategic-advisor-e-commerce\"><h5 class=\"card-title\"><span class=\"field field--name-title field--type-string field--label-hidden\">Strategic Advisor\\xe2\\x80\\x93 E-Commerce</span>\\n</h5></a>\\n            <p class=\"card-text\">\\n              <a href=\"/employer/tony-blair-institute-global-change-0\">Tony Blair Institute for Global Change</a>  | <i class=\"fas fa-map-marker-alt\"></i> Kigali  |\\n              Published on 20-10-2022 |\\n              Deadline <time datetime=\"2022-11-18T21:59:00Z\" class=\"datetime\">18-11-2022</time>\\n<br/>\\n                              Not specified<br/>\\n                            <span class=\"badge badge-primary\">Job</span>\\n            </p>\\n          </div>\\n        </div>\\n      </div>\\n    </div>\\n  </div>\\n</article>\\n\\n  </div>\\n    <div class=\"views-row\">\\n    \\n\\n<article data-history-node-id=\"11151\" role=\"article\" lang=\"zxx\" about=\"/job/50-sales-representatives-needed-all-city-rwanda-ltd-1\" class=\"node node--type-job node--view-mode-teaser clearfix m-0 border-0 pb-2\">\\n      <div class=\"clearfix\">\\n    <div class=\"card shadow-sm border-light\">\\n      <div class=\"row g-0\">\\n        <div class=\"col-2 d-flex justify-content-center p-2\">\\n                                <a href=\"/job/50-sales-representatives-needed-all-city-rwanda-ltd-1\" class=\"d-flex justify-content-center\">\\n              <img src=\"/sites/default/files/styles/jobs_list_logo/public/employer_logos/xlogo_58240.jpg,qitok=I1FL5Uyn.pagespeed.ic.TpiMR8seoQ.jpg\" class=\"img-fluid rounded align-self-center\" alt=\"...\">\\n            </a>\\n                  </div>\\n        <div class=\"col-10\">\\n          <div class=\"card-body p-2\">\\n            <a href=\"/job/50-sales-representatives-needed-all-city-rwanda-ltd-1\"><h5 class=\"card-title\"><span class=\"field field--name-title field--type-string field--label-hidden\">Sales Representatives Needed at All City Rwanda Ltd</span>\\n</h5></a>\\n            <p class=\"card-text\">\\n              <a href=\"/employer/all-city-group\">ALL CITY GROUP</a>  | <i class=\"fas fa-map-marker-alt\"></i> Kigali City  |\\n              Published on 19-10-2022 |\\n              Deadline <time datetime=\"2022-11-19T12:00:00Z\" class=\"datetime\">19-11-2022</time>\\n<br/>\\n                              Not specified<br/>\\n                            <span class=\"badge badge-primary\">Job</span>\\n            </p>\\n          </div>\\n        </div>\\n      </div>\\n    </div>\\n  </div>\\n</article>\\n\\n  </div>\\n    <div class=\"views-row\">\\n    \\n\\n<article data-history-node-id=\"11089\" role=\"article\" lang=\"zxx\" about=\"/job/store-keeper-1\" class=\"node node--type-job node--view-mode-teaser clearfix m-0 border-0 pb-2\">\\n      <div class=\"clearfix\">\\n    <div class=\"card shadow-sm border-light\">\\n      <div class=\"row g-0\">\\n        <div class=\"col-2 d-flex justify-content-center p-2\">\\n                                <a href=\"/job/store-keeper-1\" class=\"d-flex justify-content-center\">\\n              <img src=\"/sites/default/files/styles/jobs_list_logo/public/employer_logos/xlogo_2013000868.png,qitok=JCAHcB3m.pagespeed.ic.zMSUs8RooB.jpg\" class=\"img-fluid rounded align-self-center\" alt=\"...\">\\n            </a>\\n                  </div>\\n        <div class=\"col-10\">\\n          <div class=\"card-body p-2\">\\n            <a href=\"/job/store-keeper-1\"><h5 class=\"card-title\"><span class=\"field field--name-title field--type-string field--label-hidden\">Store Keeper</span>\\n</h5></a>\\n            <p class=\"card-text\">\\n              <a href=\"/employer/excraft-ltd\">ExCraft Ltd</a>  |\\n              Published on 14-10-2022 |\\n              Deadline <time datetime=\"2022-11-14T21:59:00Z\" class=\"datetime\">14-11-2022</time>\\n<br/>\\n                              Mid career (3 to 5 years of experience)<br/>\\n                            <span class=\"badge badge-primary\">Job</span>\\n            </p>\\n          </div>\\n        </div>\\n      </div>\\n    </div>\\n  </div>\\n</article>\\n\\n  </div>\\n    <div class=\"views-row\">\\n    \\n\\n<article data-history-node-id=\"11056\" role=\"article\" lang=\"zxx\" about=\"/index.php/job/rwanda-market-access-and-srf-mel-associate\" class=\"node node--type-job node--view-mode-teaser clearfix m-0 border-0 pb-2\">\\n      <div class=\"clearfix\">\\n    <div class=\"card shadow-sm border-light\">\\n      <div class=\"row g-0\">\\n        <div class=\"col-2 d-flex justify-content-center p-2\">\\n                                <a href=\"/index.php/job/rwanda-market-access-and-srf-mel-associate\" class=\"d-flex justify-content-center\">\\n              <img src=\"/sites/default/files/styles/jobs_list_logo/public/employer_logos/xlogo_315569006.jpg,qitok=80Da4_ZK.pagespeed.ic.XgUQtsUY9r.jpg\" class=\"img-fluid rounded align-self-center\" alt=\"...\">\\n            </a>\\n                  </div>\\n        <div class=\"col-10\">\\n          <div class=\"card-body p-2\">\\n            <a href=\"/index.php/job/rwanda-market-access-and-srf-mel-associate\"><h5 class=\"card-title\"><span class=\"field field--name-title field--type-string field--label-hidden\">Rwanda Market Access and SRF MEL Associate</span>\\n</h5></a>\\n            <p class=\"card-text\">\\n              <a href=\"/index.php/employer/one-acre-fund\">One Acre Fund</a>  | <i class=\"fas fa-map-marker-alt\"></i> Kigali  |\\n              Published on 13-10-2022 |\\n              Deadline <time datetime=\"2023-01-10T21:59:59Z\" class=\"datetime\">10-01-2023</time>\\n<br/>\\n                              Entry level (1 to 3 years of experience)<br/>\\n                            <span class=\"badge badge-primary\">Job</span>\\n            </p>\\n          </div>\\n        </div>\\n      </div>\\n    </div>\\n  </div>\\n</article>\\n\\n  </div>\\n    <div class=\"views-row\">\\n    \\n\\n<article data-history-node-id=\"11024\" role=\"article\" lang=\"zxx\" about=\"/job/rwanda-field-integration-coordinator\" class=\"node node--type-job node--view-mode-teaser clearfix m-0 border-0 pb-2\">\\n      <div class=\"clearfix\">\\n    <div class=\"card shadow-sm border-light\">\\n      <div class=\"row g-0\">\\n        <div class=\"col-2 d-flex justify-content-center p-2\">\\n                                <a href=\"/job/rwanda-field-integration-coordinator\" class=\"d-flex justify-content-center\">\\n              <img src=\"/sites/default/files/styles/jobs_list_logo/public/employer_logos/xlogo_315569006.jpg,qitok=80Da4_ZK.pagespeed.ic.XgUQtsUY9r.jpg\" class=\"img-fluid rounded align-self-center\" alt=\"...\">\\n            </a>\\n                  </div>\\n        <div class=\"col-10\">\\n          <div class=\"card-body p-2\">\\n            <a href=\"/job/rwanda-field-integration-coordinator\"><h5 class=\"card-title\"><span class=\"field field--name-title field--type-string field--label-hidden\">Rwanda Field Integration Coordinator</span>\\n</h5></a>\\n            <p class=\"card-text\">\\n              <a href=\"/employer/one-acre-fund\">One Acre Fund</a>  | <i class=\"fas fa-map-marker-alt\"></i> Huye - Save  |\\n              Published on 12-10-2022 |\\n              Deadline <time datetime=\"2022-11-30T23:59:59Z\" class=\"datetime\">30-11-2022</time>\\n<br/>\\n                              <br/>\\n                            <span class=\"badge badge-primary\">Job</span>\\n            </p>\\n          </div>\\n        </div>\\n      </div>\\n    </div>\\n  </div>\\n</article>\\n\\n  </div>\\n    <div class=\"views-row\">\\n    \\n\\n<article data-history-node-id=\"11023\" role=\"article\" lang=\"zxx\" about=\"/job/rwanda-electrical-hub-operator\" class=\"node node--type-job node--view-mode-teaser clearfix m-0 border-0 pb-2\">\\n      <div class=\"clearfix\">\\n    <div class=\"card shadow-sm border-light\">\\n      <div class=\"row g-0\">\\n        <div class=\"col-2 d-flex justify-content-center p-2\">\\n                                <a href=\"/job/rwanda-electrical-hub-operator\" class=\"d-flex justify-content-center\">\\n              <img src=\"/sites/default/files/styles/jobs_list_logo/public/employer_logos/xlogo_315569006.jpg,qitok=80Da4_ZK.pagespeed.ic.XgUQtsUY9r.jpg\" class=\"img-fluid rounded align-self-center\" alt=\"...\">\\n            </a>\\n                  </div>\\n        <div class=\"col-10\">\\n          <div class=\"card-body p-2\">\\n            <a href=\"/job/rwanda-electrical-hub-operator\"><h5 class=\"card-title\"><span class=\"field field--name-title field--type-string field--label-hidden\">Rwanda Electrical Hub Operator</span>\\n</h5></a>\\n            <p class=\"card-text\">\\n              <a href=\"/employer/one-acre-fund\">One Acre Fund</a>  | <i class=\"fas fa-map-marker-alt\"></i> Kirehe  |\\n              Published on 12-10-2022 |\\n              Deadline <time datetime=\"2022-11-19T23:59:59Z\" class=\"datetime\">19-11-2022</time>\\n<br/>\\n                              <br/>\\n                            <span class=\"badge badge-primary\">Job</span>\\n            </p>\\n          </div>\\n        </div>\\n      </div>\\n    </div>\\n  </div>\\n</article>\\n\\n  </div>\\n    <div class=\"views-row\">\\n    \\n\\n<article data-history-node-id=\"10617\" role=\"article\" lang=\"zxx\" about=\"/job/rwanda-tree-lead\" class=\"node node--type-job node--view-mode-teaser clearfix m-0 border-0 pb-2\">\\n      <div class=\"clearfix\">\\n    <div class=\"card shadow-sm border-light\">\\n      <div class=\"row g-0\">\\n        <div class=\"col-2 d-flex justify-content-center p-2\">\\n                                <a href=\"/job/rwanda-tree-lead\" class=\"d-flex justify-content-center\">\\n              <img src=\"/sites/default/files/styles/jobs_list_logo/public/employer_logos/xlogo_315569006.jpg,qitok=80Da4_ZK.pagespeed.ic.XgUQtsUY9r.jpg\" class=\"img-fluid rounded align-self-center\" alt=\"...\">\\n            </a>\\n                  </div>\\n        <div class=\"col-10\">\\n          <div class=\"card-body p-2\">\\n            <a href=\"/job/rwanda-tree-lead\"><h5 class=\"card-title\"><span class=\"field field--name-title field--type-string field--label-hidden\">Rwanda Tree Lead</span>\\n</h5></a>\\n            <p class=\"card-text\">\\n              <a href=\"/employer/one-acre-fund\">One Acre Fund</a>  | <i class=\"fas fa-map-marker-alt\"></i> Kigali  |\\n              Published on 15-09-2022 |\\n              Deadline <time datetime=\"2022-11-20T21:59:59Z\" class=\"datetime\">20-11-2022</time>\\n<br/>\\n                              <br/>\\n                            <span class=\"badge badge-primary\">Job</span>\\n            </p>\\n          </div>\\n        </div>\\n      </div>\\n    </div>\\n  </div>\\n</article>\\n\\n  </div>\\n    <div class=\"views-row\">\\n    \\n\\n<article data-history-node-id=\"10612\" role=\"article\" lang=\"zxx\" about=\"/index.php/job/rwanda-potato-seed-venture-lead\" class=\"node node--type-job node--view-mode-teaser clearfix m-0 border-0 pb-2\">\\n      <div class=\"clearfix\">\\n    <div class=\"card shadow-sm border-light\">\\n      <div class=\"row g-0\">\\n        <div class=\"col-2 d-flex justify-content-center p-2\">\\n                                <a href=\"/index.php/job/rwanda-potato-seed-venture-lead\" class=\"d-flex justify-content-center\">\\n              <img src=\"/sites/default/files/styles/jobs_list_logo/public/employer_logos/xlogo_315569006.jpg,qitok=80Da4_ZK.pagespeed.ic.XgUQtsUY9r.jpg\" class=\"img-fluid rounded align-self-center\" alt=\"...\">\\n            </a>\\n                  </div>\\n        <div class=\"col-10\">\\n          <div class=\"card-body p-2\">\\n            <a href=\"/index.php/job/rwanda-potato-seed-venture-lead\"><h5 class=\"card-title\"><span class=\"field field--name-title field--type-string field--label-hidden\">Rwanda Potato Seed Venture \\xef\\xbb\\xbf\\xef\\xbb\\xbfLead</span>\\n</h5></a>\\n            <p class=\"card-text\">\\n              <a href=\"/index.php/employer/one-acre-fund\">One Acre Fund</a>  | <i class=\"fas fa-map-marker-alt\"></i> Kigali  |\\n              Published on 14-09-2022 |\\n              Deadline <time datetime=\"2022-11-28T21:59:59Z\" class=\"datetime\">28-11-2022</time>\\n<br/>\\n                              Senior (5+ years of experience)<br/>\\n                            <span class=\"badge badge-primary\">Job</span>\\n            </p>\\n          </div>\\n        </div>\\n      </div>\\n    </div>\\n  </div>\\n</article>\\n\\n  </div>\\n    <div class=\"views-row\">\\n    \\n\\n<article data-history-node-id=\"10462\" role=\"article\" lang=\"zxx\" about=\"/job/it-operations-senior-manager\" class=\"node node--type-job node--view-mode-teaser clearfix m-0 border-0 pb-2\">\\n      <div class=\"clearfix\">\\n    <div class=\"card shadow-sm border-light\">\\n      <div class=\"row g-0\">\\n        <div class=\"col-2 d-flex justify-content-center p-2\">\\n                                <a href=\"/job/it-operations-senior-manager\" class=\"d-flex justify-content-center\">\\n              <img src=\"/sites/default/files/styles/jobs_list_logo/public/employer_logos/xlogo_315569006.jpg,qitok=80Da4_ZK.pagespeed.ic.XgUQtsUY9r.jpg\" class=\"img-fluid rounded align-self-center\" alt=\"...\">\\n            </a>\\n                  </div>\\n        <div class=\"col-10\">\\n          <div class=\"card-body p-2\">\\n            <a href=\"/job/it-operations-senior-manager\"><h5 class=\"card-title\"><span class=\"field field--name-title field--type-string field--label-hidden\">IT Operations Senior Manager</span>\\n</h5></a>\\n            <p class=\"card-text\">\\n              <a href=\"/employer/one-acre-fund\">One Acre Fund</a>  | <i class=\"fas fa-map-marker-alt\"></i> Kigali  |\\n              Published on 07-09-2022 |\\n              Deadline <time datetime=\"2022-12-06T23:59:59Z\" class=\"datetime\">06-12-2022</time>\\n<br/>\\n                              Not specified<br/>\\n                            <span class=\"badge badge-primary\">Job</span>\\n            </p>\\n          </div>\\n        </div>\\n      </div>\\n    </div>\\n  </div>\\n</article>\\n\\n  </div>\\n    <div class=\"views-row\">\\n    \\n\\n<article data-history-node-id=\"10401\" role=\"article\" lang=\"zxx\" about=\"/job/rwanda-seed-innovation-centre-lead\" class=\"node node--type-job node--view-mode-teaser clearfix m-0 border-0 pb-2\">\\n      <div class=\"clearfix\">\\n    <div class=\"card shadow-sm border-light\">\\n      <div class=\"row g-0\">\\n        <div class=\"col-2 d-flex justify-content-center p-2\">\\n                                <a href=\"/job/rwanda-seed-innovation-centre-lead\" class=\"d-flex justify-content-center\">\\n              <img src=\"/sites/default/files/styles/jobs_list_logo/public/employer_logos/xlogo_315569006.jpg,qitok=80Da4_ZK.pagespeed.ic.XgUQtsUY9r.jpg\" class=\"img-fluid rounded align-self-center\" alt=\"...\">\\n            </a>\\n                  </div>\\n        <div class=\"col-10\">\\n          <div class=\"card-body p-2\">\\n            <a href=\"/job/rwanda-seed-innovation-centre-lead\"><h5 class=\"card-title\"><span class=\"field field--name-title field--type-string field--label-hidden\">Rwanda Seed Innovation Centre Lead</span>\\n</h5></a>\\n            <p class=\"card-text\">\\n              <a href=\"/employer/one-acre-fund\">One Acre Fund</a>  | <i class=\"fas fa-map-marker-alt\"></i> Kigali  |\\n              Published on 01-09-2022 |\\n              Deadline <time datetime=\"2022-11-29T23:59:59Z\" class=\"datetime\">29-11-2022</time>\\n<br/>\\n                              <br/>\\n                            <span class=\"badge badge-primary\">Job</span>\\n            </p>\\n          </div>\\n        </div>\\n      </div>\\n    </div>\\n  </div>\\n</article>\\n\\n  </div>\\n    <div class=\"views-row\">\\n    \\n\\n<article data-history-node-id=\"10219\" role=\"article\" lang=\"zxx\" about=\"/job/senior-business-analyst\" class=\"node node--type-job node--view-mode-teaser clearfix m-0 border-0 pb-2\">\\n      <div class=\"clearfix\">\\n    <div class=\"card shadow-sm border-light\">\\n      <div class=\"row g-0\">\\n        <div class=\"col-2 d-flex justify-content-center p-2\">\\n                                <a href=\"/job/senior-business-analyst\" class=\"d-flex justify-content-center\">\\n              <img src=\"/sites/default/files/styles/jobs_list_logo/public/employer_logos/xlogo_315569006.jpg,qitok=80Da4_ZK.pagespeed.ic.XgUQtsUY9r.jpg\" class=\"img-fluid rounded align-self-center\" alt=\"...\">\\n            </a>\\n                  </div>\\n        <div class=\"col-10\">\\n          <div class=\"card-body p-2\">\\n            <a href=\"/job/senior-business-analyst\"><h5 class=\"card-title\"><span class=\"field field--name-title field--type-string field--label-hidden\">Senior Business Analyst</span>\\n</h5></a>\\n            <p class=\"card-text\">\\n              <a href=\"/employer/one-acre-fund\">One Acre Fund</a>  | <i class=\"fas fa-map-marker-alt\"></i> Kigali  |\\n              Published on 22-08-2022 |\\n              Deadline <time datetime=\"2022-11-17T23:59:59Z\" class=\"datetime\">17-11-2022</time>\\n<br/>\\n                              <br/>\\n                            <span class=\"badge badge-primary\">Job</span>\\n            </p>\\n          </div>\\n        </div>\\n      </div>\\n    </div>\\n  </div>\\n</article>\\n\\n  </div>\\n\\n    </div>\\n  \\n          </div>\\n</div>\\n\\n    </div>\\n  </div>\\n\\n\\n              </section>\\n            </main>\\n                          <div class=\"col-md-4\">\\n                                  <div class=\"jix_horizontal_sidebar sidebar col-md-\" id=\"jix_horizontal_sidebar\">\\n                    <aside class=\"section\" role=\"complementary\">\\n                        <div id=\"block-happynewyear2022\" class=\"block block-block-content block-block-content0973f7ec-16fe-4d4b-8981-b4612961778c\">\\n  \\n    \\n      <div class=\"content\">\\n      \\n\\n  <div class=\"field field--name-field-banner-image-location field--type-link field--label-hidden field__item\">\\n    <a href=\"https://www.jobinrwanda.com/hr-services\" target=\"_blank\">\\n      <img alt=\"\" class=\"jix-banner-image img-fluid mb-0 w-100 \" src=\"https://jirbucket.s3.eu-central-1.amazonaws.com/banners/HRMS/HRMS--SERVICES.gif\"/>\\n    </a>\\n  </div>\\n\\n    </div>\\n  </div>\\n<div id=\"block-webform\" class=\"block block-webform block-webform-block\">\\n  \\n      <h2>Subscribe to our newsletter</h2>\\n    \\n      <div class=\"content\">\\n      \\n<form class=\"webform-submission-form webform-submission-add-form webform-submission-general-newsletter-form webform-submission-general-newsletter-add-form js-webform-details-toggle webform-details-toggle\" data-drupal-selector=\"webform-submission-general-newsletter-add-form\" action=\"/jobs/all\" method=\"post\" id=\"webform-submission-general-newsletter-add-form\" accept-charset=\"UTF-8\">\\n  \\n  \\n\\n\\n\\n\\n\\n  <div class=\"js-form-item js-form-type-textfield form-type-textfield js-form-item-gen-news-noms form-item-gen-news-noms mb-3\">\\n          <label for=\"edit-gen-news-noms\" class=\"js-form-required form-required\">Names</label>\\n                    <input class=\"input-sm required form-control\" data-webform-required-error=\"Your name is mandatory\" data-drupal-selector=\"edit-gen-news-noms\" data-msg-maxlength=\"Names field has a maximum length of 255.\" data-msg-required=\"Your name is mandatory\" type=\"text\" id=\"edit-gen-news-noms\" name=\"gen_news_noms\" value=\"\" size=\"60\" maxlength=\"255\" required=\"required\" aria-required=\"true\"/>\\n\\n                      </div>\\n\\n\\n\\n\\n\\n\\n  <div class=\"js-form-item js-form-type-email form-type-email js-form-item-gen-news-email form-item-gen-news-email mb-3\">\\n          <label for=\"edit-gen-news-email\" class=\"js-form-required form-required\">Email</label>\\n                    <input class=\"input-sm form-email required form-control\" data-webform-required-error=\"Your email is mandatory\" data-drupal-selector=\"edit-gen-news-email\" data-msg-maxlength=\"Email field has a maximum length of 254.\" data-msg-required=\"Your email is mandatory\" data-msg-email=\"Email does not contain a valid email.\" type=\"email\" id=\"edit-gen-news-email\" name=\"gen_news_email\" value=\"\" size=\"60\" maxlength=\"254\" required=\"required\" aria-required=\"true\"/>\\n\\n                      </div>\\n<div data-drupal-selector=\"edit-actions\" class=\"form-actions webform-actions js-form-wrapper form-wrapper mb-3\" id=\"edit-actions\"><button class=\"webform-button--submit btn btn-block button button--primary js-form-submit form-submit btn btn-primary btn-sm col-12\" data-drupal-selector=\"edit-actions-submit\" type=\"submit\" id=\"edit-actions-submit\" name=\"op\" value=\"Subscribe\">Subscribe</button>\\n\\n</div>\\n<input autocomplete=\"off\" data-drupal-selector=\"form-sevfp11mzfanjjcumziryuyh5welxny0ye8v6x0uc5a\" type=\"hidden\" name=\"form_build_id\" value=\"form-SEvfP11mZfanJjcumZiRYUYH5WeLXNy0YE8v6x0Uc5A\" class=\"form-control\"/>\\n<input data-drupal-selector=\"edit-webform-submission-general-newsletter-add-form\" type=\"hidden\" name=\"form_id\" value=\"webform_submission_general_newsletter_add_form\" class=\"form-control\"/>\\n<input data-drupal-selector=\"edit-honeypot-time\" type=\"hidden\" name=\"honeypot_time\" value=\"jJ_ffsAhUR2Wu1F6xU3R_yqQhjqLGB8buAQhJaFiQeY\" class=\"form-control\"/>\\n<div class=\"url-textfield js-form-wrapper form-wrapper mb-3\" style=\"display: none !important;\">\\n\\n\\n\\n\\n\\n  <div class=\"js-form-item js-form-type-textfield form-type-textfield js-form-item-url form-item-url mb-3\">\\n          <label for=\"edit-url\">Leave this field blank</label>\\n                    <input autocomplete=\"off\" data-drupal-selector=\"edit-url\" data-msg-maxlength=\"Leave this field blank field has a maximum length of 128.\" type=\"text\" id=\"edit-url\" name=\"url\" value=\"\" size=\"20\" maxlength=\"128\" class=\"form-control\"/>\\n\\n                      </div>\\n</div>\\n\\n\\n  \\n</form>\\n\\n    </div>\\n  </div>\\n<div id=\"block-managedad\" class=\"block block-adsense block-adsense-managed-ad-block\">\\n  \\n    \\n      <div class=\"content\">\\n      <div class=\"text-align-center\">\\n  <div class=\"adsense responsive\">\\n    <script async src=\"https://pagead2.googlesyndication.com/pagead/js/adsbygoogle.js?client=ca-pub-1972606406114756\" crossorigin=\"anonymous\"></script>\\n<!-- responsive -->\\n<ins class=\"adsbygoogle\" style=\"display:block\" data-ad-client=\"ca-pub-1972606406114756\" data-ad-slot=\"5254503023\" data-ad-format=\"rectangle\" data-full-width-responsive=\"true\"></ins>\\n<script>(adsbygoogle=window.adsbygoogle||[]).push({});</script>\\n  </div>\\n</div>\\n\\n    </div>\\n  </div>\\n<div id=\"block-multiplebannerblock\" class=\"block block-block-content block-block-content32f1134f-7765-41a9-8889-66edf77155f4\">\\n  \\n    \\n      <div class=\"content\">\\n      \\n            <div class=\"clearfix text-formatted field field--name-body field--type-text-with-summary field--label-hidden field__item\"><style type=\"text/css\">@media (max-width:400px){.social-wrapper{text-align:left!important}.social-wrapper>iframe{width:-webkit-fill-available}}</style><p class=\"d-flex text-align-center\"><a href=\"https://www.jobineastafrica.com/\"><img alt=\"\" src=\"https://jirbucket.s3.eu-central-1.amazonaws.com/banners/JinX/Check_On_Other_Job_In_X.gif\"/></a>\\xc2\\xa0<a href=\"https://cdpafrica.org/courses/policy-analysis-and-preparation-of-policy-papers-position-paper-policy-brief-policy-pitch-and-memo/\" target=\"_blank\"><img src=\"https://jirbucket.s3.eu-central-1.amazonaws.com/banners/CDP/Policy+analysis+and+preparation+of+policy+papers+CDP+POSTER+200%2C600+1.gif\"/></a></p>\\n\\n<p class=\"text-align-center\"><a href=\"http://www.jobinrwanda.com\"><img alt=\"\" src=\"https://rirbucket.s3.eu-central-1.amazonaws.com/banners/165X400.gif\"/></a></p>\\n\\n<p class=\"d-flex text-align-center\"><a href=\"https://www.jobineastafrica.com/\"><img alt=\"\" src=\"https://jirbucket.s3.eu-central-1.amazonaws.com/banners/JinX/Check_On_Other_Job_In_X.gif\"/></a>\\xc2\\xa0<a href=\"https://www.houseinrwanda.com/index.php/auctions\" target=\"_blank\"><img src=\"https://jirbucket.s3.eu-central-1.amazonaws.com/banners/HiR/Auction/Auction_Visits_.gif\"/></a></p></div>\\n      \\n    </div>\\n  </div>\\n\\n\\n                    </aside>\\n                  </div>\\n                                              </div>\\n                      </div>\\n        </div>\\n          </div>\\n    \\n    <footer class=\"footer site-footer mt-3 pb-0\">\\n              <div class=\"container-fluid p-0\">\\n                      <div class=\"container pb-2\">\\n              <div class=\"row g-2\">\\n                <div class=\"col-lg-3 col-md-6 col-sm-6 mb-2\">  <section class=\"region region-footer-first\">\\n    <div id=\"block-addressblock\" class=\"block block-jix-interface block-address-block\">\\n  \\n    \\n      <div class=\"content\">\\n      <div class=\"card footer-block\">\\n    <div class=\"card-header\"><i class=\"fas fa-home\"></i> Get in touch</div>\\n    <div class=\"card-body\">\\n      <ul class=\"list-group\">\\n        <li class=\"list-group-item border-0 py-1 px-0 justify-content-around\">Job in Rwanda - (J.I.R Ltd) </li>\\n        <li class=\"list-group-item border-0 py-1 px-0\"><i class=\"fas fa-map-marker-alt\"></i> KG 28 Ave #72 - Kimihurura</li>\\n        <li class=\"list-group-item border-0 py-1 px-0\"><i class=\"fas fa-envelope\"></i> P.O. Box 4062 Kigali, RWANDA</li>\\n        <li class=\"list-group-item border-0 py-1 px-0\"><i class=\"fas fa-phone\"></i> (+250) 788 300 952</li>\\n        <li class=\"list-group-item border-0 py-1 px-0\"><i class=\"fas fa-at\"></i> info@jobinrwanda.com</li>\\n      </ul>\\n    </div>\\n</div>\\n\\n    </div>\\n  </div>\\n\\n  </section>\\n</div>\\n                <div class=\"col-lg-3 col-md-6 col-sm-6 mb-2\">  <section class=\"region region-footer-second\">\\n    <div id=\"block-servicesblock\" class=\"block block-jix-interface block-services-block\">\\n  \\n    \\n      <div class=\"content\">\\n      <div class=\"card footer-block\">\\n    <div class=\"card-header\">\\n      <i class=\"fas fa-briefcase\"></i> Our services\\n    </div>\\n    <div class=\"card-body\">\\n                    <i class=\"fas fa-check\"></i> Advertisement<br>\\n                    <i class=\"fas fa-check\"></i> Shortlisting<br>\\n                    <i class=\"fas fa-check\"></i> Recruitment<br>\\n                    <i class=\"fas fa-check\"></i> Marketing<br>\\n                    <i class=\"fas fa-check\"></i> Labour Market Data<br>\\n            </div>\\n</div>\\n\\n    </div>\\n  </div>\\n\\n  </section>\\n</div>\\n                <div class=\"col-lg-3 col-md-6 col-sm-6 mb-2\">  <section class=\"region region-footer-third\">\\n    <div id=\"block-jobssitesblock\" class=\"block block-jix-interface block-jobs-sites-block\">\\n  \\n    \\n      <div class=\"content\">\\n      <div class=\"card footer-block\">\\n  <div class=\"card-header\">\\n      <i class=\"fas fa-globe-africa\"></i> Jobs elsewhere\\n    </div>\\n    <div class=\"card-body\">\\n                                <i class=\"fa fa-check\"></i><a href=\"https://www.jobinuganda.com\" target=\"_blank\"> jobinuganda.com</a><br>\\n                                <i class=\"fa fa-check\"></i><a href=\"https://www.jobintanzania.com\" target=\"_blank\"> jobintanzania.com</a><br>\\n                                <i class=\"fa fa-check\"></i><a href=\"https://www.jobinkenya.com\" target=\"_blank\"> jobinkenya.com</a><br>\\n                                <i class=\"fa fa-check\"></i><a href=\"https://www.jobinburundi.com\" target=\"_blank\"> jobinburundi.com</a><br>\\n                                <i class=\"fa fa-check\"></i><a href=\"https://www.jobincameroun.com\" target=\"_blank\"> jobincameroun.com</a><br>\\n                                <i class=\"fa fa-check\"></i><a href=\"https://www.jobenrdc.com\" target=\"_blank\"> jobenrdc.com</a><br>\\n            </div>\\n</div>\\n\\n    </div>\\n  </div>\\n\\n  </section>\\n</div>\\n                <div class=\"col-lg-3 col-md-6 col-sm-6 mb-2\">  <section class=\"region region-footer-fourth\">\\n    <div id=\"block-realtimefigures\" class=\"block block-jix-interface block-jix-realtime-stats\">\\n  \\n    \\n      <div class=\"content\">\\n      <div class=\"card footer-block\">\\n  <div class=\"card-header\">\\n    <i class=\"fas fa-chart-bar\"></i> Realtime figures\\n  </div>\\n  <div class=\"card-body\">\\n    <ul class=\"list-group\">\\n      <li class=\"list-group-item d-flex justify-content-between align-items-center border-0 py-1 px-0\" id=\"jobs-count\">Published jobs <span class=\"badge rounded-pill bg-dark\">4,348</span></li>\\n      <li class=\"list-group-item d-flex justify-content-between align-items-center border-0 py-1 px-0\" id=\"employers-count\">Registered employers <span class=\"badge rounded-pill bg-dark\">2,604</span></li>\\n      <li class=\"list-group-item d-flex justify-content-between align-items-center border-0 py-1 px-0\" id=\"applications-count\">Registered job candidates <span class=\"badge rounded-pill bg-dark\">49,179</span></li>\\n    </ul>\\n  </div>\\n</div>\\n\\n    </div>\\n  </div>\\n\\n  </section>\\n</div>\\n              </div>\\n            </div>\\n                                <div class=\"site-footer__bottom jix-footer-bottom\">\\n              <div class=\"container text-center\">\\n                  <section class=\"row region region-footer-social\">\\n    <div id=\"block-socialmediabuttonsblock\" class=\"block block-jix-interface block-social-media-buttons-block\">\\n  \\n    \\n      <div class=\"content\">\\n        <a href=\"https://www.facebook.com/jobinrwanda\" target=\"_blank\" class=\"hir-social-link\">\\n    <i class=\"fa-brands fa-facebook fa-2x mx-1\" style=\"color: #0B8AEF\"></i>\\n  </a>\\n  <a href=\"https://twitter.com/JobInRwanda\" target=\"_blank\" class=\"hir-social-link\">\\n    <i class=\"fa-brands fa-twitter fa-2x mx-1\" style=\"color: #1A91DA\"></i>\\n  </a>\\n  <a href=\"https://www.instagram.com/jobinrwanda/\" target=\"_blank\" class=\"hir-social-link\">\\n    <i class=\"fa-brands fa-instagram fa-2x mx-1\" style=\"color: #D62977\"></i>\\n  </a>\\n\\n    </div>\\n  </div>\\n\\n  </section>\\n\\n                  <section class=\"row region region-footer-fifth\">\\n    <div id=\"block-copyrightblock\" class=\"block block-jix-interface block-copyright-block\">\\n  \\n    \\n      <div class=\"content\">\\n      <div class=\"text-center\">\\n    <div class=\"text-white\">Copyright <i class=\"far fa-copyright\"></i> 2022 Job in Rwanda - Site owner. All Rights Reserved.</div>\\n    <div class=\"site-details\">\\n        <a href=\"/page/terms-use\">Terms of Use</a> | <a href=\"/page/privacy-policy\">Privacy Policy</a> | <a href=\"/user\">Site administration</a>\\n    </div>\\n</div>\\n\\n    </div>\\n  </div>\\n\\n  </section>\\n\\n              </div>\\n            </div>\\n                  </div>\\n          </footer>\\n  </div>\\n</div>\\n\\n\\n  </div>\\n\\n    \\n    <script type=\"application/json\" data-drupal-selector=\"drupal-settings-json\">{\"path\":{\"baseUrl\":\"\\\\/\",\"scriptPath\":null,\"pathPrefix\":\"\",\"currentPath\":\"jobs\\\\/all\",\"currentPathIsAdmin\":false,\"isFront\":false,\"currentLanguage\":\"en\"},\"pluralDelimiter\":\"\\\\u0003\",\"suppressDeprecationErrors\":true,\"ajaxPageState\":{\"libraries\":\"addtoany\\\\/addtoany,adsense\\\\/adsense.css,back_to_top\\\\/back_to_top_icon,back_to_top\\\\/back_to_top_js,bootstrap_barrio\\\\/affix,bootstrap_barrio\\\\/fontawesome,bootstrap_barrio\\\\/form,bootstrap_barrio\\\\/global-styling,bootstrap_barrio\\\\/messages_light,bootstrap_barrio\\\\/node,bootstrap_barrio\\\\/roboto,clientside_validation_jquery\\\\/cv.jquery.ckeditor,clientside_validation_jquery\\\\/cv.jquery.validate,core\\\\/drupal.autocomplete,fontawesome\\\\/fontawesome.svg,fontawesome\\\\/fontawesome.svg.shim,google_analytics\\\\/google_analytics,jix_core_theme\\\\/bootstrap,jix_core_theme\\\\/global-styling,system\\\\/base,views\\\\/views.module,views_autocomplete_filters\\\\/drupal.views-autocomplete-filters,webform\\\\/webform.element.details.save,webform\\\\/webform.element.details.toggle,webform\\\\/webform.element.message,webform\\\\/webform.form\",\"theme\":\"jix_core_theme\",\"theme_token\":null},\"ajaxTrustedUrl\":{\"form_action_p_pvdeGsVG5zNF_XLGPTvYSKCf43t8qZYSwcfZl2uzM\":true,\"\\\\/jobs\\\\/search-result\":true},\"back_to_top\":{\"back_to_top_button_trigger\":100,\"back_to_top_prevent_on_mobile\":true,\"back_to_top_prevent_in_admin\":false,\"back_to_top_button_type\":\"image\",\"back_to_top_button_text\":\"Back to top\"},\"clientside_validation_jquery\":{\"validate_all_ajax_forms\":2,\"force_validate_on_blur\":false,\"messages\":{\"required\":\"This field is required.\",\"remote\":\"Please fix this field.\",\"email\":\"Please enter a valid email address.\",\"url\":\"Please enter a valid URL.\",\"date\":\"Please enter a valid date.\",\"dateISO\":\"Please enter a valid date (ISO).\",\"number\":\"Please enter a valid number.\",\"digits\":\"Please enter only digits.\",\"equalTo\":\"Please enter the same value again.\",\"maxlength\":\"Please enter no more than {0} characters.\",\"minlength\":\"Please enter at least {0} characters.\",\"rangelength\":\"Please enter a value between {0} and {1} characters long.\",\"range\":\"Please enter a value between {0} and {1}.\",\"max\":\"Please enter a value less than or equal to {0}.\",\"min\":\"Please enter a value greater than or equal to {0}.\",\"step\":\"Please enter a multiple of {0}.\"}},\"google_analytics\":{\"account\":\"UA-42852300-1\",\"trackOutbound\":true,\"trackMailto\":true,\"trackTel\":true,\"trackDownload\":true,\"trackDownloadExtensions\":\"7z|aac|arc|arj|asf|asx|avi|bin|csv|doc(x|m)?|dot(x|m)?|exe|flv|gif|gz|gzip|hqx|jar|jpe?g|js|mp(2|3|4|e?g)|mov(ie)?|msi|msp|pdf|phps|png|ppt(x|m)?|pot(x|m)?|pps(x|m)?|ppam|sld(x|m)?|thmx|qtm?|ra(m|r)?|sea|sit|tar|tgz|torrent|txt|wav|wma|wmv|wpd|xls(x|m|b)?|xlt(x|m)|xlam|xml|z|zip\"},\"smartIp\":\"{\\\\u0022location\\\\u0022:{\\\\u0022source\\\\u0022:\\\\u0022smart_ip\\\\u0022,\\\\u0022ipAddress\\\\u0022:\\\\u002234.86.0.226\\\\u0022,\\\\u0022ipVersion\\\\u0022:4,\\\\u0022timestamp\\\\u0022:1668352900,\\\\u0022originalData\\\\u0022:{\\\\u0022ipNumber\\\\u0022:\\\\u0022576061666\\\\u0022,\\\\u0022ipVersion\\\\u0022:4,\\\\u0022ipAddress\\\\u0022:\\\\u002234.86.0.226\\\\u0022,\\\\u0022mcc\\\\u0022:null,\\\\u0022mnc\\\\u0022:null,\\\\u0022mobileCarrierName\\\\u0022:null,\\\\u0022weatherStationName\\\\u0022:null,\\\\u0022weatherStationCode\\\\u0022:null,\\\\u0022iddCode\\\\u0022:null,\\\\u0022areaCode\\\\u0022:null,\\\\u0022latitude\\\\u0022:null,\\\\u0022longitude\\\\u0022:null,\\\\u0022countryName\\\\u0022:\\\\u0022United States of America\\\\u0022,\\\\u0022countryCode\\\\u0022:\\\\u0022US\\\\u0022,\\\\u0022usageType\\\\u0022:null,\\\\u0022elevation\\\\u0022:null,\\\\u0022netSpeed\\\\u0022:null,\\\\u0022timeZone\\\\u0022:null,\\\\u0022zipCode\\\\u0022:null,\\\\u0022domainName\\\\u0022:null,\\\\u0022isp\\\\u0022:null,\\\\u0022cityName\\\\u0022:\\\\u0022Washington\\\\u0022,\\\\u0022regionName\\\\u0022:\\\\u0022District of Columbia\\\\u0022},\\\\u0022country\\\\u0022:\\\\u0022United States of America\\\\u0022,\\\\u0022countryCode\\\\u0022:\\\\u0022US\\\\u0022,\\\\u0022region\\\\u0022:\\\\u0022District of Columbia\\\\u0022,\\\\u0022regionCode\\\\u0022:\\\\u0022\\\\u0022,\\\\u0022city\\\\u0022:\\\\u0022Washington\\\\u0022,\\\\u0022zip\\\\u0022:\\\\u0022\\\\u0022,\\\\u0022latitude\\\\u0022:\\\\u0022\\\\u0022,\\\\u0022longitude\\\\u0022:\\\\u0022\\\\u0022,\\\\u0022timeZone\\\\u0022:\\\\u0022\\\\u0022,\\\\u0022isEuCountry\\\\u0022:false,\\\\u0022isGdprCountry\\\\u0022:false}}\",\"smartIpSrc\":{\"smartIp\":\"smart_ip\",\"geocodedSmartIp\":\"geocoded_smart_ip\",\"w3c\":\"w3c\"},\"user\":{\"uid\":0,\"permissionsHash\":\"058c78386a46170fc26c83fd2c54c15bd7387751c4836dc525699fd8aa0ea6b6\"},\"site\":{\"target_country\":\"RW\",\"stats_url\":\"\"}}</script>\\n<script src=\"/core/assets,_vendor,_jquery,_jquery.min.js,qv==3.6.0+misc,_polyfills,_element.matches.js,qv==9.4.8+misc,_polyfills,_object.assign.js,qv==9.4.8+misc,_polyfills,_nodelist.foreach.js,qv==9.4.8.pagespeed.jc.oQ8gaJT3di.js\"></script><script>eval(mod_pagespeed_bNcg0xo57d);</script>\\n<script>eval(mod_pagespeed_AYL_9DEvgY);</script>\\n<script>eval(mod_pagespeed_ewkRNPQygP);</script>\\n<script>eval(mod_pagespeed_tNDYSYPIbm);</script>\\n<script src=\"/core/assets,_vendor,_css-escape,_css.escape.js,qv==1.5.1+assets,_vendor,_once,_once.min.js,qv==1.0.1+assets,_vendor,_jquery-once,_jquery.once.min.js,qv==2.2.3+misc,_drupalSettingsLoader.js,qv==9.4.8+misc,_drupal.js,qv==9.4.8+misc,_drupal.init.js,qv==9.4.8+assets,_vendor,_jquery.ui,_ui,_version-min.js,qv==9.4.8+assets,_vendor,_jquery.ui,_ui,_data-min.js,qv==9.4.8+assets,_vendor,_jquery.ui,_ui,_disable-selection-min.js,qv==9.4.8+assets,_vendor,_jquery.ui,_ui,_focusable-min.js,qv==9.4.8+assets,_vendor,_jquery.ui,_ui,_form-min.js,qv==9.4.8+assets,_vendor,_jquery.ui,_ui,_ie-min.js,qv==9.4.8+assets,_vendor,_jquery.ui,_ui,_jquery-patch-min.js,qv==9.4.8+assets,_vendor,_jquery.ui,_ui,_keycode-min.js,qv==9.4.8+assets,_vendor,_jquery.ui,_ui,_plugin-min.js,qv==9.4.8+assets,_vendor,_jquery.ui,_ui,_safe-active-element-min.js,qv==9.4.8+assets,_vendor,_jquery.ui,_ui,_safe-blur-min.js,qv==9.4.8.pagespeed.jc.eaGi_yT4DZ.js\"></script><script>eval(mod_pagespeed_FQTUgXT8Rt);</script>\\n<script>eval(mod_pagespeed_BZmQgC8LGt);</script>\\n<script>eval(mod_pagespeed_hkUfBNGypl);</script>\\n<script>eval(mod_pagespeed_mifH41niV0);</script>\\n<script>eval(mod_pagespeed_Nt6dNHZLWs);</script>\\n<script>eval(mod_pagespeed_B7wP0rtqNK);</script>\\n<script>eval(mod_pagespeed_OWvPz_s5eW);</script>\\n<script>eval(mod_pagespeed_HGyw09rINW);</script>\\n<script>eval(mod_pagespeed_F5evMv48Pq);</script>\\n<script>eval(mod_pagespeed_STblOC7Jh$);</script>\\n<script>eval(mod_pagespeed_Ht7chEBHF5);</script>\\n<script>eval(mod_pagespeed_hNFgHqprgT);</script>\\n<script>eval(mod_pagespeed_Afm6b5D1uV);</script>\\n<script>eval(mod_pagespeed_qnxSgN6PLQ);</script>\\n<script>eval(mod_pagespeed_JavAl472T7);</script>\\n<script>eval(mod_pagespeed_05OpOLkNjx);</script>\\n<script>eval(mod_pagespeed_3JQhWMqa5I);</script>\\n<script src=\"/core,_assets,_vendor,_jquery.ui,_ui,_scroll-parent-min.js,qv==9.4.8+core,_assets,_vendor,_jquery.ui,_ui,_unique-id-min.js,qv==9.4.8+core,_assets,_vendor,_jquery.ui,_ui,_widget-min.js,qv==9.4.8+core,_assets,_vendor,_jquery.ui,_ui,_widgets,_autocomplete-min.js,qv==9.4.8+core,_assets,_vendor,_jquery.ui,_ui,_labels-min.js,qv==9.4.8+core,_assets,_vendor,_jquery.ui,_ui,_widgets,_menu-min.js,qv==9.4.8+modules,_contrib,_jquery_ui_effects,_jquery.ui,_ui,_effect-min.js,qv==1.12.1+core,_assets,_vendor,_tabbable,_index.umd.min.js,qv==5.3.2+core,_misc,_autocomplete.js,qv==9.4.8.pagespeed.jc.HdnYjNDfYx.js\"></script><script>eval(mod_pagespeed_fAqfJgpmMv);</script>\\n<script>eval(mod_pagespeed__4xqof5cQF);</script>\\n<script>eval(mod_pagespeed_0$hHYDQlxm);</script>\\n<script>eval(mod_pagespeed_n7LKFEbF6y);</script>\\n<script>eval(mod_pagespeed_D9Lspuj7vM);</script>\\n<script>eval(mod_pagespeed_tJWihLfaDM);</script>\\n<script>eval(mod_pagespeed_BVNju1LsgD);</script>\\n<script>eval(mod_pagespeed_aySPvKp29y);</script>\\n<script>eval(mod_pagespeed_bxTTy4C2RK);</script>\\n<script src=\"https://static.addtoany.com/menu/page.js\" async></script>\\n<script src=\"/modules,_contrib,_addtoany,_js,_addtoany.js,qv==9.4.8+core,_misc,_jquery.once.bc.js,qv==9.4.8+modules,_contrib,_back_to_top,_js,_back_to_top.js,qv==9.4.8+modules,_contrib,_google_analytics,_js,_google_analytics.js,qv==9.4.8+themes,_custom,_jix_core_theme,_js,_bootstrap.min.js,qrkupby.pagespeed.jc.5v9i-LV9wH.js\"></script><script>eval(mod_pagespeed_Fdg1soSW6T);</script>\\n<script>eval(mod_pagespeed_xNxaKYVaT1);</script>\\n<script>eval(mod_pagespeed_YK8SJYecjT);</script>\\n<script>eval(mod_pagespeed_cVmE_nT01z);</script>\\n<script>eval(mod_pagespeed_70lxof_Xlo);</script>\\n<script src=\"/libraries,_jquery.select2,_dist,_js,_select2.min.js,qv==4.0.13+modules,_contrib,_webform,_js,_webform.element.select2.js,qv==9.4.8.pagespeed.jc.rKx5SV_AqL.js\"></script><script>eval(mod_pagespeed_7R2Z$2ATgc);</script>\\n<script>eval(mod_pagespeed_0uoq6BB3Ey);</script>\\n<script src=\"/libraries,_jquery.intl-tel-input,_build,_js,_intlTelInput.min.js,qv==17.0.16+libraries,_jquery.intl-tel-input,_build,_js,_intlTelInput-jquery.min.js,qv==17.0.16+modules,_contrib,_webform,_js,_webform.element.telephone.js,qv==9.4.8+modules,_contrib,_jquery_ui_effects,_jquery.ui,_ui,_effects,_effect-fade-min.js,qv==1.12.1+themes,_custom,_jix_core_theme,_js,_barrio.js,qv==1.x+themes,_custom,_jix_core_theme,_node_modules,_readmore-js,_readmore.min.js,qv==1.x+themes,_custom,_jix_core_theme,_js,_global.js,qv==1.x+themes,_custom,_jix_core_theme,_js,_custom.js,qv==1.x+themes,_contrib,_bootstrap_barrio,_js,_affix.js,qv==9.4.8+core,_misc,_debounce.js,qv==9.4.8+core,_misc,_form.js,qv==9.4.8+modules,_contrib,_webform,_js,_webform.behaviors.js,qv==9.4.8+core,_misc,_states.js,qv==9.4.8.pagespeed.jc.tivtApkuNT.js\"></script><script>eval(mod_pagespeed_2P2b0bpirW);</script>\\n<script>eval(mod_pagespeed_M65zN7jWUT);</script>\\n<script>eval(mod_pagespeed_5hQsfurz4g);</script>\\n<script>eval(mod_pagespeed_a99ShSNQ5o);</script>\\n<script>eval(mod_pagespeed_CFx61fSpBs);</script>\\n<script>eval(mod_pagespeed_cKdTEwomcZ);</script>\\n<script>eval(mod_pagespeed_NiZeU1r$y0);</script>\\n<script>eval(mod_pagespeed_aLQAOCvOVU);</script>\\n<script>eval(mod_pagespeed_E$jlRSSAC6);</script>\\n<script>eval(mod_pagespeed_NwtcWQxOG7);</script>\\n<script>eval(mod_pagespeed_VZqcvFdTIk);</script>\\n<script>eval(mod_pagespeed_JIfsUmNRXA);</script>\\n<script>eval(mod_pagespeed_8SZsK5RAob);</script>\\n<script src=\"/modules,_contrib,_webform,_js,_webform.states.js,qv==9.4.8+modules,_contrib,_webform,_js,_webform.form.js,qv==9.4.8+modules,_contrib,_webform,_js,_webform.element.details.save.js,qv==9.4.8+core,_misc,_announce.js,qv==9.4.8+modules,_contrib,_webform,_js,_webform.element.details.toggle.js,qv==9.4.8+modules,_contrib,_webform,_js,_webform.element.message.js,qv==9.4.8+modules,_contrib,_clientside_validation,_clientside_validation_jquery,_js,_cv.jquery.validate.js,qrkupby+modules,_contrib,_views_autocomplete_filters,_js,_views-autocomplete-filters.js,qv==9.4.8+core,_misc,_progress.js,qv==9.4.8+core,_misc,_ajax.js,qv==9.4.8+core,_misc,_jquery.tabbable.shim.js,qv==9.4.8+core,_misc,_position.js,qv==9.4.8.pagespeed.jc._85-Ee2Bdr.js\"></script><script>eval(mod_pagespeed_ilEbvGp$KK);</script>\\n<script>eval(mod_pagespeed_c092uP3Q$x);</script>\\n<script>eval(mod_pagespeed_7xpd5gMgQa);</script>\\n<script>eval(mod_pagespeed_BkM6n3PhaN);</script>\\n<script>eval(mod_pagespeed_DVR9OkxuPs);</script>\\n<script>eval(mod_pagespeed_6w$KB2znfF);</script>\\n<script src=\"https://cdn.jsdelivr.net/npm/jquery-validation@1.17.0/dist/jquery.validate.min.js\"></script>\\n<script>eval(mod_pagespeed_5iUxYoUQr0);</script>\\n<script src=\"/modules/contrib/clientside_validation/clientside_validation_jquery/js/cv.jquery.ckeditor.js?rkupby\"></script>\\n<script>eval(mod_pagespeed_FysgVIzI3o);</script>\\n<script>eval(mod_pagespeed_N4ZoK$OGBl);</script>\\n<script>eval(mod_pagespeed_Z8tGpcMpAs);</script>\\n<script>eval(mod_pagespeed_i71Rpt62sJ);</script>\\n<script>eval(mod_pagespeed_n7D8X$PIl1);</script>\\n\\n  </body>\\n</html>\\n'"
            ]
          },
          "metadata": {},
          "execution_count": 143
        }
      ]
    },
    {
      "cell_type": "code",
      "source": [
        "soup = BeautifulSoup(content_jobs, 'html.parser')"
      ],
      "metadata": {
        "id": "caYrsRwJb-xq"
      },
      "execution_count": null,
      "outputs": []
    },
    {
      "cell_type": "code",
      "source": [
        "adverts = soup.find_all('div', class_ = 'views-row')"
      ],
      "metadata": {
        "id": "fzqb2eo6hkan"
      },
      "execution_count": null,
      "outputs": []
    },
    {
      "cell_type": "code",
      "source": [
        "len(adverts)"
      ],
      "metadata": {
        "colab": {
          "base_uri": "https://localhost:8080/"
        },
        "id": "oVdxsDH1iCj4",
        "outputId": "4f9e6f0c-8990-4ab0-eac3-c427da86c057"
      },
      "execution_count": null,
      "outputs": [
        {
          "output_type": "execute_result",
          "data": {
            "text/plain": [
              "76"
            ]
          },
          "metadata": {},
          "execution_count": 146
        }
      ]
    },
    {
      "cell_type": "markdown",
      "source": [
        "### Prototype a model with a single record"
      ],
      "metadata": {
        "id": "b5vNyt-0iers"
      }
    },
    {
      "cell_type": "markdown",
      "source": [
        "Company Logo"
      ],
      "metadata": {
        "id": "BWfkg55ydRVo"
      }
    },
    {
      "cell_type": "code",
      "source": [
        "advert = adverts[0]"
      ],
      "metadata": {
        "id": "6goIVISLilDk"
      },
      "execution_count": null,
      "outputs": []
    },
    {
      "cell_type": "code",
      "source": [
        "img_tag = advert.div.a.img"
      ],
      "metadata": {
        "id": "IUsCnsnNjCYd"
      },
      "execution_count": null,
      "outputs": []
    },
    {
      "cell_type": "code",
      "source": [
        "company_logo = img_tag"
      ],
      "metadata": {
        "id": "X5Gk5LOomnCN"
      },
      "execution_count": null,
      "outputs": []
    },
    {
      "cell_type": "markdown",
      "source": [
        "Job Title"
      ],
      "metadata": {
        "id": "ZHTM89SndUoA"
      }
    },
    {
      "cell_type": "code",
      "source": [
        "job_title = advert.find('span').getText('title')"
      ],
      "metadata": {
        "id": "43g4gSHmm2nM"
      },
      "execution_count": null,
      "outputs": []
    },
    {
      "cell_type": "markdown",
      "source": [
        "Job URL"
      ],
      "metadata": {
        "id": "F8HHetjsdXnd"
      }
    },
    {
      "cell_type": "code",
      "source": [
        "job_url = advert.find('a')['href']"
      ],
      "metadata": {
        "id": "_gbiZA2JnZHN"
      },
      "execution_count": null,
      "outputs": []
    },
    {
      "cell_type": "markdown",
      "source": [
        "Company Name"
      ],
      "metadata": {
        "id": "HDnEgj-sdZEO"
      }
    },
    {
      "cell_type": "code",
      "source": [
        "company_name= advert.find('p').find('a').getText()"
      ],
      "metadata": {
        "id": "Bn2TqbDyonod"
      },
      "execution_count": null,
      "outputs": []
    },
    {
      "cell_type": "markdown",
      "source": [
        "Company Link"
      ],
      "metadata": {
        "id": "uMTi7HjodbPO"
      }
    },
    {
      "cell_type": "code",
      "source": [
        "company_link = advert.find('p').find('a')"
      ],
      "metadata": {
        "id": "7afOBolTnk1P"
      },
      "execution_count": null,
      "outputs": []
    },
    {
      "cell_type": "markdown",
      "source": [
        "Advert Type"
      ],
      "metadata": {
        "id": "fq81UmrXdeCN"
      }
    },
    {
      "cell_type": "code",
      "source": [
        "advert_type = advert.find('span', class_ = 'badge badge-primary').getText()"
      ],
      "metadata": {
        "id": "GnZUUVw8qgJO"
      },
      "execution_count": null,
      "outputs": []
    },
    {
      "cell_type": "markdown",
      "source": [
        "Deadline"
      ],
      "metadata": {
        "id": "ECsM9Ww9gCd3"
      }
    },
    {
      "cell_type": "code",
      "source": [
        "deadline = advert.find('time', class_ = 'datetime').getText()"
      ],
      "metadata": {
        "id": "6PtF7Z12trAl"
      },
      "execution_count": null,
      "outputs": []
    },
    {
      "cell_type": "markdown",
      "source": [
        "Today's date"
      ],
      "metadata": {
        "id": "rOxpifHQdsLi"
      }
    },
    {
      "cell_type": "code",
      "source": [
        "today = datetime.today().strftime('%Y-%m-%d')"
      ],
      "metadata": {
        "id": "JoRW5mBtvGSL"
      },
      "execution_count": null,
      "outputs": []
    },
    {
      "cell_type": "markdown",
      "source": [
        "### Generalize the model with a function"
      ],
      "metadata": {
        "id": "WGlmbCDCxP83"
      }
    },
    {
      "cell_type": "code",
      "source": [
        "df = pd.DataFrame()\n",
        "df['link'] = None\n",
        "df['title'] = None\n",
        "df['company_link'] = None\n",
        "df['company'] = None\n",
        "df['type'] = None"
      ],
      "metadata": {
        "id": "eVm6Y_n6a2QN"
      },
      "execution_count": null,
      "outputs": []
    },
    {
      "cell_type": "code",
      "source": [
        "def parse_content(content, advert_type):\n",
        "  link = []\n",
        "  title = []\n",
        "  company = []\n",
        "  company_link = []\n",
        "  job_type = []\n",
        "  for index, advert in enumerate(content):\n",
        "    link.append(advert.find('a')['href'])\n",
        "    title.append(advert.find('span').getText())\n",
        "    company.append(str(advert.find('p').find('a').getText()))\n",
        "    company_link.append(advert.find('p').find('a'))\n",
        "    job_type.append(advert_type)\n",
        "  return link, title, company, company_link, job_type"
      ],
      "metadata": {
        "id": "8C0JZRJnxXYn"
      },
      "execution_count": null,
      "outputs": []
    },
    {
      "cell_type": "markdown",
      "source": [
        "Jobs Advert"
      ],
      "metadata": {
        "id": "1J-eXeoCLHbY"
      }
    },
    {
      "cell_type": "code",
      "source": [
        "\n",
        "content_jobs_bs = BeautifulSoup(content_jobs, 'html.parser')\n",
        "content_jobs_titles = content_jobs_bs.find_all('div', class_='card-body p-2')\n",
        "df['link'], df['title'], df['company'], df['company_link'], df['type']= parse_content(content_jobs_titles, advert_type='Job')"
      ],
      "metadata": {
        "id": "t6Ka-28Zzpe-"
      },
      "execution_count": null,
      "outputs": []
    },
    {
      "cell_type": "code",
      "source": [
        "df['link']"
      ],
      "metadata": {
        "colab": {
          "base_uri": "https://localhost:8080/"
        },
        "id": "h3OTsLmvM3kG",
        "outputId": "324e84c7-1d77-4557-ae3e-a3cd41d2e861"
      },
      "execution_count": null,
      "outputs": [
        {
          "output_type": "execute_result",
          "data": {
            "text/plain": [
              "0                            /job/operations-manager-6\n",
              "1                          /job/account-manager-credit\n",
              "2                                   /job/legal-manager\n",
              "3     /job/district-coordinatorjunior-district-manager\n",
              "4                          /job/radio-sales-executives\n",
              "                            ...                       \n",
              "71                               /job/rwanda-tree-lead\n",
              "72      /index.php/job/rwanda-potato-seed-venture-lead\n",
              "73                   /job/it-operations-senior-manager\n",
              "74             /job/rwanda-seed-innovation-centre-lead\n",
              "75                        /job/senior-business-analyst\n",
              "Name: link, Length: 76, dtype: object"
            ]
          },
          "metadata": {},
          "execution_count": 160
        }
      ]
    },
    {
      "cell_type": "code",
      "source": [
        "list_description = []\n",
        "for i in range(len(df)):\n",
        "  link = 'https://www.jobinrwanda.com' + df['link'][i]\n",
        "  print(link, i)"
      ],
      "metadata": {
        "colab": {
          "base_uri": "https://localhost:8080/"
        },
        "id": "VZsM6B65Y4uZ",
        "outputId": "86599115-19d2-48d9-ec51-a9ae37e33934"
      },
      "execution_count": null,
      "outputs": [
        {
          "output_type": "stream",
          "name": "stdout",
          "text": [
            "https://www.jobinrwanda.com/job/operations-manager-6 0\n",
            "https://www.jobinrwanda.com/job/account-manager-credit 1\n",
            "https://www.jobinrwanda.com/job/legal-manager 2\n",
            "https://www.jobinrwanda.com/job/district-coordinatorjunior-district-manager 3\n",
            "https://www.jobinrwanda.com/job/radio-sales-executives 4\n",
            "https://www.jobinrwanda.com/job/radio-presenter-0 5\n",
            "https://www.jobinrwanda.com/job/driver-16 6\n",
            "https://www.jobinrwanda.com/job/procurement-and-logistics-officer 7\n",
            "https://www.jobinrwanda.com/job/product-manager-1 8\n",
            "https://www.jobinrwanda.com/job/aftercare-vehicle-maintenance-manager 9\n",
            "https://www.jobinrwanda.com/job/finance-officer-9 10\n",
            "https://www.jobinrwanda.com/job/communications-officer-8 11\n",
            "https://www.jobinrwanda.com/job/lecturer-communication-and-writing 12\n",
            "https://www.jobinrwanda.com/job/research-associate-ra-0 13\n",
            "https://www.jobinrwanda.com/job/office-assistant-0 14\n",
            "https://www.jobinrwanda.com/job/head-field-officehuye 15\n",
            "https://www.jobinrwanda.com/job/human-resources-assistant-0 16\n",
            "https://www.jobinrwanda.com/job/rwanda-impact-specialist 17\n",
            "https://www.jobinrwanda.com/job/operations-support-manager-africa 18\n",
            "https://www.jobinrwanda.com/job/accounting-supervisor 19\n",
            "https://www.jobinrwanda.com/job/accounting-manager-1 20\n",
            "https://www.jobinrwanda.com/job/business-development-officer 21\n",
            "https://www.jobinrwanda.com/job/regional-grants-officer-central-africa 22\n",
            "https://www.jobinrwanda.com/job/global-head-corporate-communications 23\n",
            "https://www.jobinrwanda.com/index.php/job/public-relations-officer 24\n",
            "https://www.jobinrwanda.com/job/grants-manager-2 25\n",
            "https://www.jobinrwanda.com/job/hvac-lead-technician 26\n",
            "https://www.jobinrwanda.com/job/maintenance-mechanic-appliance-repair-0 27\n",
            "https://www.jobinrwanda.com/job/camp-administrator 28\n",
            "https://www.jobinrwanda.com/job/rwanda-program-officer 29\n",
            "https://www.jobinrwanda.com/job/sales-representative-0 30\n",
            "https://www.jobinrwanda.com/job/sales-manager-5 31\n",
            "https://www.jobinrwanda.com/job/aquaculture-technician 32\n",
            "https://www.jobinrwanda.com/job/health-systems-strengthening-hss-manager 33\n",
            "https://www.jobinrwanda.com/index.php/job/development-manager 34\n",
            "https://www.jobinrwanda.com/job/retail-partnerships-lead 35\n",
            "https://www.jobinrwanda.com/job/project-officer-7 36\n",
            "https://www.jobinrwanda.com/job/administration-finance-intern 37\n",
            "https://www.jobinrwanda.com/job/loan-officers-3 38\n",
            "https://www.jobinrwanda.com/job/project-manager-14 39\n",
            "https://www.jobinrwanda.com/job/training-manager-0 40\n",
            "https://www.jobinrwanda.com/job/it-and-mis-director 41\n",
            "https://www.jobinrwanda.com/job/learning-design-specialist-rwanda 42\n",
            "https://www.jobinrwanda.com/job/technical-advisor-2 43\n",
            "https://www.jobinrwanda.com/job/front-desk-officer-0 44\n",
            "https://www.jobinrwanda.com/job/global-remote-sensing-manager 45\n",
            "https://www.jobinrwanda.com/job/laborer 46\n",
            "https://www.jobinrwanda.com/job/migration-health-physician 47\n",
            "https://www.jobinrwanda.com/index.php/job/migration-health-nurse 48\n",
            "https://www.jobinrwanda.com/job/global-hr-support-specialist 49\n",
            "https://www.jobinrwanda.com/job/rwanda-procurement-specialist-0 50\n",
            "https://www.jobinrwanda.com/job/security-officer 51\n",
            "https://www.jobinrwanda.com/job/security-supervisor 52\n",
            "https://www.jobinrwanda.com/job/instructional-technology-assistant 53\n",
            "https://www.jobinrwanda.com/job/associate-professor-and-head-human-anatomy 54\n",
            "https://www.jobinrwanda.com/job/rwanda-potato-seed-store-manager 55\n",
            "https://www.jobinrwanda.com/job/agronomist-technician-g-2c 56\n",
            "https://www.jobinrwanda.com/job/dental-doctors-dental-surgeon 57\n",
            "https://www.jobinrwanda.com/job/head-rehabilitation-department 58\n",
            "https://www.jobinrwanda.com/job/assistant-press-department-administration-and-consular-section 59\n",
            "https://www.jobinrwanda.com/job/rwanda-warehouse-manager 60\n",
            "https://www.jobinrwanda.com/job/csat-officer-rwanda 61\n",
            "https://www.jobinrwanda.com/job/spm-officer 62\n",
            "https://www.jobinrwanda.com/index.php/job/rwanda-communications-associate 63\n",
            "https://www.jobinrwanda.com/job/strategic-advisor-targeted-skills-development 64\n",
            "https://www.jobinrwanda.com/job/strategic-advisor-e-commerce 65\n",
            "https://www.jobinrwanda.com/job/50-sales-representatives-needed-all-city-rwanda-ltd-1 66\n",
            "https://www.jobinrwanda.com/job/store-keeper-1 67\n",
            "https://www.jobinrwanda.com/index.php/job/rwanda-market-access-and-srf-mel-associate 68\n",
            "https://www.jobinrwanda.com/job/rwanda-field-integration-coordinator 69\n",
            "https://www.jobinrwanda.com/job/rwanda-electrical-hub-operator 70\n",
            "https://www.jobinrwanda.com/job/rwanda-tree-lead 71\n",
            "https://www.jobinrwanda.com/index.php/job/rwanda-potato-seed-venture-lead 72\n",
            "https://www.jobinrwanda.com/job/it-operations-senior-manager 73\n",
            "https://www.jobinrwanda.com/job/rwanda-seed-innovation-centre-lead 74\n",
            "https://www.jobinrwanda.com/job/senior-business-analyst 75\n"
          ]
        }
      ]
    },
    {
      "cell_type": "markdown",
      "source": [
        "Retrieving IT/Software jobs/tenders/consultancy"
      ],
      "metadata": {
        "id": "Y7ZiXg7sDAsc"
      }
    },
    {
      "cell_type": "code",
      "source": [
        "tags = \"#informationtechnology #technology #it #cybersecurity #tech #computerscience #programming #business #coding #innovation #software #python #information #computer #informationsecurity #security #technologynews #java #networking #hacking #programmer #linux #technologyrocks #coder #technologythesedays #cloudcomputing #education #engineering #itservices #newtechnology\"\n",
        " \n",
        "tags.split(\"#\")\n"
      ],
      "metadata": {
        "colab": {
          "base_uri": "https://localhost:8080/"
        },
        "id": "HZ_DAQd9DNIp",
        "outputId": "09de0963-d1cb-480d-9c40-b43ad293c0a4"
      },
      "execution_count": null,
      "outputs": [
        {
          "output_type": "execute_result",
          "data": {
            "text/plain": [
              "['',\n",
              " 'informationtechnology ',\n",
              " 'technology ',\n",
              " 'it ',\n",
              " 'cybersecurity ',\n",
              " 'tech ',\n",
              " 'computerscience ',\n",
              " 'programming ',\n",
              " 'business ',\n",
              " 'coding ',\n",
              " 'innovation ',\n",
              " 'software ',\n",
              " 'python ',\n",
              " 'information ',\n",
              " 'computer ',\n",
              " 'informationsecurity ',\n",
              " 'security ',\n",
              " 'technologynews ',\n",
              " 'java ',\n",
              " 'networking ',\n",
              " 'hacking ',\n",
              " 'programmer ',\n",
              " 'linux ',\n",
              " 'technologyrocks ',\n",
              " 'coder ',\n",
              " 'technologythesedays ',\n",
              " 'cloudcomputing ',\n",
              " 'education ',\n",
              " 'engineering ',\n",
              " 'itservices ',\n",
              " 'newtechnology']"
            ]
          },
          "metadata": {},
          "execution_count": 203
        }
      ]
    },
    {
      "cell_type": "code",
      "source": [
        "related_jobs_titles = tags.split(\"#\")"
      ],
      "metadata": {
        "id": "DZIlY17_EW9o"
      },
      "execution_count": null,
      "outputs": []
    },
    {
      "cell_type": "code",
      "source": [
        "related_jobs_titles"
      ],
      "metadata": {
        "colab": {
          "base_uri": "https://localhost:8080/"
        },
        "id": "L2-7jBFOEmpx",
        "outputId": "2a689869-b810-4124-d88c-8ee6620c74e8"
      },
      "execution_count": null,
      "outputs": [
        {
          "output_type": "execute_result",
          "data": {
            "text/plain": [
              "['',\n",
              " 'informationtechnology ',\n",
              " 'technology ',\n",
              " 'it ',\n",
              " 'cybersecurity ',\n",
              " 'tech ',\n",
              " 'computerscience ',\n",
              " 'programming ',\n",
              " 'business ',\n",
              " 'coding ',\n",
              " 'innovation ',\n",
              " 'software ',\n",
              " 'python ',\n",
              " 'information ',\n",
              " 'computer ',\n",
              " 'informationsecurity ',\n",
              " 'security ',\n",
              " 'technologynews ',\n",
              " 'java ',\n",
              " 'networking ',\n",
              " 'hacking ',\n",
              " 'programmer ',\n",
              " 'linux ',\n",
              " 'technologyrocks ',\n",
              " 'coder ',\n",
              " 'technologythesedays ',\n",
              " 'cloudcomputing ',\n",
              " 'education ',\n",
              " 'engineering ',\n",
              " 'itservices ',\n",
              " 'newtechnology']"
            ]
          },
          "metadata": {},
          "execution_count": 207
        }
      ]
    },
    {
      "cell_type": "code",
      "source": [
        "job_description_raw_content = requests.get('https://www.jobinrwanda.com/job/global-remote-sensing-manager').content\n"
      ],
      "metadata": {
        "id": "CrpSm7k7ZkJG"
      },
      "execution_count": null,
      "outputs": []
    },
    {
      "cell_type": "code",
      "source": [
        "job_description_raw_content"
      ],
      "metadata": {
        "colab": {
          "base_uri": "https://localhost:8080/"
        },
        "id": "Su1OkSm7bRlz",
        "outputId": "44f76b0a-7291-427a-fa15-8d393c5ab979"
      },
      "execution_count": null,
      "outputs": [
        {
          "output_type": "execute_result",
          "data": {
            "text/plain": [
              "b'<!DOCTYPE html>\\n<html lang=\"en\" dir=\"ltr\" prefix=\"content: http://purl.org/rss/1.0/modules/content/  dc: http://purl.org/dc/terms/  foaf: http://xmlns.com/foaf/0.1/  og: http://ogp.me/ns#  rdfs: http://www.w3.org/2000/01/rdf-schema#  schema: http://schema.org/  sioc: http://rdfs.org/sioc/ns#  sioct: http://rdfs.org/sioc/types#  skos: http://www.w3.org/2004/02/skos/core#  xsd: http://www.w3.org/2001/XMLSchema# \">\\n  <head>\\n    <meta charset=\"utf-8\"/>\\n<script async src=\"https://www.googletagmanager.com/gtag/js?id=UA-42852300-1\"></script>\\n<script>window.dataLayer=window.dataLayer||[];function gtag(){dataLayer.push(arguments)};gtag(\"js\",new Date());gtag(\"set\",\"developer_id.dMDhkMT\",true);gtag(\"config\",\"UA-42852300-1\",{\"groups\":\"default\",\"anonymize_ip\":true,\"page_placeholder\":\"PLACEHOLDER_page_path\"});</script>\\n<link rel=\"canonical\" href=\"https://www.jobinrwanda.com/job/global-remote-sensing-manager\"/>\\n<meta name=\"Generator\" content=\"Drupal 9 (https://www.drupal.org)\"/>\\n<meta name=\"MobileOptimized\" content=\"width\"/>\\n<meta name=\"HandheldFriendly\" content=\"true\"/>\\n<meta name=\"viewport\" content=\"width=device-width, initial-scale=1, shrink-to-fit=no\"/>\\n<meta http-equiv=\"x-ua-compatible\" content=\"ie=edge\"/>\\n<link rel=\"icon\" href=\"/sites/default/files/favicon.ico\" type=\"image/vnd.microsoft.icon\"/>\\n<link rel=\"alternate\" hreflang=\"zxx\" href=\"https://www.jobinrwanda.com/job/global-remote-sensing-manager\"/>\\n<script>window.a2a_config=window.a2a_config||{};a2a_config.callbacks=[];a2a_config.overlays=[];a2a_config.templates={};</script>\\n\\n    <title>Global Remote Sensing Manager | Job in Rwanda</title>\\n    <link rel=\"stylesheet\" media=\"all\" href=\"/sites/default/files/css/A.css_hBqnkTGi0EWlm0A2IDwVnfFUUE7_WCwBW-f_P8uQdxo.css+css_1r2a4XJyBzQT_Rc5CQ86AX83CCCJZjl8ELjx5LTXMt0.css,Mcc.E09Pc7V-12.css.pagespeed.cf.uy67VQUwcv.css\"/>\\n\\n<link rel=\"stylesheet\" media=\"all\" href=\"//fonts.googleapis.com/css?family=Roboto|Roboto+Condensed:700\"/>\\n<link rel=\"stylesheet\" media=\"all\" href=\"//use.fontawesome.com/releases/v5.13.0/css/all.css\"/>\\n<link rel=\"stylesheet\" media=\"all\" href=\"/sites/default/files/css/css_UCxt6LyNnI6EsFBNCi2fKasQhL4lYJ3z0HtsQr6qLRI.css.pagespeed.ce.P0ZrdbMXLe.css\"/>\\n\\n    <script src=\"/core/assets,_vendor,_modernizr,_modernizr.min.js,qv==3.11.7+misc,_modernizr-additional-tests.js,qv==3.11.7.pagespeed.jc.DWMB4J8dAJ.js\"></script><script>eval(mod_pagespeed_1sBopKeNDl);</script>\\n<script>eval(mod_pagespeed_pOOsc0XCYT);</script>\\n<script src=\"/libraries/fontawesome/js/all.min.js,qv=6.1.0.pagespeed.jm.CDDGU6wjQy.js\" defer></script>\\n<script src=\"/libraries/fontawesome/js/v4-shims.min.js,qv=6.1.0.pagespeed.jm.Pv1hXXq0jZ.js\" defer></script>\\n\\n  </head>\\n  <body class=\"layout-no-sidebars page-node-11329 path-node node--type-job\">\\n    <a href=\"#main-content\" class=\"visually-hidden focusable skip-link\">\\n      Skip to main content\\n    </a>\\n    \\n      <div class=\"dialog-off-canvas-main-canvas\" data-off-canvas-main-canvas>\\n    <div id=\"page-wrapper\" class=\"h-100\">\\n  <div id=\"page\" class=\"h-100 d-flex flex-column\">\\n    <header id=\"header\" class=\"header\" role=\"banner\" aria-label=\"Site header\">\\n                        <nav class=\"navbar navbar-light bg-white shadow-sm py-1\" id=\"navbar-top\" data-toggle=\"affix\">\\n                        <div class=\"container flex-nowrap\">\\n                            \\n                  <a href=\"/\" title=\"Home\" rel=\"home\" class=\"navbar-brand mr-1\">\\n          <img src=\"/sites/default/files/xjir_logo.png.pagespeed.ic._YhJ5etO9H.png\" alt=\"Home\" class=\"jix-logo img-fluid d-inline-block align-top\"/>\\n        <span class=\"ml-2 d-none d-md-inline\"></span>\\n  </a>\\n\\n\\n                              <div class=\"form-inline navbar-form ml-auto\">\\n                    <section class=\"region region-top-header-form\">\\n    <div id=\"block-topbanner\" class=\"block block-block-content block-block-content2761ac74-6fd8-4411-b1ac-a9d3f88ba730\">\\n  \\n    \\n      <div class=\"content\">\\n      \\n\\n  <div class=\"field field--name-field-banner-image-location field--type-link field--label-hidden field__item\">\\n    <a href=\"https://www.fortebet.rw/?pref_device=desktop&amp;utm_source=jobinrwanda_com&amp;utm_medium=mainheaderHP&amp;utm_campaign=August2022_week45#/app/offer/top\" target=\"_blank\">\\n      <img alt=\"\" class=\"jix-banner-image img-fluid mb-0 w-100 pull-right\" src=\"https://jirbucket.s3.eu-central-1.amazonaws.com/banners/ForteBet/6+JobinRwanda+-+web+banner_45_728x90+(English).jpg\"/>\\n    </a>\\n  </div>\\n\\n    </div>\\n  </div>\\n\\n  </section>\\n\\n                </div>\\n                                        </div>\\n                      </nav>\\n                <nav class=\"navbar navbar-dark bg-primary navbar-expand-sm\" id=\"navbar-main\">\\n                    <div class=\"container\">\\n                        \\n                          <button class=\"navbar-toggler collapsed\" type=\"button\" data-bs-toggle=\"collapse\" data-bs-target=\"#collapsingNavbar\" aria-controls=\"collapsingNavbar\" aria-expanded=\"false\" aria-label=\"Toggle navigation\"><span class=\"navbar-toggler-icon\"></span></button>\\n              <div class=\"collapse navbar-collapse\" id=\"collapsingNavbar\">\\n                  <nav role=\"navigation\" aria-labelledby=\"block-jix-core-theme-main-menu-menu\" id=\"block-jix-core-theme-main-menu\" class=\"block block-menu navigation menu--main\">\\n            \\n  <h2 class=\"visually-hidden\" id=\"block-jix-core-theme-main-menu-menu\">Main navigation</h2>\\n  \\n\\n        \\n              <ul class=\"clearfix nav navbar-nav\">\\n                    <li class=\"nav-item\">\\n                          <a href=\"/\" class=\"nav-link nav-link--\" data-drupal-link-system-path=\"&lt;front&gt;\">Home</a>\\n              </li>\\n                <li class=\"nav-item\">\\n                          <a href=\"/post-advert\" class=\"nav-link nav-link--post-advert\" data-drupal-link-system-path=\"post-advert\">Post advert</a>\\n              </li>\\n                <li class=\"nav-item\">\\n                          <a href=\"/hr-services\" class=\"nav-link nav-link--hr-services\" data-drupal-link-system-path=\"node/7123\">HR Services</a>\\n              </li>\\n                <li class=\"nav-item\">\\n                          <a href=\"/all-employers\" class=\"nav-link nav-link--all-employers\" data-drupal-link-system-path=\"all-employers\">Employers</a>\\n              </li>\\n                <li class=\"nav-item\">\\n                          <a href=\"/news\" class=\"nav-link nav-link--news\" data-drupal-link-system-path=\"news\">News</a>\\n              </li>\\n                <li class=\"nav-item\">\\n                          <a href=\"/testimonials\" class=\"nav-link nav-link--testimonials\" data-drupal-link-system-path=\"testimonials\">Testimonials</a>\\n              </li>\\n                <li class=\"nav-item\">\\n                          <a href=\"/faq\" class=\"nav-link nav-link--faq\" data-drupal-link-system-path=\"faq\">Help</a>\\n              </li>\\n                <li class=\"nav-item\">\\n                          <a href=\"/page/about-us\" class=\"nav-link nav-link--page-about-us\" data-drupal-link-system-path=\"node/4069\">About us</a>\\n              </li>\\n                <li class=\"nav-item\">\\n                          <a href=\"/contact\" class=\"nav-link nav-link--contact\" data-drupal-link-system-path=\"contact\">Contact us</a>\\n              </li>\\n        </ul>\\n  \\n\\n\\n  </nav>\\n\\n\\n                              </div>\\n                                              </div>\\n                  </nav>\\n          </header>\\n              <div class=\"highlighted mt-3\">\\n        <aside class=\"container section clearfix\" role=\"complementary\">\\n            <div data-drupal-messages-fallback class=\"hidden\"></div>\\n\\n\\n        </aside>\\n      </div>\\n            <div id=\"main-wrapper\" class=\"layout-main-wrapper clearfix\">\\n              <div id=\"main\" class=\"container\">\\n          \\n          <div class=\"row row-offcanvas row-offcanvas-left clearfix\">\\n            <main class=\"main-content col-md-8\" id=\"content\" role=\"main\">\\n              <section class=\"section\">\\n                <a id=\"main-content\" tabindex=\"-1\"></a>\\n                  <div id=\"block-jix-core-theme-page-title\" class=\"block block-core block-page-title-block\">\\n  \\n    \\n      <div class=\"content\">\\n      \\n  <h3 class=\"title text-center\"><span class=\"field field--name-title field--type-string field--label-hidden\">Global Remote Sensing Manager</span>\\n</h3>\\n\\n\\n    </div>\\n  </div>\\n<div id=\"block-jobemployerblock\" class=\"block block-jix-interface block-job-employer-block\">\\n  \\n    \\n      <div class=\"content\">\\n      <div class=\"node--type-employer node--view-mode-teaser card shadow-sm bg-light border-light\" data-quickedit-entity-id=\"node/6030\">\\n  <div class=\"row g-0\">\\n    <div class=\"col-md-4 text-center align-self-center p-2 \">\\n      <img src=\"/sites/default/files/styles/medium/public/employer_logos/xlogo_315569006.jpg,qitok=XU2GROc8.pagespeed.ic.aHWphKZYDR.jpg\" alt=\"\" class=\"rounded img-fluid\">\\n    </div>\\n    <div class=\"col-md-8\">\\n      <div class=\"card-body p-1\">\\n                  <a href=\"/employer/one-acre-fund\">\\n            <h5 class=\"card-title\">One Acre Fund</h5>\\n          </a>\\n                          <div class=\"employer-description\" style=\"overflow: hidden\">\\n            <p class=\"rtejustify\">Founded in 2006, One Acre Fund supplies 1 million smallholder farmers with the agricultural services they need to make their farms vastly more productive. Our 8,000+ team is drawn from diverse backgrounds and professions. With operations across six core countries in Africa, we make farmers more prosperous by providing quality farm supplies on credit, delivered within walking distance of farmers\\xe2\\x80\\x99 homes, and agricultural training to improve harvests. On average, the farmers we serve harvest 50 percent more food after working with One Acre Fund.&nbsp;</p>\\r\\n\\r\\n<p class=\"rtejustify\">To learn more about our work, take a look at our&nbsp;<a href=\"https://oneacrefund.org/work-with-us/why-work-here/why-work-here/\" target=\"_blank\">Why Work Here</a>&nbsp;blog for more information.</p>\\r\\n\\n          </div>\\n        \\n                  <dl class=\"row mb-1\">\\n            <dt class=\"col-sm-4\">Sector</dt>\\n            <dd class=\"col-sm-8\">\\n                              Agriculture                          </dd>\\n          </dl>\\n        \\n        <dl class=\"row mb-0\">\\n          <dt class=\"col-sm-4 mb-0\">Rate this employer</dt>\\n          <dd class=\"col-sm-8 mb-0\">\\n            <div class=\"field field--name-field-employer-rating field--type-fivestar field--label-hidden field__item\">\\n<form class=\"fivestar-form-1\" id=\"vote\" data-drupal-selector=\"fivestar-form-1\" action=\"/job/global-remote-sensing-manager\" method=\"post\" accept-charset=\"UTF-8\">\\n  <div class=\"clearfix fivestar-average-text fivestar-average-stars fivestar-form-item fivestar-basic\">\\n\\n\\n\\n\\n\\n  <div class=\"js-form-item js-form-type-fivestar form-type-fivestar js-form-item-vote form-item-vote form-no-label mb-3\">\\n                    \\n\\n\\n\\n\\n\\n  <div class=\"js-form-item js-form-type-select form-type-select js-form-item-vote form-item-vote form-no-label mb-3\">\\n                    \\n<select class=\"vote form-select custom-select\" data-drupal-selector=\"edit-vote\" aria-describedby=\"edit-vote--2--description\" id=\"edit-vote--2\" name=\"vote\"><option value=\"-\">Select rating</option><option value=\"20\">Give it 1/5</option><option value=\"40\">Give it 2/5</option><option value=\"60\">Give it 3/5</option><option value=\"80\" selected=\"selected\">Give it 4/5</option><option value=\"100\">Give it 5/5</option></select>\\n                          <small id=\"edit-vote--2--description\" class=\"description text-muted\">\\n        <div class=\"fivestar-summary fivestar-summary-average-count\"><span class=\"average-rating\">Average: <span>4</span></span> <span class=\"total-votes\">(97 votes)</span></div>\\n      </small>\\n      </div>\\n\\n                      </div>\\n</div><button style=\"display:none\" data-drupal-selector=\"edit-submit\" type=\"submit\" id=\"edit-submit\" name=\"op\" value=\"Rate\" class=\"button js-form-submit form-submit btn btn-primary btn-sm col-4\">Rate</button>\\n<input autocomplete=\"off\" data-drupal-selector=\"form-gqr-xchsjtyoe4uvqohmakej1j9dfr4csa2u60sbuis\" type=\"hidden\" name=\"form_build_id\" value=\"form-gqr-xchSjTYOE4uVQoHMAKeJ1J9dFR4Csa2u60SbuIs\" class=\"form-control\"/>\\n<input data-drupal-selector=\"edit-fivestar-form-1\" type=\"hidden\" name=\"form_id\" value=\"fivestar_form_1\" class=\"form-control\"/>\\n<input data-drupal-selector=\"edit-honeypot-time\" type=\"hidden\" name=\"honeypot_time\" value=\"WklgTze4H9Koot4KInDuvcizQx6cwMf_cLST3rz2C6g\" class=\"form-control\"/>\\n<div class=\"url-textfield js-form-wrapper form-wrapper mb-3\" style=\"display: none !important;\">\\n\\n\\n\\n\\n\\n  <div class=\"js-form-item js-form-type-textfield form-type-textfield js-form-item-url form-item-url mb-3\">\\n          <label for=\"edit-url\">Leave this field blank</label>\\n                    <input autocomplete=\"off\" data-drupal-selector=\"edit-url\" data-msg-maxlength=\"Leave this field blank field has a maximum length of 128.\" type=\"text\" id=\"edit-url\" name=\"url\" value=\"\" size=\"20\" maxlength=\"128\" class=\"form-control\"/>\\n\\n                      </div>\\n</div>\\n\\n</form>\\n</div>\\n      </dd>\\n        </dl>\\n                <div class=\"card-footer border-0 p-1\">\\n          <div class=\"row\">\\n            <div class=\"col-8\">\\n                              <a href=\"https://www.oneacrefund.org\" target=\"_blank\">\\n                  <p class=\"card-text\">\\n                    <small class=\"text-muted\">\\n                      <i class=\"fas fa-globe\"></i> https://www.oneacrefund.org\\n                    </small>\\n                  </p>\\n                </a>\\n                          </div>\\n            <div class=\"col-4 d-flex justify-content-around\">\\n              <a href=\"https://www.facebook.com/oneacrefund\" target=\"_blank\" class=\"disabled\"><i class=\"fab fa-facebook\"></i></a>\\n              <a href=\"https://twitter.com/oneacrefund\" target=\"_blank\"><i class=\"fab fa-twitter\"></i></a>\\n              <a href=\"https://www.linkedin.com/company/one-acre-fund/\" target=\"_blank\"><i class=\"fab fa-linkedin\"></i></a>\\n            </div>\\n          </div>\\n        </div>\\n      </div>\\n    </div>\\n  </div>\\n</div>\\n\\n    </div>\\n  </div>\\n<div id=\"block-jix-core-theme-content\" class=\"block block-system block-system-main-block\">\\n  \\n    \\n      <div class=\"content\">\\n      \\n\\n<article data-history-node-id=\"11329\" role=\"article\" lang=\"zxx\" about=\"/job/global-remote-sensing-manager\" class=\"node node--type-job node--view-mode-full clearfix border border-light shadow-sm p-3 mt-3\">\\n  <header>\\n    \\n        \\n      </header>\\n  <div class=\"node__content clearfix\">\\n    \\n            <div class=\"clearfix text-formatted field field--name-field-job-full-description field--type-text-long field--label-hidden field__item\"><p class=\"text-align-justify\" data-block-key=\"7muae\"><strong>About One Acre Fund</strong></p>\\n\\n<p class=\"text-align-justify\" data-block-key=\"l5yqv\">Founded in 2006, One Acre Fund supplies 1 million smallholder farmers with the agricultural services they need to make their farms vastly more productive. Our 8,000+ team is drawn from diverse backgrounds and professions. With operations across six core countries in Africa, we make farmers more prosperous by providing quality farm supplies on credit, delivered within walking distance of farmers\\xe2\\x80\\x99 homes, and agricultural training to improve harvests. On average, the farmers we serve harvest 50 per cent more food after working with One Acre Fund.\\xc2\\xa0</p>\\n\\n<p class=\"text-align-justify\" data-block-key=\"0q4o1\">To learn more about our work, take a look at our\\xc2\\xa0<a data-mce-href=\"https://oneacrefund.org/work-with-us/why-work-here/why-work-here/\" href=\"https://oneacrefund.org/work-with-us/why-work-here/why-work-here/\" target=\"_blank\">Why Work Here</a>\\xc2\\xa0blog for more information.</p>\\n\\n<p class=\"text-align-justify\" data-block-key=\"uua6s\"><strong>About the Role</strong></p>\\n\\n<p class=\"text-align-justify\" data-block-key=\"fv6bw\">The role of the Remote Sensing Manager is to make One Acre Fund more impactful by improving farmer livelihoods in the context of a changing climate. You will: 1) lead outreach and interactions with remote sensing providers, 2) serve as the in-house expert on remote sensing capabilities and 3) coordinate deployment of remote sensing technologies across different use cases. You will report to the Global Impact Director.</p>\\n\\n<p class=\"text-align-justify\" data-block-key=\"3y7xq\"><strong>Responsibilities</strong></p>\\n\\n<ul><li class=\"text-align-justify\" data-block-key=\"vhvch\">Scope, contract and coordinate remote sensing providers and partnerships to unlock new impact</li>\\n\\t<li class=\"text-align-justify\" data-block-key=\"7brqg\">Support the impact team to deploy remote sensing technologies across its portfolio, including in crop health, micro-insurance, and payments for ecosystem services</li>\\n\\t<li class=\"text-align-justify\" data-block-key=\"1jwfo\">Manage the exchange of data between One Acre Fund and external remote sensing providers</li>\\n\\t<li class=\"text-align-justify\" data-block-key=\"7x8ut\">Liaise with internal operations teams to ensure that remote sensing tools are integrated into fieldwork</li>\\n\\t<li class=\"text-align-justify\" data-block-key=\"kscem\">Motivate people to use new data platforms to deepen the impact</li>\\n\\t<li class=\"text-align-justify\" data-block-key=\"9ptdi\">Lead research projects on remote sensing for more frontier use cases</li>\\n\\t<li class=\"text-align-justify\" data-block-key=\"urei5\">Represent division leadership, internally or externally</li>\\n</ul><p class=\"text-align-justify\" data-block-key=\"idhky\"><strong>Career Growth and Development</strong></p>\\n\\n<p class=\"text-align-justify\" data-block-key=\"1hli1\">We have a strong culture of constant learning and investing in developing our people. You\\xe2\\x80\\x99ll have weekly check-ins with your manager, access to mentorship and training programs, and regular feedback on your performance. We hold career reviews every six months and set aside time to discuss your aspirations and career goals. You\\xe2\\x80\\x99ll have the opportunity to shape a growing organization and build a rewarding long-term career.</p>\\n\\n<p class=\"text-align-justify\" data-block-key=\"jyfg0\"><strong>Qualifications</strong></p>\\n\\n<p class=\"text-align-justify\" data-block-key=\"aiur8\">Across all roles, these are the\\xc2\\xa0<a data-mce-href=\"https://oneacrefund.org/work-with-us/application-process/qualifications/\" href=\"https://oneacrefund.org/work-with-us/application-process/qualifications/\" target=\"_blank\">general qualifications we look for</a>. For this role specifically, you will have:</p>\\n\\n<ul><li class=\"text-align-justify\" data-block-key=\"frozm\">4+ years of relevant experience with remote sensing applications for agriculture, agroforestry, or nature-based carbon programs.</li>\\n\\t<li class=\"text-align-justify\" data-block-key=\"p6ozp\">University degree in a related field (e.g. Earth Imagery, Precision Agriculture, Environmental Science + GIS). An advanced degree is a bonus.</li>\\n\\t<li class=\"text-align-justify\" data-block-key=\"hd0za\">Verbal and written abilities across different audiences - from non-technically-trained colleagues to external experts.</li>\\n\\t<li class=\"text-align-justify\" data-block-key=\"bvvhg\">Demonstrated data skills and ability to advise on the design of internal data sets to better suit remote sensing platforms.</li>\\n\\t<li class=\"text-align-justify\" data-block-key=\"q9lf3\">Experience building trust and understanding for peers from diverse contexts to bring them together to collaborate, especially with new technologies and innovations.</li>\\n\\t<li class=\"text-align-justify\" data-block-key=\"zg4kw\">The ability to coordinate diverse work streams and external relationships.</li>\\n\\t<li class=\"text-align-justify\" data-block-key=\"660hl\">Enthusiasm for learning.</li>\\n\\t<li class=\"text-align-justify\" data-block-key=\"7x8an\">English required. Swahili, Kinyarwanda, Kirundi, or French.</li>\\n\\t<li class=\"text-align-justify\" data-block-key=\"cqe5c\">Willingness to travel within the region.</li>\\n</ul><p class=\"text-align-justify\" data-block-key=\"8gbdv\"><strong>Preferred Start Date</strong></p>\\n\\n<p class=\"text-align-justify\" data-block-key=\"mzfvm\">As soon as possible</p>\\n\\n<p class=\"text-align-justify\" data-block-key=\"ygxc9\"><strong>Job Location</strong></p>\\n\\n<p class=\"text-align-justify\" data-block-key=\"7r8w1\">Kigali, Rwanda or Nairobi, Kenya</p>\\n\\n<p class=\"text-align-justify\" data-block-key=\"sgw0a\"><strong>Benefits</strong></p>\\n\\n<p class=\"text-align-justify\" data-block-key=\"91kwj\">Health insurance, housing, and comprehensive benefits</p>\\n\\n<p class=\"text-align-justify\" data-block-key=\"w0ohl\"><strong>Eligibility</strong></p>\\n\\n<p class=\"text-align-justify\" data-block-key=\"9148v\">One Acre Fund can support a work permit for this role. However, nationals of (or those with an extensive professional background and work history in) our countries of operation are preferred.</p>\\n\\n<p class=\"text-align-justify\" data-block-key=\"o40qv\"><strong>Application Deadline</strong></p>\\n\\n<p class=\"text-align-justify\" data-block-key=\"5bqwa\">25 January 2023</p>\\n\\n<p class=\"text-align-justify\" data-block-key=\"q31dw\"><em>One Acre Fund never asks candidates to pay any money or pay for tests at any stage of the interview process. Official One Acre Fund emails will invariably arrive from an @</em><a data-mce-href=\"http://oneacrefund.org/\" href=\"http://oneacrefund.org/\"><em>oneacrefund.org</em></a><em>\\xc2\\xa0address. Please report any suspicious communication here (</em><a data-mce-href=\"mailto:globalhotline@oneacrefund.org\" href=\"mailto:globalhotline@oneacrefund.org\"><em>globalhotline@oneacrefund.org</em></a><em>),\\xc2\\xa0</em><strong><em>but do not send applications or application materials to this email address.</em></strong></p>\\n\\n<p class=\"text-align-justify\" data-block-key=\"4fh9y\"><em>Diversity, Equity, Inclusion (DEI), and anti-racism are deeply connected to our organization\\xe2\\x80\\x99s mission and purpose. One Acre Fund aspires to build a culture where all staff feel consistently valued, represented, and connected \\xe2\\x80\\x93 so that our team can thrive as professionals, and achieve extraordinary impact for the farmers we serve.</em></p>\\n\\n<p class=\"text-align-justify\" data-block-key=\"p9u6c\"><em>We are committed to equal employment opportunity regardless of race, colour, ancestry, religion, sex, national origin, sexual orientation, age, marital status, disability, gender, gender identity or expression. We are proud to be an equal-opportunity workplace.</em></p>\\n</div>\\n        <div class=\"card mt-3\"><div class=\"card-body p-2 bg-light\"><div class=\"row\"><div class=\"col-8\"><span class=\"a2a_kit a2a_kit_size_32 addtoany_list\" data-a2a-url=\"https://www.jobinrwanda.com/job/global-remote-sensing-manager\" data-a2a-title=\"Global Remote Sensing Manager\"><a class=\"a2a_button_facebook\"></a><a class=\"a2a_button_twitter\"></a><a class=\"a2a_button_whatsapp\"></a><a class=\"a2a_button_telegram\"></a><a class=\"a2a_button_linkedin\"></a></span></div><div class=\"col-4 d-grid\"><a href=\"https://grnh.se/ed47136c1us\" class=\"btn btn-sm btn-success\" target=\"_blank\">Apply</a></div></div></div></div>\\n  </div>\\n</article>\\n\\n    </div>\\n  </div>\\n<div id=\"block-jobdisclaimer\" class=\"block block-block-content block-block-content13aa88c7-7365-45a8-9921-9a42a03842c4\">\\n  \\n    \\n      <div class=\"content\">\\n      \\n            <div class=\"clearfix text-formatted field field--name-body field--type-text-with-summary field--label-hidden field__item\"><div class=\"card text-light bg-warning mt-2 mb-2\">\\n<div class=\"card-body pb-0\">\\n<h6 class=\"card-title\">Click on the APPLY button to send your application documents:</h6>\\n\\n<div class=\"card-text\">\\n<ul><li>Your application will be sent to the employer immediately (Allowed formats: .doc .pdf .txt .docx)</li>\\n\\t<li>A confirmation email will be sent to you few minutes afterwards</li>\\n\\t<li>You can request any documents archived from our website (ex: a job description, a CV, a cover letter...)</li>\\n</ul></div>\\n</div>\\n\\n<div class=\"card-footer\">Please bear in mind that you should never be requested to pay to get interviews, or to pass extra certifications etc...</div>\\n</div>\\n</div>\\n      \\n    </div>\\n  </div>\\n\\n\\n              </section>\\n            </main>\\n                          <div class=\"col-md-4\">\\n                                  <div class=\"jix_horizontal_sidebar sidebar col-md-\" id=\"jix_horizontal_sidebar\">\\n                    <aside class=\"section\" role=\"complementary\">\\n                        <div id=\"block-happynewyear2022\" class=\"block block-block-content block-block-content0973f7ec-16fe-4d4b-8981-b4612961778c\">\\n  \\n    \\n      <div class=\"content\">\\n      \\n\\n  <div class=\"field field--name-field-banner-image-location field--type-link field--label-hidden field__item\">\\n    <a href=\"https://www.jobinrwanda.com/hr-services\" target=\"_blank\">\\n      <img alt=\"\" class=\"jix-banner-image img-fluid mb-0 w-100 \" src=\"https://jirbucket.s3.eu-central-1.amazonaws.com/banners/HRMS/HRMS--SERVICES.gif\"/>\\n    </a>\\n  </div>\\n\\n    </div>\\n  </div>\\n<div id=\"block-webform\" class=\"block block-webform block-webform-block\">\\n  \\n      <h2>Subscribe to our newsletter</h2>\\n    \\n      <div class=\"content\">\\n      \\n<form class=\"webform-submission-form webform-submission-add-form webform-submission-general-newsletter-form webform-submission-general-newsletter-add-form webform-submission-general-newsletter-node-11329-form webform-submission-general-newsletter-node-11329-add-form js-webform-details-toggle webform-details-toggle\" data-drupal-selector=\"webform-submission-general-newsletter-node-11329-add-form\" action=\"/job/global-remote-sensing-manager\" method=\"post\" id=\"webform-submission-general-newsletter-node-11329-add-form\" accept-charset=\"UTF-8\">\\n  \\n  \\n\\n\\n\\n\\n\\n  <div class=\"js-form-item js-form-type-textfield form-type-textfield js-form-item-gen-news-noms form-item-gen-news-noms mb-3\">\\n          <label for=\"edit-gen-news-noms\" class=\"js-form-required form-required\">Names</label>\\n                    <input class=\"input-sm required form-control\" data-webform-required-error=\"Your name is mandatory\" data-drupal-selector=\"edit-gen-news-noms\" data-msg-maxlength=\"Names field has a maximum length of 255.\" data-msg-required=\"Your name is mandatory\" type=\"text\" id=\"edit-gen-news-noms\" name=\"gen_news_noms\" value=\"\" size=\"60\" maxlength=\"255\" required=\"required\" aria-required=\"true\"/>\\n\\n                      </div>\\n\\n\\n\\n\\n\\n\\n  <div class=\"js-form-item js-form-type-email form-type-email js-form-item-gen-news-email form-item-gen-news-email mb-3\">\\n          <label for=\"edit-gen-news-email\" class=\"js-form-required form-required\">Email</label>\\n                    <input class=\"input-sm form-email required form-control\" data-webform-required-error=\"Your email is mandatory\" data-drupal-selector=\"edit-gen-news-email\" data-msg-maxlength=\"Email field has a maximum length of 254.\" data-msg-required=\"Your email is mandatory\" data-msg-email=\"Email does not contain a valid email.\" type=\"email\" id=\"edit-gen-news-email\" name=\"gen_news_email\" value=\"\" size=\"60\" maxlength=\"254\" required=\"required\" aria-required=\"true\"/>\\n\\n                      </div>\\n<div data-drupal-selector=\"edit-actions\" class=\"form-actions webform-actions js-form-wrapper form-wrapper mb-3\" id=\"edit-actions\"><button class=\"webform-button--submit btn btn-block button button--primary js-form-submit form-submit btn btn-primary btn-sm col-12\" data-drupal-selector=\"edit-actions-submit\" type=\"submit\" id=\"edit-actions-submit\" name=\"op\" value=\"Subscribe\">Subscribe</button>\\n\\n</div>\\n<input autocomplete=\"off\" data-drupal-selector=\"form-0zkhzupxpjjbcwe51r4awfeeltgolsgsxxezuxfk7aq\" type=\"hidden\" name=\"form_build_id\" value=\"form-0ZkHZuPXPjjbCWE51r4aWFEeltGOlsgsxXEzuXfK7aQ\" class=\"form-control\"/>\\n<input data-drupal-selector=\"edit-webform-submission-general-newsletter-node-11329-add-form\" type=\"hidden\" name=\"form_id\" value=\"webform_submission_general_newsletter_node_11329_add_form\" class=\"form-control\"/>\\n<input data-drupal-selector=\"edit-honeypot-time\" type=\"hidden\" name=\"honeypot_time\" value=\"TWDCoNdPUqHVgKlYawwigIgzxfOFEWo5DF34lgVyONw\" class=\"form-control\"/>\\n<div class=\"url-textfield js-form-wrapper form-wrapper mb-3\" style=\"display: none !important;\">\\n\\n\\n\\n\\n\\n  <div class=\"js-form-item js-form-type-textfield form-type-textfield js-form-item-url form-item-url mb-3\">\\n          <label for=\"edit-url--2\">Leave this field blank</label>\\n                    <input autocomplete=\"off\" data-drupal-selector=\"edit-url\" data-msg-maxlength=\"Leave this field blank field has a maximum length of 128.\" type=\"text\" id=\"edit-url--2\" name=\"url\" value=\"\" size=\"20\" maxlength=\"128\" class=\"form-control\"/>\\n\\n                      </div>\\n</div>\\n\\n\\n  \\n</form>\\n\\n    </div>\\n  </div>\\n<div id=\"block-managedad\" class=\"block block-adsense block-adsense-managed-ad-block\">\\n  \\n    \\n      <div class=\"content\">\\n      <div class=\"text-align-center\">\\n  <div class=\"adsense responsive\">\\n    <script async src=\"https://pagead2.googlesyndication.com/pagead/js/adsbygoogle.js?client=ca-pub-1972606406114756\" crossorigin=\"anonymous\"></script>\\n<!-- responsive -->\\n<ins class=\"adsbygoogle\" style=\"display:block\" data-ad-client=\"ca-pub-1972606406114756\" data-ad-slot=\"5254503023\" data-ad-format=\"rectangle\" data-full-width-responsive=\"true\"></ins>\\n<script>(adsbygoogle=window.adsbygoogle||[]).push({});</script>\\n  </div>\\n</div>\\n\\n    </div>\\n  </div>\\n<div id=\"block-jobsummaryblock\" class=\"p-0 border-0 block block-jix-interface block-job-summary-block\">\\n  \\n    \\n      <div class=\"content\">\\n      <div class=\"card border-primary sidebar-block\">\\n  <div class=\"card-header bg-primary\">\\n    Summary\\n  </div>\\n  <div class=\"card-body\">\\n    <ul class=\"list-group list-group-flush\">\\n      <li class=\"list-group-item py-1 px-0 border-0 text-danger text-center\">This advert has been viewed <em class=\"placeholder\">361</em> times</li>\\n      <li class=\"list-group-item pt-1 pb-1 px-0 border-0\"><b>Location:</b> Kigali\\n        , RW\\n      </li>\\n              <li class=\"list-group-item py-1 px-0 border-0\"><b>Sector:</b>\\n                                              Agriculture,                                              Agronomy,                                              Business,                                              Computer and IT,                                              Food sciences,                                              Management,                                              Project management                  </li>\\n                                    <li class=\"list-group-item py-1 px-0 border-0\"><b>Education level\\n            :</b> Bachelor</li>\\n                        <li class=\"list-group-item py-1 px-0 border-0\">\\n        <b>Desired experience:</b> Mid career (3 to 5 years of experience)\\n      </li>\\n      <li class=\"list-group-item pt-1 pb-1 px-0 border-0\">\\n        <b>Contract type\\n          :</b> Full-time\\n      </li>\\n      <li class=\"list-group-item py-1 px-0 border-0\">\\n                <b>Deadline:</b> Wednesday, 25/01/2023 23:59\\n      </li>\\n      <li class=\"list-group-item pt-1 pb-1 px-0 border-0\">\\n        <b>Number of positions:</b> 1</li>\\n              <li class=\"list-group-item px-0 pb-0 job-apply-btn d-grid\">\\n                      <a href=\"https://grnh.se/ed47136c1us\" class=\"btn btn-success btn-sm\" target=\"_blank\">Apply</a>\\n                  </li>\\n          </ul>\\n  </div>\\n</div>\\n\\n    </div>\\n  </div>\\n<div id=\"block-similarjobsblock\" class=\"block block-jix-interface block-similar-jobs-block\">\\n  \\n    \\n      <div class=\"content\">\\n      <div class=\"card border-primary sidebar-block\">\\n  <div class=\"card-header bg-primary\">Similar jobs</div>\\n  <div class=\"card-body\">\\n    <ul class=\"list-group list-group-flush\">\\n                              <li class=\"list-group-item p-0 border-0\">\\n          <div class=\"card border-0 mb-1\">\\n                        <div class=\"row g-0\">\\n              <div class=\"col-2 d-flex justify-content-center mt-1\">\\n                <a href=\"/job/senior-business-analyst\">\\n                                    <img src=\"/sites/default/files/styles/small_50x50/public/employer_logos/xlogo_315569006.jpg,qitok=YCVHIgQh.pagespeed.ic.KAyHu7EsIz.jpg\" class=\"mr-3\" alt=\"One Acre Fund\">\\n                </a>\\n              </div>\\n              <div class=\"col-10\">\\n                <div class=\"card-body px-2 py-0\">\\n                    <a href=\"/job/senior-business-analyst\">\\n                      <h6 class=\"card-title\">Senior Business Analyst</h6>\\n                    </a>\\n                  <p class=\"card-text mb-1\">\\n                    <i class=\"fas fa-map-marker-alt\"></i> <strong>Kigali</strong> | Published\\n                    on 22/08/2022\\n                    <br> Deadline 17/11/2022\\n                    | \\n                  </p>\\n                  <span class=\"badge badge-primary\">Job</span>\\n                </div>\\n              </div>\\n            </div>\\n          </div>\\n        </li>\\n                              <li class=\"list-group-item p-0 border-0\">\\n          <div class=\"card border-0 mb-1\">\\n                        <div class=\"row g-0\">\\n              <div class=\"col-2 d-flex justify-content-center mt-1\">\\n                <a href=\"/job/rwanda-seed-innovation-centre-lead\">\\n                                    <img src=\"/sites/default/files/styles/small_50x50/public/employer_logos/xlogo_315569006.jpg,qitok=YCVHIgQh.pagespeed.ic.KAyHu7EsIz.jpg\" class=\"mr-3\" alt=\"One Acre Fund\">\\n                </a>\\n              </div>\\n              <div class=\"col-10\">\\n                <div class=\"card-body px-2 py-0\">\\n                    <a href=\"/job/rwanda-seed-innovation-centre-lead\">\\n                      <h6 class=\"card-title\">Rwanda Seed Innovation Centre Lead</h6>\\n                    </a>\\n                  <p class=\"card-text mb-1\">\\n                    <i class=\"fas fa-map-marker-alt\"></i> <strong>Kigali</strong> | Published\\n                    on 01/09/2022\\n                    <br> Deadline 29/11/2022\\n                    | \\n                  </p>\\n                  <span class=\"badge badge-primary\">Job</span>\\n                </div>\\n              </div>\\n            </div>\\n          </div>\\n        </li>\\n                              <li class=\"list-group-item p-0 border-0\">\\n          <div class=\"card border-0 mb-1\">\\n                        <div class=\"row g-0\">\\n              <div class=\"col-2 d-flex justify-content-center mt-1\">\\n                <a href=\"/job/it-operations-senior-manager\">\\n                                    <img src=\"/sites/default/files/styles/small_50x50/public/employer_logos/xlogo_315569006.jpg,qitok=YCVHIgQh.pagespeed.ic.KAyHu7EsIz.jpg\" class=\"mr-3\" alt=\"One Acre Fund\">\\n                </a>\\n              </div>\\n              <div class=\"col-10\">\\n                <div class=\"card-body px-2 py-0\">\\n                    <a href=\"/job/it-operations-senior-manager\">\\n                      <h6 class=\"card-title\">IT Operations Senior Manager</h6>\\n                    </a>\\n                  <p class=\"card-text mb-1\">\\n                    <i class=\"fas fa-map-marker-alt\"></i> <strong>Kigali</strong> | Published\\n                    on 07/09/2022\\n                    <br> Deadline 06/12/2022\\n                    | Not specified\\n                  </p>\\n                  <span class=\"badge badge-primary\">Job</span>\\n                </div>\\n              </div>\\n            </div>\\n          </div>\\n        </li>\\n                              <li class=\"list-group-item p-0 border-0\">\\n          <div class=\"card border-0 mb-1\">\\n                        <div class=\"row g-0\">\\n              <div class=\"col-2 d-flex justify-content-center mt-1\">\\n                <a href=\"/job/rwanda-potato-seed-venture-lead\">\\n                                    <img src=\"/sites/default/files/styles/small_50x50/public/employer_logos/xlogo_315569006.jpg,qitok=YCVHIgQh.pagespeed.ic.KAyHu7EsIz.jpg\" class=\"mr-3\" alt=\"One Acre Fund\">\\n                </a>\\n              </div>\\n              <div class=\"col-10\">\\n                <div class=\"card-body px-2 py-0\">\\n                    <a href=\"/job/rwanda-potato-seed-venture-lead\">\\n                      <h6 class=\"card-title\">Rwanda Potato Seed Venture \\xef\\xbb\\xbf\\xef\\xbb\\xbfLead</h6>\\n                    </a>\\n                  <p class=\"card-text mb-1\">\\n                    <i class=\"fas fa-map-marker-alt\"></i> <strong>Kigali</strong> | Published\\n                    on 14/09/2022\\n                    <br> Deadline 28/11/2022\\n                    | Senior (5+ years of experience)\\n                  </p>\\n                  <span class=\"badge badge-primary\">Job</span>\\n                </div>\\n              </div>\\n            </div>\\n          </div>\\n        </li>\\n                              <li class=\"list-group-item p-0 border-0\">\\n          <div class=\"card border-0 mb-1\">\\n                        <div class=\"row g-0\">\\n              <div class=\"col-2 d-flex justify-content-center mt-1\">\\n                <a href=\"/job/rwanda-tree-lead\">\\n                                    <img src=\"/sites/default/files/styles/small_50x50/public/employer_logos/xlogo_315569006.jpg,qitok=YCVHIgQh.pagespeed.ic.KAyHu7EsIz.jpg\" class=\"mr-3\" alt=\"One Acre Fund\">\\n                </a>\\n              </div>\\n              <div class=\"col-10\">\\n                <div class=\"card-body px-2 py-0\">\\n                    <a href=\"/job/rwanda-tree-lead\">\\n                      <h6 class=\"card-title\">Rwanda Tree Lead</h6>\\n                    </a>\\n                  <p class=\"card-text mb-1\">\\n                    <i class=\"fas fa-map-marker-alt\"></i> <strong>Kigali</strong> | Published\\n                    on 15/09/2022\\n                    <br> Deadline 20/11/2022\\n                    | \\n                  </p>\\n                  <span class=\"badge badge-primary\">Job</span>\\n                </div>\\n              </div>\\n            </div>\\n          </div>\\n        </li>\\n          </ul>\\n  </div>\\n</div>\\n\\n    </div>\\n  </div>\\n\\n\\n                    </aside>\\n                  </div>\\n                                              </div>\\n                      </div>\\n        </div>\\n          </div>\\n    \\n    <footer class=\"footer site-footer mt-3 pb-0\">\\n              <div class=\"container-fluid p-0\">\\n                      <div class=\"container pb-2\">\\n              <div class=\"row g-2\">\\n                <div class=\"col-lg-3 col-md-6 col-sm-6 mb-2\">  <section class=\"region region-footer-first\">\\n    <div id=\"block-addressblock\" class=\"block block-jix-interface block-address-block\">\\n  \\n    \\n      <div class=\"content\">\\n      <div class=\"card footer-block\">\\n    <div class=\"card-header\"><i class=\"fas fa-home\"></i> Get in touch</div>\\n    <div class=\"card-body\">\\n      <ul class=\"list-group\">\\n        <li class=\"list-group-item border-0 py-1 px-0 justify-content-around\">Job in Rwanda - (J.I.R Ltd) </li>\\n        <li class=\"list-group-item border-0 py-1 px-0\"><i class=\"fas fa-map-marker-alt\"></i> KG 28 Ave #72 - Kimihurura</li>\\n        <li class=\"list-group-item border-0 py-1 px-0\"><i class=\"fas fa-envelope\"></i> P.O. Box 4062 Kigali, RWANDA</li>\\n        <li class=\"list-group-item border-0 py-1 px-0\"><i class=\"fas fa-phone\"></i> (+250) 788 300 952</li>\\n        <li class=\"list-group-item border-0 py-1 px-0\"><i class=\"fas fa-at\"></i> info@jobinrwanda.com</li>\\n      </ul>\\n    </div>\\n</div>\\n\\n    </div>\\n  </div>\\n\\n  </section>\\n</div>\\n                <div class=\"col-lg-3 col-md-6 col-sm-6 mb-2\">  <section class=\"region region-footer-second\">\\n    <div id=\"block-servicesblock\" class=\"block block-jix-interface block-services-block\">\\n  \\n    \\n      <div class=\"content\">\\n      <div class=\"card footer-block\">\\n    <div class=\"card-header\">\\n      <i class=\"fas fa-briefcase\"></i> Our services\\n    </div>\\n    <div class=\"card-body\">\\n                    <i class=\"fas fa-check\"></i> Advertisement<br>\\n                    <i class=\"fas fa-check\"></i> Shortlisting<br>\\n                    <i class=\"fas fa-check\"></i> Recruitment<br>\\n                    <i class=\"fas fa-check\"></i> Marketing<br>\\n                    <i class=\"fas fa-check\"></i> Labour Market Data<br>\\n            </div>\\n</div>\\n\\n    </div>\\n  </div>\\n\\n  </section>\\n</div>\\n                <div class=\"col-lg-3 col-md-6 col-sm-6 mb-2\">  <section class=\"region region-footer-third\">\\n    <div id=\"block-jobssitesblock\" class=\"block block-jix-interface block-jobs-sites-block\">\\n  \\n    \\n      <div class=\"content\">\\n      <div class=\"card footer-block\">\\n  <div class=\"card-header\">\\n      <i class=\"fas fa-globe-africa\"></i> Jobs elsewhere\\n    </div>\\n    <div class=\"card-body\">\\n                                <i class=\"fa fa-check\"></i><a href=\"https://www.jobinuganda.com\" target=\"_blank\"> jobinuganda.com</a><br>\\n                                <i class=\"fa fa-check\"></i><a href=\"https://www.jobintanzania.com\" target=\"_blank\"> jobintanzania.com</a><br>\\n                                <i class=\"fa fa-check\"></i><a href=\"https://www.jobinkenya.com\" target=\"_blank\"> jobinkenya.com</a><br>\\n                                <i class=\"fa fa-check\"></i><a href=\"https://www.jobinburundi.com\" target=\"_blank\"> jobinburundi.com</a><br>\\n                                <i class=\"fa fa-check\"></i><a href=\"https://www.jobincameroun.com\" target=\"_blank\"> jobincameroun.com</a><br>\\n                                <i class=\"fa fa-check\"></i><a href=\"https://www.jobenrdc.com\" target=\"_blank\"> jobenrdc.com</a><br>\\n            </div>\\n</div>\\n\\n    </div>\\n  </div>\\n\\n  </section>\\n</div>\\n                <div class=\"col-lg-3 col-md-6 col-sm-6 mb-2\">  <section class=\"region region-footer-fourth\">\\n    <div id=\"block-realtimefigures\" class=\"block block-jix-interface block-jix-realtime-stats\">\\n  \\n    \\n      <div class=\"content\">\\n      <div class=\"card footer-block\">\\n  <div class=\"card-header\">\\n    <i class=\"fas fa-chart-bar\"></i> Realtime figures\\n  </div>\\n  <div class=\"card-body\">\\n    <ul class=\"list-group\">\\n      <li class=\"list-group-item d-flex justify-content-between align-items-center border-0 py-1 px-0\" id=\"jobs-count\">Published jobs <span class=\"badge rounded-pill bg-dark\">4,348</span></li>\\n      <li class=\"list-group-item d-flex justify-content-between align-items-center border-0 py-1 px-0\" id=\"employers-count\">Registered employers <span class=\"badge rounded-pill bg-dark\">2,604</span></li>\\n      <li class=\"list-group-item d-flex justify-content-between align-items-center border-0 py-1 px-0\" id=\"applications-count\">Registered job candidates <span class=\"badge rounded-pill bg-dark\">49,179</span></li>\\n    </ul>\\n  </div>\\n</div>\\n\\n    </div>\\n  </div>\\n\\n  </section>\\n</div>\\n              </div>\\n            </div>\\n                                <div class=\"site-footer__bottom jix-footer-bottom\">\\n              <div class=\"container text-center\">\\n                  <section class=\"row region region-footer-social\">\\n    <div id=\"block-socialmediabuttonsblock\" class=\"block block-jix-interface block-social-media-buttons-block\">\\n  \\n    \\n      <div class=\"content\">\\n        <a href=\"https://www.facebook.com/jobinrwanda\" target=\"_blank\" class=\"hir-social-link\">\\n    <i class=\"fa-brands fa-facebook fa-2x mx-1\" style=\"color: #0B8AEF\"></i>\\n  </a>\\n  <a href=\"https://twitter.com/JobInRwanda\" target=\"_blank\" class=\"hir-social-link\">\\n    <i class=\"fa-brands fa-twitter fa-2x mx-1\" style=\"color: #1A91DA\"></i>\\n  </a>\\n  <a href=\"https://www.instagram.com/jobinrwanda/\" target=\"_blank\" class=\"hir-social-link\">\\n    <i class=\"fa-brands fa-instagram fa-2x mx-1\" style=\"color: #D62977\"></i>\\n  </a>\\n\\n    </div>\\n  </div>\\n\\n  </section>\\n\\n                  <section class=\"row region region-footer-fifth\">\\n    <div id=\"block-copyrightblock\" class=\"block block-jix-interface block-copyright-block\">\\n  \\n    \\n      <div class=\"content\">\\n      <div class=\"text-center\">\\n    <div class=\"text-white\">Copyright <i class=\"far fa-copyright\"></i> 2022 Job in Rwanda - Site owner. All Rights Reserved.</div>\\n    <div class=\"site-details\">\\n        <a href=\"/page/terms-use\">Terms of Use</a> | <a href=\"/page/privacy-policy\">Privacy Policy</a> | <a href=\"/user\">Site administration</a>\\n    </div>\\n</div>\\n\\n    </div>\\n  </div>\\n\\n  </section>\\n\\n              </div>\\n            </div>\\n                  </div>\\n          </footer>\\n  </div>\\n</div>\\n\\n\\n  </div>\\n\\n    \\n    <script type=\"application/json\" data-drupal-selector=\"drupal-settings-json\">{\"path\":{\"baseUrl\":\"\\\\/\",\"scriptPath\":null,\"pathPrefix\":\"\",\"currentPath\":\"node\\\\/11329\",\"currentPathIsAdmin\":false,\"isFront\":false,\"currentLanguage\":\"en\"},\"pluralDelimiter\":\"\\\\u0003\",\"suppressDeprecationErrors\":true,\"ajaxPageState\":{\"libraries\":\"addtoany\\\\/addtoany,adsense\\\\/adsense.css,back_to_top\\\\/back_to_top_icon,back_to_top\\\\/back_to_top_js,bootstrap_barrio\\\\/affix,bootstrap_barrio\\\\/fontawesome,bootstrap_barrio\\\\/form,bootstrap_barrio\\\\/global-styling,bootstrap_barrio\\\\/messages_light,bootstrap_barrio\\\\/node,bootstrap_barrio\\\\/roboto,clientside_validation_jquery\\\\/cv.jquery.ckeditor,clientside_validation_jquery\\\\/cv.jquery.validate,core\\\\/drupal.ajax,core\\\\/internal.jquery.form,fivestar\\\\/basic,fivestar\\\\/fivestar.base,fontawesome\\\\/fontawesome.svg,fontawesome\\\\/fontawesome.svg.shim,google_analytics\\\\/google_analytics,jix_core_theme\\\\/bootstrap,jix_core_theme\\\\/global-styling,statistics\\\\/drupal.statistics,system\\\\/base,webform\\\\/webform.element.details.save,webform\\\\/webform.element.details.toggle,webform\\\\/webform.element.message,webform\\\\/webform.form\",\"theme\":\"jix_core_theme\",\"theme_token\":null},\"ajaxTrustedUrl\":{\"form_action_p_pvdeGsVG5zNF_XLGPTvYSKCf43t8qZYSwcfZl2uzM\":true,\"\\\\/job\\\\/global-remote-sensing-manager?ajax_form=1\":true},\"back_to_top\":{\"back_to_top_button_trigger\":100,\"back_to_top_prevent_on_mobile\":true,\"back_to_top_prevent_in_admin\":false,\"back_to_top_button_type\":\"image\",\"back_to_top_button_text\":\"Back to top\"},\"clientside_validation_jquery\":{\"validate_all_ajax_forms\":2,\"force_validate_on_blur\":false,\"messages\":{\"required\":\"This field is required.\",\"remote\":\"Please fix this field.\",\"email\":\"Please enter a valid email address.\",\"url\":\"Please enter a valid URL.\",\"date\":\"Please enter a valid date.\",\"dateISO\":\"Please enter a valid date (ISO).\",\"number\":\"Please enter a valid number.\",\"digits\":\"Please enter only digits.\",\"equalTo\":\"Please enter the same value again.\",\"maxlength\":\"Please enter no more than {0} characters.\",\"minlength\":\"Please enter at least {0} characters.\",\"rangelength\":\"Please enter a value between {0} and {1} characters long.\",\"range\":\"Please enter a value between {0} and {1}.\",\"max\":\"Please enter a value less than or equal to {0}.\",\"min\":\"Please enter a value greater than or equal to {0}.\",\"step\":\"Please enter a multiple of {0}.\"}},\"google_analytics\":{\"account\":\"UA-42852300-1\",\"trackOutbound\":true,\"trackMailto\":true,\"trackTel\":true,\"trackDownload\":true,\"trackDownloadExtensions\":\"7z|aac|arc|arj|asf|asx|avi|bin|csv|doc(x|m)?|dot(x|m)?|exe|flv|gif|gz|gzip|hqx|jar|jpe?g|js|mp(2|3|4|e?g)|mov(ie)?|msi|msp|pdf|phps|png|ppt(x|m)?|pot(x|m)?|pps(x|m)?|ppam|sld(x|m)?|thmx|qtm?|ra(m|r)?|sea|sit|tar|tgz|torrent|txt|wav|wma|wmv|wpd|xls(x|m|b)?|xlt(x|m)|xlam|xml|z|zip\"},\"smartIp\":\"{\\\\u0022location\\\\u0022:{\\\\u0022source\\\\u0022:\\\\u0022smart_ip\\\\u0022,\\\\u0022ipAddress\\\\u0022:\\\\u002234.86.0.226\\\\u0022,\\\\u0022ipVersion\\\\u0022:4,\\\\u0022timestamp\\\\u0022:1668352903,\\\\u0022originalData\\\\u0022:{\\\\u0022ipNumber\\\\u0022:\\\\u0022576061666\\\\u0022,\\\\u0022ipVersion\\\\u0022:4,\\\\u0022ipAddress\\\\u0022:\\\\u002234.86.0.226\\\\u0022,\\\\u0022mcc\\\\u0022:null,\\\\u0022mnc\\\\u0022:null,\\\\u0022mobileCarrierName\\\\u0022:null,\\\\u0022weatherStationName\\\\u0022:null,\\\\u0022weatherStationCode\\\\u0022:null,\\\\u0022iddCode\\\\u0022:null,\\\\u0022areaCode\\\\u0022:null,\\\\u0022latitude\\\\u0022:null,\\\\u0022longitude\\\\u0022:null,\\\\u0022countryName\\\\u0022:\\\\u0022United States of America\\\\u0022,\\\\u0022countryCode\\\\u0022:\\\\u0022US\\\\u0022,\\\\u0022usageType\\\\u0022:null,\\\\u0022elevation\\\\u0022:null,\\\\u0022netSpeed\\\\u0022:null,\\\\u0022timeZone\\\\u0022:null,\\\\u0022zipCode\\\\u0022:null,\\\\u0022domainName\\\\u0022:null,\\\\u0022isp\\\\u0022:null,\\\\u0022cityName\\\\u0022:\\\\u0022Washington\\\\u0022,\\\\u0022regionName\\\\u0022:\\\\u0022District of Columbia\\\\u0022},\\\\u0022country\\\\u0022:\\\\u0022United States of America\\\\u0022,\\\\u0022countryCode\\\\u0022:\\\\u0022US\\\\u0022,\\\\u0022region\\\\u0022:\\\\u0022District of Columbia\\\\u0022,\\\\u0022regionCode\\\\u0022:\\\\u0022\\\\u0022,\\\\u0022city\\\\u0022:\\\\u0022Washington\\\\u0022,\\\\u0022zip\\\\u0022:\\\\u0022\\\\u0022,\\\\u0022latitude\\\\u0022:\\\\u0022\\\\u0022,\\\\u0022longitude\\\\u0022:\\\\u0022\\\\u0022,\\\\u0022timeZone\\\\u0022:\\\\u0022\\\\u0022,\\\\u0022isEuCountry\\\\u0022:false,\\\\u0022isGdprCountry\\\\u0022:false}}\",\"smartIpSrc\":{\"smartIp\":\"smart_ip\",\"geocodedSmartIp\":\"geocoded_smart_ip\",\"w3c\":\"w3c\"},\"statistics\":{\"data\":{\"nid\":\"11329\"},\"url\":\"\\\\/core\\\\/modules\\\\/statistics\\\\/statistics.php\"},\"ajax\":{\"edit-submit\":{\"event\":\"click\",\"callback\":\"::fivestarAjaxVote\",\"method\":\"replaceWith\",\"wrapper\":\"vote\",\"effect\":\"fade\",\"url\":\"\\\\/job\\\\/global-remote-sensing-manager?ajax_form=1\",\"dialogType\":\"ajax\",\"submit\":{\"_triggering_element_name\":\"op\",\"_triggering_element_value\":\"Rate\"}}},\"user\":{\"uid\":0,\"permissionsHash\":\"058c78386a46170fc26c83fd2c54c15bd7387751c4836dc525699fd8aa0ea6b6\"},\"site\":{\"target_country\":\"RW\",\"stats_url\":\"\"}}</script>\\n<script src=\"/core/assets,_vendor,_jquery,_jquery.min.js,qv==3.6.0+misc,_polyfills,_element.matches.js,qv==9.4.8+misc,_polyfills,_object.assign.js,qv==9.4.8+misc,_polyfills,_nodelist.foreach.js,qv==9.4.8.pagespeed.jc.oQ8gaJT3di.js\"></script><script>eval(mod_pagespeed_bNcg0xo57d);</script>\\n<script>eval(mod_pagespeed_AYL_9DEvgY);</script>\\n<script>eval(mod_pagespeed_ewkRNPQygP);</script>\\n<script>eval(mod_pagespeed_tNDYSYPIbm);</script>\\n<script src=\"/core,_assets,_vendor,_css-escape,_css.escape.js,qv==1.5.1+core,_assets,_vendor,_once,_once.min.js,qv==1.0.1+core,_assets,_vendor,_jquery-once,_jquery.once.min.js,qv==2.2.3+core,_misc,_drupalSettingsLoader.js,qv==9.4.8+core,_misc,_drupal.js,qv==9.4.8+core,_misc,_drupal.init.js,qv==9.4.8+modules,_contrib,_jquery_ui_effects,_jquery.ui,_ui,_effect-min.js,qv==1.12.1+core,_assets,_vendor,_tabbable,_index.umd.min.js,qv==5.3.2.pagespeed.jc.3974zWHh1x.js\"></script><script>eval(mod_pagespeed_FQTUgXT8Rt);</script>\\n<script>eval(mod_pagespeed_BZmQgC8LGt);</script>\\n<script>eval(mod_pagespeed_hkUfBNGypl);</script>\\n<script>eval(mod_pagespeed_mifH41niV0);</script>\\n<script>eval(mod_pagespeed_Nt6dNHZLWs);</script>\\n<script>eval(mod_pagespeed_B7wP0rtqNK);</script>\\n<script>eval(mod_pagespeed_BVNju1LsgD);</script>\\n<script>eval(mod_pagespeed_aySPvKp29y);</script>\\n<script src=\"https://static.addtoany.com/menu/page.js\" async></script>\\n<script src=\"/modules,_contrib,_addtoany,_js,_addtoany.js,qv==9.4.8+core,_misc,_jquery.once.bc.js,qv==9.4.8+modules,_contrib,_back_to_top,_js,_back_to_top.js,qv==9.4.8+modules,_contrib,_google_analytics,_js,_google_analytics.js,qv==9.4.8+themes,_custom,_jix_core_theme,_js,_bootstrap.min.js,qrkupby.pagespeed.jc.5v9i-LV9wH.js\"></script><script>eval(mod_pagespeed_Fdg1soSW6T);</script>\\n<script>eval(mod_pagespeed_xNxaKYVaT1);</script>\\n<script>eval(mod_pagespeed_YK8SJYecjT);</script>\\n<script>eval(mod_pagespeed_cVmE_nT01z);</script>\\n<script>eval(mod_pagespeed_70lxof_Xlo);</script>\\n<script src=\"/libraries,_jquery.select2,_dist,_js,_select2.min.js,qv==4.0.13+modules,_contrib,_webform,_js,_webform.element.select2.js,qv==9.4.8.pagespeed.jc.rKx5SV_AqL.js\"></script><script>eval(mod_pagespeed_7R2Z$2ATgc);</script>\\n<script>eval(mod_pagespeed_0uoq6BB3Ey);</script>\\n<script src=\"/libraries,_jquery.intl-tel-input,_build,_js,_intlTelInput.min.js,qv==17.0.16+libraries,_jquery.intl-tel-input,_build,_js,_intlTelInput-jquery.min.js,qv==17.0.16+modules,_contrib,_webform,_js,_webform.element.telephone.js,qv==9.4.8+modules,_contrib,_jquery_ui_effects,_jquery.ui,_ui,_effects,_effect-fade-min.js,qv==1.12.1+themes,_custom,_jix_core_theme,_js,_barrio.js,qv==1.x+themes,_custom,_jix_core_theme,_node_modules,_readmore-js,_readmore.min.js,qv==1.x+themes,_custom,_jix_core_theme,_js,_global.js,qv==1.x+themes,_custom,_jix_core_theme,_js,_custom.js,qv==1.x+core,_modules,_statistics,_statistics.js,qv==9.4.8+themes,_contrib,_bootstrap_barrio,_js,_affix.js,qv==9.4.8+core,_misc,_debounce.js,qv==9.4.8+core,_misc,_form.js,qv==9.4.8+modules,_contrib,_webform,_js,_webform.behaviors.js,qv==9.4.8+core,_misc,_states.js,qv==9.4.8.pagespeed.jc.8fW-roAXoi.js\"></script><script>eval(mod_pagespeed_2P2b0bpirW);</script>\\n<script>eval(mod_pagespeed_M65zN7jWUT);</script>\\n<script>eval(mod_pagespeed_5hQsfurz4g);</script>\\n<script>eval(mod_pagespeed_a99ShSNQ5o);</script>\\n<script>eval(mod_pagespeed_CFx61fSpBs);</script>\\n<script>eval(mod_pagespeed_cKdTEwomcZ);</script>\\n<script>eval(mod_pagespeed_NiZeU1r$y0);</script>\\n<script>eval(mod_pagespeed_aLQAOCvOVU);</script>\\n<script>eval(mod_pagespeed_7rFARsna4v);</script>\\n<script>eval(mod_pagespeed_E$jlRSSAC6);</script>\\n<script>eval(mod_pagespeed_NwtcWQxOG7);</script>\\n<script>eval(mod_pagespeed_VZqcvFdTIk);</script>\\n<script>eval(mod_pagespeed_JIfsUmNRXA);</script>\\n<script>eval(mod_pagespeed_8SZsK5RAob);</script>\\n<script src=\"/modules,_contrib,_webform,_js,_webform.states.js,qv==9.4.8+modules,_contrib,_webform,_js,_webform.form.js,qv==9.4.8+modules,_contrib,_webform,_js,_webform.element.details.save.js,qv==9.4.8+core,_misc,_announce.js,qv==9.4.8+modules,_contrib,_webform,_js,_webform.element.details.toggle.js,qv==9.4.8+modules,_contrib,_webform,_js,_webform.element.message.js,qv==9.4.8+modules,_contrib,_clientside_validation,_clientside_validation_jquery,_js,_cv.jquery.validate.js,qrkupby+core,_assets,_vendor,_jquery-form,_jquery.form.min.js,qv==4.3.0+core,_misc,_progress.js,qv==9.4.8+core,_misc,_ajax.js,qv==9.4.8+modules,_contrib,_fivestar,_js,_fivestar.js,qv==9.4.8.pagespeed.jc.HkCbiRjfeu.js\"></script><script>eval(mod_pagespeed_ilEbvGp$KK);</script>\\n<script>eval(mod_pagespeed_c092uP3Q$x);</script>\\n<script>eval(mod_pagespeed_7xpd5gMgQa);</script>\\n<script>eval(mod_pagespeed_BkM6n3PhaN);</script>\\n<script>eval(mod_pagespeed_DVR9OkxuPs);</script>\\n<script>eval(mod_pagespeed_6w$KB2znfF);</script>\\n<script src=\"https://cdn.jsdelivr.net/npm/jquery-validation@1.17.0/dist/jquery.validate.min.js\"></script>\\n<script>eval(mod_pagespeed_5iUxYoUQr0);</script>\\n<script src=\"/modules/contrib/clientside_validation/clientside_validation_jquery/js/cv.jquery.ckeditor.js?rkupby\"></script>\\n<script>eval(mod_pagespeed_p1oYIJceIQ);</script>\\n<script>eval(mod_pagespeed_N4ZoK$OGBl);</script>\\n<script>eval(mod_pagespeed_Z8tGpcMpAs);</script>\\n<script>eval(mod_pagespeed_mDJyrNfrz9);</script>\\n\\n  </body>\\n</html>\\n'"
            ]
          },
          "metadata": {},
          "execution_count": 163
        }
      ]
    },
    {
      "cell_type": "code",
      "source": [
        "job_description_bs = BeautifulSoup(job_description_raw_content, 'html.parser')"
      ],
      "metadata": {
        "id": "S9DIETHsbTyT"
      },
      "execution_count": null,
      "outputs": []
    },
    {
      "cell_type": "markdown",
      "source": [
        "Employer Description"
      ],
      "metadata": {
        "id": "n2ah6SG7ccfs"
      }
    },
    {
      "cell_type": "code",
      "source": [
        "job_description_bs.find_all('div', class_='employer-description') "
      ],
      "metadata": {
        "colab": {
          "base_uri": "https://localhost:8080/"
        },
        "id": "wmYZlxghbeFy",
        "outputId": "88d372c6-b0a1-4bec-b0d0-b3495c74d100"
      },
      "execution_count": null,
      "outputs": [
        {
          "output_type": "execute_result",
          "data": {
            "text/plain": [
              "[<div class=\"employer-description\" style=\"overflow: hidden\">\n",
              " <p class=\"rtejustify\">Founded in 2006, One Acre Fund supplies 1 million smallholder farmers with the agricultural services they need to make their farms vastly more productive. Our 8,000+ team is drawn from diverse backgrounds and professions. With operations across six core countries in Africa, we make farmers more prosperous by providing quality farm supplies on credit, delivered within walking distance of farmers’ homes, and agricultural training to improve harvests. On average, the farmers we serve harvest 50 percent more food after working with One Acre Fund. </p>\n",
              " <p class=\"rtejustify\">To learn more about our work, take a look at our <a href=\"https://oneacrefund.org/work-with-us/why-work-here/why-work-here/\" target=\"_blank\">Why Work Here</a> blog for more information.</p>\n",
              " </div>]"
            ]
          },
          "metadata": {},
          "execution_count": 165
        }
      ]
    },
    {
      "cell_type": "code",
      "source": [
        "describe = job_description_bs.find_all('div', class_=\"clearfix text-formatted field field--name-field-job-full-description field--type-text-long field--label-hidden field__item\") "
      ],
      "metadata": {
        "id": "y0PLxefRbYZl"
      },
      "execution_count": null,
      "outputs": []
    },
    {
      "cell_type": "code",
      "source": [
        "df['description'] = None"
      ],
      "metadata": {
        "id": "BB9wOb7LbfoJ"
      },
      "execution_count": null,
      "outputs": []
    },
    {
      "cell_type": "code",
      "source": [
        "def get_description(job_link):\n",
        "  job_description_raw_content = requests.get(f'https://www.jobinrwanda.com/{job_link}').content \n",
        "  job_description_bs = BeautifulSoup(job_description_raw_content, 'html.parser')  \n",
        "  job_description_bs.find_all('div', class_='employer-description')\n",
        "  \n",
        "  describe = job_description_bs.find_all('div', class_=\"clearfix text-formatted field field--name-field-job-full-description field--type-text-long field--label-hidden field__item\") #Employer Description\n",
        "  description = '' \n",
        "  for paragraph in describe:\n",
        "    description += paragraph.getText() \n",
        "  return description"
      ],
      "metadata": {
        "id": "bxOaykK9bjLG"
      },
      "execution_count": null,
      "outputs": []
    },
    {
      "cell_type": "code",
      "source": [
        "for position, link in enumerate(df['link']):\n",
        "  df.loc[position]['description'] = get_description(job_link=link)"
      ],
      "metadata": {
        "id": "1WD7NcclbmZa"
      },
      "execution_count": null,
      "outputs": []
    },
    {
      "cell_type": "markdown",
      "source": [
        "Exporting CSV file"
      ],
      "metadata": {
        "id": "FgE1clbETqzI"
      }
    },
    {
      "cell_type": "code",
      "source": [
        "df.to_csv(r'./dataframe.csv', index=False, header=True)"
      ],
      "metadata": {
        "id": "UV62Tj7zTmhO"
      },
      "execution_count": null,
      "outputs": []
    },
    {
      "cell_type": "markdown",
      "source": [
        "Creating a dataframe"
      ],
      "metadata": {
        "id": "3YFxgom_TxsN"
      }
    },
    {
      "cell_type": "code",
      "source": [
        "df"
      ],
      "metadata": {
        "colab": {
          "base_uri": "https://localhost:8080/",
          "height": 711
        },
        "id": "MshT8YbkQ9Wc",
        "outputId": "60ac9009-5edc-4f26-bc80-9192183bec52"
      },
      "execution_count": null,
      "outputs": [
        {
          "output_type": "execute_result",
          "data": {
            "text/plain": [
              "                                                link  \\\n",
              "0                          /job/operations-manager-6   \n",
              "1                        /job/account-manager-credit   \n",
              "2                                 /job/legal-manager   \n",
              "3   /job/district-coordinatorjunior-district-manager   \n",
              "4                        /job/radio-sales-executives   \n",
              "..                                               ...   \n",
              "71                             /job/rwanda-tree-lead   \n",
              "72    /index.php/job/rwanda-potato-seed-venture-lead   \n",
              "73                 /job/it-operations-senior-manager   \n",
              "74           /job/rwanda-seed-innovation-centre-lead   \n",
              "75                      /job/senior-business-analyst   \n",
              "\n",
              "                                           title          company_link  \\\n",
              "0                             Operations Manager         [GardaWorld ]   \n",
              "1                        Account Manager- Credit              [Yellow]   \n",
              "2                                  Legal Manager         [COPEDU PLC ]   \n",
              "3   District Coordinator/Junior District Manager  [EarthEnable Rwanda]   \n",
              "4                         Radio Sales Executives     [ROYAL RADIO LTD]   \n",
              "..                                           ...                   ...   \n",
              "71                              Rwanda Tree Lead       [One Acre Fund]   \n",
              "72             Rwanda Potato Seed Venture ﻿﻿Lead       [One Acre Fund]   \n",
              "73                  IT Operations Senior Manager       [One Acre Fund]   \n",
              "74            Rwanda Seed Innovation Centre Lead       [One Acre Fund]   \n",
              "75                       Senior Business Analyst       [One Acre Fund]   \n",
              "\n",
              "               company type Description  \\\n",
              "0          GardaWorld   Job        None   \n",
              "1               Yellow  Job        None   \n",
              "2          COPEDU PLC   Job        None   \n",
              "3   EarthEnable Rwanda  Job        None   \n",
              "4      ROYAL RADIO LTD  Job        None   \n",
              "..                 ...  ...         ...   \n",
              "71       One Acre Fund  Job        None   \n",
              "72       One Acre Fund  Job        None   \n",
              "73       One Acre Fund  Job        None   \n",
              "74       One Acre Fund  Job        None   \n",
              "75       One Acre Fund  Job        None   \n",
              "\n",
              "                                          description  \n",
              "0   Job Description – Operations Manager\\n\\nPositi...  \n",
              "1   Position: Account Manager- Credit\\nLocations: ...  \n",
              "2   NOTICE OF RECRUITMENT\\nCOPEDU PLC, is a tradin...  \n",
              "3   JOB DESCRIPTION: DISTRICT COORDINATOR/JUNIOR D...  \n",
              "4   JOB OPPORTUNITY\\n94.3 ROYAL FM is opening up a...  \n",
              "..                                                ...  \n",
              "71  About One Acre Fund\\nFounded in 2006, One Acre...  \n",
              "72  About One Acre Fund\\nFounded in 2006, One Acre...  \n",
              "73  About One Acre Fund\\nFounded in 2006, One Acre...  \n",
              "74  About One Acre Fund\\nFounded in 2006, One Acre...  \n",
              "75  ABOUT ONE ACRE FUND\\nFounded in 2006, One Acre...  \n",
              "\n",
              "[76 rows x 7 columns]"
            ],
            "text/html": [
              "\n",
              "  <div id=\"df-ea65d679-0b9d-4650-b520-7b1889f5a6e0\">\n",
              "    <div class=\"colab-df-container\">\n",
              "      <div>\n",
              "<style scoped>\n",
              "    .dataframe tbody tr th:only-of-type {\n",
              "        vertical-align: middle;\n",
              "    }\n",
              "\n",
              "    .dataframe tbody tr th {\n",
              "        vertical-align: top;\n",
              "    }\n",
              "\n",
              "    .dataframe thead th {\n",
              "        text-align: right;\n",
              "    }\n",
              "</style>\n",
              "<table border=\"1\" class=\"dataframe\">\n",
              "  <thead>\n",
              "    <tr style=\"text-align: right;\">\n",
              "      <th></th>\n",
              "      <th>link</th>\n",
              "      <th>title</th>\n",
              "      <th>company_link</th>\n",
              "      <th>company</th>\n",
              "      <th>type</th>\n",
              "      <th>Description</th>\n",
              "      <th>description</th>\n",
              "    </tr>\n",
              "  </thead>\n",
              "  <tbody>\n",
              "    <tr>\n",
              "      <th>0</th>\n",
              "      <td>/job/operations-manager-6</td>\n",
              "      <td>Operations Manager</td>\n",
              "      <td>[GardaWorld ]</td>\n",
              "      <td>GardaWorld</td>\n",
              "      <td>Job</td>\n",
              "      <td>None</td>\n",
              "      <td>Job Description – Operations Manager\\n\\nPositi...</td>\n",
              "    </tr>\n",
              "    <tr>\n",
              "      <th>1</th>\n",
              "      <td>/job/account-manager-credit</td>\n",
              "      <td>Account Manager- Credit</td>\n",
              "      <td>[Yellow]</td>\n",
              "      <td>Yellow</td>\n",
              "      <td>Job</td>\n",
              "      <td>None</td>\n",
              "      <td>Position: Account Manager- Credit\\nLocations: ...</td>\n",
              "    </tr>\n",
              "    <tr>\n",
              "      <th>2</th>\n",
              "      <td>/job/legal-manager</td>\n",
              "      <td>Legal Manager</td>\n",
              "      <td>[COPEDU PLC ]</td>\n",
              "      <td>COPEDU PLC</td>\n",
              "      <td>Job</td>\n",
              "      <td>None</td>\n",
              "      <td>NOTICE OF RECRUITMENT\\nCOPEDU PLC, is a tradin...</td>\n",
              "    </tr>\n",
              "    <tr>\n",
              "      <th>3</th>\n",
              "      <td>/job/district-coordinatorjunior-district-manager</td>\n",
              "      <td>District Coordinator/Junior District Manager</td>\n",
              "      <td>[EarthEnable Rwanda]</td>\n",
              "      <td>EarthEnable Rwanda</td>\n",
              "      <td>Job</td>\n",
              "      <td>None</td>\n",
              "      <td>JOB DESCRIPTION: DISTRICT COORDINATOR/JUNIOR D...</td>\n",
              "    </tr>\n",
              "    <tr>\n",
              "      <th>4</th>\n",
              "      <td>/job/radio-sales-executives</td>\n",
              "      <td>Radio Sales Executives</td>\n",
              "      <td>[ROYAL RADIO LTD]</td>\n",
              "      <td>ROYAL RADIO LTD</td>\n",
              "      <td>Job</td>\n",
              "      <td>None</td>\n",
              "      <td>JOB OPPORTUNITY\\n94.3 ROYAL FM is opening up a...</td>\n",
              "    </tr>\n",
              "    <tr>\n",
              "      <th>...</th>\n",
              "      <td>...</td>\n",
              "      <td>...</td>\n",
              "      <td>...</td>\n",
              "      <td>...</td>\n",
              "      <td>...</td>\n",
              "      <td>...</td>\n",
              "      <td>...</td>\n",
              "    </tr>\n",
              "    <tr>\n",
              "      <th>71</th>\n",
              "      <td>/job/rwanda-tree-lead</td>\n",
              "      <td>Rwanda Tree Lead</td>\n",
              "      <td>[One Acre Fund]</td>\n",
              "      <td>One Acre Fund</td>\n",
              "      <td>Job</td>\n",
              "      <td>None</td>\n",
              "      <td>About One Acre Fund\\nFounded in 2006, One Acre...</td>\n",
              "    </tr>\n",
              "    <tr>\n",
              "      <th>72</th>\n",
              "      <td>/index.php/job/rwanda-potato-seed-venture-lead</td>\n",
              "      <td>Rwanda Potato Seed Venture ﻿﻿Lead</td>\n",
              "      <td>[One Acre Fund]</td>\n",
              "      <td>One Acre Fund</td>\n",
              "      <td>Job</td>\n",
              "      <td>None</td>\n",
              "      <td>About One Acre Fund\\nFounded in 2006, One Acre...</td>\n",
              "    </tr>\n",
              "    <tr>\n",
              "      <th>73</th>\n",
              "      <td>/job/it-operations-senior-manager</td>\n",
              "      <td>IT Operations Senior Manager</td>\n",
              "      <td>[One Acre Fund]</td>\n",
              "      <td>One Acre Fund</td>\n",
              "      <td>Job</td>\n",
              "      <td>None</td>\n",
              "      <td>About One Acre Fund\\nFounded in 2006, One Acre...</td>\n",
              "    </tr>\n",
              "    <tr>\n",
              "      <th>74</th>\n",
              "      <td>/job/rwanda-seed-innovation-centre-lead</td>\n",
              "      <td>Rwanda Seed Innovation Centre Lead</td>\n",
              "      <td>[One Acre Fund]</td>\n",
              "      <td>One Acre Fund</td>\n",
              "      <td>Job</td>\n",
              "      <td>None</td>\n",
              "      <td>About One Acre Fund\\nFounded in 2006, One Acre...</td>\n",
              "    </tr>\n",
              "    <tr>\n",
              "      <th>75</th>\n",
              "      <td>/job/senior-business-analyst</td>\n",
              "      <td>Senior Business Analyst</td>\n",
              "      <td>[One Acre Fund]</td>\n",
              "      <td>One Acre Fund</td>\n",
              "      <td>Job</td>\n",
              "      <td>None</td>\n",
              "      <td>ABOUT ONE ACRE FUND\\nFounded in 2006, One Acre...</td>\n",
              "    </tr>\n",
              "  </tbody>\n",
              "</table>\n",
              "<p>76 rows × 7 columns</p>\n",
              "</div>\n",
              "      <button class=\"colab-df-convert\" onclick=\"convertToInteractive('df-ea65d679-0b9d-4650-b520-7b1889f5a6e0')\"\n",
              "              title=\"Convert this dataframe to an interactive table.\"\n",
              "              style=\"display:none;\">\n",
              "        \n",
              "  <svg xmlns=\"http://www.w3.org/2000/svg\" height=\"24px\"viewBox=\"0 0 24 24\"\n",
              "       width=\"24px\">\n",
              "    <path d=\"M0 0h24v24H0V0z\" fill=\"none\"/>\n",
              "    <path d=\"M18.56 5.44l.94 2.06.94-2.06 2.06-.94-2.06-.94-.94-2.06-.94 2.06-2.06.94zm-11 1L8.5 8.5l.94-2.06 2.06-.94-2.06-.94L8.5 2.5l-.94 2.06-2.06.94zm10 10l.94 2.06.94-2.06 2.06-.94-2.06-.94-.94-2.06-.94 2.06-2.06.94z\"/><path d=\"M17.41 7.96l-1.37-1.37c-.4-.4-.92-.59-1.43-.59-.52 0-1.04.2-1.43.59L10.3 9.45l-7.72 7.72c-.78.78-.78 2.05 0 2.83L4 21.41c.39.39.9.59 1.41.59.51 0 1.02-.2 1.41-.59l7.78-7.78 2.81-2.81c.8-.78.8-2.07 0-2.86zM5.41 20L4 18.59l7.72-7.72 1.47 1.35L5.41 20z\"/>\n",
              "  </svg>\n",
              "      </button>\n",
              "      \n",
              "  <style>\n",
              "    .colab-df-container {\n",
              "      display:flex;\n",
              "      flex-wrap:wrap;\n",
              "      gap: 12px;\n",
              "    }\n",
              "\n",
              "    .colab-df-convert {\n",
              "      background-color: #E8F0FE;\n",
              "      border: none;\n",
              "      border-radius: 50%;\n",
              "      cursor: pointer;\n",
              "      display: none;\n",
              "      fill: #1967D2;\n",
              "      height: 32px;\n",
              "      padding: 0 0 0 0;\n",
              "      width: 32px;\n",
              "    }\n",
              "\n",
              "    .colab-df-convert:hover {\n",
              "      background-color: #E2EBFA;\n",
              "      box-shadow: 0px 1px 2px rgba(60, 64, 67, 0.3), 0px 1px 3px 1px rgba(60, 64, 67, 0.15);\n",
              "      fill: #174EA6;\n",
              "    }\n",
              "\n",
              "    [theme=dark] .colab-df-convert {\n",
              "      background-color: #3B4455;\n",
              "      fill: #D2E3FC;\n",
              "    }\n",
              "\n",
              "    [theme=dark] .colab-df-convert:hover {\n",
              "      background-color: #434B5C;\n",
              "      box-shadow: 0px 1px 3px 1px rgba(0, 0, 0, 0.15);\n",
              "      filter: drop-shadow(0px 1px 2px rgba(0, 0, 0, 0.3));\n",
              "      fill: #FFFFFF;\n",
              "    }\n",
              "  </style>\n",
              "\n",
              "      <script>\n",
              "        const buttonEl =\n",
              "          document.querySelector('#df-ea65d679-0b9d-4650-b520-7b1889f5a6e0 button.colab-df-convert');\n",
              "        buttonEl.style.display =\n",
              "          google.colab.kernel.accessAllowed ? 'block' : 'none';\n",
              "\n",
              "        async function convertToInteractive(key) {\n",
              "          const element = document.querySelector('#df-ea65d679-0b9d-4650-b520-7b1889f5a6e0');\n",
              "          const dataTable =\n",
              "            await google.colab.kernel.invokeFunction('convertToInteractive',\n",
              "                                                     [key], {});\n",
              "          if (!dataTable) return;\n",
              "\n",
              "          const docLinkHtml = 'Like what you see? Visit the ' +\n",
              "            '<a target=\"_blank\" href=https://colab.research.google.com/notebooks/data_table.ipynb>data table notebook</a>'\n",
              "            + ' to learn more about interactive tables.';\n",
              "          element.innerHTML = '';\n",
              "          dataTable['output_type'] = 'display_data';\n",
              "          await google.colab.output.renderOutput(dataTable, element);\n",
              "          const docLink = document.createElement('div');\n",
              "          docLink.innerHTML = docLinkHtml;\n",
              "          element.appendChild(docLink);\n",
              "        }\n",
              "      </script>\n",
              "    </div>\n",
              "  </div>\n",
              "  "
            ]
          },
          "metadata": {},
          "execution_count": 212
        }
      ]
    },
    {
      "cell_type": "code",
      "source": [],
      "metadata": {
        "id": "M4Y4hkN0SImQ"
      },
      "execution_count": null,
      "outputs": []
    },
    {
      "cell_type": "markdown",
      "source": [
        "### Translation"
      ],
      "metadata": {
        "id": "hLOZFZ1G5ijD"
      }
    },
    {
      "cell_type": "code",
      "source": [
        "!pip install -U easynmt"
      ],
      "metadata": {
        "colab": {
          "base_uri": "https://localhost:8080/"
        },
        "id": "JA5RzkRl5lqk",
        "outputId": "a29d9985-11d1-4cc3-a48e-0f84185ca7b2"
      },
      "execution_count": null,
      "outputs": [
        {
          "output_type": "stream",
          "name": "stdout",
          "text": [
            "Looking in indexes: https://pypi.org/simple, https://us-python.pkg.dev/colab-wheels/public/simple/\n",
            "Collecting easynmt\n",
            "  Downloading EasyNMT-2.0.2.tar.gz (23 kB)\n",
            "Requirement already satisfied: tqdm in /usr/local/lib/python3.7/dist-packages (from easynmt) (4.64.1)\n",
            "Collecting transformers<5,>=4.4\n",
            "  Downloading transformers-4.24.0-py3-none-any.whl (5.5 MB)\n",
            "\u001b[K     |████████████████████████████████| 5.5 MB 49.1 MB/s \n",
            "\u001b[?25hRequirement already satisfied: torch>=1.6.0 in /usr/local/lib/python3.7/dist-packages (from easynmt) (1.12.1+cu113)\n",
            "Requirement already satisfied: numpy in /usr/local/lib/python3.7/dist-packages (from easynmt) (1.21.6)\n",
            "Requirement already satisfied: nltk in /usr/local/lib/python3.7/dist-packages (from easynmt) (3.7)\n",
            "Collecting sentencepiece\n",
            "  Downloading sentencepiece-0.1.97-cp37-cp37m-manylinux_2_17_x86_64.manylinux2014_x86_64.whl (1.3 MB)\n",
            "\u001b[K     |████████████████████████████████| 1.3 MB 75.7 MB/s \n",
            "\u001b[?25hCollecting fasttext\n",
            "  Downloading fasttext-0.9.2.tar.gz (68 kB)\n",
            "\u001b[K     |████████████████████████████████| 68 kB 6.2 MB/s \n",
            "\u001b[?25hRequirement already satisfied: protobuf in /usr/local/lib/python3.7/dist-packages (from easynmt) (3.19.6)\n",
            "Requirement already satisfied: typing-extensions in /usr/local/lib/python3.7/dist-packages (from torch>=1.6.0->easynmt) (4.1.1)\n",
            "Requirement already satisfied: pyyaml>=5.1 in /usr/local/lib/python3.7/dist-packages (from transformers<5,>=4.4->easynmt) (6.0)\n",
            "Requirement already satisfied: requests in /usr/local/lib/python3.7/dist-packages (from transformers<5,>=4.4->easynmt) (2.23.0)\n",
            "Collecting huggingface-hub<1.0,>=0.10.0\n",
            "  Downloading huggingface_hub-0.10.1-py3-none-any.whl (163 kB)\n",
            "\u001b[K     |████████████████████████████████| 163 kB 75.8 MB/s \n",
            "\u001b[?25hCollecting tokenizers!=0.11.3,<0.14,>=0.11.1\n",
            "  Downloading tokenizers-0.13.2-cp37-cp37m-manylinux_2_17_x86_64.manylinux2014_x86_64.whl (7.6 MB)\n",
            "\u001b[K     |████████████████████████████████| 7.6 MB 43.1 MB/s \n",
            "\u001b[?25hRequirement already satisfied: filelock in /usr/local/lib/python3.7/dist-packages (from transformers<5,>=4.4->easynmt) (3.8.0)\n",
            "Requirement already satisfied: packaging>=20.0 in /usr/local/lib/python3.7/dist-packages (from transformers<5,>=4.4->easynmt) (21.3)\n",
            "Requirement already satisfied: regex!=2019.12.17 in /usr/local/lib/python3.7/dist-packages (from transformers<5,>=4.4->easynmt) (2022.6.2)\n",
            "Requirement already satisfied: importlib-metadata in /usr/local/lib/python3.7/dist-packages (from transformers<5,>=4.4->easynmt) (4.13.0)\n",
            "Requirement already satisfied: pyparsing!=3.0.5,>=2.0.2 in /usr/local/lib/python3.7/dist-packages (from packaging>=20.0->transformers<5,>=4.4->easynmt) (3.0.9)\n",
            "Collecting pybind11>=2.2\n",
            "  Using cached pybind11-2.10.1-py3-none-any.whl (216 kB)\n",
            "Requirement already satisfied: setuptools>=0.7.0 in /usr/local/lib/python3.7/dist-packages (from fasttext->easynmt) (57.4.0)\n",
            "Requirement already satisfied: zipp>=0.5 in /usr/local/lib/python3.7/dist-packages (from importlib-metadata->transformers<5,>=4.4->easynmt) (3.10.0)\n",
            "Requirement already satisfied: click in /usr/local/lib/python3.7/dist-packages (from nltk->easynmt) (7.1.2)\n",
            "Requirement already satisfied: joblib in /usr/local/lib/python3.7/dist-packages (from nltk->easynmt) (1.2.0)\n",
            "Requirement already satisfied: certifi>=2017.4.17 in /usr/local/lib/python3.7/dist-packages (from requests->transformers<5,>=4.4->easynmt) (2022.9.24)\n",
            "Requirement already satisfied: idna<3,>=2.5 in /usr/local/lib/python3.7/dist-packages (from requests->transformers<5,>=4.4->easynmt) (2.10)\n",
            "Requirement already satisfied: urllib3!=1.25.0,!=1.25.1,<1.26,>=1.21.1 in /usr/local/lib/python3.7/dist-packages (from requests->transformers<5,>=4.4->easynmt) (1.24.3)\n",
            "Requirement already satisfied: chardet<4,>=3.0.2 in /usr/local/lib/python3.7/dist-packages (from requests->transformers<5,>=4.4->easynmt) (3.0.4)\n",
            "Building wheels for collected packages: easynmt, fasttext\n",
            "  Building wheel for easynmt (setup.py) ... \u001b[?25l\u001b[?25hdone\n",
            "  Created wheel for easynmt: filename=EasyNMT-2.0.2-py3-none-any.whl size=19919 sha256=a602a12a158226764ed0de2a193454c1304c2d01dc501bc9df23771159620c68\n",
            "  Stored in directory: /root/.cache/pip/wheels/d1/57/06/53ca38645e14d4537a41e5a36da2026e10f54ae88240dd5190\n",
            "  Building wheel for fasttext (setup.py) ... \u001b[?25l\u001b[?25hdone\n",
            "  Created wheel for fasttext: filename=fasttext-0.9.2-cp37-cp37m-linux_x86_64.whl size=3164418 sha256=dd708da37bf3f075a0f41e5c9b06e2bff3b24194195e1c24aea7a55066453ae6\n",
            "  Stored in directory: /root/.cache/pip/wheels/4e/ca/bf/b020d2be95f7641801a6597a29c8f4f19e38f9c02a345bab9b\n",
            "Successfully built easynmt fasttext\n",
            "Installing collected packages: tokenizers, pybind11, huggingface-hub, transformers, sentencepiece, fasttext, easynmt\n",
            "Successfully installed easynmt-2.0.2 fasttext-0.9.2 huggingface-hub-0.10.1 pybind11-2.10.1 sentencepiece-0.1.97 tokenizers-0.13.2 transformers-4.24.0\n"
          ]
        }
      ]
    },
    {
      "cell_type": "markdown",
      "source": [
        "Create EasyNMT instance"
      ],
      "metadata": {
        "id": "kjW6FUGW5wch"
      }
    },
    {
      "cell_type": "code",
      "source": [
        "from easynmt import EasyNMT\n",
        "model = EasyNMT('opus-mt')"
      ],
      "metadata": {
        "colab": {
          "base_uri": "https://localhost:8080/"
        },
        "id": "nqEDhZ2f5ziF",
        "outputId": "b3a910ee-203f-4d5f-bc5f-1c3b78933d5b"
      },
      "execution_count": null,
      "outputs": [
        {
          "output_type": "stream",
          "name": "stderr",
          "text": [
            "11.9kB [00:00, 4.73MB/s]                   \n"
          ]
        }
      ]
    },
    {
      "cell_type": "markdown",
      "source": [
        "# Umucyo - Scraper\n",
        "\n",
        "### Scraping for [Umucyo](https://www.umucyo.gov.rw/)\n",
        "\n",
        "\n"
      ],
      "metadata": {
        "id": "XneMqGw9mGbw"
      }
    },
    {
      "cell_type": "markdown",
      "source": [
        "Import needed libraries"
      ],
      "metadata": {
        "id": "n9O-7tVTtWdZ"
      }
    },
    {
      "cell_type": "code",
      "source": [
        "import requests\n",
        "from bs4 import BeautifulSoup\n",
        "import re\n",
        "import json"
      ],
      "metadata": {
        "id": "0A3b4wkisnLB"
      },
      "execution_count": null,
      "outputs": []
    },
    {
      "cell_type": "code",
      "source": [
        "url = 'https://www.umucyo.gov.rw/'\n",
        "response = requests.get(url)"
      ],
      "metadata": {
        "id": "mxVtpA1tssQ9"
      },
      "execution_count": null,
      "outputs": []
    },
    {
      "cell_type": "code",
      "source": [
        "response"
      ],
      "metadata": {
        "colab": {
          "base_uri": "https://localhost:8080/"
        },
        "id": "NQVcuc_7s586",
        "outputId": "259ed6af-15cf-497a-cc3c-d2b4adcd4090"
      },
      "execution_count": null,
      "outputs": [
        {
          "output_type": "execute_result",
          "data": {
            "text/plain": [
              "<Response [200]>"
            ]
          },
          "metadata": {},
          "execution_count": 189
        }
      ]
    },
    {
      "cell_type": "code",
      "source": [
        "details = requests.get(url).content"
      ],
      "metadata": {
        "id": "iCcMk-Hf1jFL"
      },
      "execution_count": null,
      "outputs": []
    },
    {
      "cell_type": "code",
      "source": [
        "details"
      ],
      "metadata": {
        "colab": {
          "base_uri": "https://localhost:8080/"
        },
        "id": "wRHHOu8915Td",
        "outputId": "1c3dd8e8-abc4-42c0-e812-d2d747271375"
      },
      "execution_count": null,
      "outputs": [
        {
          "output_type": "execute_result",
          "data": {
            "text/plain": [
              "b'\\r\\n\\r\\n\\r\\n\\r\\n<!DOCTYPE html PUBLIC \"-//W3C//DTD HTML 4.01 Transitional//EN\" \"http://www.w3.org/TR/html4/loose.dtd\">\\r\\n<html>\\r\\n<head>\\r\\n<meta http-equiv=\"Content-Type\" content=\"text/html; charset=UTF-8\">\\r\\n<meta http-equiv=\"X-UA-Compatible\" content=\"IE=10\" />\\r\\n<title>Rwanda On-Line E-Procurement System</title>\\r\\n<script>\\r\\n\\t//document.domain = \"roneps.rw\";\\r\\n</script>\\r\\n<link rel=\"shortcut icon\" type=\"image/x-icon\" href=\"/images/logo.png\" />\\r\\n<script type=\"text/javascript\" src=\"/js/common/ajax.js\"></script>\\r\\n<script type=\"text/javascript\" src=\"/js/common/crossdomain.js\"></script>\\r\\n<script type=\"text/javaScript\" language=\"javascript\">\\r\\n\\r\\n\\tfunction fn_logout(){\\r\\n\\r\\n\\t\\tvar cookie = document.cookie;\\r\\n\\r\\n\\t\\tvar expdate = new Date();\\r\\n\\t\\texpdate.setDate(expdate.getDate() - 1); // cookie delete where\\r\\n\\r\\n\\t\\tif( cookie.length > 0 ){\\r\\n\\r\\n\\t\\t\\tdocument.cookie = \"_SLTS=; path=/; expires=\" + expdate.toGMTString();\\r\\n\\t\\t\\tdocument.cookie = \"_SLTK=; path=/; expires=\" + expdate.toGMTString();\\r\\n\\t\\t\\tdocument.cookie = \"_SLT=; path=/; expires=\" + expdate.toGMTString();\\r\\n\\t\\t\\tdocument.cookie = \"secu=; path=/; expires=\" + expdate.toGMTString();\\r\\n\\r\\n\\t\\t}\\r\\n\\r\\n\\t}\\r\\n\\r\\n</script>\\r\\n</head>\\r\\n\\r\\n<frameset rows=\"0, 0, 0, 0, 0, 0, 0, *\" scrolling=\"yes\" border=\"0\" onbeforeunload=\"javascript:fn_logout()\">\\r\\n    <frame name=\"UsemnAppletFrame\" frameborder=\"0\" src=\"\">\\r\\n\\t<frame name=\"BidAppletFrame\" frameborder=\"0\" src=\"\">\\r\\n    <frame name=\"ContractAppletFrame\" frameborder=\"0\" src=\"\">\\r\\n    <frame name=\"ExmsAppletFrame\" frameborder=\"0\" src=\"\">\\r\\n    <frame name=\"CataAppletFrame\" frameborder=\"0\" src=\"\">\\r\\n\\t<frame name=\"ShopAppletFrame\" frameborder=\"0\" src=\"\">\\r\\n    <frame name=\"AppletFrame\" frameborder=\"0\" frameborder=\"0\">\\r\\n\\t<frame name=\"main\" src=\"/pt/pcm/moveMainPageDetail.do\" frameborder=\"0\" scrolling=\"yes\" noresize>\\r\\n\\t<frame name=\"CookieFrame\" frameborder=\"0\" scrolling=\"yes\" noresize>\\r\\n</frameset>\\r\\n\\r\\n</html>'"
            ]
          },
          "metadata": {},
          "execution_count": 191
        }
      ]
    },
    {
      "cell_type": "markdown",
      "source": [
        "## Submission\n",
        "\n",
        "[Presentation](https://docs.google.com/presentation/d/1i6BcWSv0ifO8g_7xeq5MaIPt2veesT3GUKPdPr1jvfw/edit?usp=sharing)\n",
        "\n",
        "[Colab](https://colab.research.google.com/drive/1X_dDHftZEzTtI4oVrZdslj0KvQPaLcQC#scrollTo=VJJnx2f1cRAz)\n",
        "\n"
      ],
      "metadata": {
        "id": "VJJnx2f1cRAz"
      }
    },
    {
      "cell_type": "code",
      "source": [],
      "metadata": {
        "id": "T18Q3DSJc3mh"
      },
      "execution_count": null,
      "outputs": []
    }
  ]
}