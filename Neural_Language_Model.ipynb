{
  "nbformat": 4,
  "nbformat_minor": 0,
  "metadata": {
    "colab": {
      "provenance": [],
      "collapsed_sections": [],
      "include_colab_link": true
    },
    "kernelspec": {
      "name": "python3",
      "display_name": "Python 3"
    },
    "language_info": {
      "name": "python"
    },
    "gpuClass": "standard"
  },
  "cells": [
    {
      "cell_type": "markdown",
      "metadata": {
        "id": "view-in-github",
        "colab_type": "text"
      },
      "source": [
        "<a href=\"https://colab.research.google.com/github/GustaveRw/NLP-Fellowship/blob/master/Neural_Language_Model.ipynb\" target=\"_parent\"><img src=\"https://colab.research.google.com/assets/colab-badge.svg\" alt=\"Open In Colab\"/></a>"
      ]
    },
    {
      "cell_type": "code",
      "execution_count": null,
      "metadata": {
        "id": "XEk9_DAreFer"
      },
      "outputs": [],
      "source": []
    },
    {
      "cell_type": "markdown",
      "source": [
        "# Word Embeddings\n",
        "Word embeddings were proposed by  [Bengio et. al. (2001, 2003)](https://www.jmlr.org/papers/volume3/bengio03a/bengio03a.pdf)\n",
        "\n",
        "From the dataset, the neural network would identify the words with similar meaning, but also preserve the words semantic (properties of word boy - young, male, human) and syntatic (word order, noun, grammatic relationship) propoerties.\n",
        "\n",
        "The cat is walking in the bedroom\n",
        "\n",
        "A dog was running in a room\n",
        "\n",
        "The cat is running in a room\n",
        "\n",
        "A dog is walking in a bedroom\n",
        "\n",
        "The dog was walking in the room\n",
        "\n",
        "This neural network has three components:\n",
        "\n",
        "1. An embedding layer that generates word embedding, and the parameters are shared across words.\n",
        "  * It’s a lookup table, given the index, it will return the corresponding vector.\n",
        "  * The vector representation indicated the weighted matrix is initialized as random values and will be updated by backpropagation\n",
        "2. A hidden layer of one or more layers, which introduces non-linearity to the embeddings.\n",
        "3. A softmax function that produces probability distribution over all the words in the vocabulary. \n",
        "\n",
        "The words would be represented in a dense vector\n",
        "* dog [0.2,0.5,-1.5,2.4] (length of vector is set as a parameter)"
      ],
      "metadata": {
        "id": "AoLJgt21eLMT"
      }
    },
    {
      "cell_type": "markdown",
      "source": [
        "## Step 1: Get the dataset"
      ],
      "metadata": {
        "id": "T_Ul1df-h7s1"
      }
    },
    {
      "cell_type": "code",
      "source": [
        "from google.colab import drive\n",
        "drive.mount('/content/gdrive')"
      ],
      "metadata": {
        "id": "s73LQJwph3T7"
      },
      "execution_count": null,
      "outputs": []
    },
    {
      "cell_type": "code",
      "source": [
        "import os\n",
        "import pandas as pd\n",
        "path = '' # Enter your path\n",
        "os.chdir(path)\n",
        "!ls"
      ],
      "metadata": {
        "id": "WcV-OEDxj2_g"
      },
      "execution_count": null,
      "outputs": []
    },
    {
      "cell_type": "code",
      "source": [
        "dataset = pd.read_csv('IMDB Dataset.csv')\n",
        "dataset.head(100)"
      ],
      "metadata": {
        "id": "R95NfMEMkLUm"
      },
      "execution_count": null,
      "outputs": []
    },
    {
      "cell_type": "code",
      "source": [
        "dataset.describe()"
      ],
      "metadata": {
        "id": "OHlf0dTzkVL7"
      },
      "execution_count": null,
      "outputs": []
    },
    {
      "cell_type": "code",
      "source": [
        "english_text = list(set()) #Depends on your data. Change code\n",
        "english_text = english_text[:5000]\n",
        "print(len(english_text))"
      ],
      "metadata": {
        "id": "6fci4lmbkc_q"
      },
      "execution_count": null,
      "outputs": []
    },
    {
      "cell_type": "code",
      "source": [
        "import re\n",
        "def preprocess(text):\n",
        "    text = text.lower()\n",
        "    emoji_pattern = re.compile(\"[\"\n",
        "                               u\"\\U0001F600-\\U0001F64F\"  # emoticons\n",
        "                               u\"\\U0001F300-\\U0001F5FF\"  # symbols & pictographs\n",
        "                               u\"\\U0001F680-\\U0001F6FF\"  # transport & map symbols\n",
        "                               u\"\\U0001F1E0-\\U0001F1FF\"  # flags (iOS)\n",
        "                               u\"\\U00002702-\\U000027B0\"\n",
        "                               u\"\\U000024C2-\\U0001F251\"\n",
        "                               \"]+\", flags=re.UNICODE)\n",
        "    url_pattern = re.compile(r'https?://\\S+|www\\.\\S+')\n",
        "    html_pattern = re.compile('<.*?>')\n",
        "    text = emoji_pattern.sub(r'', text)\n",
        "    text = url_pattern.sub(r'', text)\n",
        "    text = html_pattern.sub(r'', text)\n",
        "    text = re.sub(r\"[^\\w\\d'\\s]+\", ' ', text)\n",
        "\n",
        "    return text"
      ],
      "metadata": {
        "id": "THFZyIjHkyaY"
      },
      "execution_count": null,
      "outputs": []
    },
    {
      "cell_type": "code",
      "source": [
        "processed_english_text = []\n",
        "for sent in english_text:\n",
        "  processed_english_text.append(preprocess(sent))\n",
        "\n",
        "print(len(processed_english_text))\n",
        "processed_english_text[:5]"
      ],
      "metadata": {
        "id": "xm4OZmDAmYI2"
      },
      "execution_count": null,
      "outputs": []
    },
    {
      "cell_type": "code",
      "source": [],
      "metadata": {
        "id": "75FIiw93Dnzx"
      },
      "execution_count": null,
      "outputs": []
    },
    {
      "cell_type": "markdown",
      "source": [
        "## Step 2: index the words"
      ],
      "metadata": {
        "id": "TSGYg8lXn6a7"
      }
    },
    {
      "cell_type": "code",
      "source": [
        "UNK_symbol = \"<UNK>\"\n",
        "all_words = set([UNK_symbol])\n",
        "word_to_index = {}\n",
        "index_to_word = {}\n",
        "for sentence in processed_english_text:\n",
        "  words = [token for token in sentence.split() ]\n",
        "  all_words.update(words)\n",
        "\n",
        "for index,value in enumerate(all_words):\n",
        "  word_to_index[value] = index\n",
        "  index_to_word[index] = value\n",
        "  \n",
        "n_class = len(word_to_index) # number of Vocabulary\n",
        "\n",
        "print(n_class)"
      ],
      "metadata": {
        "id": "5is9OW_emoiJ"
      },
      "execution_count": null,
      "outputs": []
    },
    {
      "cell_type": "code",
      "source": [
        "sorted(word_to_index, key=word_to_index.get)[10:40]"
      ],
      "metadata": {
        "id": "AjvkMeP7pKRV"
      },
      "execution_count": null,
      "outputs": []
    },
    {
      "cell_type": "code",
      "source": [
        "import torch\n",
        "import torch.nn as nn\n",
        "import torch.optim as optim\n",
        "from torch.nn.utils.rnn import pad_sequence\n",
        "from torch.utils.data import DataLoader\n",
        "import time\n",
        "\n",
        "torch.cuda.empty_cache()\n",
        "if torch.cuda.is_available():\n",
        "  device = torch.device(\"cuda\")\n",
        "else:\n",
        "  device = torch.device(\"cpu\")"
      ],
      "metadata": {
        "id": "qVx10PzPqdC2"
      },
      "execution_count": null,
      "outputs": []
    },
    {
      "cell_type": "code",
      "source": [
        "def create_input_target(list_sentences):\n",
        "  input_batch = []\n",
        "  target_batch = []\n",
        "\n",
        "  for sen in list_sentences:\n",
        "      word = sen.split() # space tokenizer\n",
        "      input = [word_to_index[n] for n in word[:-1]] # create (1~n-1) as input (every word in the sentence except the last word)\n",
        "      target = word_to_index[word[-1]] # create (n) as target, We usually call this 'casual language model'\n",
        "\n",
        "      input_batch.append(torch.tensor(input))\n",
        "      target_batch.append(target)\n",
        "\n",
        "  return input_batch,target_batch"
      ],
      "metadata": {
        "id": "KubfKJMfwboX"
      },
      "execution_count": null,
      "outputs": []
    },
    {
      "cell_type": "markdown",
      "source": [
        "## Build the model"
      ],
      "metadata": {
        "id": "riGKl5XyyfIu"
      }
    },
    {
      "cell_type": "code",
      "source": [
        "#Use this cell for testing the shape of input when passed through different layers\n",
        "# X =nn.Embedding(n_class, 2)(input_batch)\n",
        "# X=X.view(-1, 2 * 2)\n",
        "# #tanh = torch.tanh(nn.Parameter(torch.ones(2)) + nn.Linear(2 * 2, 2, bias=False)(X))\n",
        "# nn.Parameter(torch.ones(2))\n",
        "# #nn.Linear(2 * 2, 2, bias=False)\n",
        "# # # nn.Linear(2, n_class, bias=False)\n",
        "# # # nn.Linear(2 * 2, n_class, bias=False)\n",
        "# # # nn.Parameter(torch.ones(n_class))\n",
        "# # #torch.LongTensor(input_batch[0])\n",
        "# #tanh.shape"
      ],
      "metadata": {
        "id": "pWeANuWp0SRT"
      },
      "execution_count": null,
      "outputs": []
    },
    {
      "cell_type": "code",
      "source": [
        "\n",
        "\n",
        "class NNLM(nn.Module):\n",
        "    def __init__(self):\n",
        "        super(NNLM, self).__init__()\n",
        "        self.embeddings = nn.Embedding(n_class, m)\n",
        "        self.hidden1 = nn.Linear(n_step * m, n_hidden, bias=False)\n",
        "        self.ones = nn.Parameter(torch.ones(n_hidden))\n",
        "        self.hidden2 = nn.Linear(n_hidden, n_class, bias=False)\n",
        "        self.hidden3 = nn.Linear(n_step * m, n_class, bias=False)\n",
        "        self.bias = nn.Parameter(torch.ones(n_class))\n",
        "\n",
        "    def forward(self, X):\n",
        "        X = self.embeddings(X) # X : [batch_size, n_step, m]\n",
        "        \n",
        "        #X = X.flatten()\n",
        "        X = X.view(-1, n_step * m) # [batch_size, n_step * m] first layer (-1 flattens the tensor)\n",
        "        \n",
        "        tanh = torch.tanh(self.ones + self.hidden1(X)) # [batch_size, n_hidden] pass embedded layer through first hidden layet and add bias. The result is passed through tanh function\n",
        "        \n",
        "        output = self.bias + self.hidden3(X) + self.hidden2(tanh) # [batch_size, n_class]\n",
        "        return output\n",
        "\n",
        "if __name__ == '__main__':\n",
        "  n_step = 2 # number of steps, n-1 in paper\n",
        "  n_hidden = 2 # number of hidden size, h in paper\n",
        "  m = 10 # embedding size, m in paper,( batch size)\n",
        "  \n",
        "  gpu = 0\n",
        "  input_batch,target_batch = create_input_target(processed_english_text)\n",
        "  input_batch = torch.LongTensor(pad_sequence(input_batch))\n",
        "  train_loader = DataLoader(input_batch, batch_size = 10, num_workers = 1)\n",
        "  \n",
        "  target_batch = torch.LongTensor(target_batch)\n",
        "  dev_loader = DataLoader(target_batch, batch_size = 10, num_workers = 1)\n",
        "  \n",
        "\n",
        "  model = NNLM()\n",
        "  model.cuda(gpu)\n",
        "\n",
        "  criterion = nn.CrossEntropyLoss()\n",
        "  optimizer = optim.Adam(model.parameters(), lr=0.001)\n",
        "  \n",
        "\n",
        "      "
      ],
      "metadata": {
        "id": "B93Ep3vxyit0"
      },
      "execution_count": null,
      "outputs": []
    },
    {
      "cell_type": "code",
      "source": [
        "\n",
        "for epoch in range(50):\n",
        "    st = time.time()\n",
        "    \n",
        "    for it, data_tensor in enumerate(train_loader):  \n",
        "      \n",
        "      context_tensor = data_tensor[:,0:2]\n",
        "      target_tensor = data_tensor[:,2]\n",
        "\n",
        "      context_tensor, target_tensor = context_tensor.cuda(gpu), target_tensor.cuda(gpu)\n",
        "\n",
        "      optimizer.zero_grad()\n",
        "      output = model(context_tensor)\n",
        "\n",
        "      #acc = get_accuracy_from_log_probs(output, target_tensor)\n",
        "\n",
        "      # output : [batch_size, n_class], target_batch : [batch_size]\n",
        "      loss = criterion(output, target_tensor)\n",
        "      if (epoch + 1) % 5 == 0:\n",
        "          print('Epoch:', '%04d' % (epoch + 1), 'cost =', '{:.6f}'.format(loss),'output size: ',output.size)\n",
        "\n",
        "      loss.backward()\n",
        "      optimizer.step()\n",
        "\n",
        "      if it % 500 == 0: \n",
        "        print(\"Training Iteration {} of epoch {} complete. Loss: {}; Time taken (s): {}\".format(it, epoch, loss.item(), (time.time()-st)))\n",
        "        st = time.time()\n",
        "\n",
        "      \n",
        "      # set best model path\n",
        "      best_model_path = 'model/best_model_{}.dat'.format(epoch)\n",
        "      # saving best model\n",
        "      torch.save(model.state_dict(), best_model_path)"
      ],
      "metadata": {
        "id": "lX1vr5mfOQTj"
      },
      "execution_count": null,
      "outputs": []
    },
    {
      "cell_type": "code",
      "source": [
        "\n",
        "best_model = NNLM()\n",
        "best_model.load_state_dict(torch.load(best_model_path))\n",
        "best_model.cuda(gpu)\n",
        "\n",
        "cos = nn.CosineSimilarity(dim=0)\n",
        "\n",
        "lm_similarities = {}\n",
        "# word pairs to calculate similarity\n",
        "words = {('women','wife'),('king','man'),('london','paris'),('male','husband')}\n",
        "\n",
        "# ----------- Calculate LM similarities using cosine similarity ----------\n",
        "for word_pairs in words:\n",
        "    w1 = word_pairs[0]\n",
        "    w2 = word_pairs[1]\n",
        "    words_tensor = torch.LongTensor([word_to_index.get(w1,word_to_index['<UNK>']),word_to_index.get(w2,word_to_index['<UNK>'])])\n",
        "    \n",
        "    words_tensor = words_tensor.cuda(gpu)\n",
        "    # get word embeddings from the best model\n",
        "    words_embeds = best_model.embeddings(words_tensor)\n",
        "    # calculate cosine similarity between word vectors\n",
        "    sim = cos(words_embeds[0],words_embeds[1])\n",
        "    lm_similarities[word_pairs] = sim.item()\n",
        "\n",
        "print(lm_similarities)"
      ],
      "metadata": {
        "colab": {
          "base_uri": "https://localhost:8080/"
        },
        "id": "bV7XBPqXPWDh",
        "outputId": "9848cc59-c29e-4a1f-9738-a13a5b014536"
      },
      "execution_count": null,
      "outputs": [
        {
          "output_type": "stream",
          "name": "stdout",
          "text": [
            "{('london', 'paris'): -0.20533907413482666, ('male', 'husband'): 0.5646224617958069, ('women', 'wife'): 0.06242431700229645, ('king', 'man'): -0.07820046693086624}\n"
          ]
        }
      ]
    },
    {
      "cell_type": "code",
      "source": [
        "best_model.embeddings(torch.LongTensor([word_to_index.get('london')]).cuda(gpu)) # Test the embeddings here"
      ],
      "metadata": {
        "colab": {
          "base_uri": "https://localhost:8080/"
        },
        "id": "UdLkuEfybHd-",
        "outputId": "09db4aa6-f8d0-4cd4-e97e-46cc9116e6ed"
      },
      "execution_count": null,
      "outputs": [
        {
          "output_type": "execute_result",
          "data": {
            "text/plain": [
              "tensor([[ 0.7643,  1.5840, -1.5441, -1.8176, -0.9911,  0.4807,  0.5916,  0.4323,\n",
              "          1.4739, -0.6284]], device='cuda:0', grad_fn=<EmbeddingBackward0>)"
            ]
          },
          "metadata": {},
          "execution_count": 35
        }
      ]
    },
    {
      "cell_type": "code",
      "source": [],
      "metadata": {
        "id": "sF1nperYrxHW"
      },
      "execution_count": null,
      "outputs": []
    }
  ]
}