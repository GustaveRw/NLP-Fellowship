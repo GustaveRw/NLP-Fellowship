{
  "cells": [
    {
      "cell_type": "markdown",
      "metadata": {
        "id": "view-in-github",
        "colab_type": "text"
      },
      "source": [
        "<a href=\"https://colab.research.google.com/github/GustaveRw/NLP-Fellowship/blob/master/text_cleaning.ipynb\" target=\"_parent\"><img src=\"https://colab.research.google.com/assets/colab-badge.svg\" alt=\"Open In Colab\"/></a>"
      ]
    },
    {
      "cell_type": "code",
      "execution_count": null,
      "metadata": {
        "id": "8-bvDlTJVoDR"
      },
      "outputs": [],
      "source": []
    },
    {
      "cell_type": "markdown",
      "metadata": {
        "id": "DEZBq7c7VoDU"
      },
      "source": [
        "Importing Libraries"
      ]
    },
    {
      "cell_type": "code",
      "execution_count": 4,
      "metadata": {
        "colab": {
          "base_uri": "https://localhost:8080/",
          "height": 424
        },
        "id": "Z7cOlt1SVoDY",
        "outputId": "7261dc29-7e7e-4a24-c341-1e95743d5972"
      },
      "outputs": [
        {
          "output_type": "execute_result",
          "data": {
            "text/plain": [
              "                ID                                            English  \\\n",
              "0      ID_IFVTMXW8        F_all back to threading messages by subject   \n",
              "1      ID_SBXUPXE3  You will have to restart GIMP for the followin...   \n",
              "2      ID_ZOCZ3PXQ  The radio button whose group this widget belon...   \n",
              "3      ID_6AVBJ1YS           Print all subdirectories in a directory.   \n",
              "4      ID_FW4V44WK  Paste the contents of the clipboard as a new i...   \n",
              "...            ...                                                ...   \n",
              "20585  ID_T3D2IRD5  Yes. We plan to support major CCD cameras and ...   \n",
              "20586  ID_JWVP5ZDJ  Most likely you did not configure correctly (o...   \n",
              "20587  ID_LI4BAED3  ... too numerous others to mention who also le...   \n",
              "20588  ID_JMR2T84U  & kiten; can deinflect verbs you search for. T...   \n",
              "20589  ID_3BG7KZ98  Next you will find a full overview on all comm...   \n",
              "\n",
              "                                             Kinyarwanda  \n",
              "0                     Inyuma Kuri Ubutumwa ku Ikivugwaho  \n",
              "1      Kuri Ongera utangire kugirango i Amahinduka Ku...  \n",
              "2                           Akabuto bya Itsinda iyi Kuri  \n",
              "3              Byose Ububiko bwungirije in a bushyinguro  \n",
              "4      i Ibigize Bya i Ububikokoporora Nka A Gishya I...  \n",
              "...                                                  ...  \n",
              "20585  . Kuri Gushigikira na na Gushigikira ya: Biren...  \n",
              "20586  OYA Kugena Imiterere (Cyangwa OYA Ku Byose?) i...  \n",
              "20587            ... Ibindi: Kuri na Bayite Bya Bidakora  \n",
              "20588  & kiten; Shakisha ya:. Gushoboza iyi, Ubwoko i...  \n",
              "20589  Gushaka A Cyuzuye Incamake ku Byose Amabwiriza...  \n",
              "\n",
              "[20590 rows x 3 columns]"
            ],
            "text/html": [
              "\n",
              "  <div id=\"df-e2f2b3d7-630e-4610-bfbe-dfb8146cbbc7\">\n",
              "    <div class=\"colab-df-container\">\n",
              "      <div>\n",
              "<style scoped>\n",
              "    .dataframe tbody tr th:only-of-type {\n",
              "        vertical-align: middle;\n",
              "    }\n",
              "\n",
              "    .dataframe tbody tr th {\n",
              "        vertical-align: top;\n",
              "    }\n",
              "\n",
              "    .dataframe thead th {\n",
              "        text-align: right;\n",
              "    }\n",
              "</style>\n",
              "<table border=\"1\" class=\"dataframe\">\n",
              "  <thead>\n",
              "    <tr style=\"text-align: right;\">\n",
              "      <th></th>\n",
              "      <th>ID</th>\n",
              "      <th>English</th>\n",
              "      <th>Kinyarwanda</th>\n",
              "    </tr>\n",
              "  </thead>\n",
              "  <tbody>\n",
              "    <tr>\n",
              "      <th>0</th>\n",
              "      <td>ID_IFVTMXW8</td>\n",
              "      <td>F_all back to threading messages by subject</td>\n",
              "      <td>Inyuma Kuri Ubutumwa ku Ikivugwaho</td>\n",
              "    </tr>\n",
              "    <tr>\n",
              "      <th>1</th>\n",
              "      <td>ID_SBXUPXE3</td>\n",
              "      <td>You will have to restart GIMP for the followin...</td>\n",
              "      <td>Kuri Ongera utangire kugirango i Amahinduka Ku...</td>\n",
              "    </tr>\n",
              "    <tr>\n",
              "      <th>2</th>\n",
              "      <td>ID_ZOCZ3PXQ</td>\n",
              "      <td>The radio button whose group this widget belon...</td>\n",
              "      <td>Akabuto bya Itsinda iyi Kuri</td>\n",
              "    </tr>\n",
              "    <tr>\n",
              "      <th>3</th>\n",
              "      <td>ID_6AVBJ1YS</td>\n",
              "      <td>Print all subdirectories in a directory.</td>\n",
              "      <td>Byose Ububiko bwungirije in a bushyinguro</td>\n",
              "    </tr>\n",
              "    <tr>\n",
              "      <th>4</th>\n",
              "      <td>ID_FW4V44WK</td>\n",
              "      <td>Paste the contents of the clipboard as a new i...</td>\n",
              "      <td>i Ibigize Bya i Ububikokoporora Nka A Gishya I...</td>\n",
              "    </tr>\n",
              "    <tr>\n",
              "      <th>...</th>\n",
              "      <td>...</td>\n",
              "      <td>...</td>\n",
              "      <td>...</td>\n",
              "    </tr>\n",
              "    <tr>\n",
              "      <th>20585</th>\n",
              "      <td>ID_T3D2IRD5</td>\n",
              "      <td>Yes. We plan to support major CCD cameras and ...</td>\n",
              "      <td>. Kuri Gushigikira na na Gushigikira ya: Biren...</td>\n",
              "    </tr>\n",
              "    <tr>\n",
              "      <th>20586</th>\n",
              "      <td>ID_JWVP5ZDJ</td>\n",
              "      <td>Most likely you did not configure correctly (o...</td>\n",
              "      <td>OYA Kugena Imiterere (Cyangwa OYA Ku Byose?) i...</td>\n",
              "    </tr>\n",
              "    <tr>\n",
              "      <th>20587</th>\n",
              "      <td>ID_LI4BAED3</td>\n",
              "      <td>... too numerous others to mention who also le...</td>\n",
              "      <td>... Ibindi: Kuri na Bayite Bya Bidakora</td>\n",
              "    </tr>\n",
              "    <tr>\n",
              "      <th>20588</th>\n",
              "      <td>ID_JMR2T84U</td>\n",
              "      <td>&amp; kiten; can deinflect verbs you search for. T...</td>\n",
              "      <td>&amp; kiten; Shakisha ya:. Gushoboza iyi, Ubwoko i...</td>\n",
              "    </tr>\n",
              "    <tr>\n",
              "      <th>20589</th>\n",
              "      <td>ID_3BG7KZ98</td>\n",
              "      <td>Next you will find a full overview on all comm...</td>\n",
              "      <td>Gushaka A Cyuzuye Incamake ku Byose Amabwiriza...</td>\n",
              "    </tr>\n",
              "  </tbody>\n",
              "</table>\n",
              "<p>20590 rows × 3 columns</p>\n",
              "</div>\n",
              "      <button class=\"colab-df-convert\" onclick=\"convertToInteractive('df-e2f2b3d7-630e-4610-bfbe-dfb8146cbbc7')\"\n",
              "              title=\"Convert this dataframe to an interactive table.\"\n",
              "              style=\"display:none;\">\n",
              "        \n",
              "  <svg xmlns=\"http://www.w3.org/2000/svg\" height=\"24px\"viewBox=\"0 0 24 24\"\n",
              "       width=\"24px\">\n",
              "    <path d=\"M0 0h24v24H0V0z\" fill=\"none\"/>\n",
              "    <path d=\"M18.56 5.44l.94 2.06.94-2.06 2.06-.94-2.06-.94-.94-2.06-.94 2.06-2.06.94zm-11 1L8.5 8.5l.94-2.06 2.06-.94-2.06-.94L8.5 2.5l-.94 2.06-2.06.94zm10 10l.94 2.06.94-2.06 2.06-.94-2.06-.94-.94-2.06-.94 2.06-2.06.94z\"/><path d=\"M17.41 7.96l-1.37-1.37c-.4-.4-.92-.59-1.43-.59-.52 0-1.04.2-1.43.59L10.3 9.45l-7.72 7.72c-.78.78-.78 2.05 0 2.83L4 21.41c.39.39.9.59 1.41.59.51 0 1.02-.2 1.41-.59l7.78-7.78 2.81-2.81c.8-.78.8-2.07 0-2.86zM5.41 20L4 18.59l7.72-7.72 1.47 1.35L5.41 20z\"/>\n",
              "  </svg>\n",
              "      </button>\n",
              "      \n",
              "  <style>\n",
              "    .colab-df-container {\n",
              "      display:flex;\n",
              "      flex-wrap:wrap;\n",
              "      gap: 12px;\n",
              "    }\n",
              "\n",
              "    .colab-df-convert {\n",
              "      background-color: #E8F0FE;\n",
              "      border: none;\n",
              "      border-radius: 50%;\n",
              "      cursor: pointer;\n",
              "      display: none;\n",
              "      fill: #1967D2;\n",
              "      height: 32px;\n",
              "      padding: 0 0 0 0;\n",
              "      width: 32px;\n",
              "    }\n",
              "\n",
              "    .colab-df-convert:hover {\n",
              "      background-color: #E2EBFA;\n",
              "      box-shadow: 0px 1px 2px rgba(60, 64, 67, 0.3), 0px 1px 3px 1px rgba(60, 64, 67, 0.15);\n",
              "      fill: #174EA6;\n",
              "    }\n",
              "\n",
              "    [theme=dark] .colab-df-convert {\n",
              "      background-color: #3B4455;\n",
              "      fill: #D2E3FC;\n",
              "    }\n",
              "\n",
              "    [theme=dark] .colab-df-convert:hover {\n",
              "      background-color: #434B5C;\n",
              "      box-shadow: 0px 1px 3px 1px rgba(0, 0, 0, 0.15);\n",
              "      filter: drop-shadow(0px 1px 2px rgba(0, 0, 0, 0.3));\n",
              "      fill: #FFFFFF;\n",
              "    }\n",
              "  </style>\n",
              "\n",
              "      <script>\n",
              "        const buttonEl =\n",
              "          document.querySelector('#df-e2f2b3d7-630e-4610-bfbe-dfb8146cbbc7 button.colab-df-convert');\n",
              "        buttonEl.style.display =\n",
              "          google.colab.kernel.accessAllowed ? 'block' : 'none';\n",
              "\n",
              "        async function convertToInteractive(key) {\n",
              "          const element = document.querySelector('#df-e2f2b3d7-630e-4610-bfbe-dfb8146cbbc7');\n",
              "          const dataTable =\n",
              "            await google.colab.kernel.invokeFunction('convertToInteractive',\n",
              "                                                     [key], {});\n",
              "          if (!dataTable) return;\n",
              "\n",
              "          const docLinkHtml = 'Like what you see? Visit the ' +\n",
              "            '<a target=\"_blank\" href=https://colab.research.google.com/notebooks/data_table.ipynb>data table notebook</a>'\n",
              "            + ' to learn more about interactive tables.';\n",
              "          element.innerHTML = '';\n",
              "          dataTable['output_type'] = 'display_data';\n",
              "          await google.colab.output.renderOutput(dataTable, element);\n",
              "          const docLink = document.createElement('div');\n",
              "          docLink.innerHTML = docLinkHtml;\n",
              "          element.appendChild(docLink);\n",
              "        }\n",
              "      </script>\n",
              "    </div>\n",
              "  </div>\n",
              "  "
            ]
          },
          "metadata": {},
          "execution_count": 4
        }
      ],
      "source": [
        "import numpy as np\n",
        "import pandas as pd\n",
        "\n",
        "df = pd.read_csv('/content/Eng_Kin-Paralleldata.csv')\n",
        "\n",
        "df"
      ]
    },
    {
      "cell_type": "code",
      "execution_count": 5,
      "metadata": {
        "colab": {
          "base_uri": "https://localhost:8080/"
        },
        "id": "MjVyVKOYVoDa",
        "outputId": "554893d1-c302-4506-f206-1d6ec1e38c61"
      },
      "outputs": [
        {
          "output_type": "execute_result",
          "data": {
            "text/plain": [
              "0              F_all back to threading messages by subject\n",
              "1        You will have to restart GIMP for the followin...\n",
              "2        The radio button whose group this widget belon...\n",
              "3                 Print all subdirectories in a directory.\n",
              "4        Paste the contents of the clipboard as a new i...\n",
              "                               ...                        \n",
              "20585    Yes. We plan to support major CCD cameras and ...\n",
              "20586    Most likely you did not configure correctly (o...\n",
              "20587    ... too numerous others to mention who also le...\n",
              "20588    & kiten; can deinflect verbs you search for. T...\n",
              "20589    Next you will find a full overview on all comm...\n",
              "Name: English, Length: 20590, dtype: object"
            ]
          },
          "metadata": {},
          "execution_count": 5
        }
      ],
      "source": [
        "df['English']"
      ]
    },
    {
      "cell_type": "code",
      "source": [],
      "metadata": {
        "id": "NxFsDJHFc8nf"
      },
      "execution_count": null,
      "outputs": []
    },
    {
      "cell_type": "code",
      "execution_count": 17,
      "metadata": {
        "colab": {
          "base_uri": "https://localhost:8080/"
        },
        "id": "rGn_Ord_VoDb",
        "outputId": "97d2cb4c-27f5-41bd-85bf-fa86e38655fa"
      },
      "outputs": [
        {
          "output_type": "stream",
          "name": "stderr",
          "text": [
            "/usr/local/lib/python3.7/dist-packages/ipykernel_launcher.py:7: FutureWarning: The default value of regex will change from True to False in a future version. In addition, single character regular expressions will *not* be treated as literal strings when regex=True.\n",
            "  import sys\n"
          ]
        }
      ],
      "source": [
        "spec_chars = [\"!\",'\"',\"#\",\"%\",\"&\",\"'\",\"(\",\")\",\n",
        "              \"*\",\"+\",\",\",\"-\",\".\",\"/\",\":\",\";\",\"<\",\n",
        "              \"=\",\">\",\"?\",\"@\",\"[\",\"\\\\\",\"]\",\"^\",\"_\",\n",
        "              \"`\",\"{\",\"|\",\"}\",\"~\",\"–\"]\n",
        "\n",
        "for char in spec_chars:\n",
        "    df['English'] = df['English'].str.replace(char, ' ')"
      ]
    },
    {
      "cell_type": "code",
      "source": [
        "df['English']"
      ],
      "metadata": {
        "colab": {
          "base_uri": "https://localhost:8080/"
        },
        "id": "qqWD4rdudThw",
        "outputId": "cd3be525-0ad3-4cd3-b380-8de29b0263f2"
      },
      "execution_count": 18,
      "outputs": [
        {
          "output_type": "execute_result",
          "data": {
            "text/plain": [
              "0                     Fallbacktothreadingmessagesbysubject\n",
              "1        YouwillhavetorestartGIMPforthefollowingchanges...\n",
              "2              Theradiobuttonwhosegroupthiswidgetbelongsto\n",
              "3                       Printallsubdirectoriesinadirectory\n",
              "4        Pastethecontentsoftheclipboardasanewimageintoa...\n",
              "                               ...                        \n",
              "20585    YesWeplantosupportmajorCCDcamerasandfocusersan...\n",
              "20586    Mostlikelyyoudidnotconfigurecorrectlyornotatal...\n",
              "20587    toonumerousotherstomentionwhoalsoletmesnatchbi...\n",
              "20588    kitencandeinflectverbsyousearchforToenablethis...\n",
              "20589    Nextyouwillfindafulloverviewonallcommandstowor...\n",
              "Name: English, Length: 20590, dtype: object"
            ]
          },
          "metadata": {},
          "execution_count": 18
        }
      ]
    },
    {
      "cell_type": "code",
      "execution_count": null,
      "metadata": {
        "id": "PIKRDfQLVoDc",
        "outputId": "c2ef87c5-493e-4e09-d950-26030941fd80"
      },
      "outputs": [
        {
          "data": {
            "text/plain": [
              "0                       Inyuma Kuri Ubutumwa ku Ikivugwaho\n",
              "1        Kuri Ongera utangire kugirango i Amahinduka Ku...\n",
              "2                             Akabuto bya Itsinda iyi Kuri\n",
              "3                Byose Ububiko bwungirije in a bushyinguro\n",
              "4        i Ibigize Bya i Ububikokoporora Nka A Gishya I...\n",
              "                               ...                        \n",
              "20585    . Kuri Gushigikira na na Gushigikira ya: Biren...\n",
              "20586    OYA Kugena Imiterere (Cyangwa OYA Ku Byose?) i...\n",
              "20587              ... Ibindi: Kuri na Bayite Bya Bidakora\n",
              "20588    & kiten; Shakisha ya:. Gushoboza iyi, Ubwoko i...\n",
              "20589    Gushaka A Cyuzuye Incamake ku Byose Amabwiriza...\n",
              "Name: Kinyarwanda, Length: 20590, dtype: object"
            ]
          },
          "execution_count": 16,
          "metadata": {},
          "output_type": "execute_result"
        }
      ],
      "source": [
        "df['Kinyarwanda']"
      ]
    },
    {
      "cell_type": "code",
      "execution_count": null,
      "metadata": {
        "id": "nrbUVI8JVoDd"
      },
      "outputs": [],
      "source": []
    },
    {
      "cell_type": "code",
      "execution_count": null,
      "metadata": {
        "id": "vHFQ_fMuVoDe"
      },
      "outputs": [],
      "source": [
        "spec_chars = [\"!\",'\"',\"#\",\"%\",\"&\",\"'\",\"(\",\")\",\n",
        "              \"*\",\"+\",\",\",\"-\",\".\",\"/\",\":\",\";\",\"<\",\n",
        "              \"=\",\">\",\"?\",\"@\",\"[\",\"\\\\\",\"]\",\"^\",\"_\",\n",
        "              \"`\",\"{\",\"|\",\"}\",\"~\",\"–\"]\n",
        "\n",
        "for char in spec_chars:\n",
        "    df['Kinyarwanda'] = df['Kinyarwanda'].str.replace(char, '')"
      ]
    },
    {
      "cell_type": "code",
      "execution_count": null,
      "metadata": {
        "id": "4se2AD6EVoDe"
      },
      "outputs": [],
      "source": []
    },
    {
      "cell_type": "code",
      "execution_count": null,
      "metadata": {
        "id": "072kzMMiVoDf",
        "outputId": "92975ff5-fdb3-420a-b4ff-fcd811218db5"
      },
      "outputs": [
        {
          "data": {
            "text/plain": [
              "0              F all back to threading messages by subject\n",
              "1        You will have to restart GIMP for the followin...\n",
              "2        The radio button whose group this widget belon...\n",
              "3                  Print all subdirectories in a directory\n",
              "4        Paste the contents of the clipboard as a new i...\n",
              "                               ...                        \n",
              "20585    Yes We plan to support major CCD cameras and f...\n",
              "20586    Most likely you did not configure correctly or...\n",
              "20587    too numerous others to mention who also let me...\n",
              "20588    kiten can deinflect verbs you search for To en...\n",
              "20589    Next you will find a full overview on all comm...\n",
              "Name: English, Length: 20590, dtype: object"
            ]
          },
          "execution_count": 25,
          "metadata": {},
          "output_type": "execute_result"
        }
      ],
      "source": [
        "df['English']"
      ]
    }
  ],
  "metadata": {
    "kernelspec": {
      "display_name": "Python 3.9.12 64-bit",
      "language": "python",
      "name": "python3"
    },
    "language_info": {
      "codemirror_mode": {
        "name": "ipython",
        "version": 3
      },
      "file_extension": ".py",
      "mimetype": "text/x-python",
      "name": "python",
      "nbconvert_exporter": "python",
      "pygments_lexer": "ipython3",
      "version": "3.9.12"
    },
    "orig_nbformat": 4,
    "vscode": {
      "interpreter": {
        "hash": "b2a91f4f17e6cede8eccaf287ca8b3f802552439f6a210f45e241008d42e299f"
      }
    },
    "colab": {
      "provenance": [],
      "include_colab_link": true
    }
  },
  "nbformat": 4,
  "nbformat_minor": 0
}