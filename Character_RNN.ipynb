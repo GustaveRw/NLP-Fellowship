{
  "nbformat": 4,
  "nbformat_minor": 0,
  "metadata": {
    "colab": {
      "provenance": [],
      "include_colab_link": true
    },
    "kernelspec": {
      "name": "python3",
      "display_name": "Python 3"
    },
    "language_info": {
      "name": "python"
    }
  },
  "cells": [
    {
      "cell_type": "markdown",
      "metadata": {
        "id": "view-in-github",
        "colab_type": "text"
      },
      "source": [
        "<a href=\"https://colab.research.google.com/github/GustaveRw/NLP-Fellowship/blob/master/Character_RNN.ipynb\" target=\"_parent\"><img src=\"https://colab.research.google.com/assets/colab-badge.svg\" alt=\"Open In Colab\"/></a>"
      ]
    },
    {
      "cell_type": "markdown",
      "source": [
        "# Character Level LSTM Model"
      ],
      "metadata": {
        "id": "TR0HdWGxxLb8"
      }
    },
    {
      "cell_type": "code",
      "source": [
        "import numpy as np\n",
        "import torch\n",
        "from torch import nn\n",
        "import torch.nn.functional as F\n",
        "import pandas as pd"
      ],
      "metadata": {
        "id": "XbuoFgBqy0PL"
      },
      "execution_count": null,
      "outputs": []
    },
    {
      "cell_type": "code",
      "execution_count": null,
      "metadata": {
        "id": "8rYwiMg6vYel"
      },
      "outputs": [],
      "source": [
        "#Fetch the Text dataset from the github repo\n",
        "\n",
        "text_df = pd.read_csv('https://raw.githubusercontent.com/agent87/zindi/main/final_corpus.csv')"
      ]
    },
    {
      "cell_type": "code",
      "source": [
        "text = ' '.join(list(text_df['rw'].astype('str')))"
      ],
      "metadata": {
        "id": "Boxrhsd60akv"
      },
      "execution_count": null,
      "outputs": []
    },
    {
      "cell_type": "code",
      "source": [
        "text[:100]"
      ],
      "metadata": {
        "colab": {
          "base_uri": "https://localhost:8080/",
          "height": 35
        },
        "id": "FeoZqsxqyif-",
        "outputId": "a80262db-f46d-45f1-86b4-5a6c75f04acf"
      },
      "execution_count": null,
      "outputs": [
        {
          "output_type": "execute_result",
          "data": {
            "text/plain": [
              "'mbere mbere imana yaremye ijuru nisi isi itagira ishusho yariho ubusa busa umwijima hejuru yimuhenge'"
            ],
            "application/vnd.google.colaboratory.intrinsic+json": {
              "type": "string"
            }
          },
          "metadata": {},
          "execution_count": 202
        }
      ]
    },
    {
      "cell_type": "markdown",
      "source": [
        "# Tokenisation Stage"
      ],
      "metadata": {
        "id": "L2rFTL8O2DQ9"
      }
    },
    {
      "cell_type": "code",
      "source": [
        "#find set of unique characters\n",
        "chars = tuple(set(text)) #Get the unique set of characters in the text/corpus\n",
        "int2char = dict(enumerate(chars)) #assign each character to a number\n",
        "char2int = {character: index for index, character in int2char.items()} #have the characters on the left side\n",
        "\n",
        "#encode the text\n",
        "encoded = np.array([char2int[ch] for ch in text])"
      ],
      "metadata": {
        "id": "6coorw9h2C0g"
      },
      "execution_count": null,
      "outputs": []
    },
    {
      "cell_type": "code",
      "source": [
        "encoded_p = []\n",
        "for char in text:\n",
        "  encoded_p.append(str(char2int[char]))\n",
        "\n",
        "print(text[:100]) #Print the first 100 words of the text\n",
        "print('------------------')\n",
        "print(' '.join(encoded_p[:100])) #print the first 100 words of the encoded text\n",
        "print('-------------------------')\n",
        "print(char2int) #print the character to number mapping"
      ],
      "metadata": {
        "colab": {
          "base_uri": "https://localhost:8080/"
        },
        "id": "XaP_0RvQ42z_",
        "outputId": "a29b7894-725f-4090-bac0-2e3a24318be8"
      },
      "execution_count": null,
      "outputs": [
        {
          "output_type": "stream",
          "name": "stdout",
          "text": [
            "mbere mbere imana yaremye ijuru nisi isi itagira ishusho yariho ubusa busa umwijima hejuru yimuhenge\n",
            "------------------\n",
            "5 33 26 23 26 16 5 33 26 23 26 16 18 5 11 24 11 16 31 11 23 26 5 31 26 16 18 21 19 23 19 16 24 18 3 18 16 18 3 18 16 18 20 11 14 18 23 11 16 18 3 13 19 3 13 22 16 31 11 23 18 13 22 16 19 33 19 3 11 16 33 19 3 11 16 19 5 34 18 21 18 5 11 16 13 26 21 19 23 19 16 31 18 5 19 13 26 24 14 26\n",
            "-------------------------\n",
            "{'k': 0, 'v': 1, 'f': 2, 's': 3, 'ī': 4, 'm': 5, 'ā': 6, 'z': 7, 'd': 8, 'í': 9, 'ü': 10, 'a': 11, 'q': 12, 'h': 13, 'g': 14, 'ē': 15, ' ': 16, 'c': 17, 'i': 18, 'u': 19, 't': 20, 'j': 21, 'o': 22, 'r': 23, 'n': 24, 'ū': 25, 'e': 26, 'ˮ': 27, 'ú': 28, 'ō': 29, 'ñ': 30, 'y': 31, 'l': 32, 'b': 33, 'w': 34, 'x': 35, 'p': 36}\n"
          ]
        }
      ]
    },
    {
      "cell_type": "markdown",
      "source": [
        "# One Hot Encoding the Data"
      ],
      "metadata": {
        "id": "ffgkPcjV7FzX"
      }
    },
    {
      "cell_type": "code",
      "source": [
        "def encode_char(char : str):\n",
        "  encoding_template = [0 for i in range(len(char2int))]\n",
        "  encoding_template[char2int[char]] = 1\n",
        "  return np.array(encoding_template)"
      ],
      "metadata": {
        "id": "VU-0MDb1-cpw"
      },
      "execution_count": null,
      "outputs": []
    },
    {
      "cell_type": "code",
      "source": [
        "def encode_word(word: str):\n",
        "  word_encode = []\n",
        "  for char in word:\n",
        "    word_encode.append(encode_char(char))\n",
        "  return np.array(word_encode)"
      ],
      "metadata": {
        "id": "uLKs4slOJfcz"
      },
      "execution_count": null,
      "outputs": []
    },
    {
      "cell_type": "code",
      "source": [
        "encodes = []\n",
        "for word in text.split(' '):\n",
        "  encodes.append(encode_word(word))"
      ],
      "metadata": {
        "id": "LRknwIPW8kov"
      },
      "execution_count": null,
      "outputs": []
    },
    {
      "cell_type": "code",
      "source": [
        "one_hot = np.array(encodes)"
      ],
      "metadata": {
        "colab": {
          "base_uri": "https://localhost:8080/"
        },
        "id": "4cw_yzTE9A6U",
        "outputId": "46bd48be-ed06-43c7-f359-ecc759eede6c"
      },
      "execution_count": null,
      "outputs": [
        {
          "output_type": "stream",
          "name": "stderr",
          "text": [
            "<ipython-input-208-f91aaba49a3e>:1: VisibleDeprecationWarning: Creating an ndarray from ragged nested sequences (which is a list-or-tuple of lists-or-tuples-or ndarrays with different lengths or shapes) is deprecated. If you meant to do this, you must specify 'dtype=object' when creating the ndarray.\n",
            "  one_hot = np.array(encodes)\n"
          ]
        }
      ]
    },
    {
      "cell_type": "code",
      "source": [
        "one_hot #sentence level\n",
        "one_hot[0] #word level\n",
        "one_hot[0][0] #character level"
      ],
      "metadata": {
        "colab": {
          "base_uri": "https://localhost:8080/"
        },
        "id": "EJmF0v2SDStB",
        "outputId": "5ed9ea4d-c27c-4571-b4d5-a8ccc74bf342"
      },
      "execution_count": null,
      "outputs": [
        {
          "output_type": "execute_result",
          "data": {
            "text/plain": [
              "array([0, 0, 0, 0, 0, 1, 0, 0, 0, 0, 0, 0, 0, 0, 0, 0, 0, 0, 0, 0, 0, 0,\n",
              "       0, 0, 0, 0, 0, 0, 0, 0, 0, 0, 0, 0, 0, 0, 0])"
            ]
          },
          "metadata": {},
          "execution_count": 209
        }
      ]
    },
    {
      "cell_type": "markdown",
      "source": [
        "# Creation of Batches"
      ],
      "metadata": {
        "id": "hfWx9sVlOQhJ"
      }
    },
    {
      "cell_type": "code",
      "source": [
        "def get_batches(arr, batch_size, seq_length):\n",
        "  '''\n",
        "  one_hot : is the one hot encoded dataset \n",
        "  batch_size: Batch size, the number of samples to take\n",
        "  seq_length: Number of encoded charcters in each batch\n",
        "  '''\n",
        "\n",
        "  batch_size_total = batch_size * seq_length\n",
        "    # total number of batches we can make\n",
        "  n_batches = len(arr)//batch_size_total\n",
        "    \n",
        "    # Keep only enough characters to make full batches\n",
        "  arr = arr[:n_batches * batch_size_total]\n",
        "    # Reshape into batch_size rows\n",
        "  arr = arr.reshape((batch_size, -1))\n",
        "    \n",
        "    # iterate through the array, one sequence at a time\n",
        "  for n in range(0, arr.shape[1], seq_length):\n",
        "        # The features\n",
        "      x = arr[:, n:n+seq_length]\n",
        "        # The targets, shifted by one\n",
        "      y = np.zeros_like(x)\n",
        "      try:\n",
        "          y[:, :-1], y[:, -1] = x[:, 1:], arr[:, n+seq_length]\n",
        "      except IndexError:\n",
        "          y[:, :-1], y[:, -1] = x[:, 1:], arr[:, 0]\n",
        "      yield x, y"
      ],
      "metadata": {
        "id": "Qj1XHo_3OP5Z"
      },
      "execution_count": null,
      "outputs": []
    },
    {
      "cell_type": "code",
      "source": [
        "batches = get_batches(encoded, 20, 50)\n",
        "x, y = next(batches)"
      ],
      "metadata": {
        "id": "awHBeAgGTCs_"
      },
      "execution_count": null,
      "outputs": []
    },
    {
      "cell_type": "code",
      "source": [
        "encode_text = [char2int[char] for char in text]"
      ],
      "metadata": {
        "id": "x3Gm0C3uvVBs"
      },
      "execution_count": null,
      "outputs": []
    },
    {
      "cell_type": "code",
      "source": [
        "encode_text[0]"
      ],
      "metadata": {
        "colab": {
          "base_uri": "https://localhost:8080/"
        },
        "id": "iri31Sl8EpxA",
        "outputId": "01491cfa-9b0a-47b9-eafa-11b71d53ae3d"
      },
      "execution_count": null,
      "outputs": [
        {
          "output_type": "execute_result",
          "data": {
            "text/plain": [
              "5"
            ]
          },
          "metadata": {},
          "execution_count": 247
        }
      ]
    },
    {
      "cell_type": "code",
      "source": [
        "def window(text , batch_size, seq_size):\n",
        "  \"\"\"\n",
        "  text : is the encoded text\n",
        "  batch : collection of sequnces\n",
        "  batch_size : actual number sequences(samples) in a batch\n",
        "  seq_size : windows size / snetence size before the character predictions\n",
        "  \"\"\"\n",
        "  batch_x = []\n",
        "  batch_y = []\n",
        "  for window in range(0,len(text), seq_size):\n",
        "    try: \n",
        "      batch_x.append(np.array(text[window: window+seq_size]))\n",
        "      batch_y.append(np.array(text[window+1: window+seq_size+1]))\n",
        "    except IndexError:\n",
        "      pass\n",
        "  return np.array(batch_x), np.array(batch_y)"
      ],
      "metadata": {
        "id": "u-U5DOR8xM1e"
      },
      "execution_count": null,
      "outputs": []
    },
    {
      "cell_type": "code",
      "source": [
        "x, y = window(encode_text, 10, 40)"
      ],
      "metadata": {
        "colab": {
          "base_uri": "https://localhost:8080/"
        },
        "id": "sexUeVRdwWVe",
        "outputId": "631d354f-766a-438e-ee99-0d3a90bd1e62"
      },
      "execution_count": null,
      "outputs": [
        {
          "output_type": "stream",
          "name": "stderr",
          "text": [
            "<ipython-input-261-168753b1255a>:16: VisibleDeprecationWarning: Creating an ndarray from ragged nested sequences (which is a list-or-tuple of lists-or-tuples-or ndarrays with different lengths or shapes) is deprecated. If you meant to do this, you must specify 'dtype=object' when creating the ndarray.\n",
            "  return np.array(batch_x), np.array(batch_y)\n"
          ]
        }
      ]
    },
    {
      "cell_type": "code",
      "source": [
        "x[:10]"
      ],
      "metadata": {
        "colab": {
          "base_uri": "https://localhost:8080/"
        },
        "id": "13ZyhWgdwc3z",
        "outputId": "6112e76e-3ec7-45f1-ea1a-708d2341218a"
      },
      "execution_count": null,
      "outputs": [
        {
          "output_type": "execute_result",
          "data": {
            "text/plain": [
              "array([array([ 5, 33, 26, 23, 26, 16,  5, 33, 26, 23, 26, 16, 18,  5, 11, 24, 11,\n",
              "              16, 31, 11, 23, 26,  5, 31, 26, 16, 18, 21, 19, 23, 19, 16, 24, 18,\n",
              "               3, 18, 16, 18,  3, 18])                                           ,\n",
              "       array([16, 18, 20, 11, 14, 18, 23, 11, 16, 18,  3, 13, 19,  3, 13, 22, 16,\n",
              "              31, 11, 23, 18, 13, 22, 16, 19, 33, 19,  3, 11, 16, 33, 19,  3, 11,\n",
              "              16, 19,  5, 34, 18, 21])                                           ,\n",
              "       array([18,  5, 11, 16, 13, 26, 21, 19, 23, 19, 16, 31, 18,  5, 19, 13, 26,\n",
              "              24, 14, 26, 23, 18, 16, 19,  5, 34, 19,  0, 11, 16, 34, 18,  5, 11,\n",
              "              24, 11, 16, 31, 11, 14])                                           ,\n",
              "       array([26, 24,  8, 11, 14, 26, 24,  8, 11, 14, 11, 16, 13, 26, 21, 19, 23,\n",
              "              19, 16, 31, 11,  5, 11,  7, 18, 16, 18,  5, 11, 24, 11, 16, 18, 23,\n",
              "              11,  1, 19, 14, 11, 16])                                           ,\n",
              "       array([18, 20, 18, 16, 13, 11, 33, 26, 13, 22, 16, 19,  5, 19, 17, 31, 22,\n",
              "              16, 19,  5, 19, 17, 31, 22, 16, 19, 33, 11, 13, 22, 16, 18,  5, 11,\n",
              "              24, 11, 16, 18, 33, 22])                                           ,\n",
              "       array([24, 11, 16, 19,  5, 19, 17, 31, 22, 16,  5, 34, 18,  7, 11, 16, 18,\n",
              "               5, 11, 24, 11, 16, 18, 20, 11, 24,  8, 19,  0, 11, 24, 31, 11, 16,\n",
              "              19,  5, 19, 17, 31, 22])                                           ,\n",
              "       array([16, 24, 19,  5, 34, 18, 21, 18,  5, 11, 16, 18,  5, 11, 24, 11, 16,\n",
              "              31, 18, 20, 11, 16, 19,  5, 19, 17, 31, 22, 16, 11,  5, 11, 24, 31,\n",
              "              34, 11, 16, 19,  5, 34])                                           ,\n",
              "       array([18, 21, 18,  5, 11, 16, 18, 34, 18, 20, 11, 16, 18, 21, 22, 23, 22,\n",
              "              16, 33, 19, 23, 11, 14, 22, 23, 22, 33, 11, 16, 33, 19, 23, 11, 17,\n",
              "              31, 11, 16, 19,  5, 19])                                           ,\n",
              "       array([24,  3, 18, 16,  5, 33, 26, 23, 26, 16, 18,  5, 11, 24, 11, 16, 18,\n",
              "              23, 11,  1, 19, 14, 11, 16, 18, 20, 18, 16, 13, 11, 33, 26, 13, 22,\n",
              "              16, 18,  3, 11, 24,  7])                                           ,\n",
              "       array([19, 23, 26, 16, 13, 11, 14, 11, 20, 18, 16, 31, 11,  5, 11,  7, 18,\n",
              "              16, 23, 18, 14, 11, 33, 11, 24, 31, 26, 16, 11,  5, 11,  7, 18, 16,\n",
              "              24, 11, 24,  8, 18, 16])                                           ],\n",
              "      dtype=object)"
            ]
          },
          "metadata": {},
          "execution_count": 265
        }
      ]
    },
    {
      "cell_type": "code",
      "source": [
        "y[1:11]"
      ],
      "metadata": {
        "colab": {
          "base_uri": "https://localhost:8080/"
        },
        "id": "5XCQ9fznTwTI",
        "outputId": "c65c283d-5f08-43c8-b4b6-d0b48247b996"
      },
      "execution_count": null,
      "outputs": [
        {
          "output_type": "execute_result",
          "data": {
            "text/plain": [
              "['ere mbere ',\n",
              " 're mbere i',\n",
              " 'e mbere im',\n",
              " ' mbere ima',\n",
              " 'mbere iman',\n",
              " 'bere imana',\n",
              " 'ere imana ',\n",
              " 're imana y',\n",
              " 'e imana ya',\n",
              " ' imana yar']"
            ]
          },
          "metadata": {},
          "execution_count": 222
        }
      ]
    },
    {
      "cell_type": "code",
      "source": [
        "for char in y[:10, :10][0]:\n",
        "  print(int2char[char])"
      ],
      "metadata": {
        "id": "r4fAKFflUAfS"
      },
      "execution_count": null,
      "outputs": []
    },
    {
      "cell_type": "code",
      "source": [
        "# printing out the first 10 items in a sequence\n",
        "print('x\\n', x[:10, :10])\n",
        "print('\\ny\\n', y[:10, :10])"
      ],
      "metadata": {
        "id": "_zSRh1rhTJUB"
      },
      "execution_count": null,
      "outputs": []
    }
  ]
}