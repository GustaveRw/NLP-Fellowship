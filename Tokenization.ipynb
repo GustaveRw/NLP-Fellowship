{
  "nbformat": 4,
  "nbformat_minor": 0,
  "metadata": {
    "colab": {
      "provenance": [],
      "include_colab_link": true
    },
    "kernelspec": {
      "name": "python3",
      "display_name": "Python 3"
    },
    "language_info": {
      "name": "python"
    }
  },
  "cells": [
    {
      "cell_type": "markdown",
      "metadata": {
        "id": "view-in-github",
        "colab_type": "text"
      },
      "source": [
        "<a href=\"https://colab.research.google.com/github/GustaveRw/NLP-Fellowship/blob/master/Tokenization.ipynb\" target=\"_parent\"><img src=\"https://colab.research.google.com/assets/colab-badge.svg\" alt=\"Open In Colab\"/></a>"
      ]
    },
    {
      "cell_type": "markdown",
      "source": [
        "# Tokenization\n",
        "Transforming text to the simplest discrete element called token. The token can be word, character, sentence.\n"
      ],
      "metadata": {
        "id": "yRDNOPjvNlWx"
      }
    },
    {
      "cell_type": "code",
      "source": [
        "# Simplest form of tokenization\n",
        "text = '''Hon. Wanami Wamboka (Bumula, DAP-K): Hon. Speaker, as Members of this\n",
        "House, we must be concerned when one of us has issues around them. I want to indulge\n",
        "Members to support me because today, we are discussing Hon. Waluke and tomorrow, we\n",
        "might talk about another Member of this House. There is a very dangerous trend that is\n",
        "happening in this country. I do not understand why Hon. Waluke has been jailed for 70 years\n",
        "or pay a fine of Kshs1 billion whereas there are other people in this country who have had\n",
        "issues. As I speak, if you are aligned to a certain side in this country and you have a case in court, the case will be withdrawn. Mr. Chumo, the Managing Director of the Kenya Power\n",
        "Company, had his case withdrawn. The cases of Hon. Aisha Jumwa, Hon. former Governor of\n",
        "Samburu, Hon. Waititu, Zacharia Mbugua and Joyce Ngina among others have been\n",
        "withdrawn! I do not understand why Hon. Waluke is still facing persecution. I also do not\n",
        "understand why Hon. Kimunya’s case has resurfaced from nowhere. I want to put a case…\n",
        "'''\n",
        "\n",
        "text = text.replace('\\n', ' ')\n",
        "word_token = text.split()\n",
        "print('length of list---------', len(word_token))\n",
        "print(word_token)\n",
        "print('****************************')\n",
        "\n",
        "sentence_token =text.split('. ')\n",
        "print('length of list---------', len(sentence_token))\n",
        "print(sentence_token)\n",
        "print('****************************')\n",
        "\n",
        "character_token = list(text)\n",
        "print('length of list---------', len(character_token))\n",
        "print(character_token)\n",
        "print('****************************')"
      ],
      "metadata": {
        "colab": {
          "base_uri": "https://localhost:8080/"
        },
        "id": "hIK392zDj2NS",
        "outputId": "30c23d77-f8c7-4e94-8154-19903b1644b7"
      },
      "execution_count": null,
      "outputs": [
        {
          "output_type": "stream",
          "name": "stdout",
          "text": [
            "length of list--------- 187\n",
            "['Hon.', 'Wanami', 'Wamboka', '(Bumula,', 'DAP-K):', 'Hon.', 'Speaker,', 'as', 'Members', 'of', 'this', 'House,', 'we', 'must', 'be', 'concerned', 'when', 'one', 'of', 'us', 'has', 'issues', 'around', 'them.', 'I', 'want', 'to', 'indulge', 'Members', 'to', 'support', 'me', 'because', 'today,', 'we', 'are', 'discussing', 'Hon.', 'Waluke', 'and', 'tomorrow,', 'we', 'might', 'talk', 'about', 'another', 'Member', 'of', 'this', 'House.', 'There', 'is', 'a', 'very', 'dangerous', 'trend', 'that', 'is', 'happening', 'in', 'this', 'country.', 'I', 'do', 'not', 'understand', 'why', 'Hon.', 'Waluke', 'has', 'been', 'jailed', 'for', '70', 'years', 'or', 'pay', 'a', 'fine', 'of', 'Kshs1', 'billion', 'whereas', 'there', 'are', 'other', 'people', 'in', 'this', 'country', 'who', 'have', 'had', 'issues.', 'As', 'I', 'speak,', 'if', 'you', 'are', 'aligned', 'to', 'a', 'certain', 'side', 'in', 'this', 'country', 'and', 'you', 'have', 'a', 'case', 'in', 'court,', 'the', 'case', 'will', 'be', 'withdrawn.', 'Mr.', 'Chumo,', 'the', 'Managing', 'Director', 'of', 'the', 'Kenya', 'Power', 'Company,', 'had', 'his', 'case', 'withdrawn.', 'The', 'cases', 'of', 'Hon.', 'Aisha', 'Jumwa,', 'Hon.', 'former', 'Governor', 'of', 'Samburu,', 'Hon.', 'Waititu,', 'Zacharia', 'Mbugua', 'and', 'Joyce', 'Ngina', 'among', 'others', 'have', 'been', 'withdrawn!', 'I', 'do', 'not', 'understand', 'why', 'Hon.', 'Waluke', 'is', 'still', 'facing', 'persecution.', 'I', 'also', 'do', 'not', 'understand', 'why', 'Hon.', 'Kimunya’s', 'case', 'has', 'resurfaced', 'from', 'nowhere.', 'I', 'want', 'to', 'put', 'a', 'case…']\n",
            "****************************\n",
            "length of list--------- 19\n",
            "['Hon', 'Wanami Wamboka (Bumula, DAP-K): Hon', 'Speaker, as Members of this House, we must be concerned when one of us has issues around them', 'I want to indulge Members to support me because today, we are discussing Hon', 'Waluke and tomorrow, we might talk about another Member of this House', 'There is a very dangerous trend that is happening in this country', 'I do not understand why Hon', 'Waluke has been jailed for 70 years or pay a fine of Kshs1 billion whereas there are other people in this country who have had issues', 'As I speak, if you are aligned to a certain side in this country and you have a case in court, the case will be withdrawn', 'Mr', 'Chumo, the Managing Director of the Kenya Power Company, had his case withdrawn', 'The cases of Hon', 'Aisha Jumwa, Hon', 'former Governor of Samburu, Hon', 'Waititu, Zacharia Mbugua and Joyce Ngina among others have been withdrawn! I do not understand why Hon', 'Waluke is still facing persecution', 'I also do not understand why Hon', 'Kimunya’s case has resurfaced from nowhere', 'I want to put a case… ']\n",
            "****************************\n",
            "length of list--------- 1034\n",
            "['H', 'o', 'n', '.', ' ', 'W', 'a', 'n', 'a', 'm', 'i', ' ', 'W', 'a', 'm', 'b', 'o', 'k', 'a', ' ', '(', 'B', 'u', 'm', 'u', 'l', 'a', ',', ' ', 'D', 'A', 'P', '-', 'K', ')', ':', ' ', 'H', 'o', 'n', '.', ' ', 'S', 'p', 'e', 'a', 'k', 'e', 'r', ',', ' ', 'a', 's', ' ', 'M', 'e', 'm', 'b', 'e', 'r', 's', ' ', 'o', 'f', ' ', 't', 'h', 'i', 's', ' ', 'H', 'o', 'u', 's', 'e', ',', ' ', 'w', 'e', ' ', 'm', 'u', 's', 't', ' ', 'b', 'e', ' ', 'c', 'o', 'n', 'c', 'e', 'r', 'n', 'e', 'd', ' ', 'w', 'h', 'e', 'n', ' ', 'o', 'n', 'e', ' ', 'o', 'f', ' ', 'u', 's', ' ', 'h', 'a', 's', ' ', 'i', 's', 's', 'u', 'e', 's', ' ', 'a', 'r', 'o', 'u', 'n', 'd', ' ', 't', 'h', 'e', 'm', '.', ' ', 'I', ' ', 'w', 'a', 'n', 't', ' ', 't', 'o', ' ', 'i', 'n', 'd', 'u', 'l', 'g', 'e', ' ', 'M', 'e', 'm', 'b', 'e', 'r', 's', ' ', 't', 'o', ' ', 's', 'u', 'p', 'p', 'o', 'r', 't', ' ', 'm', 'e', ' ', 'b', 'e', 'c', 'a', 'u', 's', 'e', ' ', 't', 'o', 'd', 'a', 'y', ',', ' ', 'w', 'e', ' ', 'a', 'r', 'e', ' ', 'd', 'i', 's', 'c', 'u', 's', 's', 'i', 'n', 'g', ' ', 'H', 'o', 'n', '.', ' ', 'W', 'a', 'l', 'u', 'k', 'e', ' ', 'a', 'n', 'd', ' ', 't', 'o', 'm', 'o', 'r', 'r', 'o', 'w', ',', ' ', 'w', 'e', ' ', 'm', 'i', 'g', 'h', 't', ' ', 't', 'a', 'l', 'k', ' ', 'a', 'b', 'o', 'u', 't', ' ', 'a', 'n', 'o', 't', 'h', 'e', 'r', ' ', 'M', 'e', 'm', 'b', 'e', 'r', ' ', 'o', 'f', ' ', 't', 'h', 'i', 's', ' ', 'H', 'o', 'u', 's', 'e', '.', ' ', 'T', 'h', 'e', 'r', 'e', ' ', 'i', 's', ' ', 'a', ' ', 'v', 'e', 'r', 'y', ' ', 'd', 'a', 'n', 'g', 'e', 'r', 'o', 'u', 's', ' ', 't', 'r', 'e', 'n', 'd', ' ', 't', 'h', 'a', 't', ' ', 'i', 's', ' ', 'h', 'a', 'p', 'p', 'e', 'n', 'i', 'n', 'g', ' ', 'i', 'n', ' ', 't', 'h', 'i', 's', ' ', 'c', 'o', 'u', 'n', 't', 'r', 'y', '.', ' ', 'I', ' ', 'd', 'o', ' ', 'n', 'o', 't', ' ', 'u', 'n', 'd', 'e', 'r', 's', 't', 'a', 'n', 'd', ' ', 'w', 'h', 'y', ' ', 'H', 'o', 'n', '.', ' ', 'W', 'a', 'l', 'u', 'k', 'e', ' ', 'h', 'a', 's', ' ', 'b', 'e', 'e', 'n', ' ', 'j', 'a', 'i', 'l', 'e', 'd', ' ', 'f', 'o', 'r', ' ', '7', '0', ' ', 'y', 'e', 'a', 'r', 's', ' ', 'o', 'r', ' ', 'p', 'a', 'y', ' ', 'a', ' ', 'f', 'i', 'n', 'e', ' ', 'o', 'f', ' ', 'K', 's', 'h', 's', '1', ' ', 'b', 'i', 'l', 'l', 'i', 'o', 'n', ' ', 'w', 'h', 'e', 'r', 'e', 'a', 's', ' ', 't', 'h', 'e', 'r', 'e', ' ', 'a', 'r', 'e', ' ', 'o', 't', 'h', 'e', 'r', ' ', 'p', 'e', 'o', 'p', 'l', 'e', ' ', 'i', 'n', ' ', 't', 'h', 'i', 's', ' ', 'c', 'o', 'u', 'n', 't', 'r', 'y', ' ', 'w', 'h', 'o', ' ', 'h', 'a', 'v', 'e', ' ', 'h', 'a', 'd', ' ', 'i', 's', 's', 'u', 'e', 's', '.', ' ', 'A', 's', ' ', 'I', ' ', 's', 'p', 'e', 'a', 'k', ',', ' ', 'i', 'f', ' ', 'y', 'o', 'u', ' ', 'a', 'r', 'e', ' ', 'a', 'l', 'i', 'g', 'n', 'e', 'd', ' ', 't', 'o', ' ', 'a', ' ', 'c', 'e', 'r', 't', 'a', 'i', 'n', ' ', 's', 'i', 'd', 'e', ' ', 'i', 'n', ' ', 't', 'h', 'i', 's', ' ', 'c', 'o', 'u', 'n', 't', 'r', 'y', ' ', 'a', 'n', 'd', ' ', 'y', 'o', 'u', ' ', 'h', 'a', 'v', 'e', ' ', 'a', ' ', 'c', 'a', 's', 'e', ' ', 'i', 'n', ' ', 'c', 'o', 'u', 'r', 't', ',', ' ', 't', 'h', 'e', ' ', 'c', 'a', 's', 'e', ' ', 'w', 'i', 'l', 'l', ' ', 'b', 'e', ' ', 'w', 'i', 't', 'h', 'd', 'r', 'a', 'w', 'n', '.', ' ', 'M', 'r', '.', ' ', 'C', 'h', 'u', 'm', 'o', ',', ' ', 't', 'h', 'e', ' ', 'M', 'a', 'n', 'a', 'g', 'i', 'n', 'g', ' ', 'D', 'i', 'r', 'e', 'c', 't', 'o', 'r', ' ', 'o', 'f', ' ', 't', 'h', 'e', ' ', 'K', 'e', 'n', 'y', 'a', ' ', 'P', 'o', 'w', 'e', 'r', ' ', 'C', 'o', 'm', 'p', 'a', 'n', 'y', ',', ' ', 'h', 'a', 'd', ' ', 'h', 'i', 's', ' ', 'c', 'a', 's', 'e', ' ', 'w', 'i', 't', 'h', 'd', 'r', 'a', 'w', 'n', '.', ' ', 'T', 'h', 'e', ' ', 'c', 'a', 's', 'e', 's', ' ', 'o', 'f', ' ', 'H', 'o', 'n', '.', ' ', 'A', 'i', 's', 'h', 'a', ' ', 'J', 'u', 'm', 'w', 'a', ',', ' ', 'H', 'o', 'n', '.', ' ', 'f', 'o', 'r', 'm', 'e', 'r', ' ', 'G', 'o', 'v', 'e', 'r', 'n', 'o', 'r', ' ', 'o', 'f', ' ', 'S', 'a', 'm', 'b', 'u', 'r', 'u', ',', ' ', 'H', 'o', 'n', '.', ' ', 'W', 'a', 'i', 't', 'i', 't', 'u', ',', ' ', 'Z', 'a', 'c', 'h', 'a', 'r', 'i', 'a', ' ', 'M', 'b', 'u', 'g', 'u', 'a', ' ', 'a', 'n', 'd', ' ', 'J', 'o', 'y', 'c', 'e', ' ', 'N', 'g', 'i', 'n', 'a', ' ', 'a', 'm', 'o', 'n', 'g', ' ', 'o', 't', 'h', 'e', 'r', 's', ' ', 'h', 'a', 'v', 'e', ' ', 'b', 'e', 'e', 'n', ' ', 'w', 'i', 't', 'h', 'd', 'r', 'a', 'w', 'n', '!', ' ', 'I', ' ', 'd', 'o', ' ', 'n', 'o', 't', ' ', 'u', 'n', 'd', 'e', 'r', 's', 't', 'a', 'n', 'd', ' ', 'w', 'h', 'y', ' ', 'H', 'o', 'n', '.', ' ', 'W', 'a', 'l', 'u', 'k', 'e', ' ', 'i', 's', ' ', 's', 't', 'i', 'l', 'l', ' ', 'f', 'a', 'c', 'i', 'n', 'g', ' ', 'p', 'e', 'r', 's', 'e', 'c', 'u', 't', 'i', 'o', 'n', '.', ' ', 'I', ' ', 'a', 'l', 's', 'o', ' ', 'd', 'o', ' ', 'n', 'o', 't', ' ', 'u', 'n', 'd', 'e', 'r', 's', 't', 'a', 'n', 'd', ' ', 'w', 'h', 'y', ' ', 'H', 'o', 'n', '.', ' ', 'K', 'i', 'm', 'u', 'n', 'y', 'a', '’', 's', ' ', 'c', 'a', 's', 'e', ' ', 'h', 'a', 's', ' ', 'r', 'e', 's', 'u', 'r', 'f', 'a', 'c', 'e', 'd', ' ', 'f', 'r', 'o', 'm', ' ', 'n', 'o', 'w', 'h', 'e', 'r', 'e', '.', ' ', 'I', ' ', 'w', 'a', 'n', 't', ' ', 't', 'o', ' ', 'p', 'u', 't', ' ', 'a', ' ', 'c', 'a', 's', 'e', '…', ' ']\n",
            "****************************\n"
          ]
        }
      ]
    },
    {
      "cell_type": "markdown",
      "source": [
        "## Python packages used for tokenization\n",
        "Problem with the above is we have to define what makes up a word or sentence. From the above we can see that words are placed together with full stop. In the sentence token, we can see there are only 2 sentence but because some of the \\n.\n",
        "\n",
        "There are packages that can be used to properly tokenize the text. Some of the packages we will look at are:\n",
        "\n",
        "\n",
        "*  Regex\n",
        "* NLTK\n",
        "*   Gensim\n",
        "*   Spacy\n",
        "* Keras\n",
        "* Huggingface\n",
        "\n"
      ],
      "metadata": {
        "id": "VStF_XrjmsD4"
      }
    },
    {
      "cell_type": "markdown",
      "source": [
        "## Regex\n",
        "We can use regex to indentify words or sentences. This seems better but still does not solve our problems when it comes to working with sentences.\n"
      ],
      "metadata": {
        "id": "oWMHwRdYpjBa"
      }
    },
    {
      "cell_type": "code",
      "source": [
        "import re\n",
        "\n",
        "\n",
        "word_tokens_re = re.findall(\"[\\w]+\", text) \n",
        "print('length of list---------', len(word_tokens_re))\n",
        "print(word_tokens_re) # does not pick punctuations. \n",
        "\n",
        "sentence_tokens_re = re.compile('[.!?] ').split(text)\n",
        "print('length of list---------', len(sentence_tokens_re))\n",
        "print(sentence_tokens_re)"
      ],
      "metadata": {
        "id": "VB8d4rjspe81",
        "colab": {
          "base_uri": "https://localhost:8080/"
        },
        "outputId": "63c3888f-8e5f-4a41-95ef-f829bdf92a5f"
      },
      "execution_count": null,
      "outputs": [
        {
          "output_type": "stream",
          "name": "stdout",
          "text": [
            "length of list--------- 189\n",
            "['Hon', 'Wanami', 'Wamboka', 'Bumula', 'DAP', 'K', 'Hon', 'Speaker', 'as', 'Members', 'of', 'this', 'House', 'we', 'must', 'be', 'concerned', 'when', 'one', 'of', 'us', 'has', 'issues', 'around', 'them', 'I', 'want', 'to', 'indulge', 'Members', 'to', 'support', 'me', 'because', 'today', 'we', 'are', 'discussing', 'Hon', 'Waluke', 'and', 'tomorrow', 'we', 'might', 'talk', 'about', 'another', 'Member', 'of', 'this', 'House', 'There', 'is', 'a', 'very', 'dangerous', 'trend', 'that', 'is', 'happening', 'in', 'this', 'country', 'I', 'do', 'not', 'understand', 'why', 'Hon', 'Waluke', 'has', 'been', 'jailed', 'for', '70', 'years', 'or', 'pay', 'a', 'fine', 'of', 'Kshs1', 'billion', 'whereas', 'there', 'are', 'other', 'people', 'in', 'this', 'country', 'who', 'have', 'had', 'issues', 'As', 'I', 'speak', 'if', 'you', 'are', 'aligned', 'to', 'a', 'certain', 'side', 'in', 'this', 'country', 'and', 'you', 'have', 'a', 'case', 'in', 'court', 'the', 'case', 'will', 'be', 'withdrawn', 'Mr', 'Chumo', 'the', 'Managing', 'Director', 'of', 'the', 'Kenya', 'Power', 'Company', 'had', 'his', 'case', 'withdrawn', 'The', 'cases', 'of', 'Hon', 'Aisha', 'Jumwa', 'Hon', 'former', 'Governor', 'of', 'Samburu', 'Hon', 'Waititu', 'Zacharia', 'Mbugua', 'and', 'Joyce', 'Ngina', 'among', 'others', 'have', 'been', 'withdrawn', 'I', 'do', 'not', 'understand', 'why', 'Hon', 'Waluke', 'is', 'still', 'facing', 'persecution', 'I', 'also', 'do', 'not', 'understand', 'why', 'Hon', 'Kimunya', 's', 'case', 'has', 'resurfaced', 'from', 'nowhere', 'I', 'want', 'to', 'put', 'a', 'case']\n",
            "length of list--------- 20\n",
            "['Hon', 'Wanami Wamboka (Bumula, DAP-K): Hon', 'Speaker, as Members of this House, we must be concerned when one of us has issues around them', 'I want to indulge Members to support me because today, we are discussing Hon', 'Waluke and tomorrow, we might talk about another Member of this House', 'There is a very dangerous trend that is happening in this country', 'I do not understand why Hon', 'Waluke has been jailed for 70 years or pay a fine of Kshs1 billion whereas there are other people in this country who have had issues', 'As I speak, if you are aligned to a certain side in this country and you have a case in court, the case will be withdrawn', 'Mr', 'Chumo, the Managing Director of the Kenya Power Company, had his case withdrawn', 'The cases of Hon', 'Aisha Jumwa, Hon', 'former Governor of Samburu, Hon', 'Waititu, Zacharia Mbugua and Joyce Ngina among others have been withdrawn', 'I do not understand why Hon', 'Waluke is still facing persecution', 'I also do not understand why Hon', 'Kimunya’s case has resurfaced from nowhere', 'I want to put a case… ']\n"
          ]
        }
      ]
    },
    {
      "cell_type": "markdown",
      "source": [
        "## NLTK \n",
        "Documentation - https://www.nltk.org/\n",
        "\n",
        "It stands for \n",
        "\n",
        "`!pip install nltk` to install the package\n",
        "\n",
        "`import nltk` to import the package"
      ],
      "metadata": {
        "id": "6kVpJKlnop6h"
      }
    },
    {
      "cell_type": "code",
      "source": [
        "import nltk\n",
        "nltk.download('punkt')\n",
        "from nltk.tokenize import word_tokenize,sent_tokenize\n",
        "from nltk.tokenize.punkt import  PunktSentenceTokenizer,PunktParameters\n"
      ],
      "metadata": {
        "id": "2AQm48v8pIpY",
        "colab": {
          "base_uri": "https://localhost:8080/"
        },
        "outputId": "754f2a3e-bc06-411a-ae3d-2dd51c6372c8"
      },
      "execution_count": null,
      "outputs": [
        {
          "output_type": "stream",
          "name": "stderr",
          "text": [
            "[nltk_data] Downloading package punkt to /root/nltk_data...\n",
            "[nltk_data]   Unzipping tokenizers/punkt.zip.\n"
          ]
        }
      ]
    },
    {
      "cell_type": "code",
      "source": [
        "word_token_nltk = word_tokenize(text)\n",
        "print('length of list---------', len(word_token_nltk))\n",
        "print(word_token_nltk)\n",
        "print('****************************')\n",
        "\n",
        "sentence_token_nltk =sent_tokenize(text)\n",
        "print('length of list---------', len(sentence_token))\n",
        "print(sentence_token)\n",
        "print('****************************')"
      ],
      "metadata": {
        "id": "cy-hpQdTkXjX",
        "colab": {
          "base_uri": "https://localhost:8080/"
        },
        "outputId": "e5a01d4c-c410-46b5-fb33-af98564dff9f"
      },
      "execution_count": null,
      "outputs": [
        {
          "output_type": "stream",
          "name": "stdout",
          "text": [
            "length of list--------- 222\n",
            "['Hon', '.', 'Wanami', 'Wamboka', '(', 'Bumula', ',', 'DAP-K', ')', ':', 'Hon', '.', 'Speaker', ',', 'as', 'Members', 'of', 'this', 'House', ',', 'we', 'must', 'be', 'concerned', 'when', 'one', 'of', 'us', 'has', 'issues', 'around', 'them', '.', 'I', 'want', 'to', 'indulge', 'Members', 'to', 'support', 'me', 'because', 'today', ',', 'we', 'are', 'discussing', 'Hon', '.', 'Waluke', 'and', 'tomorrow', ',', 'we', 'might', 'talk', 'about', 'another', 'Member', 'of', 'this', 'House', '.', 'There', 'is', 'a', 'very', 'dangerous', 'trend', 'that', 'is', 'happening', 'in', 'this', 'country', '.', 'I', 'do', 'not', 'understand', 'why', 'Hon', '.', 'Waluke', 'has', 'been', 'jailed', 'for', '70', 'years', 'or', 'pay', 'a', 'fine', 'of', 'Kshs1', 'billion', 'whereas', 'there', 'are', 'other', 'people', 'in', 'this', 'country', 'who', 'have', 'had', 'issues', '.', 'As', 'I', 'speak', ',', 'if', 'you', 'are', 'aligned', 'to', 'a', 'certain', 'side', 'in', 'this', 'country', 'and', 'you', 'have', 'a', 'case', 'in', 'court', ',', 'the', 'case', 'will', 'be', 'withdrawn', '.', 'Mr.', 'Chumo', ',', 'the', 'Managing', 'Director', 'of', 'the', 'Kenya', 'Power', 'Company', ',', 'had', 'his', 'case', 'withdrawn', '.', 'The', 'cases', 'of', 'Hon', '.', 'Aisha', 'Jumwa', ',', 'Hon', '.', 'former', 'Governor', 'of', 'Samburu', ',', 'Hon', '.', 'Waititu', ',', 'Zacharia', 'Mbugua', 'and', 'Joyce', 'Ngina', 'among', 'others', 'have', 'been', 'withdrawn', '!', 'I', 'do', 'not', 'understand', 'why', 'Hon', '.', 'Waluke', 'is', 'still', 'facing', 'persecution', '.', 'I', 'also', 'do', 'not', 'understand', 'why', 'Hon', '.', 'Kimunya', '’', 's', 'case', 'has', 'resurfaced', 'from', 'nowhere', '.', 'I', 'want', 'to', 'put', 'a', 'case…']\n",
            "****************************\n",
            "length of list--------- 19\n",
            "['Hon', 'Wanami Wamboka (Bumula, DAP-K): Hon', 'Speaker, as Members of this House, we must be concerned when one of us has issues around them', 'I want to indulge Members to support me because today, we are discussing Hon', 'Waluke and tomorrow, we might talk about another Member of this House', 'There is a very dangerous trend that is happening in this country', 'I do not understand why Hon', 'Waluke has been jailed for 70 years or pay a fine of Kshs1 billion whereas there are other people in this country who have had issues', 'As I speak, if you are aligned to a certain side in this country and you have a case in court, the case will be withdrawn', 'Mr', 'Chumo, the Managing Director of the Kenya Power Company, had his case withdrawn', 'The cases of Hon', 'Aisha Jumwa, Hon', 'former Governor of Samburu, Hon', 'Waititu, Zacharia Mbugua and Joyce Ngina among others have been withdrawn! I do not understand why Hon', 'Waluke is still facing persecution', 'I also do not understand why Hon', 'Kimunya’s case has resurfaced from nowhere', 'I want to put a case… ']\n",
            "****************************\n"
          ]
        }
      ]
    },
    {
      "cell_type": "code",
      "source": [
        "# Working with abbreviations\n",
        "punkt_param = PunktParameters()\n",
        "abbreviation = ['hon', 'mr']\n",
        "punkt_param.abbrev_types = set(abbreviation)\n",
        "\n",
        "tokenizer = PunktSentenceTokenizer(punkt_param)\n",
        "sentence_token_nltk = tokenizer.tokenize(text)\n",
        "print('length of list---------', len(sentence_token_nltk))\n",
        "print(sentence_token_nltk)\n",
        "print('****************************')"
      ],
      "metadata": {
        "colab": {
          "base_uri": "https://localhost:8080/"
        },
        "id": "S_UpxpimztGu",
        "outputId": "9eed971b-3e13-4440-cfc0-bc9f693bd942"
      },
      "execution_count": null,
      "outputs": [
        {
          "output_type": "stream",
          "name": "stdout",
          "text": [
            "length of list--------- 10\n",
            "['Hon. Wanami Wamboka (Bumula, DAP-K): Hon. Speaker, as Members of this House, we must be concerned when one of us has issues around them.', 'I want to indulge Members to support me because today, we are discussing Hon. Waluke and tomorrow, we might talk about another Member of this House.', 'There is a very dangerous trend that is happening in this country.', 'I do not understand why Hon. Waluke has been jailed for 70 years or pay a fine of Kshs1 billion whereas there are other people in this country who have had issues.', 'As I speak, if you are aligned to a certain side in this country and you have a case in court, the case will be withdrawn.', 'Mr. Chumo, the Managing Director of the Kenya Power Company, had his case withdrawn.', 'The cases of Hon. Aisha Jumwa, Hon. former Governor of Samburu, Hon. Waititu, Zacharia Mbugua and Joyce Ngina among others have been withdrawn!', 'I do not understand why Hon. Waluke is still facing persecution.', 'I also do not understand why Hon. Kimunya’s case has resurfaced from nowhere.', 'I want to put a case…']\n",
            "****************************\n"
          ]
        }
      ]
    },
    {
      "cell_type": "markdown",
      "source": [
        "### Creating your language abbreviations and adding them to the tokenizer\n",
        "You can use this exmaple: https://gist.github.com/ksopyla/f05fe2f48bbc9de895368b8a7863b5c3\n",
        "\n",
        "We can crowd source this to create our own list. This will be used in translation."
      ],
      "metadata": {
        "id": "PXsB93SJ8RHX"
      }
    },
    {
      "cell_type": "markdown",
      "source": [
        "## Gensim\n",
        "Mostly used for topic modelling. Has its own models already trained, has corpus and also utility functions we can use for tokenization.\n",
        "\n",
        "Documentation: https://radimrehurek.com/gensim/index.html\n",
        "\n",
        "`!pip install gensim` for installing the package\n"
      ],
      "metadata": {
        "id": "m7tNPeDl9TbH"
      }
    },
    {
      "cell_type": "code",
      "source": [
        "from gensim.utils import tokenize\n",
        "from gensim.summarization.textcleaner import split_sentences"
      ],
      "metadata": {
        "id": "VW1Sz_yu9SJp"
      },
      "execution_count": null,
      "outputs": []
    },
    {
      "cell_type": "code",
      "source": [
        "word_token_gensim = list(tokenize(text))\n",
        "print('length of list---------', len(word_token_gensim))\n",
        "print(word_token_gensim)\n",
        "print('****************************')\n",
        "\n",
        "sentence_token_gensim = list(split_sentences(text))\n",
        "print('length of list---------', len(sentence_token_gensim))\n",
        "print(sentence_token_gensim)\n",
        "print('****************************')"
      ],
      "metadata": {
        "colab": {
          "base_uri": "https://localhost:8080/"
        },
        "id": "XLDx2aUK8Gf4",
        "outputId": "220dcac7-8b13-4614-9707-6207221d4884"
      },
      "execution_count": null,
      "outputs": [
        {
          "output_type": "stream",
          "name": "stdout",
          "text": [
            "length of list--------- 188\n",
            "['Hon', 'Wanami', 'Wamboka', 'Bumula', 'DAP', 'K', 'Hon', 'Speaker', 'as', 'Members', 'of', 'this', 'House', 'we', 'must', 'be', 'concerned', 'when', 'one', 'of', 'us', 'has', 'issues', 'around', 'them', 'I', 'want', 'to', 'indulge', 'Members', 'to', 'support', 'me', 'because', 'today', 'we', 'are', 'discussing', 'Hon', 'Waluke', 'and', 'tomorrow', 'we', 'might', 'talk', 'about', 'another', 'Member', 'of', 'this', 'House', 'There', 'is', 'a', 'very', 'dangerous', 'trend', 'that', 'is', 'happening', 'in', 'this', 'country', 'I', 'do', 'not', 'understand', 'why', 'Hon', 'Waluke', 'has', 'been', 'jailed', 'for', 'years', 'or', 'pay', 'a', 'fine', 'of', 'Kshs', 'billion', 'whereas', 'there', 'are', 'other', 'people', 'in', 'this', 'country', 'who', 'have', 'had', 'issues', 'As', 'I', 'speak', 'if', 'you', 'are', 'aligned', 'to', 'a', 'certain', 'side', 'in', 'this', 'country', 'and', 'you', 'have', 'a', 'case', 'in', 'court', 'the', 'case', 'will', 'be', 'withdrawn', 'Mr', 'Chumo', 'the', 'Managing', 'Director', 'of', 'the', 'Kenya', 'Power', 'Company', 'had', 'his', 'case', 'withdrawn', 'The', 'cases', 'of', 'Hon', 'Aisha', 'Jumwa', 'Hon', 'former', 'Governor', 'of', 'Samburu', 'Hon', 'Waititu', 'Zacharia', 'Mbugua', 'and', 'Joyce', 'Ngina', 'among', 'others', 'have', 'been', 'withdrawn', 'I', 'do', 'not', 'understand', 'why', 'Hon', 'Waluke', 'is', 'still', 'facing', 'persecution', 'I', 'also', 'do', 'not', 'understand', 'why', 'Hon', 'Kimunya', 's', 'case', 'has', 'resurfaced', 'from', 'nowhere', 'I', 'want', 'to', 'put', 'a', 'case']\n",
            "****************************\n",
            "length of list--------- 10\n",
            "['Hon. Wanami Wamboka (Bumula, DAP-K): Hon. Speaker, as Members of this House, we must be concerned when one of us has issues around them.', 'I want to indulge Members to support me because today, we are discussing Hon. Waluke and tomorrow, we might talk about another Member of this House.', 'There is a very dangerous trend that is happening in this country.', 'I do not understand why Hon. Waluke has been jailed for 70 years or pay a fine of Kshs1 billion whereas there are other people in this country who have had issues.', 'As I speak, if you are aligned to a certain side in this country and you have a case in court, the case will be withdrawn.', 'Mr. Chumo, the Managing Director of the Kenya Power Company, had his case withdrawn.', 'The cases of Hon. Aisha Jumwa, Hon. former Governor of Samburu, Hon. Waititu, Zacharia Mbugua and Joyce Ngina among others have been withdrawn!', 'I do not understand why Hon. Waluke is still facing persecution.', 'I also do not understand why Hon. Kimunya’s case has resurfaced from nowhere.', 'I want to put a case… ']\n",
            "****************************\n"
          ]
        }
      ]
    },
    {
      "cell_type": "markdown",
      "source": [
        "## Spacy\n",
        "This is like the modern version of NLTK. It has most of the tools needed for NLP. It also enables people to contribute tools for their own languages.\n",
        "\n",
        "Documentation: https://spacy.io/usage/linguistic-features#tokenization\n",
        "\n",
        "Since it has multiple languages, you will have to get the vector for that language to proceed\n"
      ],
      "metadata": {
        "id": "oKopaj8cDs3p"
      }
    },
    {
      "cell_type": "code",
      "source": [
        "import spacy\n",
        "from spacy.lang.en import English\n",
        "\n",
        "nlp = spacy.load(\"en_core_web_sm\")"
      ],
      "metadata": {
        "id": "CMLtoXAmHqfl"
      },
      "execution_count": null,
      "outputs": []
    },
    {
      "cell_type": "code",
      "source": [
        "\n",
        "doc = nlp(text)\n",
        "word_token_spacy = []\n",
        "for token in doc:\n",
        "  word_token_spacy.append(token.text)\n",
        "\n",
        "print('length of list---------', len(word_token_spacy))\n",
        "print(word_token_spacy)\n",
        "print('****************************')"
      ],
      "metadata": {
        "colab": {
          "base_uri": "https://localhost:8080/"
        },
        "id": "bt3cJjHUDbei",
        "outputId": "9ca1d140-fffa-4ca3-fc65-1715ee886490"
      },
      "execution_count": null,
      "outputs": [
        {
          "output_type": "stream",
          "name": "stdout",
          "text": [
            "length of list--------- 223\n",
            "['Hon', '.', 'Wanami', 'Wamboka', '(', 'Bumula', ',', 'DAP', '-', 'K', '):', 'Hon', '.', 'Speaker', ',', 'as', 'Members', 'of', 'this', 'House', ',', 'we', 'must', 'be', 'concerned', 'when', 'one', 'of', 'us', 'has', 'issues', 'around', 'them', '.', 'I', 'want', 'to', 'indulge', 'Members', 'to', 'support', 'me', 'because', 'today', ',', 'we', 'are', 'discussing', 'Hon', '.', 'Waluke', 'and', 'tomorrow', ',', 'we', 'might', 'talk', 'about', 'another', 'Member', 'of', 'this', 'House', '.', 'There', 'is', 'a', 'very', 'dangerous', 'trend', 'that', 'is', 'happening', 'in', 'this', 'country', '.', 'I', 'do', 'not', 'understand', 'why', 'Hon', '.', 'Waluke', 'has', 'been', 'jailed', 'for', '70', 'years', 'or', 'pay', 'a', 'fine', 'of', 'Kshs1', 'billion', 'whereas', 'there', 'are', 'other', 'people', 'in', 'this', 'country', 'who', 'have', 'had', 'issues', '.', 'As', 'I', 'speak', ',', 'if', 'you', 'are', 'aligned', 'to', 'a', 'certain', 'side', 'in', 'this', 'country', 'and', 'you', 'have', 'a', 'case', 'in', 'court', ',', 'the', 'case', 'will', 'be', 'withdrawn', '.', 'Mr.', 'Chumo', ',', 'the', 'Managing', 'Director', 'of', 'the', 'Kenya', 'Power', 'Company', ',', 'had', 'his', 'case', 'withdrawn', '.', 'The', 'cases', 'of', 'Hon', '.', 'Aisha', 'Jumwa', ',', 'Hon', '.', 'former', 'Governor', 'of', 'Samburu', ',', 'Hon', '.', 'Waititu', ',', 'Zacharia', 'Mbugua', 'and', 'Joyce', 'Ngina', 'among', 'others', 'have', 'been', 'withdrawn', '!', 'I', 'do', 'not', 'understand', 'why', 'Hon', '.', 'Waluke', 'is', 'still', 'facing', 'persecution', '.', 'I', 'also', 'do', 'not', 'understand', 'why', 'Hon', '.', 'Kimunya', '’s', 'case', 'has', 'resurfaced', 'from', 'nowhere', '.', 'I', 'want', 'to', 'put', 'a', 'case', '…']\n",
            "****************************\n"
          ]
        }
      ]
    },
    {
      "cell_type": "code",
      "source": [
        "sent_doc = nlp(text)\n",
        "\n",
        "sentence_token_spacy = []\n",
        "for token in sent_doc.sents:\n",
        "    sentence_token_spacy.append(token.text)\n",
        "\n",
        "print('length of list---------', len(sentence_token_spacy))\n",
        "print(sentence_token_spacy)\n",
        "print('****************************')\n"
      ],
      "metadata": {
        "colab": {
          "base_uri": "https://localhost:8080/"
        },
        "id": "nJ1uzDdrHNhR",
        "outputId": "2e942a67-6464-4f21-b4cf-d9095b18f691"
      },
      "execution_count": null,
      "outputs": [
        {
          "output_type": "stream",
          "name": "stdout",
          "text": [
            "length of list--------- 17\n",
            "['Hon.', 'Wanami Wamboka (Bumula, DAP-K): Hon. Speaker, as Members of this House, we must be concerned when one of us has issues around them.', 'I want to indulge Members to support me because today, we are discussing Hon.', 'Waluke and tomorrow, we might talk about another Member of this House.', 'There is a very dangerous trend that is happening in this country.', 'I do not understand why Hon.', 'Waluke has been jailed for 70 years or pay a fine of Kshs1 billion whereas there are other people in this country who have had issues.', 'As I speak, if you are aligned to a certain side in this country and you have a case in court, the case will be withdrawn.', 'Mr. Chumo, the Managing Director of the Kenya Power Company, had his case withdrawn.', 'The cases of Hon.', 'Aisha Jumwa, Hon.', 'former Governor of Samburu, Hon. Waititu, Zacharia Mbugua and Joyce Ngina among others have been withdrawn!', 'I do not understand why Hon.', 'Waluke is still facing persecution.', 'I also do not understand why Hon.', 'Kimunya’s case has resurfaced from nowhere.', 'I want to put a case…']\n",
            "****************************\n"
          ]
        }
      ]
    },
    {
      "cell_type": "markdown",
      "source": [
        "## Inclass Practical\n",
        "\n",
        "\n",
        "1.   Figure out how to add abbrevation in spacy\n",
        "2.   Compare all the list and see which are the sentence or words that should not be there\n",
        "3.   Pick the best tokenizer among the 5 and use it on yesterday's cleaned text data (Parlimentary data)\n",
        "\n"
      ],
      "metadata": {
        "id": "jpxAQsnKL4Gh"
      }
    },
    {
      "cell_type": "markdown",
      "source": [
        "## Assignment\n",
        "Create a function that will take text and return word tokens for the Eng-Kin dataset. For Kinyarwanda text remember the abbrevations"
      ],
      "metadata": {
        "id": "-zfWYcb5Nw2-"
      }
    },
    {
      "cell_type": "markdown",
      "source": [
        "Installing TextBob library"
      ],
      "metadata": {
        "id": "Q1hLp5pNZHcd"
      }
    },
    {
      "cell_type": "code",
      "source": [
        "!pip install textblob"
      ],
      "metadata": {
        "id": "gyo_2wfNJOL-",
        "colab": {
          "base_uri": "https://localhost:8080/"
        },
        "outputId": "df44a0a4-d027-41fb-adac-1207c84402cc"
      },
      "execution_count": 1,
      "outputs": [
        {
          "output_type": "stream",
          "name": "stdout",
          "text": [
            "Looking in indexes: https://pypi.org/simple, https://us-python.pkg.dev/colab-wheels/public/simple/\n",
            "Requirement already satisfied: textblob in /usr/local/lib/python3.7/dist-packages (0.15.3)\n",
            "Requirement already satisfied: nltk>=3.1 in /usr/local/lib/python3.7/dist-packages (from textblob) (3.7)\n",
            "Requirement already satisfied: regex>=2021.8.3 in /usr/local/lib/python3.7/dist-packages (from nltk>=3.1->textblob) (2022.6.2)\n",
            "Requirement already satisfied: joblib in /usr/local/lib/python3.7/dist-packages (from nltk>=3.1->textblob) (1.2.0)\n",
            "Requirement already satisfied: click in /usr/local/lib/python3.7/dist-packages (from nltk>=3.1->textblob) (7.1.2)\n",
            "Requirement already satisfied: tqdm in /usr/local/lib/python3.7/dist-packages (from nltk>=3.1->textblob) (4.64.1)\n"
          ]
        }
      ]
    },
    {
      "cell_type": "markdown",
      "source": [
        "Importing some need libraries"
      ],
      "metadata": {
        "id": "DKZ3QQuAZMYO"
      }
    },
    {
      "cell_type": "code",
      "source": [
        "from textblob import TextBlob\n",
        "\n",
        "import pandas as pd\n",
        "\n",
        "import numpy as np\n",
        "\n",
        "df = pd.read_csv(\"/content/Eng_Kin-Paralleldata.csv\")\n",
        "\n",
        "df"
      ],
      "metadata": {
        "colab": {
          "base_uri": "https://localhost:8080/",
          "height": 424
        },
        "id": "gUNH8ZQNZR05",
        "outputId": "c25619c5-bcd5-4abc-d2d5-6f9efb7f6d14"
      },
      "execution_count": 4,
      "outputs": [
        {
          "output_type": "execute_result",
          "data": {
            "text/plain": [
              "                ID                                            English  \\\n",
              "0      ID_IFVTMXW8        F_all back to threading messages by subject   \n",
              "1      ID_SBXUPXE3  You will have to restart GIMP for the followin...   \n",
              "2      ID_ZOCZ3PXQ  The radio button whose group this widget belon...   \n",
              "3      ID_6AVBJ1YS           Print all subdirectories in a directory.   \n",
              "4      ID_FW4V44WK  Paste the contents of the clipboard as a new i...   \n",
              "...            ...                                                ...   \n",
              "20585  ID_T3D2IRD5  Yes. We plan to support major CCD cameras and ...   \n",
              "20586  ID_JWVP5ZDJ  Most likely you did not configure correctly (o...   \n",
              "20587  ID_LI4BAED3  ... too numerous others to mention who also le...   \n",
              "20588  ID_JMR2T84U  & kiten; can deinflect verbs you search for. T...   \n",
              "20589  ID_3BG7KZ98  Next you will find a full overview on all comm...   \n",
              "\n",
              "                                             Kinyarwanda  \n",
              "0                     Inyuma Kuri Ubutumwa ku Ikivugwaho  \n",
              "1      Kuri Ongera utangire kugirango i Amahinduka Ku...  \n",
              "2                           Akabuto bya Itsinda iyi Kuri  \n",
              "3              Byose Ububiko bwungirije in a bushyinguro  \n",
              "4      i Ibigize Bya i Ububikokoporora Nka A Gishya I...  \n",
              "...                                                  ...  \n",
              "20585  . Kuri Gushigikira na na Gushigikira ya: Biren...  \n",
              "20586  OYA Kugena Imiterere (Cyangwa OYA Ku Byose?) i...  \n",
              "20587            ... Ibindi: Kuri na Bayite Bya Bidakora  \n",
              "20588  & kiten; Shakisha ya:. Gushoboza iyi, Ubwoko i...  \n",
              "20589  Gushaka A Cyuzuye Incamake ku Byose Amabwiriza...  \n",
              "\n",
              "[20590 rows x 3 columns]"
            ],
            "text/html": [
              "\n",
              "  <div id=\"df-8d75b1cd-d39d-4641-85dc-26a5fe34bacf\">\n",
              "    <div class=\"colab-df-container\">\n",
              "      <div>\n",
              "<style scoped>\n",
              "    .dataframe tbody tr th:only-of-type {\n",
              "        vertical-align: middle;\n",
              "    }\n",
              "\n",
              "    .dataframe tbody tr th {\n",
              "        vertical-align: top;\n",
              "    }\n",
              "\n",
              "    .dataframe thead th {\n",
              "        text-align: right;\n",
              "    }\n",
              "</style>\n",
              "<table border=\"1\" class=\"dataframe\">\n",
              "  <thead>\n",
              "    <tr style=\"text-align: right;\">\n",
              "      <th></th>\n",
              "      <th>ID</th>\n",
              "      <th>English</th>\n",
              "      <th>Kinyarwanda</th>\n",
              "    </tr>\n",
              "  </thead>\n",
              "  <tbody>\n",
              "    <tr>\n",
              "      <th>0</th>\n",
              "      <td>ID_IFVTMXW8</td>\n",
              "      <td>F_all back to threading messages by subject</td>\n",
              "      <td>Inyuma Kuri Ubutumwa ku Ikivugwaho</td>\n",
              "    </tr>\n",
              "    <tr>\n",
              "      <th>1</th>\n",
              "      <td>ID_SBXUPXE3</td>\n",
              "      <td>You will have to restart GIMP for the followin...</td>\n",
              "      <td>Kuri Ongera utangire kugirango i Amahinduka Ku...</td>\n",
              "    </tr>\n",
              "    <tr>\n",
              "      <th>2</th>\n",
              "      <td>ID_ZOCZ3PXQ</td>\n",
              "      <td>The radio button whose group this widget belon...</td>\n",
              "      <td>Akabuto bya Itsinda iyi Kuri</td>\n",
              "    </tr>\n",
              "    <tr>\n",
              "      <th>3</th>\n",
              "      <td>ID_6AVBJ1YS</td>\n",
              "      <td>Print all subdirectories in a directory.</td>\n",
              "      <td>Byose Ububiko bwungirije in a bushyinguro</td>\n",
              "    </tr>\n",
              "    <tr>\n",
              "      <th>4</th>\n",
              "      <td>ID_FW4V44WK</td>\n",
              "      <td>Paste the contents of the clipboard as a new i...</td>\n",
              "      <td>i Ibigize Bya i Ububikokoporora Nka A Gishya I...</td>\n",
              "    </tr>\n",
              "    <tr>\n",
              "      <th>...</th>\n",
              "      <td>...</td>\n",
              "      <td>...</td>\n",
              "      <td>...</td>\n",
              "    </tr>\n",
              "    <tr>\n",
              "      <th>20585</th>\n",
              "      <td>ID_T3D2IRD5</td>\n",
              "      <td>Yes. We plan to support major CCD cameras and ...</td>\n",
              "      <td>. Kuri Gushigikira na na Gushigikira ya: Biren...</td>\n",
              "    </tr>\n",
              "    <tr>\n",
              "      <th>20586</th>\n",
              "      <td>ID_JWVP5ZDJ</td>\n",
              "      <td>Most likely you did not configure correctly (o...</td>\n",
              "      <td>OYA Kugena Imiterere (Cyangwa OYA Ku Byose?) i...</td>\n",
              "    </tr>\n",
              "    <tr>\n",
              "      <th>20587</th>\n",
              "      <td>ID_LI4BAED3</td>\n",
              "      <td>... too numerous others to mention who also le...</td>\n",
              "      <td>... Ibindi: Kuri na Bayite Bya Bidakora</td>\n",
              "    </tr>\n",
              "    <tr>\n",
              "      <th>20588</th>\n",
              "      <td>ID_JMR2T84U</td>\n",
              "      <td>&amp; kiten; can deinflect verbs you search for. T...</td>\n",
              "      <td>&amp; kiten; Shakisha ya:. Gushoboza iyi, Ubwoko i...</td>\n",
              "    </tr>\n",
              "    <tr>\n",
              "      <th>20589</th>\n",
              "      <td>ID_3BG7KZ98</td>\n",
              "      <td>Next you will find a full overview on all comm...</td>\n",
              "      <td>Gushaka A Cyuzuye Incamake ku Byose Amabwiriza...</td>\n",
              "    </tr>\n",
              "  </tbody>\n",
              "</table>\n",
              "<p>20590 rows × 3 columns</p>\n",
              "</div>\n",
              "      <button class=\"colab-df-convert\" onclick=\"convertToInteractive('df-8d75b1cd-d39d-4641-85dc-26a5fe34bacf')\"\n",
              "              title=\"Convert this dataframe to an interactive table.\"\n",
              "              style=\"display:none;\">\n",
              "        \n",
              "  <svg xmlns=\"http://www.w3.org/2000/svg\" height=\"24px\"viewBox=\"0 0 24 24\"\n",
              "       width=\"24px\">\n",
              "    <path d=\"M0 0h24v24H0V0z\" fill=\"none\"/>\n",
              "    <path d=\"M18.56 5.44l.94 2.06.94-2.06 2.06-.94-2.06-.94-.94-2.06-.94 2.06-2.06.94zm-11 1L8.5 8.5l.94-2.06 2.06-.94-2.06-.94L8.5 2.5l-.94 2.06-2.06.94zm10 10l.94 2.06.94-2.06 2.06-.94-2.06-.94-.94-2.06-.94 2.06-2.06.94z\"/><path d=\"M17.41 7.96l-1.37-1.37c-.4-.4-.92-.59-1.43-.59-.52 0-1.04.2-1.43.59L10.3 9.45l-7.72 7.72c-.78.78-.78 2.05 0 2.83L4 21.41c.39.39.9.59 1.41.59.51 0 1.02-.2 1.41-.59l7.78-7.78 2.81-2.81c.8-.78.8-2.07 0-2.86zM5.41 20L4 18.59l7.72-7.72 1.47 1.35L5.41 20z\"/>\n",
              "  </svg>\n",
              "      </button>\n",
              "      \n",
              "  <style>\n",
              "    .colab-df-container {\n",
              "      display:flex;\n",
              "      flex-wrap:wrap;\n",
              "      gap: 12px;\n",
              "    }\n",
              "\n",
              "    .colab-df-convert {\n",
              "      background-color: #E8F0FE;\n",
              "      border: none;\n",
              "      border-radius: 50%;\n",
              "      cursor: pointer;\n",
              "      display: none;\n",
              "      fill: #1967D2;\n",
              "      height: 32px;\n",
              "      padding: 0 0 0 0;\n",
              "      width: 32px;\n",
              "    }\n",
              "\n",
              "    .colab-df-convert:hover {\n",
              "      background-color: #E2EBFA;\n",
              "      box-shadow: 0px 1px 2px rgba(60, 64, 67, 0.3), 0px 1px 3px 1px rgba(60, 64, 67, 0.15);\n",
              "      fill: #174EA6;\n",
              "    }\n",
              "\n",
              "    [theme=dark] .colab-df-convert {\n",
              "      background-color: #3B4455;\n",
              "      fill: #D2E3FC;\n",
              "    }\n",
              "\n",
              "    [theme=dark] .colab-df-convert:hover {\n",
              "      background-color: #434B5C;\n",
              "      box-shadow: 0px 1px 3px 1px rgba(0, 0, 0, 0.15);\n",
              "      filter: drop-shadow(0px 1px 2px rgba(0, 0, 0, 0.3));\n",
              "      fill: #FFFFFF;\n",
              "    }\n",
              "  </style>\n",
              "\n",
              "      <script>\n",
              "        const buttonEl =\n",
              "          document.querySelector('#df-8d75b1cd-d39d-4641-85dc-26a5fe34bacf button.colab-df-convert');\n",
              "        buttonEl.style.display =\n",
              "          google.colab.kernel.accessAllowed ? 'block' : 'none';\n",
              "\n",
              "        async function convertToInteractive(key) {\n",
              "          const element = document.querySelector('#df-8d75b1cd-d39d-4641-85dc-26a5fe34bacf');\n",
              "          const dataTable =\n",
              "            await google.colab.kernel.invokeFunction('convertToInteractive',\n",
              "                                                     [key], {});\n",
              "          if (!dataTable) return;\n",
              "\n",
              "          const docLinkHtml = 'Like what you see? Visit the ' +\n",
              "            '<a target=\"_blank\" href=https://colab.research.google.com/notebooks/data_table.ipynb>data table notebook</a>'\n",
              "            + ' to learn more about interactive tables.';\n",
              "          element.innerHTML = '';\n",
              "          dataTable['output_type'] = 'display_data';\n",
              "          await google.colab.output.renderOutput(dataTable, element);\n",
              "          const docLink = document.createElement('div');\n",
              "          docLink.innerHTML = docLinkHtml;\n",
              "          element.appendChild(docLink);\n",
              "        }\n",
              "      </script>\n",
              "    </div>\n",
              "  </div>\n",
              "  "
            ]
          },
          "metadata": {},
          "execution_count": 4
        }
      ]
    },
    {
      "cell_type": "code",
      "source": [
        "df['English']"
      ],
      "metadata": {
        "colab": {
          "base_uri": "https://localhost:8080/"
        },
        "id": "-6BxkPuza25A",
        "outputId": "425cb9b3-dea7-448b-bc40-2fa2b500930a"
      },
      "execution_count": 5,
      "outputs": [
        {
          "output_type": "execute_result",
          "data": {
            "text/plain": [
              "0              F_all back to threading messages by subject\n",
              "1        You will have to restart GIMP for the followin...\n",
              "2        The radio button whose group this widget belon...\n",
              "3                 Print all subdirectories in a directory.\n",
              "4        Paste the contents of the clipboard as a new i...\n",
              "                               ...                        \n",
              "20585    Yes. We plan to support major CCD cameras and ...\n",
              "20586    Most likely you did not configure correctly (o...\n",
              "20587    ... too numerous others to mention who also le...\n",
              "20588    & kiten; can deinflect verbs you search for. T...\n",
              "20589    Next you will find a full overview on all comm...\n",
              "Name: English, Length: 20590, dtype: object"
            ]
          },
          "metadata": {},
          "execution_count": 5
        }
      ]
    }
  ]
}