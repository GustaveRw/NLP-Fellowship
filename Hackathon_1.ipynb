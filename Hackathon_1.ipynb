{
  "nbformat": 4,
  "nbformat_minor": 0,
  "metadata": {
    "colab": {
      "provenance": [],
      "authorship_tag": "ABX9TyMJxQ0ccmv3K3vwDM5VxVD5",
      "include_colab_link": true
    },
    "kernelspec": {
      "name": "python3",
      "display_name": "Python 3"
    },
    "language_info": {
      "name": "python"
    }
  },
  "cells": [
    {
      "cell_type": "markdown",
      "metadata": {
        "id": "view-in-github",
        "colab_type": "text"
      },
      "source": [
        "<a href=\"https://colab.research.google.com/github/GustaveRw/NLP-Fellowship/blob/master/Hackathon_1.ipynb\" target=\"_parent\"><img src=\"https://colab.research.google.com/assets/colab-badge.svg\" alt=\"Open In Colab\"/></a>"
      ]
    },
    {
      "cell_type": "markdown",
      "source": [
        "WebScrapping ( Job In Rwanda )"
      ],
      "metadata": {
        "id": "h6Rwx1_Sdr_L"
      }
    },
    {
      "cell_type": "code",
      "execution_count": 2,
      "metadata": {
        "id": "pIWVJ2QA_ZCo"
      },
      "outputs": [],
      "source": [
        "import requests\n",
        "from bs4 import BeautifulSoup\n",
        "import pandas as pd"
      ]
    },
    {
      "cell_type": "code",
      "source": [
        "content_jobs = requests.get('https://www.jobinrwanda.com/jobs/all').content\n",
        "content_cons = requests.get('https://www.jobinrwanda.com/jobs/consultancy').content\n",
        "content_tend = requests.get('https://www.jobinrwanda.com/jobs/tenders').content"
      ],
      "metadata": {
        "id": "twKetENHge8P"
      },
      "execution_count": 3,
      "outputs": []
    },
    {
      "cell_type": "code",
      "source": [
        "content_jobs"
      ],
      "metadata": {
        "id": "XEohs_TSg09-"
      },
      "execution_count": null,
      "outputs": []
    },
    {
      "cell_type": "code",
      "source": [
        "page = BeautifulSoup(content_jobs, 'html.parser')"
      ],
      "metadata": {
        "id": "ajtrYxRUPO6u"
      },
      "execution_count": 6,
      "outputs": []
    },
    {
      "cell_type": "code",
      "source": [
        "adverts = page.find_all('div', class_='card-body p-2')"
      ],
      "metadata": {
        "id": "9dAu9B71PTTw"
      },
      "execution_count": 7,
      "outputs": []
    },
    {
      "cell_type": "code",
      "source": [
        "adverts[1]"
      ],
      "metadata": {
        "id": "Lu7mSky2PYfW"
      },
      "execution_count": null,
      "outputs": []
    },
    {
      "cell_type": "code",
      "source": [
        "adverts[1].find('span').getText() #Title of Each Job advert\n",
        "adverts[1].find('a')['href']  #Link to the content of each job title\n",
        "adverts[1].find('p').find('a') #Link to the Institution that has posted the advert\n",
        "adverts[1].find('p').find('a').getText() #This is the name of the company"
      ],
      "metadata": {
        "id": "2XllA8G4Pg3d",
        "outputId": "b4261779-3de9-4fe2-ddd3-949d6d09784f",
        "colab": {
          "base_uri": "https://localhost:8080/",
          "height": 35
        }
      },
      "execution_count": 16,
      "outputs": [
        {
          "output_type": "execute_result",
          "data": {
            "text/plain": [
              "'GardaWorld '"
            ],
            "application/vnd.google.colaboratory.intrinsic+json": {
              "type": "string"
            }
          },
          "metadata": {},
          "execution_count": 16
        }
      ]
    }
  ]
}