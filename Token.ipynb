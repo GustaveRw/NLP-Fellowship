{
  "cells": [
    {
      "cell_type": "markdown",
      "metadata": {
        "id": "view-in-github",
        "colab_type": "text"
      },
      "source": [
        "<a href=\"https://colab.research.google.com/github/GustaveRw/NLP-Fellowship/blob/master/Token.ipynb\" target=\"_parent\"><img src=\"https://colab.research.google.com/assets/colab-badge.svg\" alt=\"Open In Colab\"/></a>"
      ]
    },
    {
      "cell_type": "code",
      "execution_count": null,
      "id": "f6266c68",
      "metadata": {
        "id": "f6266c68",
        "outputId": "d8bbd42c-f881-41f7-ede1-e314cb9cd74c"
      },
      "outputs": [
        {
          "name": "stdout",
          "output_type": "stream",
          "text": [
            "Requirement already satisfied: nltk in c:\\programdata\\anaconda3\\envs\\nlp\\lib\\site-packages (3.7)\n",
            "Requirement already satisfied: joblib in c:\\programdata\\anaconda3\\envs\\nlp\\lib\\site-packages (from nltk) (1.2.0)\n",
            "Requirement already satisfied: regex>=2021.8.3 in c:\\programdata\\anaconda3\\envs\\nlp\\lib\\site-packages (from nltk) (2022.10.31)\n",
            "Requirement already satisfied: tqdm in c:\\programdata\\anaconda3\\envs\\nlp\\lib\\site-packages (from nltk) (4.64.1)\n",
            "Requirement already satisfied: click in c:\\programdata\\anaconda3\\envs\\nlp\\lib\\site-packages (from nltk) (8.1.3)\n",
            "Requirement already satisfied: colorama in c:\\programdata\\anaconda3\\envs\\nlp\\lib\\site-packages (from click->nltk) (0.4.6)\n",
            "Requirement already satisfied: spacy in c:\\programdata\\anaconda3\\envs\\nlp\\lib\\site-packages (3.4.2)\n",
            "Requirement already satisfied: catalogue<2.1.0,>=2.0.6 in c:\\programdata\\anaconda3\\envs\\nlp\\lib\\site-packages (from spacy) (2.0.8)\n",
            "Requirement already satisfied: cymem<2.1.0,>=2.0.2 in c:\\programdata\\anaconda3\\envs\\nlp\\lib\\site-packages (from spacy) (2.0.7)\n",
            "Requirement already satisfied: typer<0.5.0,>=0.3.0 in c:\\programdata\\anaconda3\\envs\\nlp\\lib\\site-packages (from spacy) (0.4.2)\n",
            "Requirement already satisfied: tqdm<5.0.0,>=4.38.0 in c:\\programdata\\anaconda3\\envs\\nlp\\lib\\site-packages (from spacy) (4.64.1)\n",
            "Requirement already satisfied: setuptools in c:\\programdata\\anaconda3\\envs\\nlp\\lib\\site-packages (from spacy) (63.4.1)\n",
            "Requirement already satisfied: langcodes<4.0.0,>=3.2.0 in c:\\programdata\\anaconda3\\envs\\nlp\\lib\\site-packages (from spacy) (3.3.0)\n",
            "Requirement already satisfied: wasabi<1.1.0,>=0.9.1 in c:\\programdata\\anaconda3\\envs\\nlp\\lib\\site-packages (from spacy) (0.10.1)\n",
            "Requirement already satisfied: numpy>=1.15.0 in c:\\programdata\\anaconda3\\envs\\nlp\\lib\\site-packages (from spacy) (1.23.4)\n",
            "Requirement already satisfied: srsly<3.0.0,>=2.4.3 in c:\\programdata\\anaconda3\\envs\\nlp\\lib\\site-packages (from spacy) (2.4.5)\n",
            "Requirement already satisfied: thinc<8.2.0,>=8.1.0 in c:\\programdata\\anaconda3\\envs\\nlp\\lib\\site-packages (from spacy) (8.1.5)\n",
            "Requirement already satisfied: packaging>=20.0 in c:\\programdata\\anaconda3\\envs\\nlp\\lib\\site-packages (from spacy) (21.3)\n",
            "Requirement already satisfied: jinja2 in c:\\programdata\\anaconda3\\envs\\nlp\\lib\\site-packages (from spacy) (3.1.2)\n",
            "Requirement already satisfied: preshed<3.1.0,>=3.0.2 in c:\\programdata\\anaconda3\\envs\\nlp\\lib\\site-packages (from spacy) (3.0.8)\n",
            "Requirement already satisfied: requests<3.0.0,>=2.13.0 in c:\\programdata\\anaconda3\\envs\\nlp\\lib\\site-packages (from spacy) (2.28.1)\n",
            "Requirement already satisfied: murmurhash<1.1.0,>=0.28.0 in c:\\programdata\\anaconda3\\envs\\nlp\\lib\\site-packages (from spacy) (1.0.9)\n",
            "Requirement already satisfied: spacy-legacy<3.1.0,>=3.0.10 in c:\\programdata\\anaconda3\\envs\\nlp\\lib\\site-packages (from spacy) (3.0.10)\n",
            "Requirement already satisfied: pydantic!=1.8,!=1.8.1,<1.11.0,>=1.7.4 in c:\\programdata\\anaconda3\\envs\\nlp\\lib\\site-packages (from spacy) (1.10.2)\n",
            "Requirement already satisfied: spacy-loggers<2.0.0,>=1.0.0 in c:\\programdata\\anaconda3\\envs\\nlp\\lib\\site-packages (from spacy) (1.0.3)\n",
            "Requirement already satisfied: pathy>=0.3.5 in c:\\programdata\\anaconda3\\envs\\nlp\\lib\\site-packages (from spacy) (0.6.2)\n",
            "Requirement already satisfied: pyparsing!=3.0.5,>=2.0.2 in c:\\programdata\\anaconda3\\envs\\nlp\\lib\\site-packages (from packaging>=20.0->spacy) (3.0.9)\n",
            "Requirement already satisfied: smart-open<6.0.0,>=5.2.1 in c:\\programdata\\anaconda3\\envs\\nlp\\lib\\site-packages (from pathy>=0.3.5->spacy) (5.2.1)\n",
            "Requirement already satisfied: typing-extensions>=4.1.0 in c:\\programdata\\anaconda3\\envs\\nlp\\lib\\site-packages (from pydantic!=1.8,!=1.8.1,<1.11.0,>=1.7.4->spacy) (4.4.0)\n",
            "Requirement already satisfied: certifi>=2017.4.17 in c:\\programdata\\anaconda3\\envs\\nlp\\lib\\site-packages (from requests<3.0.0,>=2.13.0->spacy) (2022.9.24)\n",
            "Requirement already satisfied: urllib3<1.27,>=1.21.1 in c:\\programdata\\anaconda3\\envs\\nlp\\lib\\site-packages (from requests<3.0.0,>=2.13.0->spacy) (1.26.12)\n",
            "Requirement already satisfied: idna<4,>=2.5 in c:\\programdata\\anaconda3\\envs\\nlp\\lib\\site-packages (from requests<3.0.0,>=2.13.0->spacy) (3.4)\n",
            "Requirement already satisfied: charset-normalizer<3,>=2 in c:\\programdata\\anaconda3\\envs\\nlp\\lib\\site-packages (from requests<3.0.0,>=2.13.0->spacy) (2.1.1)\n",
            "Requirement already satisfied: blis<0.8.0,>=0.7.8 in c:\\programdata\\anaconda3\\envs\\nlp\\lib\\site-packages (from thinc<8.2.0,>=8.1.0->spacy) (0.7.9)\n",
            "Requirement already satisfied: confection<1.0.0,>=0.0.1 in c:\\programdata\\anaconda3\\envs\\nlp\\lib\\site-packages (from thinc<8.2.0,>=8.1.0->spacy) (0.0.3)\n",
            "Requirement already satisfied: colorama in c:\\programdata\\anaconda3\\envs\\nlp\\lib\\site-packages (from tqdm<5.0.0,>=4.38.0->spacy) (0.4.6)\n",
            "Requirement already satisfied: click<9.0.0,>=7.1.1 in c:\\programdata\\anaconda3\\envs\\nlp\\lib\\site-packages (from typer<0.5.0,>=0.3.0->spacy) (8.1.3)\n",
            "Requirement already satisfied: MarkupSafe>=2.0 in c:\\programdata\\anaconda3\\envs\\nlp\\lib\\site-packages (from jinja2->spacy) (2.1.1)\n"
          ]
        }
      ],
      "source": [
        "!pip install nltk\n",
        "!pip install spacy"
      ]
    },
    {
      "cell_type": "code",
      "execution_count": null,
      "id": "2f4f337d",
      "metadata": {
        "id": "2f4f337d"
      },
      "outputs": [],
      "source": [
        "import nltk\n",
        "#import spacy"
      ]
    },
    {
      "cell_type": "markdown",
      "id": "5f491f9a",
      "metadata": {
        "id": "5f491f9a"
      },
      "source": [
        "# Tokenisation of sentences from corpus"
      ]
    },
    {
      "cell_type": "code",
      "execution_count": null,
      "id": "7139af17",
      "metadata": {
        "id": "7139af17"
      },
      "outputs": [],
      "source": [
        "doc = \"\"\"\n",
        "Dr.Rubingisa said that the City of Kigali celebrates this day, as they encourage everyone to participate in maintaining what has been achieved in terms of cleanliness and climate conservation.\n",
        "\n",
        "He said that plans to expand the car-free zone are ongoing and that it will be finalised by December! these will still include entertainment, be climate friendly and for economic reasons.\n",
        "\n",
        "“We celebrate this day as it is more of promoting both local and international community interest in global urbanisation and cooperation among countries, as well as organisations that have shown interest in transforming cities into reliable and inclusive cities.”\n",
        "\n",
        "\"\"\""
      ]
    },
    {
      "cell_type": "code",
      "execution_count": null,
      "id": "39f6524d",
      "metadata": {
        "id": "39f6524d"
      },
      "outputs": [],
      "source": []
    },
    {
      "cell_type": "code",
      "execution_count": null,
      "id": "8df76022",
      "metadata": {
        "id": "8df76022"
      },
      "outputs": [],
      "source": [
        "doc_2 = \"The NLP fellowship is about conversational chatbot and machine translation. It is happening at Huza Labs Remera.\""
      ]
    },
    {
      "cell_type": "code",
      "execution_count": null,
      "id": "cbf0b811",
      "metadata": {
        "id": "cbf0b811"
      },
      "outputs": [],
      "source": [
        "#Sentence Tokenisation\n",
        "nltk_tokens = nltk.sent_tokenize(doc)"
      ]
    },
    {
      "cell_type": "code",
      "execution_count": null,
      "id": "94d8aafd",
      "metadata": {
        "id": "94d8aafd",
        "outputId": "3b9b0384-5eed-418a-eac6-666c0b77ce22"
      },
      "outputs": [
        {
          "name": "stdout",
          "output_type": "stream",
          "text": [
            "['\\nDr.Rubingisa said that the City of Kigali celebrates this day, as they encourage everyone to participate in maintaining what has been achieved in terms of cleanliness and climate conservation.', 'He said that plans to expand the car-free zone are ongoing and that it will be finalised by December!', 'these will still include entertainment, be climate friendly and for economic reasons.', '“We celebrate this day as it is more of promoting both local and international community interest in global urbanisation and cooperation among countries, as well as organisations that have shown interest in transforming cities into reliable and inclusive cities.”']\n"
          ]
        }
      ],
      "source": [
        "print(nltk_tokens)"
      ]
    },
    {
      "cell_type": "code",
      "execution_count": null,
      "id": "3b27205c",
      "metadata": {
        "id": "3b27205c",
        "outputId": "3c7fc3ff-894a-4892-f29a-822c5f268b4a"
      },
      "outputs": [
        {
          "data": {
            "text/plain": [
              "'\\nDr.Rubingisa said that the City of Kigali celebrates this day, as they encourage everyone to participate in maintaining what has been achieved in terms of cleanliness and climate conservation.'"
            ]
          },
          "execution_count": 20,
          "metadata": {},
          "output_type": "execute_result"
        }
      ],
      "source": [
        "nltk_tokens[0]"
      ]
    },
    {
      "cell_type": "code",
      "execution_count": null,
      "id": "c98b0140",
      "metadata": {
        "id": "c98b0140"
      },
      "outputs": [],
      "source": [
        "word_token = nltk.word_tokenize(doc)"
      ]
    },
    {
      "cell_type": "code",
      "execution_count": null,
      "id": "b24a5795",
      "metadata": {
        "scrolled": true,
        "id": "b24a5795",
        "outputId": "df07ccea-8085-4cbd-e779-d18bcc7e207a"
      },
      "outputs": [
        {
          "name": "stdout",
          "output_type": "stream",
          "text": [
            "['Dr.Rubingisa', 'said', 'that', 'the', 'City', 'of', 'Kigali', 'celebrates', 'this', 'day', ',', 'as', 'they', 'encourage', 'everyone', 'to', 'participate', 'in', 'maintaining', 'what', 'has', 'been', 'achieved', 'in', 'terms', 'of', 'cleanliness', 'and', 'climate', 'conservation', '.', 'He', 'said', 'that', 'plans', 'to', 'expand', 'the', 'car-free', 'zone', 'are', 'ongoing', 'and', 'that', 'it', 'will', 'be', 'finalised', 'by', 'December', '!', 'these', 'will', 'still', 'include', 'entertainment', ',', 'be', 'climate', 'friendly', 'and', 'for', 'economic', 'reasons', '.', '“', 'We', 'celebrate', 'this', 'day', 'as', 'it', 'is', 'more', 'of', 'promoting', 'both', 'local', 'and', 'international', 'community', 'interest', 'in', 'global', 'urbanisation', 'and', 'cooperation', 'among', 'countries', ',', 'as', 'well', 'as', 'organisations', 'that', 'have', 'shown', 'interest', 'in', 'transforming', 'cities', 'into', 'reliable', 'and', 'inclusive', 'cities', '.', '”']\n"
          ]
        }
      ],
      "source": [
        "print(word_token)"
      ]
    },
    {
      "cell_type": "code",
      "execution_count": null,
      "id": "ee400532",
      "metadata": {
        "id": "ee400532",
        "outputId": "be7666c8-5066-4264-a551-35211e7a2482"
      },
      "outputs": [
        {
          "data": {
            "text/plain": [
              "108"
            ]
          },
          "execution_count": 9,
          "metadata": {},
          "output_type": "execute_result"
        }
      ],
      "source": [
        "#Count all words\n",
        "len(word_token)"
      ]
    },
    {
      "cell_type": "code",
      "execution_count": null,
      "id": "86a86672",
      "metadata": {
        "id": "86a86672",
        "outputId": "d9bb25ec-c894-446f-d25d-8ad0c8d6f517"
      },
      "outputs": [
        {
          "name": "stdout",
          "output_type": "stream",
          "text": [
            "['climate', 'global', 'achieved', 'are', 'the', 'finalised', 'community', 'that', 'inclusive', 'urbanisation', 'celebrates', 'been', 'transforming', 'what', 'will', 'local', 'promoting', 'these', 'expand', 'plans', 'everyone', 'among', 'well', 'car-free', 'ongoing', 'maintaining', 'reliable', 'as', 'entertainment', 'more', 'friendly', 'in', 'countries', 'said', 'Kigali', 'both', '!', 'to', 'We', '.', 'cleanliness', 'have', 'City', 'economic', 'and', 'reasons', 'terms', 'they', 'interest', 'international', 'of', 'has', 'day', 'encourage', 'He', 'shown', '“', 'participate', 'by', 'be', 'is', 'cooperation', '”', 'it', 'include', 'Dr.Rubingisa', 'for', 'December', 'into', 'still', 'conservation', 'this', 'organisations', 'celebrate', 'zone', 'cities', ',']\n"
          ]
        }
      ],
      "source": [
        "#Count all the unique words\n",
        "unique_words = list(set(word_token))\n",
        "print(unique_words)"
      ]
    },
    {
      "cell_type": "code",
      "execution_count": null,
      "id": "1024b8de",
      "metadata": {
        "id": "1024b8de"
      },
      "outputs": [],
      "source": [
        "b_word = {}\n",
        "for word in word_token:\n",
        "    b_word[word] = 0  #dict[key/word] = 0 - frequency"
      ]
    },
    {
      "cell_type": "code",
      "execution_count": null,
      "id": "7d353b6f",
      "metadata": {
        "id": "7d353b6f",
        "outputId": "89e8699e-bc07-4b52-c53f-b309ef7a7128"
      },
      "outputs": [
        {
          "data": {
            "text/plain": [
              "{'Dr.Rubingisa': 0,\n",
              " 'said': 0,\n",
              " 'that': 0,\n",
              " 'the': 0,\n",
              " 'City': 0,\n",
              " 'of': 0,\n",
              " 'Kigali': 0,\n",
              " 'celebrates': 0,\n",
              " 'this': 0,\n",
              " 'day': 0,\n",
              " ',': 0,\n",
              " 'as': 0,\n",
              " 'they': 0,\n",
              " 'encourage': 0,\n",
              " 'everyone': 0,\n",
              " 'to': 0,\n",
              " 'participate': 0,\n",
              " 'in': 0,\n",
              " 'maintaining': 0,\n",
              " 'what': 0,\n",
              " 'has': 0,\n",
              " 'been': 0,\n",
              " 'achieved': 0,\n",
              " 'terms': 0,\n",
              " 'cleanliness': 0,\n",
              " 'and': 0,\n",
              " 'climate': 0,\n",
              " 'conservation': 0,\n",
              " '.': 0,\n",
              " 'He': 0,\n",
              " 'plans': 0,\n",
              " 'expand': 0,\n",
              " 'car-free': 0,\n",
              " 'zone': 0,\n",
              " 'are': 0,\n",
              " 'ongoing': 0,\n",
              " 'it': 0,\n",
              " 'will': 0,\n",
              " 'be': 0,\n",
              " 'finalised': 0,\n",
              " 'by': 0,\n",
              " 'December': 0,\n",
              " '!': 0,\n",
              " 'these': 0,\n",
              " 'still': 0,\n",
              " 'include': 0,\n",
              " 'entertainment': 0,\n",
              " 'friendly': 0,\n",
              " 'for': 0,\n",
              " 'economic': 0,\n",
              " 'reasons': 0,\n",
              " '“': 0,\n",
              " 'We': 0,\n",
              " 'celebrate': 0,\n",
              " 'is': 0,\n",
              " 'more': 0,\n",
              " 'promoting': 0,\n",
              " 'both': 0,\n",
              " 'local': 0,\n",
              " 'international': 0,\n",
              " 'community': 0,\n",
              " 'interest': 0,\n",
              " 'global': 0,\n",
              " 'urbanisation': 0,\n",
              " 'cooperation': 0,\n",
              " 'among': 0,\n",
              " 'countries': 0,\n",
              " 'well': 0,\n",
              " 'organisations': 0,\n",
              " 'have': 0,\n",
              " 'shown': 0,\n",
              " 'transforming': 0,\n",
              " 'cities': 0,\n",
              " 'into': 0,\n",
              " 'reliable': 0,\n",
              " 'inclusive': 0,\n",
              " '”': 0}"
            ]
          },
          "execution_count": 12,
          "metadata": {},
          "output_type": "execute_result"
        }
      ],
      "source": [
        "b_word"
      ]
    },
    {
      "cell_type": "code",
      "execution_count": null,
      "id": "901a24b0",
      "metadata": {
        "id": "901a24b0"
      },
      "outputs": [],
      "source": [
        "for word in word_token:\n",
        "    if word in unique_words:\n",
        "        b_word[word] += 1"
      ]
    },
    {
      "cell_type": "code",
      "execution_count": null,
      "id": "4cb1eb39",
      "metadata": {
        "id": "4cb1eb39",
        "outputId": "9ace6993-ad5a-41ea-f0df-7f909d30349b"
      },
      "outputs": [
        {
          "data": {
            "text/plain": [
              "{'Dr.Rubingisa': 1,\n",
              " 'said': 2,\n",
              " 'that': 4,\n",
              " 'the': 2,\n",
              " 'City': 1,\n",
              " 'of': 3,\n",
              " 'Kigali': 1,\n",
              " 'celebrates': 1,\n",
              " 'this': 2,\n",
              " 'day': 2,\n",
              " ',': 3,\n",
              " 'as': 4,\n",
              " 'they': 1,\n",
              " 'encourage': 1,\n",
              " 'everyone': 1,\n",
              " 'to': 2,\n",
              " 'participate': 1,\n",
              " 'in': 4,\n",
              " 'maintaining': 1,\n",
              " 'what': 1,\n",
              " 'has': 1,\n",
              " 'been': 1,\n",
              " 'achieved': 1,\n",
              " 'terms': 1,\n",
              " 'cleanliness': 1,\n",
              " 'and': 6,\n",
              " 'climate': 2,\n",
              " 'conservation': 1,\n",
              " '.': 3,\n",
              " 'He': 1,\n",
              " 'plans': 1,\n",
              " 'expand': 1,\n",
              " 'car-free': 1,\n",
              " 'zone': 1,\n",
              " 'are': 1,\n",
              " 'ongoing': 1,\n",
              " 'it': 2,\n",
              " 'will': 2,\n",
              " 'be': 2,\n",
              " 'finalised': 1,\n",
              " 'by': 1,\n",
              " 'December': 1,\n",
              " '!': 1,\n",
              " 'these': 1,\n",
              " 'still': 1,\n",
              " 'include': 1,\n",
              " 'entertainment': 1,\n",
              " 'friendly': 1,\n",
              " 'for': 1,\n",
              " 'economic': 1,\n",
              " 'reasons': 1,\n",
              " '“': 1,\n",
              " 'We': 1,\n",
              " 'celebrate': 1,\n",
              " 'is': 1,\n",
              " 'more': 1,\n",
              " 'promoting': 1,\n",
              " 'both': 1,\n",
              " 'local': 1,\n",
              " 'international': 1,\n",
              " 'community': 1,\n",
              " 'interest': 2,\n",
              " 'global': 1,\n",
              " 'urbanisation': 1,\n",
              " 'cooperation': 1,\n",
              " 'among': 1,\n",
              " 'countries': 1,\n",
              " 'well': 1,\n",
              " 'organisations': 1,\n",
              " 'have': 1,\n",
              " 'shown': 1,\n",
              " 'transforming': 1,\n",
              " 'cities': 2,\n",
              " 'into': 1,\n",
              " 'reliable': 1,\n",
              " 'inclusive': 1,\n",
              " '”': 1}"
            ]
          },
          "execution_count": 14,
          "metadata": {},
          "output_type": "execute_result"
        }
      ],
      "source": [
        "b_word"
      ]
    },
    {
      "cell_type": "code",
      "execution_count": null,
      "id": "0d55fd0b",
      "metadata": {
        "scrolled": false,
        "id": "0d55fd0b",
        "outputId": "c43c6d39-4b96-4f40-f7ea-a89dad7ae9a9"
      },
      "outputs": [
        {
          "ename": "NameError",
          "evalue": "name 'unique_tok' is not defined",
          "output_type": "error",
          "traceback": [
            "\u001b[1;31m---------------------------------------------------------------------------\u001b[0m",
            "\u001b[1;31mNameError\u001b[0m                                 Traceback (most recent call last)",
            "\u001b[1;32m~\\AppData\\Local\\Temp/ipykernel_9700/2783437139.py\u001b[0m in \u001b[0;36m<module>\u001b[1;34m\u001b[0m\n\u001b[0;32m      1\u001b[0m \u001b[1;31m#all the unique words\u001b[0m\u001b[1;33m\u001b[0m\u001b[1;33m\u001b[0m\u001b[0m\n\u001b[1;32m----> 2\u001b[1;33m \u001b[0munique_tok\u001b[0m\u001b[1;33m\u001b[0m\u001b[1;33m\u001b[0m\u001b[0m\n\u001b[0m",
            "\u001b[1;31mNameError\u001b[0m: name 'unique_tok' is not defined"
          ]
        }
      ],
      "source": [
        "#all the unique words\n",
        "unique_tok"
      ]
    },
    {
      "cell_type": "code",
      "execution_count": null,
      "id": "edb1da53",
      "metadata": {
        "id": "edb1da53"
      },
      "outputs": [],
      "source": [
        "#Organisation includes Cities\n",
        "      1         10       7"
      ]
    },
    {
      "cell_type": "code",
      "execution_count": null,
      "id": "155f51b6",
      "metadata": {
        "id": "155f51b6"
      },
      "outputs": [],
      "source": [
        "unique_words.index('cities')"
      ]
    },
    {
      "cell_type": "code",
      "execution_count": null,
      "id": "6826b428",
      "metadata": {
        "id": "6826b428"
      },
      "outputs": [],
      "source": [
        "unique_words"
      ]
    },
    {
      "cell_type": "code",
      "execution_count": null,
      "id": "87da89d7",
      "metadata": {
        "id": "87da89d7"
      },
      "outputs": [],
      "source": [
        "features = {}"
      ]
    },
    {
      "cell_type": "code",
      "execution_count": null,
      "id": "05c34ab6",
      "metadata": {
        "id": "05c34ab6"
      },
      "outputs": [],
      "source": [
        "for index, word in enumerate(unique_words):\n",
        "    features[word] = index"
      ]
    },
    {
      "cell_type": "code",
      "execution_count": null,
      "id": "b951494d",
      "metadata": {
        "scrolled": true,
        "id": "b951494d"
      },
      "outputs": [],
      "source": [
        "features"
      ]
    },
    {
      "cell_type": "code",
      "execution_count": null,
      "id": "c8c81537",
      "metadata": {
        "id": "c8c81537"
      },
      "outputs": [],
      "source": [
        "for to in nltk_tokens:\n",
        "    print(to)"
      ]
    },
    {
      "cell_type": "code",
      "execution_count": null,
      "id": "718ffa6c",
      "metadata": {
        "id": "718ffa6c"
      },
      "outputs": [],
      "source": [
        "b = nltk_tokens[1][:-1]"
      ]
    },
    {
      "cell_type": "code",
      "execution_count": null,
      "id": "4ea12e3d",
      "metadata": {
        "id": "4ea12e3d"
      },
      "outputs": [],
      "source": [
        "print(b)"
      ]
    },
    {
      "cell_type": "code",
      "execution_count": null,
      "id": "3c16d37d",
      "metadata": {
        "id": "3c16d37d"
      },
      "outputs": [],
      "source": [
        "text = []\n",
        "for word in b.split(' '):\n",
        "    text.append(features[word])"
      ]
    },
    {
      "cell_type": "code",
      "execution_count": null,
      "id": "6f3cfa9f",
      "metadata": {
        "id": "6f3cfa9f"
      },
      "outputs": [],
      "source": [
        "text"
      ]
    },
    {
      "cell_type": "code",
      "execution_count": null,
      "id": "eb071bb9",
      "metadata": {
        "scrolled": true,
        "id": "eb071bb9",
        "outputId": "adaff481-b1e0-4ff5-ad5c-d6c5295ea478"
      },
      "outputs": [
        {
          "name": "stdout",
          "output_type": "stream",
          "text": [
            "Requirement already satisfied: spacy in c:\\programdata\\anaconda3\\envs\\nlp\\lib\\site-packages (3.4.2)\n",
            "Requirement already satisfied: pydantic!=1.8,!=1.8.1,<1.11.0,>=1.7.4 in c:\\programdata\\anaconda3\\envs\\nlp\\lib\\site-packages (from spacy) (1.10.2)\n",
            "Requirement already satisfied: packaging>=20.0 in c:\\programdata\\anaconda3\\envs\\nlp\\lib\\site-packages (from spacy) (21.3)\n",
            "Requirement already satisfied: tqdm<5.0.0,>=4.38.0 in c:\\programdata\\anaconda3\\envs\\nlp\\lib\\site-packages (from spacy) (4.64.1)\n",
            "Requirement already satisfied: cymem<2.1.0,>=2.0.2 in c:\\programdata\\anaconda3\\envs\\nlp\\lib\\site-packages (from spacy) (2.0.7)\n",
            "Requirement already satisfied: numpy>=1.15.0 in c:\\programdata\\anaconda3\\envs\\nlp\\lib\\site-packages (from spacy) (1.23.4)\n",
            "Requirement already satisfied: spacy-legacy<3.1.0,>=3.0.10 in c:\\programdata\\anaconda3\\envs\\nlp\\lib\\site-packages (from spacy) (3.0.10)\n",
            "Requirement already satisfied: murmurhash<1.1.0,>=0.28.0 in c:\\programdata\\anaconda3\\envs\\nlp\\lib\\site-packages (from spacy) (1.0.9)\n",
            "Requirement already satisfied: catalogue<2.1.0,>=2.0.6 in c:\\programdata\\anaconda3\\envs\\nlp\\lib\\site-packages (from spacy) (2.0.8)\n",
            "Requirement already satisfied: preshed<3.1.0,>=3.0.2 in c:\\programdata\\anaconda3\\envs\\nlp\\lib\\site-packages (from spacy) (3.0.8)\n",
            "Requirement already satisfied: typer<0.5.0,>=0.3.0 in c:\\programdata\\anaconda3\\envs\\nlp\\lib\\site-packages (from spacy) (0.4.2)\n",
            "Requirement already satisfied: pathy>=0.3.5 in c:\\programdata\\anaconda3\\envs\\nlp\\lib\\site-packages (from spacy) (0.6.2)\n",
            "Requirement already satisfied: spacy-loggers<2.0.0,>=1.0.0 in c:\\programdata\\anaconda3\\envs\\nlp\\lib\\site-packages (from spacy) (1.0.3)\n",
            "Requirement already satisfied: requests<3.0.0,>=2.13.0 in c:\\programdata\\anaconda3\\envs\\nlp\\lib\\site-packages (from spacy) (2.28.1)\n",
            "Requirement already satisfied: jinja2 in c:\\programdata\\anaconda3\\envs\\nlp\\lib\\site-packages (from spacy) (3.1.2)\n",
            "Requirement already satisfied: srsly<3.0.0,>=2.4.3 in c:\\programdata\\anaconda3\\envs\\nlp\\lib\\site-packages (from spacy) (2.4.5)\n",
            "Requirement already satisfied: wasabi<1.1.0,>=0.9.1 in c:\\programdata\\anaconda3\\envs\\nlp\\lib\\site-packages (from spacy) (0.10.1)\n",
            "Requirement already satisfied: thinc<8.2.0,>=8.1.0 in c:\\programdata\\anaconda3\\envs\\nlp\\lib\\site-packages (from spacy) (8.1.5)\n",
            "Requirement already satisfied: setuptools in c:\\programdata\\anaconda3\\envs\\nlp\\lib\\site-packages (from spacy) (63.4.1)\n",
            "Requirement already satisfied: langcodes<4.0.0,>=3.2.0 in c:\\programdata\\anaconda3\\envs\\nlp\\lib\\site-packages (from spacy) (3.3.0)\n",
            "Requirement already satisfied: pyparsing!=3.0.5,>=2.0.2 in c:\\programdata\\anaconda3\\envs\\nlp\\lib\\site-packages (from packaging>=20.0->spacy) (3.0.9)\n",
            "Requirement already satisfied: smart-open<6.0.0,>=5.2.1 in c:\\programdata\\anaconda3\\envs\\nlp\\lib\\site-packages (from pathy>=0.3.5->spacy) (5.2.1)\n",
            "Requirement already satisfied: typing-extensions>=4.1.0 in c:\\programdata\\anaconda3\\envs\\nlp\\lib\\site-packages (from pydantic!=1.8,!=1.8.1,<1.11.0,>=1.7.4->spacy) (4.4.0)\n",
            "Requirement already satisfied: charset-normalizer<3,>=2 in c:\\programdata\\anaconda3\\envs\\nlp\\lib\\site-packages (from requests<3.0.0,>=2.13.0->spacy) (2.1.1)\n",
            "Requirement already satisfied: certifi>=2017.4.17 in c:\\programdata\\anaconda3\\envs\\nlp\\lib\\site-packages (from requests<3.0.0,>=2.13.0->spacy) (2022.9.24)\n",
            "Requirement already satisfied: idna<4,>=2.5 in c:\\programdata\\anaconda3\\envs\\nlp\\lib\\site-packages (from requests<3.0.0,>=2.13.0->spacy) (3.4)\n",
            "Requirement already satisfied: urllib3<1.27,>=1.21.1 in c:\\programdata\\anaconda3\\envs\\nlp\\lib\\site-packages (from requests<3.0.0,>=2.13.0->spacy) (1.26.12)\n",
            "Requirement already satisfied: blis<0.8.0,>=0.7.8 in c:\\programdata\\anaconda3\\envs\\nlp\\lib\\site-packages (from thinc<8.2.0,>=8.1.0->spacy) (0.7.9)\n",
            "Requirement already satisfied: confection<1.0.0,>=0.0.1 in c:\\programdata\\anaconda3\\envs\\nlp\\lib\\site-packages (from thinc<8.2.0,>=8.1.0->spacy) (0.0.3)\n",
            "Requirement already satisfied: colorama in c:\\programdata\\anaconda3\\envs\\nlp\\lib\\site-packages (from tqdm<5.0.0,>=4.38.0->spacy) (0.4.6)\n",
            "Requirement already satisfied: click<9.0.0,>=7.1.1 in c:\\programdata\\anaconda3\\envs\\nlp\\lib\\site-packages (from typer<0.5.0,>=0.3.0->spacy) (8.1.3)\n",
            "Requirement already satisfied: MarkupSafe>=2.0 in c:\\programdata\\anaconda3\\envs\\nlp\\lib\\site-packages (from jinja2->spacy) (2.1.1)\n"
          ]
        }
      ],
      "source": [
        "!pip install spacy"
      ]
    },
    {
      "cell_type": "code",
      "execution_count": null,
      "id": "c112b5c5",
      "metadata": {
        "id": "c112b5c5",
        "outputId": "3c3a9af9-8b82-4e3f-eb28-e652d084112f"
      },
      "outputs": [
        {
          "ename": "ModuleNotFoundError",
          "evalue": "No module named 'spacy'",
          "output_type": "error",
          "traceback": [
            "\u001b[1;31m---------------------------------------------------------------------------\u001b[0m",
            "\u001b[1;31mModuleNotFoundError\u001b[0m                       Traceback (most recent call last)",
            "\u001b[1;32m~\\AppData\\Local\\Temp/ipykernel_9700/572880994.py\u001b[0m in \u001b[0;36m<module>\u001b[1;34m\u001b[0m\n\u001b[1;32m----> 1\u001b[1;33m \u001b[1;32mimport\u001b[0m \u001b[0mspacy\u001b[0m\u001b[1;33m\u001b[0m\u001b[1;33m\u001b[0m\u001b[0m\n\u001b[0m",
            "\u001b[1;31mModuleNotFoundError\u001b[0m: No module named 'spacy'"
          ]
        }
      ],
      "source": [
        "import spacy"
      ]
    },
    {
      "cell_type": "code",
      "execution_count": null,
      "id": "df024b0b",
      "metadata": {
        "id": "df024b0b"
      },
      "outputs": [],
      "source": []
    }
  ],
  "metadata": {
    "kernelspec": {
      "display_name": "Python 3 (ipykernel)",
      "language": "python",
      "name": "python3"
    },
    "language_info": {
      "codemirror_mode": {
        "name": "ipython",
        "version": 3
      },
      "file_extension": ".py",
      "mimetype": "text/x-python",
      "name": "python",
      "nbconvert_exporter": "python",
      "pygments_lexer": "ipython3",
      "version": "3.9.7"
    },
    "colab": {
      "provenance": [],
      "include_colab_link": true
    }
  },
  "nbformat": 4,
  "nbformat_minor": 5
}