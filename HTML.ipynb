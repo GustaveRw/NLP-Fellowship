{
  "cells": [
    {
      "cell_type": "markdown",
      "metadata": {
        "id": "view-in-github",
        "colab_type": "text"
      },
      "source": [
        "<a href=\"https://colab.research.google.com/github/GustaveRw/NLP-Fellowship/blob/master/HTML.ipynb\" target=\"_parent\"><img src=\"https://colab.research.google.com/assets/colab-badge.svg\" alt=\"Open In Colab\"/></a>"
      ]
    },
    {
      "cell_type": "markdown",
      "metadata": {
        "id": "5KlsBLBOnm4P"
      },
      "source": [
        "# Working with HTML\n",
        "There is a lot of data that can be found in the internet. To get the data, there are two techniques:\n",
        "\n",
        "\n",
        "*   Web scrapping - Extracting underlying data found in HTML code and store in a new file format\n",
        "*   web crawling - Use of bots to process different url links, get the data from all the pages and store the data in websites. e.g Google, Bing\n",
        "\n"
      ]
    },
    {
      "cell_type": "markdown",
      "metadata": {
        "id": "ywhU8i1wxfUL"
      },
      "source": [
        "## Web Scrapping\n",
        "In this session, we will be looking at web scrapping. We will be examining news websites and look at how to extract the articles. \n",
        "\n",
        "We will use a python package called BEAUTIFULSOUP.\n",
        "\n",
        "`pip install beautifulsoup4`\n",
        "\n",
        "To import the package:\n",
        "\n",
        "`from bs4 import BeautifulSoup`"
      ]
    },
    {
      "cell_type": "code",
      "execution_count": null,
      "metadata": {
        "id": "iWo1bwZy5YTJ"
      },
      "outputs": [],
      "source": [
        "from bs4 import BeautifulSoup"
      ]
    },
    {
      "cell_type": "code",
      "execution_count": null,
      "metadata": {
        "id": "MKImE-dG5ZuA"
      },
      "outputs": [],
      "source": [
        "html_doc = \"\"\"<html><head><title>The Dormouse's story</title></head>\n",
        "<body>\n",
        "<p class=\"title\"><b>The Dormouse's story</b></p>\n",
        "\n",
        "<p class=\"story\">Once upon a time there were three little sisters; and their names were\n",
        "<a href=\"http://example.com/elsie\" class=\"sister\" id=\"link1\">Elsie</a>,\n",
        "<a href=\"http://example.com/lacie\" class=\"sister\" id=\"link2\">Lacie</a> and\n",
        "<a href=\"http://example.com/tillie\" class=\"sister\" id=\"link3\">Tillie</a>;\n",
        "and they lived at the bottom of a well.</p>\n",
        "\n",
        "<p class=\"story\">...</p>\n",
        "\"\"\""
      ]
    },
    {
      "cell_type": "code",
      "execution_count": null,
      "metadata": {
        "colab": {
          "base_uri": "https://localhost:8080/"
        },
        "id": "vzmMOyZh7NWK",
        "outputId": "9a67be1d-da75-41fb-f63e-e3c99aceedb7"
      },
      "outputs": [
        {
          "name": "stdout",
          "output_type": "stream",
          "text": [
            "<html>\n",
            " <head>\n",
            "  <title>\n",
            "   The Dormouse's story\n",
            "  </title>\n",
            " </head>\n",
            " <body>\n",
            "  <p class=\"title\">\n",
            "   <b>\n",
            "    The Dormouse's story\n",
            "   </b>\n",
            "  </p>\n",
            "  <p class=\"story\">\n",
            "   Once upon a time there were three little sisters; and their names were\n",
            "   <a class=\"sister\" href=\"http://example.com/elsie\" id=\"link1\">\n",
            "    Elsie\n",
            "   </a>\n",
            "   ,\n",
            "   <a class=\"sister\" href=\"http://example.com/lacie\" id=\"link2\">\n",
            "    Lacie\n",
            "   </a>\n",
            "   and\n",
            "   <a class=\"sister\" href=\"http://example.com/tillie\" id=\"link3\">\n",
            "    Tillie\n",
            "   </a>\n",
            "   ;\n",
            "and they lived at the bottom of a well.\n",
            "  </p>\n",
            "  <p class=\"story\">\n",
            "   ...\n",
            "  </p>\n",
            " </body>\n",
            "</html>\n"
          ]
        }
      ],
      "source": [
        "# Read the html doc\n",
        "soup = BeautifulSoup(html_doc, 'html.parser')\n",
        "print(soup.prettify())"
      ]
    },
    {
      "cell_type": "code",
      "execution_count": null,
      "metadata": {
        "colab": {
          "base_uri": "https://localhost:8080/"
        },
        "id": "pSdm1syw8UdA",
        "outputId": "b393bb47-8505-499a-f9df-f45ebc55f8b5"
      },
      "outputs": [
        {
          "data": {
            "text/plain": [
              "<title>The Dormouse's story</title>"
            ]
          },
          "execution_count": 6,
          "metadata": {},
          "output_type": "execute_result"
        }
      ],
      "source": [
        "soup.title"
      ]
    },
    {
      "cell_type": "code",
      "execution_count": null,
      "metadata": {
        "colab": {
          "base_uri": "https://localhost:8080/"
        },
        "id": "kthGPmUHAFD-",
        "outputId": "1551e9af-a22b-4812-c085-4de8c3d674fa"
      },
      "outputs": [
        {
          "data": {
            "text/plain": [
              "<body>\n",
              "<p class=\"title\"><b>The Dormouse's story</b></p>\n",
              "<p class=\"story\">Once upon a time there were three little sisters; and their names were\n",
              "<a class=\"sister\" href=\"http://example.com/elsie\" id=\"link1\">Elsie</a>,\n",
              "<a class=\"sister\" href=\"http://example.com/lacie\" id=\"link2\">Lacie</a> and\n",
              "<a class=\"sister\" href=\"http://example.com/tillie\" id=\"link3\">Tillie</a>;\n",
              "and they lived at the bottom of a well.</p>\n",
              "<p class=\"story\">...</p>\n",
              "</body>"
            ]
          },
          "execution_count": 7,
          "metadata": {},
          "output_type": "execute_result"
        }
      ],
      "source": [
        "soup.body"
      ]
    },
    {
      "cell_type": "code",
      "execution_count": null,
      "metadata": {
        "id": "T1UFQca0AIkE"
      },
      "outputs": [],
      "source": [
        "mainbody = soup.body"
      ]
    },
    {
      "cell_type": "code",
      "execution_count": null,
      "metadata": {
        "colab": {
          "base_uri": "https://localhost:8080/"
        },
        "id": "srWb7E3qAwel",
        "outputId": "b76b2ccf-683b-4a01-8e4a-e6128b3f9f92"
      },
      "outputs": [
        {
          "data": {
            "text/plain": [
              "<p class=\"title\"><b>The Dormouse's story</b></p>"
            ]
          },
          "execution_count": 9,
          "metadata": {},
          "output_type": "execute_result"
        }
      ],
      "source": [
        "# find a particular tag\n",
        "soup.find('p')"
      ]
    },
    {
      "cell_type": "code",
      "execution_count": null,
      "metadata": {
        "colab": {
          "base_uri": "https://localhost:8080/"
        },
        "id": "8z-UllyaC6_n",
        "outputId": "9f97adff-c7a3-43e7-fdb0-cbeb535620a0"
      },
      "outputs": [
        {
          "data": {
            "text/plain": [
              "[<p class=\"title\"><b>The Dormouse's story</b></p>,\n",
              " <p class=\"story\">Once upon a time there were three little sisters; and their names were\n",
              " <a class=\"sister\" href=\"http://example.com/elsie\" id=\"link1\">Elsie</a>,\n",
              " <a class=\"sister\" href=\"http://example.com/lacie\" id=\"link2\">Lacie</a> and\n",
              " <a class=\"sister\" href=\"http://example.com/tillie\" id=\"link3\">Tillie</a>;\n",
              " and they lived at the bottom of a well.</p>,\n",
              " <p class=\"story\">...</p>]"
            ]
          },
          "execution_count": 10,
          "metadata": {},
          "output_type": "execute_result"
        }
      ],
      "source": [
        "# find all p\n",
        "soup.find_all('p')"
      ]
    },
    {
      "cell_type": "code",
      "execution_count": null,
      "metadata": {
        "colab": {
          "base_uri": "https://localhost:8080/",
          "height": 36
        },
        "id": "LOYEenAzDGjd",
        "outputId": "8e0ba9b8-2ea2-4a07-e705-bd0c1416b71d"
      },
      "outputs": [
        {
          "data": {
            "application/vnd.google.colaboratory.intrinsic+json": {
              "type": "string"
            },
            "text/plain": [
              "\"The Dormouse's story\""
            ]
          },
          "execution_count": 12,
          "metadata": {},
          "output_type": "execute_result"
        }
      ],
      "source": [
        "# get the text\n",
        "soup.find('p').get_text()"
      ]
    },
    {
      "cell_type": "code",
      "execution_count": null,
      "metadata": {
        "colab": {
          "base_uri": "https://localhost:8080/"
        },
        "id": "ash0Mdn6DX8l",
        "outputId": "7c692d4a-2e54-47e4-e6c3-a6b717415eec"
      },
      "outputs": [
        {
          "data": {
            "text/plain": [
              "['Elsie', 'Lacie', 'Tillie']"
            ]
          },
          "execution_count": 17,
          "metadata": {},
          "output_type": "execute_result"
        }
      ],
      "source": [
        "# loop through tag to get the text\n",
        "sisters = soup.find_all('a', class_='sister')\n",
        "\n",
        "[a.getText() for a in sisters]"
      ]
    },
    {
      "cell_type": "markdown",
      "metadata": {
        "id": "XhfN4trZGD9g"
      },
      "source": [
        "### Practicle example\n",
        "Website - English Premier League ResultDB\n",
        "\n",
        "**URL** - http://www.resultdb.com/english-premier-league-tables/\n",
        "\n",
        "**Goal**: *Get the aggregated details of each team for a particular season* \n"
      ]
    },
    {
      "cell_type": "code",
      "execution_count": null,
      "metadata": {
        "id": "MCY5RBjIFVAl"
      },
      "outputs": [],
      "source": [
        "import requests\n",
        "import pandas as pd\n",
        "\n",
        "year = '2000'\n",
        "page = requests.get(\"http://www.resultdb.com/english-premier-league-tables/\"+year+\"/\")\n",
        "maindetails = BeautifulSoup(page.text,'html.parser')\n",
        "\n",
        "# soup = BeautifulSoup(page.text,'lxml')\n",
        "# table = soup.find('table')\n",
        "\n",
        "# data = []\n",
        "# rows = table.find_all('tr')\n",
        "# for row in rows:\n",
        "#     cols = row.find_all('td')\n",
        "#     cols = [ele.text.strip() for ele in cols]\n",
        "#     data.append([ele for ele in cols if ele]) # Get rid of empty values\n",
        "\n",
        "# columns= ['position','team name','games','won','draw','lost','goal scored','goals conceded','goal difference','points']\n",
        "# season = pd.DataFrame(data[1:],columns=columns)"
      ]
    },
    {
      "cell_type": "code",
      "execution_count": null,
      "metadata": {
        "id": "eAb1s552Rss4"
      },
      "outputs": [],
      "source": [
        "# The details are in the table tag. Find the table\n",
        "table = maindetails.find('table')\n",
        "\n",
        "# Table has rows. Get all the table rows. the result will be a list\n",
        "rows = table.find_all('tr')\n",
        "\n"
      ]
    },
    {
      "cell_type": "code",
      "execution_count": null,
      "metadata": {
        "colab": {
          "base_uri": "https://localhost:8080/"
        },
        "id": "-Eo5IIL_Tkxx",
        "outputId": "f19131a9-0e65-4df8-f40a-221178318cd2"
      },
      "outputs": [
        {
          "data": {
            "text/plain": [
              "['1', 'Manchester United', '38', '24', '8', '6', '79', '31', '+48', '80 pts']"
            ]
          },
          "execution_count": 22,
          "metadata": {},
          "output_type": "execute_result"
        }
      ],
      "source": [
        "# Get the details in each row\n",
        "# Loop through each row\n",
        "data =[]\n",
        "for row in rows:\n",
        "  details = row.find_all('td')\n",
        "\n",
        "  cols = [ele.text.strip() for ele in details]\n",
        "  data.append([ele for ele in cols if ele])  # Get rid of empty values\n",
        "\n",
        "data[1]\n"
      ]
    },
    {
      "cell_type": "code",
      "execution_count": null,
      "metadata": {
        "id": "5vw857L1USD3"
      },
      "outputs": [],
      "source": [
        "# Create a dataframe where the data will be placed and processed\n",
        "columns= ['position','team name','games','won','draw','lost','goal scored','goals conceded','goal difference','points']\n",
        "season = pd.DataFrame(data[1:],columns=columns)"
      ]
    },
    {
      "cell_type": "code",
      "execution_count": null,
      "metadata": {
        "colab": {
          "base_uri": "https://localhost:8080/",
          "height": 206
        },
        "id": "bJ02wcrnQo48",
        "outputId": "a9a45c93-154e-4c28-d8e5-6678bdd6f5d1"
      },
      "outputs": [
        {
          "data": {
            "text/html": [
              "\n",
              "  <div id=\"df-9d9d9a31-9c89-478a-9aff-7d51ced212a3\">\n",
              "    <div class=\"colab-df-container\">\n",
              "      <div>\n",
              "<style scoped>\n",
              "    .dataframe tbody tr th:only-of-type {\n",
              "        vertical-align: middle;\n",
              "    }\n",
              "\n",
              "    .dataframe tbody tr th {\n",
              "        vertical-align: top;\n",
              "    }\n",
              "\n",
              "    .dataframe thead th {\n",
              "        text-align: right;\n",
              "    }\n",
              "</style>\n",
              "<table border=\"1\" class=\"dataframe\">\n",
              "  <thead>\n",
              "    <tr style=\"text-align: right;\">\n",
              "      <th></th>\n",
              "      <th>position</th>\n",
              "      <th>team name</th>\n",
              "      <th>games</th>\n",
              "      <th>won</th>\n",
              "      <th>draw</th>\n",
              "      <th>lost</th>\n",
              "      <th>goal scored</th>\n",
              "      <th>goals conceded</th>\n",
              "      <th>goal difference</th>\n",
              "      <th>points</th>\n",
              "    </tr>\n",
              "  </thead>\n",
              "  <tbody>\n",
              "    <tr>\n",
              "      <th>0</th>\n",
              "      <td>1</td>\n",
              "      <td>Manchester United</td>\n",
              "      <td>38</td>\n",
              "      <td>24</td>\n",
              "      <td>8</td>\n",
              "      <td>6</td>\n",
              "      <td>79</td>\n",
              "      <td>31</td>\n",
              "      <td>+48</td>\n",
              "      <td>80 pts</td>\n",
              "    </tr>\n",
              "    <tr>\n",
              "      <th>1</th>\n",
              "      <td>2</td>\n",
              "      <td>Arsenal</td>\n",
              "      <td>38</td>\n",
              "      <td>20</td>\n",
              "      <td>10</td>\n",
              "      <td>8</td>\n",
              "      <td>63</td>\n",
              "      <td>38</td>\n",
              "      <td>+25</td>\n",
              "      <td>70 pts</td>\n",
              "    </tr>\n",
              "    <tr>\n",
              "      <th>2</th>\n",
              "      <td>3</td>\n",
              "      <td>Liverpool</td>\n",
              "      <td>38</td>\n",
              "      <td>20</td>\n",
              "      <td>9</td>\n",
              "      <td>9</td>\n",
              "      <td>71</td>\n",
              "      <td>39</td>\n",
              "      <td>+32</td>\n",
              "      <td>69 pts</td>\n",
              "    </tr>\n",
              "    <tr>\n",
              "      <th>3</th>\n",
              "      <td>4</td>\n",
              "      <td>Leeds</td>\n",
              "      <td>38</td>\n",
              "      <td>20</td>\n",
              "      <td>8</td>\n",
              "      <td>10</td>\n",
              "      <td>64</td>\n",
              "      <td>43</td>\n",
              "      <td>+21</td>\n",
              "      <td>68 pts</td>\n",
              "    </tr>\n",
              "    <tr>\n",
              "      <th>4</th>\n",
              "      <td>5</td>\n",
              "      <td>Ipswich Town</td>\n",
              "      <td>38</td>\n",
              "      <td>20</td>\n",
              "      <td>6</td>\n",
              "      <td>12</td>\n",
              "      <td>57</td>\n",
              "      <td>42</td>\n",
              "      <td>+15</td>\n",
              "      <td>66 pts</td>\n",
              "    </tr>\n",
              "  </tbody>\n",
              "</table>\n",
              "</div>\n",
              "      <button class=\"colab-df-convert\" onclick=\"convertToInteractive('df-9d9d9a31-9c89-478a-9aff-7d51ced212a3')\"\n",
              "              title=\"Convert this dataframe to an interactive table.\"\n",
              "              style=\"display:none;\">\n",
              "        \n",
              "  <svg xmlns=\"http://www.w3.org/2000/svg\" height=\"24px\"viewBox=\"0 0 24 24\"\n",
              "       width=\"24px\">\n",
              "    <path d=\"M0 0h24v24H0V0z\" fill=\"none\"/>\n",
              "    <path d=\"M18.56 5.44l.94 2.06.94-2.06 2.06-.94-2.06-.94-.94-2.06-.94 2.06-2.06.94zm-11 1L8.5 8.5l.94-2.06 2.06-.94-2.06-.94L8.5 2.5l-.94 2.06-2.06.94zm10 10l.94 2.06.94-2.06 2.06-.94-2.06-.94-.94-2.06-.94 2.06-2.06.94z\"/><path d=\"M17.41 7.96l-1.37-1.37c-.4-.4-.92-.59-1.43-.59-.52 0-1.04.2-1.43.59L10.3 9.45l-7.72 7.72c-.78.78-.78 2.05 0 2.83L4 21.41c.39.39.9.59 1.41.59.51 0 1.02-.2 1.41-.59l7.78-7.78 2.81-2.81c.8-.78.8-2.07 0-2.86zM5.41 20L4 18.59l7.72-7.72 1.47 1.35L5.41 20z\"/>\n",
              "  </svg>\n",
              "      </button>\n",
              "      \n",
              "  <style>\n",
              "    .colab-df-container {\n",
              "      display:flex;\n",
              "      flex-wrap:wrap;\n",
              "      gap: 12px;\n",
              "    }\n",
              "\n",
              "    .colab-df-convert {\n",
              "      background-color: #E8F0FE;\n",
              "      border: none;\n",
              "      border-radius: 50%;\n",
              "      cursor: pointer;\n",
              "      display: none;\n",
              "      fill: #1967D2;\n",
              "      height: 32px;\n",
              "      padding: 0 0 0 0;\n",
              "      width: 32px;\n",
              "    }\n",
              "\n",
              "    .colab-df-convert:hover {\n",
              "      background-color: #E2EBFA;\n",
              "      box-shadow: 0px 1px 2px rgba(60, 64, 67, 0.3), 0px 1px 3px 1px rgba(60, 64, 67, 0.15);\n",
              "      fill: #174EA6;\n",
              "    }\n",
              "\n",
              "    [theme=dark] .colab-df-convert {\n",
              "      background-color: #3B4455;\n",
              "      fill: #D2E3FC;\n",
              "    }\n",
              "\n",
              "    [theme=dark] .colab-df-convert:hover {\n",
              "      background-color: #434B5C;\n",
              "      box-shadow: 0px 1px 3px 1px rgba(0, 0, 0, 0.15);\n",
              "      filter: drop-shadow(0px 1px 2px rgba(0, 0, 0, 0.3));\n",
              "      fill: #FFFFFF;\n",
              "    }\n",
              "  </style>\n",
              "\n",
              "      <script>\n",
              "        const buttonEl =\n",
              "          document.querySelector('#df-9d9d9a31-9c89-478a-9aff-7d51ced212a3 button.colab-df-convert');\n",
              "        buttonEl.style.display =\n",
              "          google.colab.kernel.accessAllowed ? 'block' : 'none';\n",
              "\n",
              "        async function convertToInteractive(key) {\n",
              "          const element = document.querySelector('#df-9d9d9a31-9c89-478a-9aff-7d51ced212a3');\n",
              "          const dataTable =\n",
              "            await google.colab.kernel.invokeFunction('convertToInteractive',\n",
              "                                                     [key], {});\n",
              "          if (!dataTable) return;\n",
              "\n",
              "          const docLinkHtml = 'Like what you see? Visit the ' +\n",
              "            '<a target=\"_blank\" href=https://colab.research.google.com/notebooks/data_table.ipynb>data table notebook</a>'\n",
              "            + ' to learn more about interactive tables.';\n",
              "          element.innerHTML = '';\n",
              "          dataTable['output_type'] = 'display_data';\n",
              "          await google.colab.output.renderOutput(dataTable, element);\n",
              "          const docLink = document.createElement('div');\n",
              "          docLink.innerHTML = docLinkHtml;\n",
              "          element.appendChild(docLink);\n",
              "        }\n",
              "      </script>\n",
              "    </div>\n",
              "  </div>\n",
              "  "
            ],
            "text/plain": [
              "  position          team name games won draw lost goal scored goals conceded  \\\n",
              "0        1  Manchester United    38  24    8    6          79             31   \n",
              "1        2            Arsenal    38  20   10    8          63             38   \n",
              "2        3          Liverpool    38  20    9    9          71             39   \n",
              "3        4              Leeds    38  20    8   10          64             43   \n",
              "4        5       Ipswich Town    38  20    6   12          57             42   \n",
              "\n",
              "  goal difference  points  \n",
              "0             +48  80 pts  \n",
              "1             +25  70 pts  \n",
              "2             +32  69 pts  \n",
              "3             +21  68 pts  \n",
              "4             +15  66 pts  "
            ]
          },
          "execution_count": 24,
          "metadata": {},
          "output_type": "execute_result"
        }
      ],
      "source": [
        "season.head()"
      ]
    },
    {
      "cell_type": "code",
      "execution_count": null,
      "metadata": {
        "id": "8aNOuHQSQwG9"
      },
      "outputs": [],
      "source": [
        "# TODO convert the above to a function. Then get the details from 2000-2015, place all the details in one dataframe, add a column called season\n",
        "# ENTER CODE HERE"
      ]
    },
    {
      "cell_type": "markdown",
      "metadata": {
        "id": "Ls2ZPt8eWEAc"
      },
      "source": [
        "## Assignment\n",
        "Based on the above, get the main articles from igihe from January 2022 - present\n",
        "\n",
        "Steps to do this\n",
        "\n",
        "\n",
        "1.   Get the links to the main pages from january. Create a list\n",
        "2.   In each link, get all the links to the main articles\n",
        "3.   For each article, get the main tag that holds the texts\n",
        "4.   Get the text and store them in a txt file. The data will be used in week 2\n",
        "\n"
      ]
    }
  ],
  "metadata": {
    "colab": {
      "collapsed_sections": [],
      "provenance": [],
      "include_colab_link": true
    },
    "kernelspec": {
      "display_name": "Python 3 (ipykernel)",
      "language": "python",
      "name": "python3"
    },
    "language_info": {
      "codemirror_mode": {
        "name": "ipython",
        "version": 3
      },
      "file_extension": ".py",
      "mimetype": "text/x-python",
      "name": "python",
      "nbconvert_exporter": "python",
      "pygments_lexer": "ipython3",
      "version": "3.9.7"
    }
  },
  "nbformat": 4,
  "nbformat_minor": 0
}