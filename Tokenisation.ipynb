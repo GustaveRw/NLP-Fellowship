{
  "cells": [
    {
      "cell_type": "markdown",
      "metadata": {
        "id": "view-in-github",
        "colab_type": "text"
      },
      "source": [
        "<a href=\"https://colab.research.google.com/github/GustaveRw/NLP-Fellowship/blob/master/Tokenisation.ipynb\" target=\"_parent\"><img src=\"https://colab.research.google.com/assets/colab-badge.svg\" alt=\"Open In Colab\"/></a>"
      ]
    },
    {
      "cell_type": "code",
      "execution_count": null,
      "id": "b39a1adb",
      "metadata": {
        "scrolled": true,
        "id": "b39a1adb"
      },
      "outputs": [],
      "source": [
        "!pip install nltk\n",
        "!pip install spacy"
      ]
    },
    {
      "cell_type": "code",
      "execution_count": null,
      "id": "69ad56b6",
      "metadata": {
        "id": "69ad56b6",
        "outputId": "4f32755c-2fb7-4164-d4ee-e78f75c0c89e"
      },
      "outputs": [
        {
          "name": "stderr",
          "output_type": "stream",
          "text": [
            "[nltk_data] Downloading package punkt to\n",
            "[nltk_data]     C:\\Users\\Arnaud\\AppData\\Roaming\\nltk_data...\n",
            "[nltk_data]   Unzipping tokenizers\\punkt.zip.\n"
          ]
        },
        {
          "data": {
            "text/plain": [
              "True"
            ]
          },
          "execution_count": 7,
          "metadata": {},
          "output_type": "execute_result"
        }
      ],
      "source": [
        "import nltk\n",
        "nltk.download('punkt')"
      ]
    },
    {
      "cell_type": "markdown",
      "id": "5e335f0e",
      "metadata": {
        "id": "5e335f0e"
      },
      "source": [
        "# Line Tokenisation"
      ]
    },
    {
      "cell_type": "code",
      "execution_count": null,
      "id": "6d3d7792",
      "metadata": {
        "id": "6d3d7792",
        "outputId": "06f70198-b0d7-4944-faa9-3772e39e6e5c"
      },
      "outputs": [
        {
          "name": "stdout",
          "output_type": "stream",
          "text": [
            "['The First sentence is about Python.', 'The Second: about Django.', 'You can learn Python,Django and Data Ananlysis here.']\n"
          ]
        }
      ],
      "source": [
        "#Line tokenisation\n",
        "sentence_data = \"The First sentence is about Python. The Second: about Django. You can learn Python,Django and Data Ananlysis here. \"\n",
        "nltk_tokens = nltk.sent_tokenize(sentence_data)\n",
        "print (nltk_tokens)"
      ]
    },
    {
      "cell_type": "markdown",
      "id": "d1779319",
      "metadata": {
        "id": "d1779319"
      },
      "source": [
        "# Word Tokenisation"
      ]
    },
    {
      "cell_type": "code",
      "execution_count": null,
      "id": "4cf1d2bf",
      "metadata": {
        "id": "4cf1d2bf",
        "outputId": "7796cfe6-0b2a-4b31-df3b-73543a9ef306"
      },
      "outputs": [
        {
          "name": "stdout",
          "output_type": "stream",
          "text": [
            "['It', 'originated', 'from', 'the', 'idea', 'that', 'there', 'are', 'readers', 'who', 'prefer', 'learning', 'new', 'skills', 'from', 'the', 'comforts', 'of', 'their', 'drawing', 'rooms']\n"
          ]
        }
      ],
      "source": [
        "word_data = \"It originated from the idea that there are readers who prefer learning new skills from the comforts of their drawing rooms\"\n",
        "nltk_tokens = nltk.word_tokenize(word_data)\n",
        "print (nltk_tokens)"
      ]
    },
    {
      "cell_type": "code",
      "execution_count": null,
      "id": "79c387e7",
      "metadata": {
        "id": "79c387e7"
      },
      "outputs": [],
      "source": [
        "#Bag of words\n",
        "with open('C:/Users/Arnaud/Desktop/Sources/NLP-FELLOWSHIP/Data/article.txt') as file:\n",
        "    text = file.read()"
      ]
    },
    {
      "cell_type": "code",
      "execution_count": null,
      "id": "9c1d8d05",
      "metadata": {
        "id": "9c1d8d05",
        "outputId": "b9fdfec8-f967-47a0-cbce-ad87fb1d7fc9"
      },
      "outputs": [
        {
          "name": "stdout",
          "output_type": "stream",
          "text": [
            "493\n"
          ]
        }
      ],
      "source": [
        "#count all the word\n",
        "print(len(text.split(' ')))"
      ]
    },
    {
      "cell_type": "code",
      "execution_count": null,
      "id": "5256980e",
      "metadata": {
        "id": "5256980e",
        "outputId": "4d05ae39-5543-4dda-99b2-c846e622e232"
      },
      "outputs": [
        {
          "name": "stdout",
          "output_type": "stream",
          "text": [
            "346\n"
          ]
        }
      ],
      "source": [
        "print(len(set(text.split(' '))))"
      ]
    },
    {
      "cell_type": "code",
      "execution_count": null,
      "id": "c2e1466f",
      "metadata": {
        "id": "c2e1466f"
      },
      "outputs": [],
      "source": []
    }
  ],
  "metadata": {
    "kernelspec": {
      "display_name": "Python 3 (ipykernel)",
      "language": "python",
      "name": "python3"
    },
    "language_info": {
      "codemirror_mode": {
        "name": "ipython",
        "version": 3
      },
      "file_extension": ".py",
      "mimetype": "text/x-python",
      "name": "python",
      "nbconvert_exporter": "python",
      "pygments_lexer": "ipython3",
      "version": "3.9.7"
    },
    "colab": {
      "provenance": [],
      "include_colab_link": true
    }
  },
  "nbformat": 4,
  "nbformat_minor": 5
}